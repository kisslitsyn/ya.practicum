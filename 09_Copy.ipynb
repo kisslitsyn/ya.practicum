{
 "cells": [
  {
   "cell_type": "markdown",
   "metadata": {},
   "source": [
    "<div style=\"border:solid orange 3px; padding: 16px\">  \n",
    "    <font size=\"4\">  \n",
    "        <p style=\"text-align: center;\">\n",
    "            <b> 9. История на основе данных. Рынок заведений общественного питания Москвы </b>\n",
    "        </p> \n",
    "    </font>\n",
    "</div>"
   ]
  },
  {
   "cell_type": "code",
   "execution_count": 50,
   "metadata": {},
   "outputs": [],
   "source": [
   {
     "data": {
      "text/html": [
          div.scrollable {
              width: 100%;
              height: 100%;
              margin: 0;
              padding: 0;
              overflow: auto;
          }
       <table><tr>
          <td><div class=scrollable>
              "# переведем все символы в названиях заведений в нижний регистр\n",
              "rest_data.loc[rest_data.loc[:,'is_chain'] == 'да', 'object_name'] = \\\n",
              "rest_data.apply(lambda x: x['object_name'].lower(), axis = 1)\n",
              "\n",
              "# удалим из названия кавычки\n",
              "rest_data.loc[rest_data.loc[:,'is_chain'] == 'да', 'object_name'] = \\\n",
              "rest_data.apply(lambda x: re.sub('[«»\"\"]', '', x['object_name']), axis = 1)\n",
              "\n",
              "# удалим из названия общие для заведений слова\n",
              "rest_data.loc[rest_data.loc[:,'is_chain'] == 'да', 'object_name'] = \\\n",
              "rest_data.apply(lambda x: re.sub('кафе', '', x['object_name']), axis = 1)\n",
              "\n",
              "rest_data.loc[rest_data.loc[:,'is_chain'] == 'да', 'object_name'] = \\\n",
              "rest_data.apply(lambda x: re.sub('ресторан', '', x['object_name']), axis = 1)\n",
              "\n",
              "rest_data.loc[rest_data.loc[:,'is_chain'] == 'да', 'object_name'] = \\\n",
              "rest_data.apply(lambda x: re.sub('кофейня', '', x['object_name']), axis = 1)\n",
              "\n",
              "rest_data.loc[rest_data.loc[:,'is_chain'] == 'да', 'object_name'] = \\\n",
              "rest_data.apply(lambda x: re.sub('закусочная', '', x['object_name']), axis = 1)\n",
              "\n",
              "rest_data.loc[rest_data.loc[:,'is_chain'] == 'да', 'object_name'] = \\\n",
              "rest_data.apply(lambda x: re.sub('пиццерия', '', x['object_name']), axis = 1)\n",
              "\n",
              "rest_data.loc[rest_data.loc[:,'is_chain'] == 'да', 'object_name'] = \\\n",
              "rest_data.apply(lambda x: re.sub('быстрого питания', '', x['object_name']), axis = 1)\n",
              "\n",
              "rest_data.loc[rest_data.loc[:,'is_chain'] == 'да', 'object_name'] = \\\n",
              "rest_data.apply(lambda x: re.sub('предприятие быстрого обслуживания', '', x['object_name']), axis = 1)\n",
              "\n",
              "# удалим из названия дефис\n",
              "rest_data.loc[rest_data.loc[:,'is_chain'] == 'да', 'object_name'] = \\\n",
              "rest_data.apply(lambda x: re.sub('[-]', ' ', x['object_name']), axis = 1)\n",
              "\n",
              "# удалим пробел в начале строки\n",
              "rest_data.loc[rest_data.loc[:,'is_chain'] == 'да', 'object_name'] = \\\n",
              "rest_data.apply(lambda x: re.sub('^ +', '', x['object_name']), axis = 1)\n",
              "\n",
              "# удалим лишние пробелы\n",
              "rest_data.loc[rest_data.loc[:,'is_chain'] == 'да', 'object_name'] = \\\n",
              "rest_data.apply(lambda x: re.sub(' +', ' ', x['object_name']), axis = 1)"
          </div></td></tr></table>
   ]
  }, 
 ],
 "metadata": {
  "kernelspec": {
   "display_name": "Python 3",
   "language": "python",
   "name": "python3"
  },
  "language_info": {
   "codemirror_mode": {
    "name": "ipython",
    "version": 3
   },
   "file_extension": ".py",
   "mimetype": "text/x-python",
   "name": "python",
   "nbconvert_exporter": "python",
   "pygments_lexer": "ipython3",
   "version": "3.7.4"
  },
  "toc": {
   "base_numbering": 1,
   "nav_menu": {},
   "number_sections": false,
   "sideBar": true,
   "skip_h1_title": false,
   "title_cell": "Table of Contents",
   "title_sidebar": "Contents",
   "toc_cell": false,
   "toc_position": {
    "height": "calc(100% - 180px)",
    "left": "10px",
    "top": "150px",
    "width": "363.391px"
   },
   "toc_section_display": true,
   "toc_window_display": true
  }
 },
 "nbformat": 4,
 "nbformat_minor": 2
}
