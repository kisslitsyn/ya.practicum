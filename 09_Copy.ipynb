{
 "cells": [
  {
   "cell_type": "markdown",
   "metadata": {},
   "source": [
    "<div style=\"border:solid orange 3px; padding: 16px\">  \n",
    "    <font size=\"4\">  \n",
    "        <p style=\"text-align: center;\">\n",
    "            <b> 9. История на основе данных. Рынок заведений общественного питания Москвы </b>\n",
    "        </p> \n",
    "    </font>\n",
    "</div>"
   ]
  },
  {
   "cell_type": "markdown",
   "metadata": {},
   "source": [
    "<a id=\"1\"></a>\n",
    "## 1. Предобработка данных  [*(Оглавление)*](#contents)"
   ]
  },
  {
   "cell_type": "code",
   "execution_count": 26,
   "metadata": {
    "hide_input": false,
    "run_control": {
     "marked": false
    }
   },
   "outputs": [],
   "source": [
    "import pandas as pd\n",
    "import matplotlib.pyplot as plt\n",
    "import seaborn as sns\n",
    "from plotly import graph_objects as go\n",
    "from plotly.subplots import make_subplots\n",
    "import numpy as np\n",
    "import scipy.stats as stats\n",
    "import re\n",
    "\n",
    "path = 'C:/Users/pavel/Desktop/da/projects/datasets/'"
   ]
  },
  {
   "cell_type": "code",
   "execution_count": 27,
   "metadata": {
    "hide_input": false
   },
   "outputs": [
    {
     "data": {
      "text/html": [
       "<div>\n",
       "<style scoped>\n",
       "    .dataframe tbody tr th:only-of-type {\n",
       "        vertical-align: middle;\n",
       "    }\n",
       "\n",
       "    .dataframe tbody tr th {\n",
       "        vertical-align: top;\n",
       "    }\n",
       "\n",
       "    .dataframe thead th {\n",
       "        text-align: right;\n",
       "    }\n",
       "</style>\n",
       "<table border=\"1\" class=\"dataframe\">\n",
       "  <thead>\n",
       "    <tr style=\"text-align: right;\">\n",
       "      <th></th>\n",
       "      <th>id</th>\n",
       "      <th>object_name</th>\n",
       "      <th>chain</th>\n",
       "      <th>object_type</th>\n",
       "      <th>address</th>\n",
       "      <th>number</th>\n",
       "    </tr>\n",
       "  </thead>\n",
       "  <tbody>\n",
       "    <tr>\n",
       "      <td>0</td>\n",
       "      <td>151635</td>\n",
       "      <td>СМЕТАНА</td>\n",
       "      <td>нет</td>\n",
       "      <td>кафе</td>\n",
       "      <td>город Москва, улица Егора Абакумова, дом 9</td>\n",
       "      <td>48</td>\n",
       "    </tr>\n",
       "    <tr>\n",
       "      <td>1</td>\n",
       "      <td>77874</td>\n",
       "      <td>Родник</td>\n",
       "      <td>нет</td>\n",
       "      <td>кафе</td>\n",
       "      <td>город Москва, улица Талалихина, дом 2/1, корпус 1</td>\n",
       "      <td>35</td>\n",
       "    </tr>\n",
       "    <tr>\n",
       "      <td>2</td>\n",
       "      <td>24309</td>\n",
       "      <td>Кафе «Академия»</td>\n",
       "      <td>нет</td>\n",
       "      <td>кафе</td>\n",
       "      <td>город Москва, Абельмановская улица, дом 6</td>\n",
       "      <td>95</td>\n",
       "    </tr>\n",
       "    <tr>\n",
       "      <td>3</td>\n",
       "      <td>21894</td>\n",
       "      <td>ПИЦЦЕТОРИЯ</td>\n",
       "      <td>да</td>\n",
       "      <td>кафе</td>\n",
       "      <td>город Москва, Абрамцевская улица, дом 1</td>\n",
       "      <td>40</td>\n",
       "    </tr>\n",
       "    <tr>\n",
       "      <td>4</td>\n",
       "      <td>119365</td>\n",
       "      <td>Кафе «Вишневая метель»</td>\n",
       "      <td>нет</td>\n",
       "      <td>кафе</td>\n",
       "      <td>город Москва, Абрамцевская улица, дом 9, корпус 1</td>\n",
       "      <td>50</td>\n",
       "    </tr>\n",
       "  </tbody>\n",
       "</table>\n",
       "</div>"
      ],
      "text/plain": [
       "       id             object_name chain object_type  \\\n",
       "0  151635                 СМЕТАНА   нет        кафе   \n",
       "1   77874                  Родник   нет        кафе   \n",
       "2   24309         Кафе «Академия»   нет        кафе   \n",
       "3   21894              ПИЦЦЕТОРИЯ    да        кафе   \n",
       "4  119365  Кафе «Вишневая метель»   нет        кафе   \n",
       "\n",
       "                                             address  number  \n",
       "0         город Москва, улица Егора Абакумова, дом 9      48  \n",
       "1  город Москва, улица Талалихина, дом 2/1, корпус 1      35  \n",
       "2          город Москва, Абельмановская улица, дом 6      95  \n",
       "3            город Москва, Абрамцевская улица, дом 1      40  \n",
       "4  город Москва, Абрамцевская улица, дом 9, корпус 1      50  "
      ]
     },
     "execution_count": 27,
     "metadata": {},
     "output_type": "execute_result"
    }
   ],
   "source": [
    "# таблица rest_data (информация о заведениях общественного питания Москвы)\n",
    "rest_data = pd.read_csv(path + '09_rest_data.csv')\n",
    "rest_data.head()"
   ]
  },
  {
   "cell_type": "markdown",
   "metadata": {},
   "source": [
    "Описание данных:\n",
    "- `object_name` — название объекта общественного питания;\n",
    "- `chain` — сетевой ресторан (да или нет);\n",
    "- `object_type` — тип объекта общественного питания;\n",
    "- `address` — адрес;\n",
    "- `number` — количество посадочных мест."
   ]
  },
  {
   "cell_type": "markdown",
   "metadata": {},
   "source": [
    "Проведем предобработку данных."
   ]
  },
  {
   "cell_type": "code",
   "execution_count": 28,
   "metadata": {},
   "outputs": [],
   "source": [
    "# переименуем столбцы\n",
    "rest_data = rest_data.rename(columns = {\"number\" : \"seats\", \n",
    "                                        \"chain\" : \"is_chain\"})"
   ]
  },
  {
   "cell_type": "code",
   "execution_count": 29,
   "metadata": {
    "scrolled": true
   },
   "outputs": [
    {
     "name": "stdout",
     "output_type": "stream",
     "text": [
      "<class 'pandas.core.frame.DataFrame'>\n",
      "RangeIndex: 15366 entries, 0 to 15365\n",
      "Data columns (total 6 columns):\n",
      "id             15366 non-null int64\n",
      "object_name    15366 non-null object\n",
      "is_chain       15366 non-null object\n",
      "object_type    15366 non-null object\n",
      "address        15366 non-null object\n",
      "seats          15366 non-null int64\n",
      "dtypes: int64(2), object(4)\n",
      "memory usage: 720.4+ KB\n"
     ]
    }
   ],
   "source": [
    "# выведем общую информацию о таблице\n",
    "rest_data.info()"
   ]
  },
  {
   "cell_type": "code",
   "execution_count": 30,
   "metadata": {},
   "outputs": [],
   "source": [
    "# сократим наименование типа заведения \"предприятие быстрого обслуживания\" до \"фастфуд\"\n",
    "rest_data.loc[rest_data.loc[:,'object_type'] == 'предприятие быстрого обслуживания', 'object_type'] = 'фастфуд'\n",
    "\n",
    "# сократим наименование типа заведения \"магазин (отдел кулинарии)\" до \"кулинария\"\n",
    "rest_data.loc[rest_data.loc[:,'object_type'] == 'магазин (отдел кулинарии)', 'object_type'] = 'кулинария'"
   ]
  },
  {
   "cell_type": "code",
   "execution_count": 31,
   "metadata": {},
   "outputs": [
    {
     "data": {
      "text/plain": [
       "кафе          6099\n",
       "столовая      2587\n",
       "ресторан      2285\n",
       "фастфуд       1923\n",
       "бар            856\n",
       "буфет          585\n",
       "кафетерий      398\n",
       "закусочная     360\n",
       "кулинария      273\n",
       "Name: object_type, dtype: int64"
      ]
     },
     "execution_count": 31,
     "metadata": {},
     "output_type": "execute_result"
    }
   ],
   "source": [
    "rest_data['object_type'].value_counts()"
   ]
  },
  {
   "cell_type": "markdown",
   "metadata": {},
   "source": [
    "Нет отрицательных значений."
   ]
  },
  {
   "cell_type": "code",
   "execution_count": 32,
   "metadata": {},
   "outputs": [],
   "source": [
    "# снимем ограничение на количество отображаемых строк\n",
    "pd.set_option('display.max_rows', None)\n",
    "\n",
    "# снимем ограничение на количество отображаемых столбцов\n",
    "pd.set_option('display.max_columns', None)"
   ]
  },
  {
   "cell_type": "code",
   "execution_count": 33,
   "metadata": {},
   "outputs": [],
   "source": [
    "# для выявления скрытых дубликатов добавим столбец содержащий объединённую запись адреса и названия\n",
    "rest_data['address_name'] = rest_data['address'] + rest_data['object_name']"
   ]
  },
  {
   "cell_type": "code",
   "execution_count": 34,
   "metadata": {
    "scrolled": false
   },
   "outputs": [
    {
     "data": {
      "text/html": [
       "<style  type=\"text/css\" >\n",
       "    #T_e209a310_5e83_11eb_aef9_28d244000f41row0_col6 {\n",
       "            width:  300px;\n",
       "            text-align:  left;\n",
       "        }    #T_e209a310_5e83_11eb_aef9_28d244000f41row1_col6 {\n",
       "            width:  300px;\n",
       "            text-align:  left;\n",
       "        }    #T_e209a310_5e83_11eb_aef9_28d244000f41row2_col6 {\n",
       "            width:  300px;\n",
       "            text-align:  left;\n",
       "        }    #T_e209a310_5e83_11eb_aef9_28d244000f41row3_col6 {\n",
       "            width:  300px;\n",
       "            text-align:  left;\n",
       "        }    #T_e209a310_5e83_11eb_aef9_28d244000f41row4_col6 {\n",
       "            width:  300px;\n",
       "            text-align:  left;\n",
       "        }    #T_e209a310_5e83_11eb_aef9_28d244000f41row5_col6 {\n",
       "            width:  300px;\n",
       "            text-align:  left;\n",
       "        }    #T_e209a310_5e83_11eb_aef9_28d244000f41row6_col6 {\n",
       "            width:  300px;\n",
       "            text-align:  left;\n",
       "        }    #T_e209a310_5e83_11eb_aef9_28d244000f41row7_col6 {\n",
       "            width:  300px;\n",
       "            text-align:  left;\n",
       "        }    #T_e209a310_5e83_11eb_aef9_28d244000f41row8_col6 {\n",
       "            width:  300px;\n",
       "            text-align:  left;\n",
       "        }    #T_e209a310_5e83_11eb_aef9_28d244000f41row9_col6 {\n",
       "            width:  300px;\n",
       "            text-align:  left;\n",
       "        }</style><table id=\"T_e209a310_5e83_11eb_aef9_28d244000f41\" ><thead>    <tr>        <th class=\"blank level0\" ></th>        <th class=\"col_heading level0 col0\" >id</th>        <th class=\"col_heading level0 col1\" >object_name</th>        <th class=\"col_heading level0 col2\" >is_chain</th>        <th class=\"col_heading level0 col3\" >object_type</th>        <th class=\"col_heading level0 col4\" >address</th>        <th class=\"col_heading level0 col5\" >seats</th>        <th class=\"col_heading level0 col6\" >address_name</th>    </tr></thead><tbody>\n",
       "                <tr>\n",
       "                        <th id=\"T_e209a310_5e83_11eb_aef9_28d244000f41level0_row0\" class=\"row_heading level0 row0\" >5183</th>\n",
       "                        <td id=\"T_e209a310_5e83_11eb_aef9_28d244000f41row0_col0\" class=\"data row0 col0\" >107450</td>\n",
       "                        <td id=\"T_e209a310_5e83_11eb_aef9_28d244000f41row0_col1\" class=\"data row0 col1\" >Кафе</td>\n",
       "                        <td id=\"T_e209a310_5e83_11eb_aef9_28d244000f41row0_col2\" class=\"data row0 col2\" >нет</td>\n",
       "                        <td id=\"T_e209a310_5e83_11eb_aef9_28d244000f41row0_col3\" class=\"data row0 col3\" >кафе</td>\n",
       "                        <td id=\"T_e209a310_5e83_11eb_aef9_28d244000f41row0_col4\" class=\"data row0 col4\" >город Москва, 1-я Останкинская улица, дом 55</td>\n",
       "                        <td id=\"T_e209a310_5e83_11eb_aef9_28d244000f41row0_col5\" class=\"data row0 col5\" >20</td>\n",
       "                        <td id=\"T_e209a310_5e83_11eb_aef9_28d244000f41row0_col6\" class=\"data row0 col6\" >город Москва, 1-я Останкинская улица, дом 55Кафе</td>\n",
       "            </tr>\n",
       "            <tr>\n",
       "                        <th id=\"T_e209a310_5e83_11eb_aef9_28d244000f41level0_row1\" class=\"row_heading level0 row1\" >5184</th>\n",
       "                        <td id=\"T_e209a310_5e83_11eb_aef9_28d244000f41row1_col0\" class=\"data row1 col0\" >107456</td>\n",
       "                        <td id=\"T_e209a310_5e83_11eb_aef9_28d244000f41row1_col1\" class=\"data row1 col1\" >Кафе</td>\n",
       "                        <td id=\"T_e209a310_5e83_11eb_aef9_28d244000f41row1_col2\" class=\"data row1 col2\" >нет</td>\n",
       "                        <td id=\"T_e209a310_5e83_11eb_aef9_28d244000f41row1_col3\" class=\"data row1 col3\" >кафе</td>\n",
       "                        <td id=\"T_e209a310_5e83_11eb_aef9_28d244000f41row1_col4\" class=\"data row1 col4\" >город Москва, 1-я Останкинская улица, дом 55</td>\n",
       "                        <td id=\"T_e209a310_5e83_11eb_aef9_28d244000f41row1_col5\" class=\"data row1 col5\" >10</td>\n",
       "                        <td id=\"T_e209a310_5e83_11eb_aef9_28d244000f41row1_col6\" class=\"data row1 col6\" >город Москва, 1-я Останкинская улица, дом 55Кафе</td>\n",
       "            </tr>\n",
       "            <tr>\n",
       "                        <th id=\"T_e209a310_5e83_11eb_aef9_28d244000f41level0_row2\" class=\"row_heading level0 row2\" >5191</th>\n",
       "                        <td id=\"T_e209a310_5e83_11eb_aef9_28d244000f41row2_col0\" class=\"data row2 col0\" >107485</td>\n",
       "                        <td id=\"T_e209a310_5e83_11eb_aef9_28d244000f41row2_col1\" class=\"data row2 col1\" >Кафе</td>\n",
       "                        <td id=\"T_e209a310_5e83_11eb_aef9_28d244000f41row2_col2\" class=\"data row2 col2\" >нет</td>\n",
       "                        <td id=\"T_e209a310_5e83_11eb_aef9_28d244000f41row2_col3\" class=\"data row2 col3\" >кафе</td>\n",
       "                        <td id=\"T_e209a310_5e83_11eb_aef9_28d244000f41row2_col4\" class=\"data row2 col4\" >город Москва, 1-я Останкинская улица, дом 55</td>\n",
       "                        <td id=\"T_e209a310_5e83_11eb_aef9_28d244000f41row2_col5\" class=\"data row2 col5\" >6</td>\n",
       "                        <td id=\"T_e209a310_5e83_11eb_aef9_28d244000f41row2_col6\" class=\"data row2 col6\" >город Москва, 1-я Останкинская улица, дом 55Кафе</td>\n",
       "            </tr>\n",
       "            <tr>\n",
       "                        <th id=\"T_e209a310_5e83_11eb_aef9_28d244000f41level0_row3\" class=\"row_heading level0 row3\" >5189</th>\n",
       "                        <td id=\"T_e209a310_5e83_11eb_aef9_28d244000f41row3_col0\" class=\"data row3 col0\" >107471</td>\n",
       "                        <td id=\"T_e209a310_5e83_11eb_aef9_28d244000f41row3_col1\" class=\"data row3 col1\" >Кафе</td>\n",
       "                        <td id=\"T_e209a310_5e83_11eb_aef9_28d244000f41row3_col2\" class=\"data row3 col2\" >нет</td>\n",
       "                        <td id=\"T_e209a310_5e83_11eb_aef9_28d244000f41row3_col3\" class=\"data row3 col3\" >кафе</td>\n",
       "                        <td id=\"T_e209a310_5e83_11eb_aef9_28d244000f41row3_col4\" class=\"data row3 col4\" >город Москва, 1-я Останкинская улица, дом 55</td>\n",
       "                        <td id=\"T_e209a310_5e83_11eb_aef9_28d244000f41row3_col5\" class=\"data row3 col5\" >4</td>\n",
       "                        <td id=\"T_e209a310_5e83_11eb_aef9_28d244000f41row3_col6\" class=\"data row3 col6\" >город Москва, 1-я Останкинская улица, дом 55Кафе</td>\n",
       "            </tr>\n",
       "            <tr>\n",
       "                        <th id=\"T_e209a310_5e83_11eb_aef9_28d244000f41level0_row4\" class=\"row_heading level0 row4\" >5188</th>\n",
       "                        <td id=\"T_e209a310_5e83_11eb_aef9_28d244000f41row4_col0\" class=\"data row4 col0\" >107466</td>\n",
       "                        <td id=\"T_e209a310_5e83_11eb_aef9_28d244000f41row4_col1\" class=\"data row4 col1\" >Кафе</td>\n",
       "                        <td id=\"T_e209a310_5e83_11eb_aef9_28d244000f41row4_col2\" class=\"data row4 col2\" >нет</td>\n",
       "                        <td id=\"T_e209a310_5e83_11eb_aef9_28d244000f41row4_col3\" class=\"data row4 col3\" >кафе</td>\n",
       "                        <td id=\"T_e209a310_5e83_11eb_aef9_28d244000f41row4_col4\" class=\"data row4 col4\" >город Москва, 1-я Останкинская улица, дом 55</td>\n",
       "                        <td id=\"T_e209a310_5e83_11eb_aef9_28d244000f41row4_col5\" class=\"data row4 col5\" >5</td>\n",
       "                        <td id=\"T_e209a310_5e83_11eb_aef9_28d244000f41row4_col6\" class=\"data row4 col6\" >город Москва, 1-я Останкинская улица, дом 55Кафе</td>\n",
       "            </tr>\n",
       "            <tr>\n",
       "                        <th id=\"T_e209a310_5e83_11eb_aef9_28d244000f41level0_row5\" class=\"row_heading level0 row5\" >5190</th>\n",
       "                        <td id=\"T_e209a310_5e83_11eb_aef9_28d244000f41row5_col0\" class=\"data row5 col0\" >107480</td>\n",
       "                        <td id=\"T_e209a310_5e83_11eb_aef9_28d244000f41row5_col1\" class=\"data row5 col1\" >Кафе</td>\n",
       "                        <td id=\"T_e209a310_5e83_11eb_aef9_28d244000f41row5_col2\" class=\"data row5 col2\" >нет</td>\n",
       "                        <td id=\"T_e209a310_5e83_11eb_aef9_28d244000f41row5_col3\" class=\"data row5 col3\" >кафе</td>\n",
       "                        <td id=\"T_e209a310_5e83_11eb_aef9_28d244000f41row5_col4\" class=\"data row5 col4\" >город Москва, 1-я Останкинская улица, дом 55</td>\n",
       "                        <td id=\"T_e209a310_5e83_11eb_aef9_28d244000f41row5_col5\" class=\"data row5 col5\" >5</td>\n",
       "                        <td id=\"T_e209a310_5e83_11eb_aef9_28d244000f41row5_col6\" class=\"data row5 col6\" >город Москва, 1-я Останкинская улица, дом 55Кафе</td>\n",
       "            </tr>\n",
       "            <tr>\n",
       "                        <th id=\"T_e209a310_5e83_11eb_aef9_28d244000f41level0_row6\" class=\"row_heading level0 row6\" >5187</th>\n",
       "                        <td id=\"T_e209a310_5e83_11eb_aef9_28d244000f41row6_col0\" class=\"data row6 col0\" >107462</td>\n",
       "                        <td id=\"T_e209a310_5e83_11eb_aef9_28d244000f41row6_col1\" class=\"data row6 col1\" >Кафе</td>\n",
       "                        <td id=\"T_e209a310_5e83_11eb_aef9_28d244000f41row6_col2\" class=\"data row6 col2\" >нет</td>\n",
       "                        <td id=\"T_e209a310_5e83_11eb_aef9_28d244000f41row6_col3\" class=\"data row6 col3\" >кафе</td>\n",
       "                        <td id=\"T_e209a310_5e83_11eb_aef9_28d244000f41row6_col4\" class=\"data row6 col4\" >город Москва, 1-я Останкинская улица, дом 55</td>\n",
       "                        <td id=\"T_e209a310_5e83_11eb_aef9_28d244000f41row6_col5\" class=\"data row6 col5\" >5</td>\n",
       "                        <td id=\"T_e209a310_5e83_11eb_aef9_28d244000f41row6_col6\" class=\"data row6 col6\" >город Москва, 1-я Останкинская улица, дом 55Кафе</td>\n",
       "            </tr>\n",
       "            <tr>\n",
       "                        <th id=\"T_e209a310_5e83_11eb_aef9_28d244000f41level0_row7\" class=\"row_heading level0 row7\" >5186</th>\n",
       "                        <td id=\"T_e209a310_5e83_11eb_aef9_28d244000f41row7_col0\" class=\"data row7 col0\" >107574</td>\n",
       "                        <td id=\"T_e209a310_5e83_11eb_aef9_28d244000f41row7_col1\" class=\"data row7 col1\" >Кафе</td>\n",
       "                        <td id=\"T_e209a310_5e83_11eb_aef9_28d244000f41row7_col2\" class=\"data row7 col2\" >нет</td>\n",
       "                        <td id=\"T_e209a310_5e83_11eb_aef9_28d244000f41row7_col3\" class=\"data row7 col3\" >кафе</td>\n",
       "                        <td id=\"T_e209a310_5e83_11eb_aef9_28d244000f41row7_col4\" class=\"data row7 col4\" >город Москва, 1-я Останкинская улица, дом 55</td>\n",
       "                        <td id=\"T_e209a310_5e83_11eb_aef9_28d244000f41row7_col5\" class=\"data row7 col5\" >10</td>\n",
       "                        <td id=\"T_e209a310_5e83_11eb_aef9_28d244000f41row7_col6\" class=\"data row7 col6\" >город Москва, 1-я Останкинская улица, дом 55Кафе</td>\n",
       "            </tr>\n",
       "            <tr>\n",
       "                        <th id=\"T_e209a310_5e83_11eb_aef9_28d244000f41level0_row8\" class=\"row_heading level0 row8\" >5185</th>\n",
       "                        <td id=\"T_e209a310_5e83_11eb_aef9_28d244000f41row8_col0\" class=\"data row8 col0\" >107442</td>\n",
       "                        <td id=\"T_e209a310_5e83_11eb_aef9_28d244000f41row8_col1\" class=\"data row8 col1\" >Кафе</td>\n",
       "                        <td id=\"T_e209a310_5e83_11eb_aef9_28d244000f41row8_col2\" class=\"data row8 col2\" >нет</td>\n",
       "                        <td id=\"T_e209a310_5e83_11eb_aef9_28d244000f41row8_col3\" class=\"data row8 col3\" >кафе</td>\n",
       "                        <td id=\"T_e209a310_5e83_11eb_aef9_28d244000f41row8_col4\" class=\"data row8 col4\" >город Москва, 1-я Останкинская улица, дом 55</td>\n",
       "                        <td id=\"T_e209a310_5e83_11eb_aef9_28d244000f41row8_col5\" class=\"data row8 col5\" >20</td>\n",
       "                        <td id=\"T_e209a310_5e83_11eb_aef9_28d244000f41row8_col6\" class=\"data row8 col6\" >город Москва, 1-я Останкинская улица, дом 55Кафе</td>\n",
       "            </tr>\n",
       "            <tr>\n",
       "                        <th id=\"T_e209a310_5e83_11eb_aef9_28d244000f41level0_row9\" class=\"row_heading level0 row9\" >9275</th>\n",
       "                        <td id=\"T_e209a310_5e83_11eb_aef9_28d244000f41row9_col0\" class=\"data row9 col0\" >166766</td>\n",
       "                        <td id=\"T_e209a310_5e83_11eb_aef9_28d244000f41row9_col1\" class=\"data row9 col1\" >Кафе</td>\n",
       "                        <td id=\"T_e209a310_5e83_11eb_aef9_28d244000f41row9_col2\" class=\"data row9 col2\" >нет</td>\n",
       "                        <td id=\"T_e209a310_5e83_11eb_aef9_28d244000f41row9_col3\" class=\"data row9 col3\" >кафе</td>\n",
       "                        <td id=\"T_e209a310_5e83_11eb_aef9_28d244000f41row9_col4\" class=\"data row9 col4\" >город Москва, 19-й километр Московской Кольцевой Автодороги, владение 20, строение 1</td>\n",
       "                        <td id=\"T_e209a310_5e83_11eb_aef9_28d244000f41row9_col5\" class=\"data row9 col5\" >42</td>\n",
       "                        <td id=\"T_e209a310_5e83_11eb_aef9_28d244000f41row9_col6\" class=\"data row9 col6\" >город Москва, 19-й километр Московской Кольцевой Автодороги, владение 20, строение 1Кафе</td>\n",
       "            </tr>\n",
       "    </tbody></table>"
      ],
      "text/plain": [
       "<pandas.io.formats.style.Styler at 0x1782b875e88>"
      ]
     },
     "execution_count": 34,
     "metadata": {},
     "output_type": "execute_result"
    }
   ],
   "source": [
    "# выведем записи, у которых совпадает одновременно адрес и название\n",
    "# (keep = False - всем дубликатам присваивается True, \n",
    "# по умолчанию keep = 'first' - первый пропускается)\n",
    "rest_data[rest_data['address_name'].duplicated(keep = False)]\\\n",
    ".sort_values(by = 'address_name').head(10)\\\n",
    ".style.set_properties(subset = 'address_name', \n",
    "                      **{'width' : '300px', 'text-align' : 'left'})"
   ]
  },
  {
   "cell_type": "code",
   "execution_count": 35,
   "metadata": {},
   "outputs": [
    {
     "data": {
      "text/plain": [
       "344"
      ]
     },
     "execution_count": 35,
     "metadata": {},
     "output_type": "execute_result"
    }
   ],
   "source": [
    "#количество таких записей\n",
    "len(rest_data[rest_data['address_name'].duplicated(keep = False)])"
   ]
  },
  {
   "cell_type": "markdown",
   "metadata": {},
   "source": [
    "В данных содержатся скрытые дубликаты: по некоторым адресам находятся заведения одного типа с одинаковым названием и одинаковым количеством посадочных мест. В некоторых случаях это похоже на правду (несколько столовых на территории университета, или несколько одинаковых кафе на вокзалах), а в некоторых случаях, это выглядит не совсем правдопободно (по одному адресу находятся заведения с уникальным [не \"шаурма\" или \"булочная\", например] названием, причем иногда указано одинаковое количество мест, а иногда - разное).\n",
    "\n",
    "Поскольку невозможно проверить достоверность информации вручную (например точное количество мест в тех случаях, где указаны два \"варианта\", или точное количество мест по одному адресу), удалим только те записи, у которых одновременно совпадает:\n",
    "- наименование;\n",
    "- количество посадочных мест;\n",
    "- адрес."
   ]
  },
  {
   "cell_type": "code",
   "execution_count": 36,
   "metadata": {},
   "outputs": [
    {
     "data": {
      "text/plain": [
       "153"
      ]
     },
     "execution_count": 36,
     "metadata": {},
     "output_type": "execute_result"
    }
   ],
   "source": [
    "# столбец с объединенной записью адрес, имя, количество мест \n",
    "rest_data['address_name_seats'] = rest_data\\\n",
    "    .apply(lambda x: x['address'] + x['object_name'] + str(x['seats']), axis = 1)\n",
    "\n",
    "# количество дубликатов по столбцу address_name_seats\n",
    "len(rest_data[rest_data['address_name_seats'].duplicated(keep = False)])"
   ]
  },
  {
   "cell_type": "code",
   "execution_count": 37,
   "metadata": {},
   "outputs": [
    {
     "data": {
      "text/html": [
       "<style  type=\"text/css\" >\n",
       "    #T_e287d3d0_5e83_11eb_a1c5_28d244000f41row0_col7 {\n",
       "            width:  300px;\n",
       "            text-align:  left;\n",
       "        }    #T_e287d3d0_5e83_11eb_a1c5_28d244000f41row1_col7 {\n",
       "            width:  300px;\n",
       "            text-align:  left;\n",
       "        }    #T_e287d3d0_5e83_11eb_a1c5_28d244000f41row2_col7 {\n",
       "            width:  300px;\n",
       "            text-align:  left;\n",
       "        }    #T_e287d3d0_5e83_11eb_a1c5_28d244000f41row3_col7 {\n",
       "            width:  300px;\n",
       "            text-align:  left;\n",
       "        }    #T_e287d3d0_5e83_11eb_a1c5_28d244000f41row4_col7 {\n",
       "            width:  300px;\n",
       "            text-align:  left;\n",
       "        }    #T_e287d3d0_5e83_11eb_a1c5_28d244000f41row5_col7 {\n",
       "            width:  300px;\n",
       "            text-align:  left;\n",
       "        }    #T_e287d3d0_5e83_11eb_a1c5_28d244000f41row6_col7 {\n",
       "            width:  300px;\n",
       "            text-align:  left;\n",
       "        }    #T_e287d3d0_5e83_11eb_a1c5_28d244000f41row7_col7 {\n",
       "            width:  300px;\n",
       "            text-align:  left;\n",
       "        }    #T_e287d3d0_5e83_11eb_a1c5_28d244000f41row8_col7 {\n",
       "            width:  300px;\n",
       "            text-align:  left;\n",
       "        }    #T_e287d3d0_5e83_11eb_a1c5_28d244000f41row9_col7 {\n",
       "            width:  300px;\n",
       "            text-align:  left;\n",
       "        }</style><table id=\"T_e287d3d0_5e83_11eb_a1c5_28d244000f41\" ><thead>    <tr>        <th class=\"blank level0\" ></th>        <th class=\"col_heading level0 col0\" >id</th>        <th class=\"col_heading level0 col1\" >object_name</th>        <th class=\"col_heading level0 col2\" >is_chain</th>        <th class=\"col_heading level0 col3\" >object_type</th>        <th class=\"col_heading level0 col4\" >address</th>        <th class=\"col_heading level0 col5\" >seats</th>        <th class=\"col_heading level0 col6\" >address_name</th>        <th class=\"col_heading level0 col7\" >address_name_seats</th>    </tr></thead><tbody>\n",
       "                <tr>\n",
       "                        <th id=\"T_e287d3d0_5e83_11eb_a1c5_28d244000f41level0_row0\" class=\"row_heading level0 row0\" >5186</th>\n",
       "                        <td id=\"T_e287d3d0_5e83_11eb_a1c5_28d244000f41row0_col0\" class=\"data row0 col0\" >107574</td>\n",
       "                        <td id=\"T_e287d3d0_5e83_11eb_a1c5_28d244000f41row0_col1\" class=\"data row0 col1\" >Кафе</td>\n",
       "                        <td id=\"T_e287d3d0_5e83_11eb_a1c5_28d244000f41row0_col2\" class=\"data row0 col2\" >нет</td>\n",
       "                        <td id=\"T_e287d3d0_5e83_11eb_a1c5_28d244000f41row0_col3\" class=\"data row0 col3\" >кафе</td>\n",
       "                        <td id=\"T_e287d3d0_5e83_11eb_a1c5_28d244000f41row0_col4\" class=\"data row0 col4\" >город Москва, 1-я Останкинская улица, дом 55</td>\n",
       "                        <td id=\"T_e287d3d0_5e83_11eb_a1c5_28d244000f41row0_col5\" class=\"data row0 col5\" >10</td>\n",
       "                        <td id=\"T_e287d3d0_5e83_11eb_a1c5_28d244000f41row0_col6\" class=\"data row0 col6\" >город Москва, 1-я Останкинская улица, дом 55Кафе</td>\n",
       "                        <td id=\"T_e287d3d0_5e83_11eb_a1c5_28d244000f41row0_col7\" class=\"data row0 col7\" >город Москва, 1-я Останкинская улица, дом 55Кафе10</td>\n",
       "            </tr>\n",
       "            <tr>\n",
       "                        <th id=\"T_e287d3d0_5e83_11eb_a1c5_28d244000f41level0_row1\" class=\"row_heading level0 row1\" >5184</th>\n",
       "                        <td id=\"T_e287d3d0_5e83_11eb_a1c5_28d244000f41row1_col0\" class=\"data row1 col0\" >107456</td>\n",
       "                        <td id=\"T_e287d3d0_5e83_11eb_a1c5_28d244000f41row1_col1\" class=\"data row1 col1\" >Кафе</td>\n",
       "                        <td id=\"T_e287d3d0_5e83_11eb_a1c5_28d244000f41row1_col2\" class=\"data row1 col2\" >нет</td>\n",
       "                        <td id=\"T_e287d3d0_5e83_11eb_a1c5_28d244000f41row1_col3\" class=\"data row1 col3\" >кафе</td>\n",
       "                        <td id=\"T_e287d3d0_5e83_11eb_a1c5_28d244000f41row1_col4\" class=\"data row1 col4\" >город Москва, 1-я Останкинская улица, дом 55</td>\n",
       "                        <td id=\"T_e287d3d0_5e83_11eb_a1c5_28d244000f41row1_col5\" class=\"data row1 col5\" >10</td>\n",
       "                        <td id=\"T_e287d3d0_5e83_11eb_a1c5_28d244000f41row1_col6\" class=\"data row1 col6\" >город Москва, 1-я Останкинская улица, дом 55Кафе</td>\n",
       "                        <td id=\"T_e287d3d0_5e83_11eb_a1c5_28d244000f41row1_col7\" class=\"data row1 col7\" >город Москва, 1-я Останкинская улица, дом 55Кафе10</td>\n",
       "            </tr>\n",
       "            <tr>\n",
       "                        <th id=\"T_e287d3d0_5e83_11eb_a1c5_28d244000f41level0_row2\" class=\"row_heading level0 row2\" >5185</th>\n",
       "                        <td id=\"T_e287d3d0_5e83_11eb_a1c5_28d244000f41row2_col0\" class=\"data row2 col0\" >107442</td>\n",
       "                        <td id=\"T_e287d3d0_5e83_11eb_a1c5_28d244000f41row2_col1\" class=\"data row2 col1\" >Кафе</td>\n",
       "                        <td id=\"T_e287d3d0_5e83_11eb_a1c5_28d244000f41row2_col2\" class=\"data row2 col2\" >нет</td>\n",
       "                        <td id=\"T_e287d3d0_5e83_11eb_a1c5_28d244000f41row2_col3\" class=\"data row2 col3\" >кафе</td>\n",
       "                        <td id=\"T_e287d3d0_5e83_11eb_a1c5_28d244000f41row2_col4\" class=\"data row2 col4\" >город Москва, 1-я Останкинская улица, дом 55</td>\n",
       "                        <td id=\"T_e287d3d0_5e83_11eb_a1c5_28d244000f41row2_col5\" class=\"data row2 col5\" >20</td>\n",
       "                        <td id=\"T_e287d3d0_5e83_11eb_a1c5_28d244000f41row2_col6\" class=\"data row2 col6\" >город Москва, 1-я Останкинская улица, дом 55Кафе</td>\n",
       "                        <td id=\"T_e287d3d0_5e83_11eb_a1c5_28d244000f41row2_col7\" class=\"data row2 col7\" >город Москва, 1-я Останкинская улица, дом 55Кафе20</td>\n",
       "            </tr>\n",
       "            <tr>\n",
       "                        <th id=\"T_e287d3d0_5e83_11eb_a1c5_28d244000f41level0_row3\" class=\"row_heading level0 row3\" >5183</th>\n",
       "                        <td id=\"T_e287d3d0_5e83_11eb_a1c5_28d244000f41row3_col0\" class=\"data row3 col0\" >107450</td>\n",
       "                        <td id=\"T_e287d3d0_5e83_11eb_a1c5_28d244000f41row3_col1\" class=\"data row3 col1\" >Кафе</td>\n",
       "                        <td id=\"T_e287d3d0_5e83_11eb_a1c5_28d244000f41row3_col2\" class=\"data row3 col2\" >нет</td>\n",
       "                        <td id=\"T_e287d3d0_5e83_11eb_a1c5_28d244000f41row3_col3\" class=\"data row3 col3\" >кафе</td>\n",
       "                        <td id=\"T_e287d3d0_5e83_11eb_a1c5_28d244000f41row3_col4\" class=\"data row3 col4\" >город Москва, 1-я Останкинская улица, дом 55</td>\n",
       "                        <td id=\"T_e287d3d0_5e83_11eb_a1c5_28d244000f41row3_col5\" class=\"data row3 col5\" >20</td>\n",
       "                        <td id=\"T_e287d3d0_5e83_11eb_a1c5_28d244000f41row3_col6\" class=\"data row3 col6\" >город Москва, 1-я Останкинская улица, дом 55Кафе</td>\n",
       "                        <td id=\"T_e287d3d0_5e83_11eb_a1c5_28d244000f41row3_col7\" class=\"data row3 col7\" >город Москва, 1-я Останкинская улица, дом 55Кафе20</td>\n",
       "            </tr>\n",
       "            <tr>\n",
       "                        <th id=\"T_e287d3d0_5e83_11eb_a1c5_28d244000f41level0_row4\" class=\"row_heading level0 row4\" >5190</th>\n",
       "                        <td id=\"T_e287d3d0_5e83_11eb_a1c5_28d244000f41row4_col0\" class=\"data row4 col0\" >107480</td>\n",
       "                        <td id=\"T_e287d3d0_5e83_11eb_a1c5_28d244000f41row4_col1\" class=\"data row4 col1\" >Кафе</td>\n",
       "                        <td id=\"T_e287d3d0_5e83_11eb_a1c5_28d244000f41row4_col2\" class=\"data row4 col2\" >нет</td>\n",
       "                        <td id=\"T_e287d3d0_5e83_11eb_a1c5_28d244000f41row4_col3\" class=\"data row4 col3\" >кафе</td>\n",
       "                        <td id=\"T_e287d3d0_5e83_11eb_a1c5_28d244000f41row4_col4\" class=\"data row4 col4\" >город Москва, 1-я Останкинская улица, дом 55</td>\n",
       "                        <td id=\"T_e287d3d0_5e83_11eb_a1c5_28d244000f41row4_col5\" class=\"data row4 col5\" >5</td>\n",
       "                        <td id=\"T_e287d3d0_5e83_11eb_a1c5_28d244000f41row4_col6\" class=\"data row4 col6\" >город Москва, 1-я Останкинская улица, дом 55Кафе</td>\n",
       "                        <td id=\"T_e287d3d0_5e83_11eb_a1c5_28d244000f41row4_col7\" class=\"data row4 col7\" >город Москва, 1-я Останкинская улица, дом 55Кафе5</td>\n",
       "            </tr>\n",
       "            <tr>\n",
       "                        <th id=\"T_e287d3d0_5e83_11eb_a1c5_28d244000f41level0_row5\" class=\"row_heading level0 row5\" >5188</th>\n",
       "                        <td id=\"T_e287d3d0_5e83_11eb_a1c5_28d244000f41row5_col0\" class=\"data row5 col0\" >107466</td>\n",
       "                        <td id=\"T_e287d3d0_5e83_11eb_a1c5_28d244000f41row5_col1\" class=\"data row5 col1\" >Кафе</td>\n",
       "                        <td id=\"T_e287d3d0_5e83_11eb_a1c5_28d244000f41row5_col2\" class=\"data row5 col2\" >нет</td>\n",
       "                        <td id=\"T_e287d3d0_5e83_11eb_a1c5_28d244000f41row5_col3\" class=\"data row5 col3\" >кафе</td>\n",
       "                        <td id=\"T_e287d3d0_5e83_11eb_a1c5_28d244000f41row5_col4\" class=\"data row5 col4\" >город Москва, 1-я Останкинская улица, дом 55</td>\n",
       "                        <td id=\"T_e287d3d0_5e83_11eb_a1c5_28d244000f41row5_col5\" class=\"data row5 col5\" >5</td>\n",
       "                        <td id=\"T_e287d3d0_5e83_11eb_a1c5_28d244000f41row5_col6\" class=\"data row5 col6\" >город Москва, 1-я Останкинская улица, дом 55Кафе</td>\n",
       "                        <td id=\"T_e287d3d0_5e83_11eb_a1c5_28d244000f41row5_col7\" class=\"data row5 col7\" >город Москва, 1-я Останкинская улица, дом 55Кафе5</td>\n",
       "            </tr>\n",
       "            <tr>\n",
       "                        <th id=\"T_e287d3d0_5e83_11eb_a1c5_28d244000f41level0_row6\" class=\"row_heading level0 row6\" >5187</th>\n",
       "                        <td id=\"T_e287d3d0_5e83_11eb_a1c5_28d244000f41row6_col0\" class=\"data row6 col0\" >107462</td>\n",
       "                        <td id=\"T_e287d3d0_5e83_11eb_a1c5_28d244000f41row6_col1\" class=\"data row6 col1\" >Кафе</td>\n",
       "                        <td id=\"T_e287d3d0_5e83_11eb_a1c5_28d244000f41row6_col2\" class=\"data row6 col2\" >нет</td>\n",
       "                        <td id=\"T_e287d3d0_5e83_11eb_a1c5_28d244000f41row6_col3\" class=\"data row6 col3\" >кафе</td>\n",
       "                        <td id=\"T_e287d3d0_5e83_11eb_a1c5_28d244000f41row6_col4\" class=\"data row6 col4\" >город Москва, 1-я Останкинская улица, дом 55</td>\n",
       "                        <td id=\"T_e287d3d0_5e83_11eb_a1c5_28d244000f41row6_col5\" class=\"data row6 col5\" >5</td>\n",
       "                        <td id=\"T_e287d3d0_5e83_11eb_a1c5_28d244000f41row6_col6\" class=\"data row6 col6\" >город Москва, 1-я Останкинская улица, дом 55Кафе</td>\n",
       "                        <td id=\"T_e287d3d0_5e83_11eb_a1c5_28d244000f41row6_col7\" class=\"data row6 col7\" >город Москва, 1-я Останкинская улица, дом 55Кафе5</td>\n",
       "            </tr>\n",
       "            <tr>\n",
       "                        <th id=\"T_e287d3d0_5e83_11eb_a1c5_28d244000f41level0_row7\" class=\"row_heading level0 row7\" >2374</th>\n",
       "                        <td id=\"T_e287d3d0_5e83_11eb_a1c5_28d244000f41row7_col0\" class=\"data row7 col0\" >28603</td>\n",
       "                        <td id=\"T_e287d3d0_5e83_11eb_a1c5_28d244000f41row7_col1\" class=\"data row7 col1\" >КОМБИНАТ ПИТАНИЯ МГТУ ИМ.Н.Э.БАУМАНА</td>\n",
       "                        <td id=\"T_e287d3d0_5e83_11eb_a1c5_28d244000f41row7_col2\" class=\"data row7 col2\" >нет</td>\n",
       "                        <td id=\"T_e287d3d0_5e83_11eb_a1c5_28d244000f41row7_col3\" class=\"data row7 col3\" >столовая</td>\n",
       "                        <td id=\"T_e287d3d0_5e83_11eb_a1c5_28d244000f41row7_col4\" class=\"data row7 col4\" >город Москва, 2-я Бауманская улица, дом 5, строение 1</td>\n",
       "                        <td id=\"T_e287d3d0_5e83_11eb_a1c5_28d244000f41row7_col5\" class=\"data row7 col5\" >100</td>\n",
       "                        <td id=\"T_e287d3d0_5e83_11eb_a1c5_28d244000f41row7_col6\" class=\"data row7 col6\" >город Москва, 2-я Бауманская улица, дом 5, строение 1КОМБИНАТ ПИТАНИЯ МГТУ ИМ.Н.Э.БАУМАНА</td>\n",
       "                        <td id=\"T_e287d3d0_5e83_11eb_a1c5_28d244000f41row7_col7\" class=\"data row7 col7\" >город Москва, 2-я Бауманская улица, дом 5, строение 1КОМБИНАТ ПИТАНИЯ МГТУ ИМ.Н.Э.БАУМАНА100</td>\n",
       "            </tr>\n",
       "            <tr>\n",
       "                        <th id=\"T_e287d3d0_5e83_11eb_a1c5_28d244000f41level0_row8\" class=\"row_heading level0 row8\" >2381</th>\n",
       "                        <td id=\"T_e287d3d0_5e83_11eb_a1c5_28d244000f41row8_col0\" class=\"data row8 col0\" >28611</td>\n",
       "                        <td id=\"T_e287d3d0_5e83_11eb_a1c5_28d244000f41row8_col1\" class=\"data row8 col1\" >КОМБИНАТ ПИТАНИЯ МГТУ ИМ.Н.Э.БАУМАНА</td>\n",
       "                        <td id=\"T_e287d3d0_5e83_11eb_a1c5_28d244000f41row8_col2\" class=\"data row8 col2\" >нет</td>\n",
       "                        <td id=\"T_e287d3d0_5e83_11eb_a1c5_28d244000f41row8_col3\" class=\"data row8 col3\" >столовая</td>\n",
       "                        <td id=\"T_e287d3d0_5e83_11eb_a1c5_28d244000f41row8_col4\" class=\"data row8 col4\" >город Москва, 2-я Бауманская улица, дом 5, строение 1</td>\n",
       "                        <td id=\"T_e287d3d0_5e83_11eb_a1c5_28d244000f41row8_col5\" class=\"data row8 col5\" >100</td>\n",
       "                        <td id=\"T_e287d3d0_5e83_11eb_a1c5_28d244000f41row8_col6\" class=\"data row8 col6\" >город Москва, 2-я Бауманская улица, дом 5, строение 1КОМБИНАТ ПИТАНИЯ МГТУ ИМ.Н.Э.БАУМАНА</td>\n",
       "                        <td id=\"T_e287d3d0_5e83_11eb_a1c5_28d244000f41row8_col7\" class=\"data row8 col7\" >город Москва, 2-я Бауманская улица, дом 5, строение 1КОМБИНАТ ПИТАНИЯ МГТУ ИМ.Н.Э.БАУМАНА100</td>\n",
       "            </tr>\n",
       "            <tr>\n",
       "                        <th id=\"T_e287d3d0_5e83_11eb_a1c5_28d244000f41level0_row9\" class=\"row_heading level0 row9\" >2377</th>\n",
       "                        <td id=\"T_e287d3d0_5e83_11eb_a1c5_28d244000f41row9_col0\" class=\"data row9 col0\" >28606</td>\n",
       "                        <td id=\"T_e287d3d0_5e83_11eb_a1c5_28d244000f41row9_col1\" class=\"data row9 col1\" >КОМБИНАТ ПИТАНИЯ МГТУ ИМ.Н.Э.БАУМАНА</td>\n",
       "                        <td id=\"T_e287d3d0_5e83_11eb_a1c5_28d244000f41row9_col2\" class=\"data row9 col2\" >нет</td>\n",
       "                        <td id=\"T_e287d3d0_5e83_11eb_a1c5_28d244000f41row9_col3\" class=\"data row9 col3\" >буфет</td>\n",
       "                        <td id=\"T_e287d3d0_5e83_11eb_a1c5_28d244000f41row9_col4\" class=\"data row9 col4\" >город Москва, 2-я Бауманская улица, дом 5, строение 1</td>\n",
       "                        <td id=\"T_e287d3d0_5e83_11eb_a1c5_28d244000f41row9_col5\" class=\"data row9 col5\" >16</td>\n",
       "                        <td id=\"T_e287d3d0_5e83_11eb_a1c5_28d244000f41row9_col6\" class=\"data row9 col6\" >город Москва, 2-я Бауманская улица, дом 5, строение 1КОМБИНАТ ПИТАНИЯ МГТУ ИМ.Н.Э.БАУМАНА</td>\n",
       "                        <td id=\"T_e287d3d0_5e83_11eb_a1c5_28d244000f41row9_col7\" class=\"data row9 col7\" >город Москва, 2-я Бауманская улица, дом 5, строение 1КОМБИНАТ ПИТАНИЯ МГТУ ИМ.Н.Э.БАУМАНА16</td>\n",
       "            </tr>\n",
       "    </tbody></table>"
      ],
      "text/plain": [
       "<pandas.io.formats.style.Styler at 0x17829d733c8>"
      ]
     },
     "execution_count": 37,
     "metadata": {},
     "output_type": "execute_result"
    }
   ],
   "source": [
    "# выведем записи с совпадающим адресом, названием и количеством мест\n",
    "rest_data[rest_data['address_name_seats'].duplicated(keep = False)]\\\n",
    ".sort_values(by = 'address_name_seats').head(10)\\\n",
    ".style.set_properties(subset = 'address_name_seats', \n",
    "                      **{'width' : '300px', 'text-align' : 'left'})"
   ]
  },
  {
   "cell_type": "code",
   "execution_count": 38,
   "metadata": {},
   "outputs": [],
   "source": [
    "# удалим дубликаты по столбцу address_name_seats\n",
    "rest_data = rest_data.drop_duplicates(subset = 'address_name_seats')"
   ]
  },
  {
   "cell_type": "code",
   "execution_count": 39,
   "metadata": {},
   "outputs": [],
   "source": [
    "# удалим ненужные столбцы \n",
    "rest_data = rest_data.drop(['id', 'address_name', 'address_name_seats'], axis = 1)\n",
    "\n",
    "# обновим индексы\n",
    "rest_data = rest_data.reset_index(drop = True)\n",
    "\n",
    "# ограничим количество отображаемых строк\n",
    "pd.set_option('display.max_rows', 20)"
   ]
  },
  {
   "cell_type": "code",
   "execution_count": 40,
   "metadata": {
    "scrolled": false
   },
   "outputs": [
    {
     "data": {
      "text/html": [
       "<div>\n",
       "<style scoped>\n",
       "    .dataframe tbody tr th:only-of-type {\n",
       "        vertical-align: middle;\n",
       "    }\n",
       "\n",
       "    .dataframe tbody tr th {\n",
       "        vertical-align: top;\n",
       "    }\n",
       "\n",
       "    .dataframe thead th {\n",
       "        text-align: right;\n",
       "    }\n",
       "</style>\n",
       "<table border=\"1\" class=\"dataframe\">\n",
       "  <thead>\n",
       "    <tr style=\"text-align: right;\">\n",
       "      <th></th>\n",
       "      <th>object_name</th>\n",
       "      <th>is_chain</th>\n",
       "      <th>object_type</th>\n",
       "      <th>address</th>\n",
       "      <th>seats</th>\n",
       "    </tr>\n",
       "  </thead>\n",
       "  <tbody>\n",
       "    <tr>\n",
       "      <td>0</td>\n",
       "      <td>СМЕТАНА</td>\n",
       "      <td>нет</td>\n",
       "      <td>кафе</td>\n",
       "      <td>город Москва, улица Егора Абакумова, дом 9</td>\n",
       "      <td>48</td>\n",
       "    </tr>\n",
       "    <tr>\n",
       "      <td>1</td>\n",
       "      <td>Родник</td>\n",
       "      <td>нет</td>\n",
       "      <td>кафе</td>\n",
       "      <td>город Москва, улица Талалихина, дом 2/1, корпус 1</td>\n",
       "      <td>35</td>\n",
       "    </tr>\n",
       "    <tr>\n",
       "      <td>2</td>\n",
       "      <td>Кафе «Академия»</td>\n",
       "      <td>нет</td>\n",
       "      <td>кафе</td>\n",
       "      <td>город Москва, Абельмановская улица, дом 6</td>\n",
       "      <td>95</td>\n",
       "    </tr>\n",
       "    <tr>\n",
       "      <td>3</td>\n",
       "      <td>ПИЦЦЕТОРИЯ</td>\n",
       "      <td>да</td>\n",
       "      <td>кафе</td>\n",
       "      <td>город Москва, Абрамцевская улица, дом 1</td>\n",
       "      <td>40</td>\n",
       "    </tr>\n",
       "    <tr>\n",
       "      <td>4</td>\n",
       "      <td>Кафе «Вишневая метель»</td>\n",
       "      <td>нет</td>\n",
       "      <td>кафе</td>\n",
       "      <td>город Москва, Абрамцевская улица, дом 9, корпус 1</td>\n",
       "      <td>50</td>\n",
       "    </tr>\n",
       "    <tr>\n",
       "      <td>...</td>\n",
       "      <td>...</td>\n",
       "      <td>...</td>\n",
       "      <td>...</td>\n",
       "      <td>...</td>\n",
       "      <td>...</td>\n",
       "    </tr>\n",
       "    <tr>\n",
       "      <td>15274</td>\n",
       "      <td>Шоколадница</td>\n",
       "      <td>да</td>\n",
       "      <td>кафе</td>\n",
       "      <td>город Москва, 3-й Крутицкий переулок, дом 18</td>\n",
       "      <td>50</td>\n",
       "    </tr>\n",
       "    <tr>\n",
       "      <td>15275</td>\n",
       "      <td>Шоколадница</td>\n",
       "      <td>да</td>\n",
       "      <td>кафе</td>\n",
       "      <td>город Москва, улица Земляной Вал, дом 33</td>\n",
       "      <td>10</td>\n",
       "    </tr>\n",
       "    <tr>\n",
       "      <td>15276</td>\n",
       "      <td>Шоколадница</td>\n",
       "      <td>да</td>\n",
       "      <td>кафе</td>\n",
       "      <td>город Москва, улица Земляной Вал, дом 33</td>\n",
       "      <td>20</td>\n",
       "    </tr>\n",
       "    <tr>\n",
       "      <td>15277</td>\n",
       "      <td>Шоколадница</td>\n",
       "      <td>да</td>\n",
       "      <td>кафе</td>\n",
       "      <td>город Москва, поселение Московский, Киевское ш...</td>\n",
       "      <td>36</td>\n",
       "    </tr>\n",
       "    <tr>\n",
       "      <td>15278</td>\n",
       "      <td>Шоколадница</td>\n",
       "      <td>да</td>\n",
       "      <td>кафе</td>\n",
       "      <td>город Москва, Ходынский бульвар, дом 4</td>\n",
       "      <td>10</td>\n",
       "    </tr>\n",
       "  </tbody>\n",
       "</table>\n",
       "<p>15279 rows × 5 columns</p>\n",
       "</div>"
      ],
      "text/plain": [
       "                  object_name is_chain object_type  \\\n",
       "0                     СМЕТАНА      нет        кафе   \n",
       "1                      Родник      нет        кафе   \n",
       "2             Кафе «Академия»      нет        кафе   \n",
       "3                  ПИЦЦЕТОРИЯ       да        кафе   \n",
       "4      Кафе «Вишневая метель»      нет        кафе   \n",
       "...                       ...      ...         ...   \n",
       "15274             Шоколадница       да        кафе   \n",
       "15275             Шоколадница       да        кафе   \n",
       "15276             Шоколадница       да        кафе   \n",
       "15277             Шоколадница       да        кафе   \n",
       "15278             Шоколадница       да        кафе   \n",
       "\n",
       "                                                 address  seats  \n",
       "0             город Москва, улица Егора Абакумова, дом 9     48  \n",
       "1      город Москва, улица Талалихина, дом 2/1, корпус 1     35  \n",
       "2              город Москва, Абельмановская улица, дом 6     95  \n",
       "3                город Москва, Абрамцевская улица, дом 1     40  \n",
       "4      город Москва, Абрамцевская улица, дом 9, корпус 1     50  \n",
       "...                                                  ...    ...  \n",
       "15274       город Москва, 3-й Крутицкий переулок, дом 18     50  \n",
       "15275           город Москва, улица Земляной Вал, дом 33     10  \n",
       "15276           город Москва, улица Земляной Вал, дом 33     20  \n",
       "15277  город Москва, поселение Московский, Киевское ш...     36  \n",
       "15278             город Москва, Ходынский бульвар, дом 4     10  \n",
       "\n",
       "[15279 rows x 5 columns]"
      ]
     },
     "execution_count": 40,
     "metadata": {},
     "output_type": "execute_result"
    }
   ],
   "source": [
    "rest_data"
   ]
  },
  {
   "cell_type": "markdown",
   "metadata": {},
   "source": [
    "<a id=\"2\"></a>\n",
    "## 2. Исследовательский анализ данных  [*(Оглавление)*](#contents)"
   ]
  },
  {
   "cell_type": "markdown",
   "metadata": {},
   "source": [
    "<a id=\"2.1\"></a>\n",
    "### 2.1 Количество посадочных мест и типы заведений  [*(Оглавление)*](#contents)\n",
    "Рассмотрим более подробно ситуацию на рынке заведений общественного питания, а именно:\n",
    "- соотношение типов заведений общественного питания;\n",
    "- соотношение сетевых и несетевых заведений;\n",
    "- характерные черты сетевых заведений; \n",
    "- среднее количество посадочных мест для разных типов."
   ]
  },
  {
   "cell_type": "code",
   "execution_count": 41,
   "metadata": {},
   "outputs": [],
   "source": [
    "# сгруппируем все заведения по типу и вычислим их количество\n",
    "rest_type_count = rest_data.groupby('object_type')['object_name'].count().reset_index()\n",
    "rest_type_count.columns = ['type', 'number']"
   ]
  },
  {
   "cell_type": "code",
   "execution_count": 42,
   "metadata": {},
   "outputs": [],
   "source": [
    "# сгруппируем все заведения по наличию сети и вычислим их количество\n",
    "rest_chain_count = rest_data.groupby('is_chain')['object_name'].count().reset_index()\n",
    "rest_chain_count.columns = ['type', 'number']"
   ]
  },
  {
   "cell_type": "markdown",
   "metadata": {},
   "source": [
    "Большинство заведений (по количеству) составляют кафе, столовые, рестораны и заведения быстрого питания. Для большинства заведений характерно несетевое распространение."
   ]
  },
  {
   "cell_type": "markdown",
   "metadata": {},
   "source": [
    "---"
   ]
  },
  {
   "cell_type": "markdown",
   "metadata": {},
   "source": [
    "Рассмотрим количество сетевых и несетевых заведений разных типов."
   ]
  },
  {
   "cell_type": "code",
   "execution_count": 43,
   "metadata": {},
   "outputs": [
    {
     "data": {
      "text/html": [
       "<div>\n",
       "<style scoped>\n",
       "    .dataframe tbody tr th:only-of-type {\n",
       "        vertical-align: middle;\n",
       "    }\n",
       "\n",
       "    .dataframe tbody tr th {\n",
       "        vertical-align: top;\n",
       "    }\n",
       "\n",
       "    .dataframe thead th {\n",
       "        text-align: right;\n",
       "    }\n",
       "</style>\n",
       "<table border=\"1\" class=\"dataframe\">\n",
       "  <thead>\n",
       "    <tr style=\"text-align: right;\">\n",
       "      <th></th>\n",
       "      <th>type</th>\n",
       "      <th>chain</th>\n",
       "      <th>no_chain</th>\n",
       "      <th>rate</th>\n",
       "    </tr>\n",
       "  </thead>\n",
       "  <tbody>\n",
       "    <tr>\n",
       "      <td>8</td>\n",
       "      <td>фастфуд</td>\n",
       "      <td>788</td>\n",
       "      <td>1110</td>\n",
       "      <td>41.5</td>\n",
       "    </tr>\n",
       "    <tr>\n",
       "      <td>5</td>\n",
       "      <td>кулинария</td>\n",
       "      <td>78</td>\n",
       "      <td>195</td>\n",
       "      <td>28.6</td>\n",
       "    </tr>\n",
       "    <tr>\n",
       "      <td>6</td>\n",
       "      <td>ресторан</td>\n",
       "      <td>543</td>\n",
       "      <td>1738</td>\n",
       "      <td>23.8</td>\n",
       "    </tr>\n",
       "    <tr>\n",
       "      <td>3</td>\n",
       "      <td>кафе</td>\n",
       "      <td>1396</td>\n",
       "      <td>4672</td>\n",
       "      <td>23.0</td>\n",
       "    </tr>\n",
       "    <tr>\n",
       "      <td>2</td>\n",
       "      <td>закусочная</td>\n",
       "      <td>56</td>\n",
       "      <td>292</td>\n",
       "      <td>16.1</td>\n",
       "    </tr>\n",
       "    <tr>\n",
       "      <td>4</td>\n",
       "      <td>кафетерий</td>\n",
       "      <td>52</td>\n",
       "      <td>343</td>\n",
       "      <td>13.2</td>\n",
       "    </tr>\n",
       "    <tr>\n",
       "      <td>0</td>\n",
       "      <td>бар</td>\n",
       "      <td>37</td>\n",
       "      <td>818</td>\n",
       "      <td>4.3</td>\n",
       "    </tr>\n",
       "    <tr>\n",
       "      <td>1</td>\n",
       "      <td>буфет</td>\n",
       "      <td>11</td>\n",
       "      <td>566</td>\n",
       "      <td>1.9</td>\n",
       "    </tr>\n",
       "    <tr>\n",
       "      <td>7</td>\n",
       "      <td>столовая</td>\n",
       "      <td>3</td>\n",
       "      <td>2581</td>\n",
       "      <td>0.1</td>\n",
       "    </tr>\n",
       "  </tbody>\n",
       "</table>\n",
       "</div>"
      ],
      "text/plain": [
       "         type  chain  no_chain  rate\n",
       "8     фастфуд    788      1110  41.5\n",
       "5   кулинария     78       195  28.6\n",
       "6    ресторан    543      1738  23.8\n",
       "3        кафе   1396      4672  23.0\n",
       "2  закусочная     56       292  16.1\n",
       "4   кафетерий     52       343  13.2\n",
       "0         бар     37       818   4.3\n",
       "1       буфет     11       566   1.9\n",
       "7    столовая      3      2581   0.1"
      ]
     },
     "execution_count": 43,
     "metadata": {},
     "output_type": "execute_result"
    }
   ],
   "source": [
    "# вычислим количество заведений с группировкой по типу и наличию сети\n",
    "rest_pivot = rest_data.pivot_table(index='object_type', \n",
    "                                   columns='is_chain', \n",
    "                                   values='object_name', \n",
    "                                   aggfunc='count')\n",
    "\n",
    "rest_pivot = rest_pivot.reset_index()\n",
    "rest_pivot.columns = ['type', 'chain', 'no_chain']\n",
    "\n",
    "# вычислим отношение количества сетевых заведений к общему количеству заведений каждого типа\n",
    "rest_pivot['rate'] = (rest_pivot['chain']*100/ (rest_pivot['no_chain'] + rest_pivot['chain'])).round(1)\n",
    "rest_pivot = rest_pivot.sort_values('rate', ascending = False)\n",
    "rest_pivot"
   ]
  },
  {
   "cell_type": "markdown",
   "metadata": {},
   "source": [
    "Сетевое распространение наиболее характерно для заведений быстрого обслуживания."
   ]
  },
  {
   "cell_type": "markdown",
   "metadata": {},
   "source": [
    "---"
   ]
  },
  {
   "cell_type": "markdown",
   "metadata": {},
   "source": [
    "Рассмотрим подробнее сетевые заведения."
   ]
  },
  {
   "cell_type": "code",
   "execution_count": 44,
   "metadata": {},
   "outputs": [
    {
     "data": {
      "text/html": [
       "<div>\n",
       "<style scoped>\n",
       "    .dataframe tbody tr th:only-of-type {\n",
       "        vertical-align: middle;\n",
       "    }\n",
       "\n",
       "    .dataframe tbody tr th {\n",
       "        vertical-align: top;\n",
       "    }\n",
       "\n",
       "    .dataframe thead th {\n",
       "        text-align: right;\n",
       "    }\n",
       "</style>\n",
       "<table border=\"1\" class=\"dataframe\">\n",
       "  <thead>\n",
       "    <tr style=\"text-align: right;\">\n",
       "      <th></th>\n",
       "      <th>object_name</th>\n",
       "      <th>is_chain</th>\n",
       "      <th>object_type</th>\n",
       "      <th>address</th>\n",
       "      <th>seats</th>\n",
       "    </tr>\n",
       "  </thead>\n",
       "  <tbody>\n",
       "    <tr>\n",
       "      <td>3</td>\n",
       "      <td>ПИЦЦЕТОРИЯ</td>\n",
       "      <td>да</td>\n",
       "      <td>кафе</td>\n",
       "      <td>город Москва, Абрамцевская улица, дом 1</td>\n",
       "      <td>40</td>\n",
       "    </tr>\n",
       "    <tr>\n",
       "      <td>6</td>\n",
       "      <td>Брусника</td>\n",
       "      <td>да</td>\n",
       "      <td>кафе</td>\n",
       "      <td>город Москва, переулок Сивцев Вражек, дом 6/2</td>\n",
       "      <td>10</td>\n",
       "    </tr>\n",
       "    <tr>\n",
       "      <td>13</td>\n",
       "      <td>Алло Пицца</td>\n",
       "      <td>да</td>\n",
       "      <td>кафе</td>\n",
       "      <td>город Москва, улица Авиаторов, дом 14</td>\n",
       "      <td>32</td>\n",
       "    </tr>\n",
       "    <tr>\n",
       "      <td>16</td>\n",
       "      <td>Суши Wok</td>\n",
       "      <td>да</td>\n",
       "      <td>фастфуд</td>\n",
       "      <td>город Москва, Азовская улица, дом 3</td>\n",
       "      <td>7</td>\n",
       "    </tr>\n",
       "    <tr>\n",
       "      <td>18</td>\n",
       "      <td>Тануки</td>\n",
       "      <td>да</td>\n",
       "      <td>ресторан</td>\n",
       "      <td>город Москва, Большая Академическая улица, дом 65</td>\n",
       "      <td>160</td>\n",
       "    </tr>\n",
       "  </tbody>\n",
       "</table>\n",
       "</div>"
      ],
      "text/plain": [
       "   object_name is_chain object_type  \\\n",
       "3   ПИЦЦЕТОРИЯ       да        кафе   \n",
       "6     Брусника       да        кафе   \n",
       "13  Алло Пицца       да        кафе   \n",
       "16    Суши Wok       да     фастфуд   \n",
       "18      Тануки       да    ресторан   \n",
       "\n",
       "                                              address  seats  \n",
       "3             город Москва, Абрамцевская улица, дом 1     40  \n",
       "6       город Москва, переулок Сивцев Вражек, дом 6/2     10  \n",
       "13              город Москва, улица Авиаторов, дом 14     32  \n",
       "16                город Москва, Азовская улица, дом 3      7  \n",
       "18  город Москва, Большая Академическая улица, дом 65    160  "
      ]
     },
     "execution_count": 44,
     "metadata": {},
     "output_type": "execute_result"
    }
   ],
   "source": [
    "rest_data[rest_data['is_chain'] == 'да'].head()"
   ]
  },
  {
   "cell_type": "code",
   "execution_count": 45,
   "metadata": {},
   "outputs": [],
   "source": [
    "# pd.set_option('display.max_rows', None)"
   ]
  },
  {
   "cell_type": "code",
   "execution_count": 46,
   "metadata": {},
   "outputs": [
    {
     "data": {
      "text/plain": [
       "724"
      ]
     },
     "execution_count": 46,
     "metadata": {},
     "output_type": "execute_result"
    }
   ],
   "source": [
    "# количество наименований сетевых заведений\n",
    "len(rest_data[rest_data['is_chain'] == 'да']['object_name'].value_counts())"
   ]
  },
  {
   "cell_type": "code",
   "execution_count": 47,
   "metadata": {},
   "outputs": [],
   "source": [
    "# from IPython.display import display, HTML\n",
    "# \n",
    "# # display(HTML(data=\"\"\"\n",
    "# <style>\n",
    "    # div#notebook-container    { width: 95%; }\n",
    "    # div#menubar-container     { width: 65%; }\n",
    "    # div#maintoolbar-container { width: 99%; }\n",
    "# </style>\n",
    "# \"\"\"))\n",
    "# \n",
    "# div.scrollable {\n",
    "    # width: 100%;\n",
    "    # height: 100%;\n",
    "    # margin: 0;\n",
    "    # padding: 0;\n",
    "    # overflow: auto;\n",
    "# }\n",
    "# HTML :\n",
    "# \n",
    "# <td><div class=scrollable>\n",
    "    # Some content with a scrollbar if it's too big for the cell\n",
    "# </div></td>"
   ]
  },
  {
   "cell_type": "code",
   "execution_count": 48,
   "metadata": {},
   "outputs": [],
   "source": [
    "# from IPython.display import display, HTML\n",
    "# js = \"<script>$('.output_scroll').removeClass('output_scroll')</script>\"\n",
    "# display(HTML(js))"
   ]
  },
  {
   "cell_type": "markdown",
   "metadata": {},
   "source": [
    "Обработаем наименования сетей с помощью регулярных выражений."
   ]
  },
  {
   "cell_type": "code",
   "execution_count": 49,
   "metadata": {},
   "outputs": [],
   "source": [
    "from IPython.display import display, HTML\n",
    "\n",
    "# display(HTML(\"<script>$('div.cell.selected').children('div.output_wrapper').height(50);</script>\"))\n",
    "\n",
    "# display(HTML(\"<script>$('div.cell.selected').next().height(1000);</script>\"))"
   ]
  },
  {
   "cell_type": "code",
   "execution_count": 50,
   "metadata": {},
   "outputs": [],
   "source": [
   {
     "data": {
      "text/html": [
          div.scrollable {
              width: 100%;
              height: 100%;
              margin: 0;
              padding: 0;
              overflow: auto;
          }
          <td><div class=scrollable>
              "# переведем все символы в названиях заведений в нижний регистр\n",
              "rest_data.loc[rest_data.loc[:,'is_chain'] == 'да', 'object_name'] = \\\n",
              "rest_data.apply(lambda x: x['object_name'].lower(), axis = 1)\n",
              "\n",
              "# удалим из названия кавычки\n",
              "rest_data.loc[rest_data.loc[:,'is_chain'] == 'да', 'object_name'] = \\\n",
              "rest_data.apply(lambda x: re.sub('[«»\"\"]', '', x['object_name']), axis = 1)\n",
              "\n",
              "# удалим из названия общие для заведений слова\n",
              "rest_data.loc[rest_data.loc[:,'is_chain'] == 'да', 'object_name'] = \\\n",
              "rest_data.apply(lambda x: re.sub('кафе', '', x['object_name']), axis = 1)\n",
              "\n",
              "rest_data.loc[rest_data.loc[:,'is_chain'] == 'да', 'object_name'] = \\\n",
              "rest_data.apply(lambda x: re.sub('ресторан', '', x['object_name']), axis = 1)\n",
              "\n",
              "rest_data.loc[rest_data.loc[:,'is_chain'] == 'да', 'object_name'] = \\\n",
              "rest_data.apply(lambda x: re.sub('кофейня', '', x['object_name']), axis = 1)\n",
              "\n",
              "rest_data.loc[rest_data.loc[:,'is_chain'] == 'да', 'object_name'] = \\\n",
              "rest_data.apply(lambda x: re.sub('закусочная', '', x['object_name']), axis = 1)\n",
              "\n",
              "rest_data.loc[rest_data.loc[:,'is_chain'] == 'да', 'object_name'] = \\\n",
              "rest_data.apply(lambda x: re.sub('пиццерия', '', x['object_name']), axis = 1)\n",
              "\n",
              "rest_data.loc[rest_data.loc[:,'is_chain'] == 'да', 'object_name'] = \\\n",
              "rest_data.apply(lambda x: re.sub('быстрого питания', '', x['object_name']), axis = 1)\n",
              "\n",
              "rest_data.loc[rest_data.loc[:,'is_chain'] == 'да', 'object_name'] = \\\n",
              "rest_data.apply(lambda x: re.sub('предприятие быстрого обслуживания', '', x['object_name']), axis = 1)\n",
              "\n",
              "# удалим из названия дефис\n",
              "rest_data.loc[rest_data.loc[:,'is_chain'] == 'да', 'object_name'] = \\\n",
              "rest_data.apply(lambda x: re.sub('[-]', ' ', x['object_name']), axis = 1)\n",
              "\n",
              "# удалим пробел в начале строки\n",
              "rest_data.loc[rest_data.loc[:,'is_chain'] == 'да', 'object_name'] = \\\n",
              "rest_data.apply(lambda x: re.sub('^ +', '', x['object_name']), axis = 1)\n",
              "\n",
              "# удалим лишние пробелы\n",
              "rest_data.loc[rest_data.loc[:,'is_chain'] == 'да', 'object_name'] = \\\n",
              "rest_data.apply(lambda x: re.sub(' +', ' ', x['object_name']), axis = 1)"
          </div></td>
   ]
  },
  {
   "cell_type": "code",
   "execution_count": 51,
   "metadata": {},
   "outputs": [
    {
     "data": {
      "text/plain": [
       "427"
      ]
     },
     "execution_count": 51,
     "metadata": {},
     "output_type": "execute_result"
    }
   ],
   "source": [
    "# количество наименований сетевых заведений после операций с регулярными выражениями\n",
    "len(rest_data[rest_data['is_chain'] == 'да']['object_name'].value_counts())"
   ]
  },
  {
   "cell_type": "code",
   "execution_count": 52,
   "metadata": {},
   "outputs": [],
   "source": [
    "# исправим повторяющиеся названия\n",
    "rest_data.loc[((rest_data.loc[:,'is_chain'] == 'да') & \n",
    "((rest_data.loc[:,'object_name'] == 'старбакс') | (rest_data.loc[:,'object_name'] == 'starbucks coffee') |\n",
    " (rest_data.loc[:,'object_name'] == 'starbucks кофе') |(rest_data.loc[:,'object_name'] == 'starbucks старбакс') |\n",
    " (rest_data.loc[:,'object_name'] == 'starbucks, старбакс кофе') |(rest_data.loc[:,'object_name'] == 'старбакс starbucks') |\n",
    " (rest_data.loc[:,'object_name'] == 'старбакс starbucks') |(rest_data.loc[:,'object_name'] == 'старбакс кофе') \n",
    ")), 'object_name'] = 'starbucks'\n",
    "\n",
    "rest_data.loc[((rest_data.loc[:,'is_chain'] == 'да') & \n",
    " ((rest_data.loc[:,'object_name'] == 'сабвей')|(rest_data.loc[:,'object_name'] == 'сабвей subway')\n",
    ")), 'object_name'] = 'subway'\n",
    "\n",
    "rest_data.loc[((rest_data.loc[:,'is_chain'] == 'да') & \n",
    "((rest_data.loc[:,'object_name'] == 'суши вок')| \n",
    " (rest_data.loc[:,'object_name'] == 'бар суши wok') | (rest_data.loc[:,'object_name'] == 'сеть магазинов суши wok')\n",
    ")), 'object_name'] = 'суши wok'\n",
    "\n",
    "rest_data.loc[((rest_data.loc[:,'is_chain'] == 'да') & \n",
    "((rest_data.loc[:,'object_name'] == 'кулинарная лавка братьев караваевых') |\n",
    "(rest_data.loc[:,'object_name'] == 'кулинарная лавка братьев караваевых братья караваевы')|\n",
    "(rest_data.loc[:,'object_name'] == 'братья караваевых') \n",
    ")), 'object_name'] = 'братья караваевы'\n",
    "\n",
    "rest_data.loc[((rest_data.loc[:,'is_chain'] == 'да') & \n",
    "((rest_data.loc[:,'object_name'] == 'ростикс kfc') | (rest_data.loc[:,'object_name'] == 'пбо kfc') |\n",
    " (rest_data.loc[:,'object_name'] == 'пбо kfc покрышкина') | (rest_data.loc[:,'object_name'] == 'kfc волгоградский') \n",
    ")), 'object_name'] = 'kfc'\n",
    "\n",
    "rest_data.loc[((rest_data.loc[:,'is_chain'] == 'да') & \n",
    "((rest_data.loc[:,'object_name'] == 'бургер кинг burger king') | (rest_data.loc[:,'object_name'] == '') \n",
    ")), 'object_name'] = 'бургер кинг'\n",
    "\n",
    "rest_data.loc[((rest_data.loc[:,'is_chain'] == 'да') & \n",
    "((rest_data.loc[:,'object_name'] == 'prime прайм стар') | (rest_data.loc[:,'object_name'] == 'prime (прайм стар)') | \n",
    " (rest_data.loc[:,'object_name'] == 'prime (prime star прайм стар)') |\n",
    " (rest_data.loc[:,'object_name'] == 'prime прайм стар прайм')|(rest_data.loc[:,'object_name'] == 'prime star прайм стар')| \n",
    " (rest_data.loc[:,'object_name'] == 'prime прайм стар прайм') | (rest_data.loc[:,'object_name'] == 'праймстар')| \n",
    " (rest_data.loc[:,'object_name'] == 'прайм стар') | (rest_data.loc[:,'object_name'] == 'прайм прайм стар')\n",
    ")), 'object_name'] = 'прайм стар'\n",
    "\n",
    "rest_data.loc[((rest_data.loc[:,'is_chain'] == 'да') & ((rest_data.loc[:,'object_name'] == 'dunkin donuts') \n",
    ")), 'object_name'] = 'данкин донатс'\n",
    "\n",
    "rest_data.loc[((rest_data.loc[:,'is_chain'] == 'да') & ((rest_data.loc[:,'object_name'] == 'москва макдоналдс') \n",
    ")), 'object_name'] = 'макдоналдс'\n",
    "\n",
    "rest_data.loc[((rest_data.loc[:,'is_chain'] == 'да') & \n",
    "((rest_data.loc[:,'object_name'] == 'кофе хаус,экспресс') | \n",
    " (rest_data.loc[:,'object_name'] == 'кофе хаус. экспрессо и капучино бар') \n",
    ")), 'object_name'] = 'кофе хаус'\n",
    "\n",
    "rest_data.loc[((rest_data.loc[:,'is_chain'] == 'да') & \n",
    "((rest_data.loc[:,'object_name'] == 'точка продажи готовой еды милти') |\n",
    "(rest_data.loc[:,'object_name'] == 'магазин готовой еды милти') | (rest_data.loc[:,'object_name'] == 'готовые блюда милти')\n",
    ")), 'object_name'] = 'милти'\n",
    "\n",
    "rest_data.loc[((rest_data.loc[:,'is_chain'] == 'да') & ((rest_data.loc[:,'object_name'] == 'burger club') \n",
    ")), 'object_name'] = 'бургер клаб'\n",
    "\n",
    "rest_data.loc[((rest_data.loc[:,'is_chain'] == 'да') & ((rest_data.loc[:,'object_name'] == 'нияма. пицца пи')  \n",
    ")), 'object_name'] = 'нияма пицца пи'\n",
    "\n",
    "rest_data.loc[((rest_data.loc[:,'is_chain'] == 'да') & ((rest_data.loc[:,'object_name'] == 'travelers coffe') \n",
    ")), 'object_name'] = 'travelers coffee'\n",
    "\n",
    "rest_data.loc[((rest_data.loc[:,'is_chain'] == 'да') & \n",
    "((rest_data.loc[:,'object_name'] == 'tutti frutti frozen yogurt')| \n",
    "  (rest_data.loc[:,'object_name'] == 'мороженного tutti frutti')   \n",
    ")), 'object_name'] = 'tutti frutti'\n",
    "\n",
    "rest_data.loc[((rest_data.loc[:,'is_chain'] == 'да') & ((rest_data.loc[:,'object_name'] == 'upside down') \n",
    ")), 'object_name'] = 'upside down cake'\n",
    "\n",
    "rest_data.loc[((rest_data.loc[:,'is_chain'] == 'да') & \n",
    "((rest_data.loc[:,'object_name'] == 'vanwok ванвок') | (rest_data.loc[:,'object_name'] == 'van wok ванвок') \n",
    ")), 'object_name'] = 'ванвок'"
   ]
  }
 ],
 "metadata": {
  "kernelspec": {
   "display_name": "Python 3",
   "language": "python",
   "name": "python3"
  },
  "language_info": {
   "codemirror_mode": {
    "name": "ipython",
    "version": 3
   },
   "file_extension": ".py",
   "mimetype": "text/x-python",
   "name": "python",
   "nbconvert_exporter": "python",
   "pygments_lexer": "ipython3",
   "version": "3.7.4"
  },
  "toc": {
   "base_numbering": 1,
   "nav_menu": {},
   "number_sections": false,
   "sideBar": true,
   "skip_h1_title": false,
   "title_cell": "Table of Contents",
   "title_sidebar": "Contents",
   "toc_cell": false,
   "toc_position": {
    "height": "calc(100% - 180px)",
    "left": "10px",
    "top": "150px",
    "width": "363.391px"
   },
   "toc_section_display": true,
   "toc_window_display": true
  }
 },
 "nbformat": 4,
 "nbformat_minor": 2
}
