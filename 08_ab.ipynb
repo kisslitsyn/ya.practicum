{
 "cells": [
  {
   "cell_type": "markdown",
   "metadata": {},
   "source": [
    "<div style=\"border:solid orange 3px; padding: 16px\">  \n",
    "    <font size=\"4\">  \n",
    "        <p style=\"text-align: center;\">\n",
    "            <b> 8. Принятие решений в бизнесе на основе данных. Анализ результатов A/B-теста </b>\n",
    "        </p> \n",
    "    </font>\n",
    "</div>"
   ]
  },
  {
   "cell_type": "markdown",
   "metadata": {},
   "source": [
    "<a id=\"contents\"></a>\n",
    "## Оглавление:\n",
    "0. [Описание проекта](#0)\n",
    "1. [Приоритизация гипотез](#1)\n",
    "2. [Анализ результатов А/B-теста](#2)\n",
    "    1. [2.1 Предобработка таблицы заказов](#2.1)\n",
    "    1. [2.2 Предобработка таблицы посещений](#2.2)   \n",
    "    1. [2.3 Расчет выручки](#2.3) \n",
    "    1. [2.4 Расчет конверсии](#2.4) \n",
    "    1. [2.5 Определение аномальных значений](#2.5)\n",
    "    1. [2.6 Расчет статистической значимости различий по \"сырым\" данным](#2.6) \n",
    "    1. [2.7 Расчет статистической значимости различий по \"очищенным\" данным](#2.7)  \n",
    "3. [Выводы](#3)"
   ]
  },
  {
   "cell_type": "markdown",
   "metadata": {},
   "source": [
    " <a id=\"0\"></a>\n",
    "## 0. Описание проекта\n",
    "Данные - результат А/B-теста, информация о совершенных в интернет-магазине заказах с разделением на две группы. Также есть таблица с параметрами гипотез (охват, влияние на пользователей, уверенность в оценке параметров, затраты ресурсов),\n",
    "\n",
    "Необходимо приоритизировать гипотезы по фреймворку ICE и RICE, а затем провести анализ результатов A/B-теста и сделать вывод о его успешности."
   ]
  },
  {
   "cell_type": "markdown",
   "metadata": {},
   "source": [
    "<a id=\"1\"></a> \n",
    "## 1. Приоритизация гипотез [*(Оглавление)*](#contents)\n",
    "Выберем наиболее важные гипотезы, используя два фреймворка. "
   ]
  },
  {
   "cell_type": "code",
   "execution_count": 1,
   "metadata": {},
   "outputs": [],
   "source": [
    "import pandas as pd\n",
    "import matplotlib.pyplot as plt\n",
    "import seaborn as sns\n",
    "import numpy as np\n",
    "import scipy.stats as stats\n",
    "\n",
    "path = 'C:/Users/pavel/Desktop/da/projects/datasets/'"
   ]
  },
  {
   "cell_type": "code",
   "execution_count": 2,
   "metadata": {},
   "outputs": [
    {
     "data": {
      "text/html": [
       "<style  type=\"text/css\" >\n",
       "    #T_da82662c_51c5_11eb_adf2_28d244000f41row0_col0 {\n",
       "            width:  690px;\n",
       "            text-align:  left;\n",
       "        }    #T_da82662c_51c5_11eb_adf2_28d244000f41row1_col0 {\n",
       "            width:  690px;\n",
       "            text-align:  left;\n",
       "        }    #T_da82662c_51c5_11eb_adf2_28d244000f41row2_col0 {\n",
       "            width:  690px;\n",
       "            text-align:  left;\n",
       "        }    #T_da82662c_51c5_11eb_adf2_28d244000f41row3_col0 {\n",
       "            width:  690px;\n",
       "            text-align:  left;\n",
       "        }    #T_da82662c_51c5_11eb_adf2_28d244000f41row4_col0 {\n",
       "            width:  690px;\n",
       "            text-align:  left;\n",
       "        }    #T_da82662c_51c5_11eb_adf2_28d244000f41row5_col0 {\n",
       "            width:  690px;\n",
       "            text-align:  left;\n",
       "        }    #T_da82662c_51c5_11eb_adf2_28d244000f41row6_col0 {\n",
       "            width:  690px;\n",
       "            text-align:  left;\n",
       "        }    #T_da82662c_51c5_11eb_adf2_28d244000f41row7_col0 {\n",
       "            width:  690px;\n",
       "            text-align:  left;\n",
       "        }    #T_da82662c_51c5_11eb_adf2_28d244000f41row8_col0 {\n",
       "            width:  690px;\n",
       "            text-align:  left;\n",
       "        }</style><table id=\"T_da82662c_51c5_11eb_adf2_28d244000f41\" ><thead>    <tr>        <th class=\"blank level0\" ></th>        <th class=\"col_heading level0 col0\" >Hypothesis</th>        <th class=\"col_heading level0 col1\" >Reach</th>        <th class=\"col_heading level0 col2\" >Impact</th>        <th class=\"col_heading level0 col3\" >Confidence</th>        <th class=\"col_heading level0 col4\" >Efforts</th>    </tr></thead><tbody>\n",
       "                <tr>\n",
       "                        <th id=\"T_da82662c_51c5_11eb_adf2_28d244000f41level0_row0\" class=\"row_heading level0 row0\" >0</th>\n",
       "                        <td id=\"T_da82662c_51c5_11eb_adf2_28d244000f41row0_col0\" class=\"data row0 col0\" >Добавить два новых канала привлечения трафика, что позволит привлекать на 30% больше пользователей</td>\n",
       "                        <td id=\"T_da82662c_51c5_11eb_adf2_28d244000f41row0_col1\" class=\"data row0 col1\" >3</td>\n",
       "                        <td id=\"T_da82662c_51c5_11eb_adf2_28d244000f41row0_col2\" class=\"data row0 col2\" >10</td>\n",
       "                        <td id=\"T_da82662c_51c5_11eb_adf2_28d244000f41row0_col3\" class=\"data row0 col3\" >8</td>\n",
       "                        <td id=\"T_da82662c_51c5_11eb_adf2_28d244000f41row0_col4\" class=\"data row0 col4\" >6</td>\n",
       "            </tr>\n",
       "            <tr>\n",
       "                        <th id=\"T_da82662c_51c5_11eb_adf2_28d244000f41level0_row1\" class=\"row_heading level0 row1\" >1</th>\n",
       "                        <td id=\"T_da82662c_51c5_11eb_adf2_28d244000f41row1_col0\" class=\"data row1 col0\" >Запустить собственную службу доставки, что сократит срок доставки заказов</td>\n",
       "                        <td id=\"T_da82662c_51c5_11eb_adf2_28d244000f41row1_col1\" class=\"data row1 col1\" >2</td>\n",
       "                        <td id=\"T_da82662c_51c5_11eb_adf2_28d244000f41row1_col2\" class=\"data row1 col2\" >5</td>\n",
       "                        <td id=\"T_da82662c_51c5_11eb_adf2_28d244000f41row1_col3\" class=\"data row1 col3\" >4</td>\n",
       "                        <td id=\"T_da82662c_51c5_11eb_adf2_28d244000f41row1_col4\" class=\"data row1 col4\" >10</td>\n",
       "            </tr>\n",
       "            <tr>\n",
       "                        <th id=\"T_da82662c_51c5_11eb_adf2_28d244000f41level0_row2\" class=\"row_heading level0 row2\" >2</th>\n",
       "                        <td id=\"T_da82662c_51c5_11eb_adf2_28d244000f41row2_col0\" class=\"data row2 col0\" >Добавить блоки рекомендаций товаров на сайт интернет магазина, чтобы повысить конверсию и средний чек заказа</td>\n",
       "                        <td id=\"T_da82662c_51c5_11eb_adf2_28d244000f41row2_col1\" class=\"data row2 col1\" >8</td>\n",
       "                        <td id=\"T_da82662c_51c5_11eb_adf2_28d244000f41row2_col2\" class=\"data row2 col2\" >3</td>\n",
       "                        <td id=\"T_da82662c_51c5_11eb_adf2_28d244000f41row2_col3\" class=\"data row2 col3\" >7</td>\n",
       "                        <td id=\"T_da82662c_51c5_11eb_adf2_28d244000f41row2_col4\" class=\"data row2 col4\" >3</td>\n",
       "            </tr>\n",
       "            <tr>\n",
       "                        <th id=\"T_da82662c_51c5_11eb_adf2_28d244000f41level0_row3\" class=\"row_heading level0 row3\" >3</th>\n",
       "                        <td id=\"T_da82662c_51c5_11eb_adf2_28d244000f41row3_col0\" class=\"data row3 col0\" >Изменить структура категорий, что увеличит конверсию, т.к. пользователи быстрее найдут нужный товар</td>\n",
       "                        <td id=\"T_da82662c_51c5_11eb_adf2_28d244000f41row3_col1\" class=\"data row3 col1\" >8</td>\n",
       "                        <td id=\"T_da82662c_51c5_11eb_adf2_28d244000f41row3_col2\" class=\"data row3 col2\" >3</td>\n",
       "                        <td id=\"T_da82662c_51c5_11eb_adf2_28d244000f41row3_col3\" class=\"data row3 col3\" >3</td>\n",
       "                        <td id=\"T_da82662c_51c5_11eb_adf2_28d244000f41row3_col4\" class=\"data row3 col4\" >8</td>\n",
       "            </tr>\n",
       "            <tr>\n",
       "                        <th id=\"T_da82662c_51c5_11eb_adf2_28d244000f41level0_row4\" class=\"row_heading level0 row4\" >4</th>\n",
       "                        <td id=\"T_da82662c_51c5_11eb_adf2_28d244000f41row4_col0\" class=\"data row4 col0\" >Изменить цвет фона главной страницы, чтобы увеличить вовлеченность пользователей</td>\n",
       "                        <td id=\"T_da82662c_51c5_11eb_adf2_28d244000f41row4_col1\" class=\"data row4 col1\" >3</td>\n",
       "                        <td id=\"T_da82662c_51c5_11eb_adf2_28d244000f41row4_col2\" class=\"data row4 col2\" >1</td>\n",
       "                        <td id=\"T_da82662c_51c5_11eb_adf2_28d244000f41row4_col3\" class=\"data row4 col3\" >1</td>\n",
       "                        <td id=\"T_da82662c_51c5_11eb_adf2_28d244000f41row4_col4\" class=\"data row4 col4\" >1</td>\n",
       "            </tr>\n",
       "            <tr>\n",
       "                        <th id=\"T_da82662c_51c5_11eb_adf2_28d244000f41level0_row5\" class=\"row_heading level0 row5\" >5</th>\n",
       "                        <td id=\"T_da82662c_51c5_11eb_adf2_28d244000f41row5_col0\" class=\"data row5 col0\" >Добавить страницу отзывов клиентов о магазине, что позволит увеличить количество заказов</td>\n",
       "                        <td id=\"T_da82662c_51c5_11eb_adf2_28d244000f41row5_col1\" class=\"data row5 col1\" >3</td>\n",
       "                        <td id=\"T_da82662c_51c5_11eb_adf2_28d244000f41row5_col2\" class=\"data row5 col2\" >2</td>\n",
       "                        <td id=\"T_da82662c_51c5_11eb_adf2_28d244000f41row5_col3\" class=\"data row5 col3\" >2</td>\n",
       "                        <td id=\"T_da82662c_51c5_11eb_adf2_28d244000f41row5_col4\" class=\"data row5 col4\" >3</td>\n",
       "            </tr>\n",
       "            <tr>\n",
       "                        <th id=\"T_da82662c_51c5_11eb_adf2_28d244000f41level0_row6\" class=\"row_heading level0 row6\" >6</th>\n",
       "                        <td id=\"T_da82662c_51c5_11eb_adf2_28d244000f41row6_col0\" class=\"data row6 col0\" >Показать на главной странице баннеры с актуальными акциями и распродажами, чтобы увеличить конверсию</td>\n",
       "                        <td id=\"T_da82662c_51c5_11eb_adf2_28d244000f41row6_col1\" class=\"data row6 col1\" >5</td>\n",
       "                        <td id=\"T_da82662c_51c5_11eb_adf2_28d244000f41row6_col2\" class=\"data row6 col2\" >3</td>\n",
       "                        <td id=\"T_da82662c_51c5_11eb_adf2_28d244000f41row6_col3\" class=\"data row6 col3\" >8</td>\n",
       "                        <td id=\"T_da82662c_51c5_11eb_adf2_28d244000f41row6_col4\" class=\"data row6 col4\" >3</td>\n",
       "            </tr>\n",
       "            <tr>\n",
       "                        <th id=\"T_da82662c_51c5_11eb_adf2_28d244000f41level0_row7\" class=\"row_heading level0 row7\" >7</th>\n",
       "                        <td id=\"T_da82662c_51c5_11eb_adf2_28d244000f41row7_col0\" class=\"data row7 col0\" >Добавить форму подписки на все основные страницы, чтобы собрать базу клиентов для email-рассылок</td>\n",
       "                        <td id=\"T_da82662c_51c5_11eb_adf2_28d244000f41row7_col1\" class=\"data row7 col1\" >10</td>\n",
       "                        <td id=\"T_da82662c_51c5_11eb_adf2_28d244000f41row7_col2\" class=\"data row7 col2\" >7</td>\n",
       "                        <td id=\"T_da82662c_51c5_11eb_adf2_28d244000f41row7_col3\" class=\"data row7 col3\" >8</td>\n",
       "                        <td id=\"T_da82662c_51c5_11eb_adf2_28d244000f41row7_col4\" class=\"data row7 col4\" >5</td>\n",
       "            </tr>\n",
       "            <tr>\n",
       "                        <th id=\"T_da82662c_51c5_11eb_adf2_28d244000f41level0_row8\" class=\"row_heading level0 row8\" >8</th>\n",
       "                        <td id=\"T_da82662c_51c5_11eb_adf2_28d244000f41row8_col0\" class=\"data row8 col0\" >Запустить акцию, дающую скидку на товар в день рождения</td>\n",
       "                        <td id=\"T_da82662c_51c5_11eb_adf2_28d244000f41row8_col1\" class=\"data row8 col1\" >1</td>\n",
       "                        <td id=\"T_da82662c_51c5_11eb_adf2_28d244000f41row8_col2\" class=\"data row8 col2\" >9</td>\n",
       "                        <td id=\"T_da82662c_51c5_11eb_adf2_28d244000f41row8_col3\" class=\"data row8 col3\" >9</td>\n",
       "                        <td id=\"T_da82662c_51c5_11eb_adf2_28d244000f41row8_col4\" class=\"data row8 col4\" >5</td>\n",
       "            </tr>\n",
       "    </tbody></table>"
      ],
      "text/plain": [
       "<pandas.io.formats.style.Styler at 0x1b75be89708>"
      ]
     },
     "execution_count": 2,
     "metadata": {},
     "output_type": "execute_result"
    }
   ],
   "source": [
    "# таблица hypothesis (9 гипотез по увеличению выручки интернет-магазина с указанными параметрами)\n",
    "hypothesis = pd.read_csv(path + '08_ab_hypothesis.csv')\n",
    "hypothesis.style.set_properties(subset = 'Hypothesis', \n",
    "                                **{'width' : '690px', 'text-align' : 'left'})"
   ]
  },
  {
   "cell_type": "markdown",
   "metadata": {},
   "source": [
    "Описание данных:\n",
    "- `Hypothesis` — краткое описание гипотезы;\n",
    "- `Reach` — охват пользователей по 10-балльной шкале;\n",
    "- `Impact` — влияние на пользователей по 10-балльной шкале;\n",
    "- `Confidence` — уверенность в оценке других параметров гипотезы по 10-балльной шкале;\n",
    "- `Efforts` — затраты ресурсов на проверку гипотезы по 10-балльной шкале. Чем больше значение `Efforts`, тем дороже проверка гипотезы."
   ]
  },
  {
   "cell_type": "code",
   "execution_count": 3,
   "metadata": {
    "scrolled": true
   },
   "outputs": [
    {
     "name": "stdout",
     "output_type": "stream",
     "text": [
      "<class 'pandas.core.frame.DataFrame'>\n",
      "RangeIndex: 9 entries, 0 to 8\n",
      "Data columns (total 5 columns):\n",
      "Hypothesis    9 non-null object\n",
      "Reach         9 non-null int64\n",
      "Impact        9 non-null int64\n",
      "Confidence    9 non-null int64\n",
      "Efforts       9 non-null int64\n",
      "dtypes: int64(4), object(1)\n",
      "memory usage: 488.0+ bytes\n"
     ]
    }
   ],
   "source": [
    "hypothesis.info()"
   ]
  },
  {
   "cell_type": "markdown",
   "metadata": {},
   "source": [
    "Таблица с характеристиками гипотез не содержит дубликатов и пропусков, а данные приведены к нужным типам."
   ]
  },
  {
   "cell_type": "code",
   "execution_count": 4,
   "metadata": {},
   "outputs": [
    {
     "data": {
      "text/html": [
       "<style  type=\"text/css\" >\n",
       "    #T_da8aca7a_51c5_11eb_8d69_28d244000f41row0_col0 {\n",
       "            width:  690px;\n",
       "            text-align:  left;\n",
       "        }    #T_da8aca7a_51c5_11eb_8d69_28d244000f41row1_col0 {\n",
       "            width:  690px;\n",
       "            text-align:  left;\n",
       "        }    #T_da8aca7a_51c5_11eb_8d69_28d244000f41row2_col0 {\n",
       "            width:  690px;\n",
       "            text-align:  left;\n",
       "        }    #T_da8aca7a_51c5_11eb_8d69_28d244000f41row3_col0 {\n",
       "            width:  690px;\n",
       "            text-align:  left;\n",
       "        }    #T_da8aca7a_51c5_11eb_8d69_28d244000f41row4_col0 {\n",
       "            width:  690px;\n",
       "            text-align:  left;\n",
       "        }    #T_da8aca7a_51c5_11eb_8d69_28d244000f41row5_col0 {\n",
       "            width:  690px;\n",
       "            text-align:  left;\n",
       "        }    #T_da8aca7a_51c5_11eb_8d69_28d244000f41row6_col0 {\n",
       "            width:  690px;\n",
       "            text-align:  left;\n",
       "        }    #T_da8aca7a_51c5_11eb_8d69_28d244000f41row7_col0 {\n",
       "            width:  690px;\n",
       "            text-align:  left;\n",
       "        }    #T_da8aca7a_51c5_11eb_8d69_28d244000f41row8_col0 {\n",
       "            width:  690px;\n",
       "            text-align:  left;\n",
       "        }</style><table id=\"T_da8aca7a_51c5_11eb_8d69_28d244000f41\" ><thead>    <tr>        <th class=\"blank level0\" ></th>        <th class=\"col_heading level0 col0\" >Hypothesis</th>        <th class=\"col_heading level0 col1\" >ICE</th>        <th class=\"col_heading level0 col2\" >n_ICE</th>    </tr></thead><tbody>\n",
       "                <tr>\n",
       "                        <th id=\"T_da8aca7a_51c5_11eb_8d69_28d244000f41level0_row0\" class=\"row_heading level0 row0\" >8</th>\n",
       "                        <td id=\"T_da8aca7a_51c5_11eb_8d69_28d244000f41row0_col0\" class=\"data row0 col0\" >Запустить акцию, дающую скидку на товар в день рождения</td>\n",
       "                        <td id=\"T_da8aca7a_51c5_11eb_8d69_28d244000f41row0_col1\" class=\"data row0 col1\" >16.2</td>\n",
       "                        <td id=\"T_da8aca7a_51c5_11eb_8d69_28d244000f41row0_col2\" class=\"data row0 col2\" >1</td>\n",
       "            </tr>\n",
       "            <tr>\n",
       "                        <th id=\"T_da8aca7a_51c5_11eb_8d69_28d244000f41level0_row1\" class=\"row_heading level0 row1\" >0</th>\n",
       "                        <td id=\"T_da8aca7a_51c5_11eb_8d69_28d244000f41row1_col0\" class=\"data row1 col0\" >Добавить два новых канала привлечения трафика, что позволит привлекать на 30% больше пользователей</td>\n",
       "                        <td id=\"T_da8aca7a_51c5_11eb_8d69_28d244000f41row1_col1\" class=\"data row1 col1\" >13.33</td>\n",
       "                        <td id=\"T_da8aca7a_51c5_11eb_8d69_28d244000f41row1_col2\" class=\"data row1 col2\" >2</td>\n",
       "            </tr>\n",
       "            <tr>\n",
       "                        <th id=\"T_da8aca7a_51c5_11eb_8d69_28d244000f41level0_row2\" class=\"row_heading level0 row2\" >7</th>\n",
       "                        <td id=\"T_da8aca7a_51c5_11eb_8d69_28d244000f41row2_col0\" class=\"data row2 col0\" >Добавить форму подписки на все основные страницы, чтобы собрать базу клиентов для email-рассылок</td>\n",
       "                        <td id=\"T_da8aca7a_51c5_11eb_8d69_28d244000f41row2_col1\" class=\"data row2 col1\" >11.2</td>\n",
       "                        <td id=\"T_da8aca7a_51c5_11eb_8d69_28d244000f41row2_col2\" class=\"data row2 col2\" >3</td>\n",
       "            </tr>\n",
       "            <tr>\n",
       "                        <th id=\"T_da8aca7a_51c5_11eb_8d69_28d244000f41level0_row3\" class=\"row_heading level0 row3\" >6</th>\n",
       "                        <td id=\"T_da8aca7a_51c5_11eb_8d69_28d244000f41row3_col0\" class=\"data row3 col0\" >Показать на главной странице баннеры с актуальными акциями и распродажами, чтобы увеличить конверсию</td>\n",
       "                        <td id=\"T_da8aca7a_51c5_11eb_8d69_28d244000f41row3_col1\" class=\"data row3 col1\" >8</td>\n",
       "                        <td id=\"T_da8aca7a_51c5_11eb_8d69_28d244000f41row3_col2\" class=\"data row3 col2\" >4</td>\n",
       "            </tr>\n",
       "            <tr>\n",
       "                        <th id=\"T_da8aca7a_51c5_11eb_8d69_28d244000f41level0_row4\" class=\"row_heading level0 row4\" >2</th>\n",
       "                        <td id=\"T_da8aca7a_51c5_11eb_8d69_28d244000f41row4_col0\" class=\"data row4 col0\" >Добавить блоки рекомендаций товаров на сайт интернет магазина, чтобы повысить конверсию и средний чек заказа</td>\n",
       "                        <td id=\"T_da8aca7a_51c5_11eb_8d69_28d244000f41row4_col1\" class=\"data row4 col1\" >7</td>\n",
       "                        <td id=\"T_da8aca7a_51c5_11eb_8d69_28d244000f41row4_col2\" class=\"data row4 col2\" >5</td>\n",
       "            </tr>\n",
       "            <tr>\n",
       "                        <th id=\"T_da8aca7a_51c5_11eb_8d69_28d244000f41level0_row5\" class=\"row_heading level0 row5\" >1</th>\n",
       "                        <td id=\"T_da8aca7a_51c5_11eb_8d69_28d244000f41row5_col0\" class=\"data row5 col0\" >Запустить собственную службу доставки, что сократит срок доставки заказов</td>\n",
       "                        <td id=\"T_da8aca7a_51c5_11eb_8d69_28d244000f41row5_col1\" class=\"data row5 col1\" >2</td>\n",
       "                        <td id=\"T_da8aca7a_51c5_11eb_8d69_28d244000f41row5_col2\" class=\"data row5 col2\" >6</td>\n",
       "            </tr>\n",
       "            <tr>\n",
       "                        <th id=\"T_da8aca7a_51c5_11eb_8d69_28d244000f41level0_row6\" class=\"row_heading level0 row6\" >5</th>\n",
       "                        <td id=\"T_da8aca7a_51c5_11eb_8d69_28d244000f41row6_col0\" class=\"data row6 col0\" >Добавить страницу отзывов клиентов о магазине, что позволит увеличить количество заказов</td>\n",
       "                        <td id=\"T_da8aca7a_51c5_11eb_8d69_28d244000f41row6_col1\" class=\"data row6 col1\" >1.33</td>\n",
       "                        <td id=\"T_da8aca7a_51c5_11eb_8d69_28d244000f41row6_col2\" class=\"data row6 col2\" >7</td>\n",
       "            </tr>\n",
       "            <tr>\n",
       "                        <th id=\"T_da8aca7a_51c5_11eb_8d69_28d244000f41level0_row7\" class=\"row_heading level0 row7\" >3</th>\n",
       "                        <td id=\"T_da8aca7a_51c5_11eb_8d69_28d244000f41row7_col0\" class=\"data row7 col0\" >Изменить структура категорий, что увеличит конверсию, т.к. пользователи быстрее найдут нужный товар</td>\n",
       "                        <td id=\"T_da8aca7a_51c5_11eb_8d69_28d244000f41row7_col1\" class=\"data row7 col1\" >1.12</td>\n",
       "                        <td id=\"T_da8aca7a_51c5_11eb_8d69_28d244000f41row7_col2\" class=\"data row7 col2\" >8</td>\n",
       "            </tr>\n",
       "            <tr>\n",
       "                        <th id=\"T_da8aca7a_51c5_11eb_8d69_28d244000f41level0_row8\" class=\"row_heading level0 row8\" >4</th>\n",
       "                        <td id=\"T_da8aca7a_51c5_11eb_8d69_28d244000f41row8_col0\" class=\"data row8 col0\" >Изменить цвет фона главной страницы, чтобы увеличить вовлеченность пользователей</td>\n",
       "                        <td id=\"T_da8aca7a_51c5_11eb_8d69_28d244000f41row8_col1\" class=\"data row8 col1\" >1</td>\n",
       "                        <td id=\"T_da8aca7a_51c5_11eb_8d69_28d244000f41row8_col2\" class=\"data row8 col2\" >9</td>\n",
       "            </tr>\n",
       "    </tbody></table>"
      ],
      "text/plain": [
       "<pandas.io.formats.style.Styler at 0x1b75d410348>"
      ]
     },
     "execution_count": 4,
     "metadata": {},
     "output_type": "execute_result"
    }
   ],
   "source": [
    "# рассчитаем значение приоритета по фреймворку ICE (Impact - Confidence - Efforts)\n",
    "hypothesis['ICE'] = ((hypothesis['Impact'] * hypothesis['Confidence'])/ hypothesis['Efforts']).round(2)\n",
    "\n",
    "# добавим порядковый номер гипотезы при сортировке по уменьшению приоритета, фреймворк ICE\n",
    "hypothesis['n_ICE'] = hypothesis['ICE'].rank(method = 'first', ascending = False)\n",
    "\n",
    "# отсортируем по убыванию приоритета, фреймворк ICE                                                            \n",
    "hypothesis[['Hypothesis', 'ICE', 'n_ICE']]\\\n",
    "        .sort_values(by = 'ICE', ascending = False)\\\n",
    "        .style.set_properties(subset = 'Hypothesis', \n",
    "                              **{'width' : '690px', 'text-align' : 'left'})"
   ]
  },
  {
   "cell_type": "code",
   "execution_count": 5,
   "metadata": {},
   "outputs": [
    {
     "data": {
      "text/html": [
       "<style  type=\"text/css\" >\n",
       "    #T_da92e0f6_51c5_11eb_b078_28d244000f41row0_col0 {\n",
       "            width:  690px;\n",
       "            text-align:  left;\n",
       "        }    #T_da92e0f6_51c5_11eb_b078_28d244000f41row0_col2 {\n",
       "            background-color:  #08306b;\n",
       "            color:  #f1f1f1;\n",
       "        }    #T_da92e0f6_51c5_11eb_b078_28d244000f41row0_col3 {\n",
       "            background-color:  #2171b5;\n",
       "            color:  #f1f1f1;\n",
       "        }    #T_da92e0f6_51c5_11eb_b078_28d244000f41row1_col0 {\n",
       "            width:  690px;\n",
       "            text-align:  left;\n",
       "        }    #T_da92e0f6_51c5_11eb_b078_28d244000f41row1_col2 {\n",
       "            background-color:  #08519c;\n",
       "            color:  #f1f1f1;\n",
       "        }    #T_da92e0f6_51c5_11eb_b078_28d244000f41row1_col3 {\n",
       "            background-color:  #6caed6;\n",
       "            color:  #000000;\n",
       "        }    #T_da92e0f6_51c5_11eb_b078_28d244000f41row2_col0 {\n",
       "            width:  690px;\n",
       "            text-align:  left;\n",
       "        }    #T_da92e0f6_51c5_11eb_b078_28d244000f41row2_col2 {\n",
       "            background-color:  #2171b5;\n",
       "            color:  #f1f1f1;\n",
       "        }    #T_da92e0f6_51c5_11eb_b078_28d244000f41row2_col3 {\n",
       "            background-color:  #08519c;\n",
       "            color:  #f1f1f1;\n",
       "        }    #T_da92e0f6_51c5_11eb_b078_28d244000f41row3_col0 {\n",
       "            width:  690px;\n",
       "            text-align:  left;\n",
       "        }    #T_da92e0f6_51c5_11eb_b078_28d244000f41row3_col2 {\n",
       "            background-color:  #4292c6;\n",
       "            color:  #000000;\n",
       "        }    #T_da92e0f6_51c5_11eb_b078_28d244000f41row3_col3 {\n",
       "            background-color:  #4292c6;\n",
       "            color:  #000000;\n",
       "        }    #T_da92e0f6_51c5_11eb_b078_28d244000f41row4_col0 {\n",
       "            width:  690px;\n",
       "            text-align:  left;\n",
       "        }    #T_da92e0f6_51c5_11eb_b078_28d244000f41row4_col2 {\n",
       "            background-color:  #6caed6;\n",
       "            color:  #000000;\n",
       "        }    #T_da92e0f6_51c5_11eb_b078_28d244000f41row4_col3 {\n",
       "            background-color:  #08306b;\n",
       "            color:  #f1f1f1;\n",
       "        }    #T_da92e0f6_51c5_11eb_b078_28d244000f41row5_col0 {\n",
       "            width:  690px;\n",
       "            text-align:  left;\n",
       "        }    #T_da92e0f6_51c5_11eb_b078_28d244000f41row5_col2 {\n",
       "            background-color:  #9fcae1;\n",
       "            color:  #000000;\n",
       "        }    #T_da92e0f6_51c5_11eb_b078_28d244000f41row5_col3 {\n",
       "            background-color:  #dfebf7;\n",
       "            color:  #000000;\n",
       "        }    #T_da92e0f6_51c5_11eb_b078_28d244000f41row6_col0 {\n",
       "            width:  690px;\n",
       "            text-align:  left;\n",
       "        }    #T_da92e0f6_51c5_11eb_b078_28d244000f41row6_col2 {\n",
       "            background-color:  #c7dbef;\n",
       "            color:  #000000;\n",
       "        }    #T_da92e0f6_51c5_11eb_b078_28d244000f41row6_col3 {\n",
       "            background-color:  #9fcae1;\n",
       "            color:  #000000;\n",
       "        }    #T_da92e0f6_51c5_11eb_b078_28d244000f41row7_col0 {\n",
       "            width:  690px;\n",
       "            text-align:  left;\n",
       "        }    #T_da92e0f6_51c5_11eb_b078_28d244000f41row7_col2 {\n",
       "            background-color:  #dfebf7;\n",
       "            color:  #000000;\n",
       "        }    #T_da92e0f6_51c5_11eb_b078_28d244000f41row7_col3 {\n",
       "            background-color:  #c7dbef;\n",
       "            color:  #000000;\n",
       "        }    #T_da92e0f6_51c5_11eb_b078_28d244000f41row8_col0 {\n",
       "            width:  690px;\n",
       "            text-align:  left;\n",
       "        }    #T_da92e0f6_51c5_11eb_b078_28d244000f41row8_col2 {\n",
       "            background-color:  #f7fbff;\n",
       "            color:  #000000;\n",
       "        }    #T_da92e0f6_51c5_11eb_b078_28d244000f41row8_col3 {\n",
       "            background-color:  #f7fbff;\n",
       "            color:  #000000;\n",
       "        }</style><table id=\"T_da92e0f6_51c5_11eb_b078_28d244000f41\" ><thead>    <tr>        <th class=\"blank level0\" ></th>        <th class=\"col_heading level0 col0\" >Hypothesis</th>        <th class=\"col_heading level0 col1\" >RICE</th>        <th class=\"col_heading level0 col2\" >n_RICE</th>        <th class=\"col_heading level0 col3\" >n_ICE</th>        <th class=\"col_heading level0 col4\" >ICE</th>    </tr></thead><tbody>\n",
       "                <tr>\n",
       "                        <th id=\"T_da92e0f6_51c5_11eb_b078_28d244000f41level0_row0\" class=\"row_heading level0 row0\" >7</th>\n",
       "                        <td id=\"T_da92e0f6_51c5_11eb_b078_28d244000f41row0_col0\" class=\"data row0 col0\" >Добавить форму подписки на все основные страницы, чтобы собрать базу клиентов для email-рассылок</td>\n",
       "                        <td id=\"T_da92e0f6_51c5_11eb_b078_28d244000f41row0_col1\" class=\"data row0 col1\" >112</td>\n",
       "                        <td id=\"T_da92e0f6_51c5_11eb_b078_28d244000f41row0_col2\" class=\"data row0 col2\" >1</td>\n",
       "                        <td id=\"T_da92e0f6_51c5_11eb_b078_28d244000f41row0_col3\" class=\"data row0 col3\" >3</td>\n",
       "                        <td id=\"T_da92e0f6_51c5_11eb_b078_28d244000f41row0_col4\" class=\"data row0 col4\" >11.2</td>\n",
       "            </tr>\n",
       "            <tr>\n",
       "                        <th id=\"T_da92e0f6_51c5_11eb_b078_28d244000f41level0_row1\" class=\"row_heading level0 row1\" >2</th>\n",
       "                        <td id=\"T_da92e0f6_51c5_11eb_b078_28d244000f41row1_col0\" class=\"data row1 col0\" >Добавить блоки рекомендаций товаров на сайт интернет магазина, чтобы повысить конверсию и средний чек заказа</td>\n",
       "                        <td id=\"T_da92e0f6_51c5_11eb_b078_28d244000f41row1_col1\" class=\"data row1 col1\" >56</td>\n",
       "                        <td id=\"T_da92e0f6_51c5_11eb_b078_28d244000f41row1_col2\" class=\"data row1 col2\" >2</td>\n",
       "                        <td id=\"T_da92e0f6_51c5_11eb_b078_28d244000f41row1_col3\" class=\"data row1 col3\" >5</td>\n",
       "                        <td id=\"T_da92e0f6_51c5_11eb_b078_28d244000f41row1_col4\" class=\"data row1 col4\" >7</td>\n",
       "            </tr>\n",
       "            <tr>\n",
       "                        <th id=\"T_da92e0f6_51c5_11eb_b078_28d244000f41level0_row2\" class=\"row_heading level0 row2\" >0</th>\n",
       "                        <td id=\"T_da92e0f6_51c5_11eb_b078_28d244000f41row2_col0\" class=\"data row2 col0\" >Добавить два новых канала привлечения трафика, что позволит привлекать на 30% больше пользователей</td>\n",
       "                        <td id=\"T_da92e0f6_51c5_11eb_b078_28d244000f41row2_col1\" class=\"data row2 col1\" >40</td>\n",
       "                        <td id=\"T_da92e0f6_51c5_11eb_b078_28d244000f41row2_col2\" class=\"data row2 col2\" >3</td>\n",
       "                        <td id=\"T_da92e0f6_51c5_11eb_b078_28d244000f41row2_col3\" class=\"data row2 col3\" >2</td>\n",
       "                        <td id=\"T_da92e0f6_51c5_11eb_b078_28d244000f41row2_col4\" class=\"data row2 col4\" >13.33</td>\n",
       "            </tr>\n",
       "            <tr>\n",
       "                        <th id=\"T_da92e0f6_51c5_11eb_b078_28d244000f41level0_row3\" class=\"row_heading level0 row3\" >6</th>\n",
       "                        <td id=\"T_da92e0f6_51c5_11eb_b078_28d244000f41row3_col0\" class=\"data row3 col0\" >Показать на главной странице баннеры с актуальными акциями и распродажами, чтобы увеличить конверсию</td>\n",
       "                        <td id=\"T_da92e0f6_51c5_11eb_b078_28d244000f41row3_col1\" class=\"data row3 col1\" >40</td>\n",
       "                        <td id=\"T_da92e0f6_51c5_11eb_b078_28d244000f41row3_col2\" class=\"data row3 col2\" >4</td>\n",
       "                        <td id=\"T_da92e0f6_51c5_11eb_b078_28d244000f41row3_col3\" class=\"data row3 col3\" >4</td>\n",
       "                        <td id=\"T_da92e0f6_51c5_11eb_b078_28d244000f41row3_col4\" class=\"data row3 col4\" >8</td>\n",
       "            </tr>\n",
       "            <tr>\n",
       "                        <th id=\"T_da92e0f6_51c5_11eb_b078_28d244000f41level0_row4\" class=\"row_heading level0 row4\" >8</th>\n",
       "                        <td id=\"T_da92e0f6_51c5_11eb_b078_28d244000f41row4_col0\" class=\"data row4 col0\" >Запустить акцию, дающую скидку на товар в день рождения</td>\n",
       "                        <td id=\"T_da92e0f6_51c5_11eb_b078_28d244000f41row4_col1\" class=\"data row4 col1\" >16.2</td>\n",
       "                        <td id=\"T_da92e0f6_51c5_11eb_b078_28d244000f41row4_col2\" class=\"data row4 col2\" >5</td>\n",
       "                        <td id=\"T_da92e0f6_51c5_11eb_b078_28d244000f41row4_col3\" class=\"data row4 col3\" >1</td>\n",
       "                        <td id=\"T_da92e0f6_51c5_11eb_b078_28d244000f41row4_col4\" class=\"data row4 col4\" >16.2</td>\n",
       "            </tr>\n",
       "            <tr>\n",
       "                        <th id=\"T_da92e0f6_51c5_11eb_b078_28d244000f41level0_row5\" class=\"row_heading level0 row5\" >3</th>\n",
       "                        <td id=\"T_da92e0f6_51c5_11eb_b078_28d244000f41row5_col0\" class=\"data row5 col0\" >Изменить структура категорий, что увеличит конверсию, т.к. пользователи быстрее найдут нужный товар</td>\n",
       "                        <td id=\"T_da92e0f6_51c5_11eb_b078_28d244000f41row5_col1\" class=\"data row5 col1\" >9</td>\n",
       "                        <td id=\"T_da92e0f6_51c5_11eb_b078_28d244000f41row5_col2\" class=\"data row5 col2\" >6</td>\n",
       "                        <td id=\"T_da92e0f6_51c5_11eb_b078_28d244000f41row5_col3\" class=\"data row5 col3\" >8</td>\n",
       "                        <td id=\"T_da92e0f6_51c5_11eb_b078_28d244000f41row5_col4\" class=\"data row5 col4\" >1.12</td>\n",
       "            </tr>\n",
       "            <tr>\n",
       "                        <th id=\"T_da92e0f6_51c5_11eb_b078_28d244000f41level0_row6\" class=\"row_heading level0 row6\" >1</th>\n",
       "                        <td id=\"T_da92e0f6_51c5_11eb_b078_28d244000f41row6_col0\" class=\"data row6 col0\" >Запустить собственную службу доставки, что сократит срок доставки заказов</td>\n",
       "                        <td id=\"T_da92e0f6_51c5_11eb_b078_28d244000f41row6_col1\" class=\"data row6 col1\" >4</td>\n",
       "                        <td id=\"T_da92e0f6_51c5_11eb_b078_28d244000f41row6_col2\" class=\"data row6 col2\" >7</td>\n",
       "                        <td id=\"T_da92e0f6_51c5_11eb_b078_28d244000f41row6_col3\" class=\"data row6 col3\" >6</td>\n",
       "                        <td id=\"T_da92e0f6_51c5_11eb_b078_28d244000f41row6_col4\" class=\"data row6 col4\" >2</td>\n",
       "            </tr>\n",
       "            <tr>\n",
       "                        <th id=\"T_da92e0f6_51c5_11eb_b078_28d244000f41level0_row7\" class=\"row_heading level0 row7\" >5</th>\n",
       "                        <td id=\"T_da92e0f6_51c5_11eb_b078_28d244000f41row7_col0\" class=\"data row7 col0\" >Добавить страницу отзывов клиентов о магазине, что позволит увеличить количество заказов</td>\n",
       "                        <td id=\"T_da92e0f6_51c5_11eb_b078_28d244000f41row7_col1\" class=\"data row7 col1\" >4</td>\n",
       "                        <td id=\"T_da92e0f6_51c5_11eb_b078_28d244000f41row7_col2\" class=\"data row7 col2\" >8</td>\n",
       "                        <td id=\"T_da92e0f6_51c5_11eb_b078_28d244000f41row7_col3\" class=\"data row7 col3\" >7</td>\n",
       "                        <td id=\"T_da92e0f6_51c5_11eb_b078_28d244000f41row7_col4\" class=\"data row7 col4\" >1.33</td>\n",
       "            </tr>\n",
       "            <tr>\n",
       "                        <th id=\"T_da92e0f6_51c5_11eb_b078_28d244000f41level0_row8\" class=\"row_heading level0 row8\" >4</th>\n",
       "                        <td id=\"T_da92e0f6_51c5_11eb_b078_28d244000f41row8_col0\" class=\"data row8 col0\" >Изменить цвет фона главной страницы, чтобы увеличить вовлеченность пользователей</td>\n",
       "                        <td id=\"T_da92e0f6_51c5_11eb_b078_28d244000f41row8_col1\" class=\"data row8 col1\" >3</td>\n",
       "                        <td id=\"T_da92e0f6_51c5_11eb_b078_28d244000f41row8_col2\" class=\"data row8 col2\" >9</td>\n",
       "                        <td id=\"T_da92e0f6_51c5_11eb_b078_28d244000f41row8_col3\" class=\"data row8 col3\" >9</td>\n",
       "                        <td id=\"T_da92e0f6_51c5_11eb_b078_28d244000f41row8_col4\" class=\"data row8 col4\" >1</td>\n",
       "            </tr>\n",
       "    </tbody></table>"
      ],
      "text/plain": [
       "<pandas.io.formats.style.Styler at 0x1b75d4139c8>"
      ]
     },
     "execution_count": 5,
     "metadata": {},
     "output_type": "execute_result"
    }
   ],
   "source": [
    "# рассчитаем значение приоритета по фреймворку RICE (Reach - Impact - Confidence - Efforts)\n",
    "hypothesis['RICE'] = ((hypothesis['Reach'] * hypothesis['Impact'] * hypothesis['Confidence'])/ hypothesis['Efforts'])\\\n",
    "                     .round(2)\n",
    "\n",
    "# добавим порядковый номер гипотезы при сортировке по уменьшению приоритета, фреймворк RICE\n",
    "hypothesis['n_RICE'] = hypothesis['RICE'].rank(method = 'first', ascending = False)\n",
    "\n",
    "# отсортируем по убыванию приоритета, фреймворк RICE                                                            \n",
    "hypothesis[['Hypothesis', 'RICE', 'n_RICE', 'n_ICE', 'ICE']]\\\n",
    "    .sort_values(by = 'RICE', ascending = False)\\\n",
    "    .style.set_properties(subset = 'Hypothesis', \n",
    "                          **{'width' : '690px', 'text-align' : 'left'})\\\n",
    "    .background_gradient(cmap = 'Blues_r', subset = 'n_RICE')\\\n",
    "    .background_gradient(cmap = 'Blues_r', subset = 'n_ICE')"
   ]
  },
  {
   "cell_type": "markdown",
   "metadata": {},
   "source": [
    "При изменении фреймворка с ICE на RICE, более высокий приоритет получили гипотезы 7 и 2 из-за их высокого относительного значения параметра Reach (охват пользователей).\n",
    "\n",
    "Первые 5 гипотез по обоим фреймворкам совпадают."
   ]
  },
  {
   "cell_type": "markdown",
   "metadata": {},
   "source": [
    "<a id=\"2\"></a>\n",
    "## 2. Анализ результатов A/B-теста  [*(Оглавление)*](#contents)"
   ]
  },
  {
   "cell_type": "markdown",
   "metadata": {},
   "source": [
    "<a id=\"2.1\"></a>\n",
    "### 2.1 Предобработка таблицы заказов  [*(Оглавление)*](#contents)"
   ]
  },
  {
   "cell_type": "code",
   "execution_count": 6,
   "metadata": {},
   "outputs": [
    {
     "data": {
      "text/html": [
       "<div>\n",
       "<style scoped>\n",
       "    .dataframe tbody tr th:only-of-type {\n",
       "        vertical-align: middle;\n",
       "    }\n",
       "\n",
       "    .dataframe tbody tr th {\n",
       "        vertical-align: top;\n",
       "    }\n",
       "\n",
       "    .dataframe thead th {\n",
       "        text-align: right;\n",
       "    }\n",
       "</style>\n",
       "<table border=\"1\" class=\"dataframe\">\n",
       "  <thead>\n",
       "    <tr style=\"text-align: right;\">\n",
       "      <th></th>\n",
       "      <th>transactionId</th>\n",
       "      <th>visitorId</th>\n",
       "      <th>date</th>\n",
       "      <th>revenue</th>\n",
       "      <th>group</th>\n",
       "    </tr>\n",
       "  </thead>\n",
       "  <tbody>\n",
       "    <tr>\n",
       "      <td>0</td>\n",
       "      <td>3667963787</td>\n",
       "      <td>3312258926</td>\n",
       "      <td>2019-08-15</td>\n",
       "      <td>1650</td>\n",
       "      <td>B</td>\n",
       "    </tr>\n",
       "    <tr>\n",
       "      <td>1</td>\n",
       "      <td>2804400009</td>\n",
       "      <td>3642806036</td>\n",
       "      <td>2019-08-15</td>\n",
       "      <td>730</td>\n",
       "      <td>B</td>\n",
       "    </tr>\n",
       "    <tr>\n",
       "      <td>2</td>\n",
       "      <td>2961555356</td>\n",
       "      <td>4069496402</td>\n",
       "      <td>2019-08-15</td>\n",
       "      <td>400</td>\n",
       "      <td>A</td>\n",
       "    </tr>\n",
       "    <tr>\n",
       "      <td>3</td>\n",
       "      <td>3797467345</td>\n",
       "      <td>1196621759</td>\n",
       "      <td>2019-08-15</td>\n",
       "      <td>9759</td>\n",
       "      <td>B</td>\n",
       "    </tr>\n",
       "    <tr>\n",
       "      <td>4</td>\n",
       "      <td>2282983706</td>\n",
       "      <td>2322279887</td>\n",
       "      <td>2019-08-15</td>\n",
       "      <td>2308</td>\n",
       "      <td>B</td>\n",
       "    </tr>\n",
       "  </tbody>\n",
       "</table>\n",
       "</div>"
      ],
      "text/plain": [
       "   transactionId   visitorId        date  revenue group\n",
       "0     3667963787  3312258926  2019-08-15     1650     B\n",
       "1     2804400009  3642806036  2019-08-15      730     B\n",
       "2     2961555356  4069496402  2019-08-15      400     A\n",
       "3     3797467345  1196621759  2019-08-15     9759     B\n",
       "4     2282983706  2322279887  2019-08-15     2308     B"
      ]
     },
     "execution_count": 6,
     "metadata": {},
     "output_type": "execute_result"
    }
   ],
   "source": [
    "# таблица orders (информация о заказах)\n",
    "orders = pd.read_csv(path + '08_ab_orders.csv')\n",
    "orders.head()"
   ]
  },
  {
   "cell_type": "markdown",
   "metadata": {},
   "source": [
    "Описание данных:\n",
    "- `transactionId` — идентификатор заказа;\n",
    "- `visitorId` — идентификатор пользователя, совершившего заказ;\n",
    "- `date` — дата совершения заказа;\n",
    "- `revenue` — выручка от заказа;\n",
    "- `group` — группа A/B-теста, в которую попал заказ."
   ]
  },
  {
   "cell_type": "markdown",
   "metadata": {},
   "source": [
    "Проведем предобработку данных."
   ]
  },
  {
   "cell_type": "code",
   "execution_count": 7,
   "metadata": {},
   "outputs": [],
   "source": [
    "# переименуем столбцы\n",
    "orders = orders.rename(columns = {\"transactionId\" : \"transaction_id\", \n",
    "                                  \"visitorId\" : \"visitor_id\"})"
   ]
  },
  {
   "cell_type": "code",
   "execution_count": 8,
   "metadata": {
    "scrolled": true
   },
   "outputs": [
    {
     "name": "stdout",
     "output_type": "stream",
     "text": [
      "<class 'pandas.core.frame.DataFrame'>\n",
      "RangeIndex: 1197 entries, 0 to 1196\n",
      "Data columns (total 5 columns):\n",
      "transaction_id    1197 non-null int64\n",
      "visitor_id        1197 non-null int64\n",
      "date              1197 non-null object\n",
      "revenue           1197 non-null int64\n",
      "group             1197 non-null object\n",
      "dtypes: int64(3), object(2)\n",
      "memory usage: 46.9+ KB\n"
     ]
    }
   ],
   "source": [
    "# выведем общую информацию о таблице\n",
    "orders.info()"
   ]
  },
  {
   "cell_type": "markdown",
   "metadata": {},
   "source": [
    "Пропусков в данных нет."
   ]
  },
  {
   "cell_type": "code",
   "execution_count": 9,
   "metadata": {},
   "outputs": [],
   "source": [
    "# приведем данные о дате заказа к типу даты\n",
    "orders['date'] =  pd.to_datetime(orders['date'], format='%Y-%m-%d')"
   ]
  },
  {
   "cell_type": "code",
   "execution_count": 10,
   "metadata": {},
   "outputs": [
    {
     "data": {
      "text/plain": [
       "0"
      ]
     },
     "execution_count": 10,
     "metadata": {},
     "output_type": "execute_result"
    }
   ],
   "source": [
    "# количество полных дубликатов\n",
    "orders.duplicated().sum()"
   ]
  },
  {
   "cell_type": "markdown",
   "metadata": {},
   "source": [
    "Отсутствуют полные дубликаты."
   ]
  },
  {
   "cell_type": "markdown",
   "metadata": {},
   "source": [
    "Рассмотрим подробнее данные в отдельных столбцах."
   ]
  },
  {
   "cell_type": "code",
   "execution_count": 11,
   "metadata": {},
   "outputs": [
    {
     "data": {
      "text/plain": [
       "0"
      ]
     },
     "execution_count": 11,
     "metadata": {},
     "output_type": "execute_result"
    }
   ],
   "source": [
    "# количество дубликатов в столбце с номером заказа\n",
    "orders['transaction_id'].duplicated().sum()"
   ]
  },
  {
   "cell_type": "markdown",
   "metadata": {},
   "source": [
    "Нет дубликатов в столбце `transaction_id`, все транзакции уникальные."
   ]
  },
  {
   "cell_type": "code",
   "execution_count": 12,
   "metadata": {},
   "outputs": [
    {
     "data": {
      "text/plain": [
       "count                    1197\n",
       "unique                     31\n",
       "top       2019-08-05 00:00:00\n",
       "freq                       48\n",
       "first     2019-08-01 00:00:00\n",
       "last      2019-08-31 00:00:00\n",
       "Name: date, dtype: object"
      ]
     },
     "execution_count": 12,
     "metadata": {},
     "output_type": "execute_result"
    }
   ],
   "source": [
    "# распределение дат заказов\n",
    "orders['date'].describe()"
   ]
  },
  {
   "cell_type": "markdown",
   "metadata": {},
   "source": [
    "В таблице содержится информация о заказах, совершенных с 1 по 31 августа 2019 года."
   ]
  },
  {
   "cell_type": "code",
   "execution_count": 13,
   "metadata": {},
   "outputs": [
    {
     "data": {
      "text/plain": [
       "count       1197.0\n",
       "mean        8348.0\n",
       "std        39191.1\n",
       "min           50.0\n",
       "25%         1220.0\n",
       "50%         2978.0\n",
       "75%         8290.0\n",
       "max      1294500.0\n",
       "Name: revenue, dtype: float64"
      ]
     },
     "execution_count": 13,
     "metadata": {},
     "output_type": "execute_result"
    }
   ],
   "source": [
    "# распределение выручки\n",
    "orders['revenue'].describe().round(1)"
   ]
  },
  {
   "cell_type": "markdown",
   "metadata": {},
   "source": [
    "Отсутствуют отрицательные значения."
   ]
  },
  {
   "cell_type": "code",
   "execution_count": 14,
   "metadata": {},
   "outputs": [
    {
     "data": {
      "text/plain": [
       "B    640\n",
       "A    557\n",
       "Name: group, dtype: int64"
      ]
     },
     "execution_count": 14,
     "metadata": {},
     "output_type": "execute_result"
    }
   ],
   "source": [
    "# уникальные значения групп и количество заказов в этих группах\n",
    "orders['group'].value_counts()"
   ]
  },
  {
   "cell_type": "markdown",
   "metadata": {},
   "source": [
    "Всего 2 группы, как и должно быть в A/B-тесте. Количество заказов в группах отличается на 15%."
   ]
  },
  {
   "cell_type": "markdown",
   "metadata": {},
   "source": [
    "<a id=\"2.2\"></a>\n",
    "### 2.2 Предобработка таблицы посещений  [*(Оглавление)*](#contents)"
   ]
  },
  {
   "cell_type": "code",
   "execution_count": 15,
   "metadata": {},
   "outputs": [
    {
     "data": {
      "text/html": [
       "<div>\n",
       "<style scoped>\n",
       "    .dataframe tbody tr th:only-of-type {\n",
       "        vertical-align: middle;\n",
       "    }\n",
       "\n",
       "    .dataframe tbody tr th {\n",
       "        vertical-align: top;\n",
       "    }\n",
       "\n",
       "    .dataframe thead th {\n",
       "        text-align: right;\n",
       "    }\n",
       "</style>\n",
       "<table border=\"1\" class=\"dataframe\">\n",
       "  <thead>\n",
       "    <tr style=\"text-align: right;\">\n",
       "      <th></th>\n",
       "      <th>date</th>\n",
       "      <th>group</th>\n",
       "      <th>visitors</th>\n",
       "    </tr>\n",
       "  </thead>\n",
       "  <tbody>\n",
       "    <tr>\n",
       "      <td>0</td>\n",
       "      <td>2019-08-01</td>\n",
       "      <td>A</td>\n",
       "      <td>719</td>\n",
       "    </tr>\n",
       "    <tr>\n",
       "      <td>1</td>\n",
       "      <td>2019-08-02</td>\n",
       "      <td>A</td>\n",
       "      <td>619</td>\n",
       "    </tr>\n",
       "    <tr>\n",
       "      <td>2</td>\n",
       "      <td>2019-08-03</td>\n",
       "      <td>A</td>\n",
       "      <td>507</td>\n",
       "    </tr>\n",
       "    <tr>\n",
       "      <td>3</td>\n",
       "      <td>2019-08-04</td>\n",
       "      <td>A</td>\n",
       "      <td>717</td>\n",
       "    </tr>\n",
       "    <tr>\n",
       "      <td>4</td>\n",
       "      <td>2019-08-05</td>\n",
       "      <td>A</td>\n",
       "      <td>756</td>\n",
       "    </tr>\n",
       "  </tbody>\n",
       "</table>\n",
       "</div>"
      ],
      "text/plain": [
       "         date group  visitors\n",
       "0  2019-08-01     A       719\n",
       "1  2019-08-02     A       619\n",
       "2  2019-08-03     A       507\n",
       "3  2019-08-04     A       717\n",
       "4  2019-08-05     A       756"
      ]
     },
     "execution_count": 15,
     "metadata": {},
     "output_type": "execute_result"
    }
   ],
   "source": [
    "# таблица visitors (информация о посещениях)\n",
    "visitors = pd.read_csv(path + '08_ab_visitors.csv')\n",
    "visitors.head()"
   ]
  },
  {
   "cell_type": "markdown",
   "metadata": {},
   "source": [
    "Описание данных:\n",
    "- `date` — дата;\n",
    "- `group` — группа A/B-теста;\n",
    "- `visitors` — количество посетителей в указанную дату в указанной группе A/B-теста"
   ]
  },
  {
   "cell_type": "markdown",
   "metadata": {},
   "source": [
    "Проведем предобработку данных."
   ]
  },
  {
   "cell_type": "code",
   "execution_count": 16,
   "metadata": {
    "scrolled": true
   },
   "outputs": [
    {
     "name": "stdout",
     "output_type": "stream",
     "text": [
      "<class 'pandas.core.frame.DataFrame'>\n",
      "RangeIndex: 62 entries, 0 to 61\n",
      "Data columns (total 3 columns):\n",
      "date        62 non-null object\n",
      "group       62 non-null object\n",
      "visitors    62 non-null int64\n",
      "dtypes: int64(1), object(2)\n",
      "memory usage: 1.6+ KB\n"
     ]
    }
   ],
   "source": [
    "# выведем общую информацию о таблице\n",
    "visitors.info()"
   ]
  },
  {
   "cell_type": "markdown",
   "metadata": {},
   "source": [
    "Пропусков в данных нет."
   ]
  },
  {
   "cell_type": "code",
   "execution_count": 17,
   "metadata": {},
   "outputs": [],
   "source": [
    "# приведем данные о дате посещения к типу даты\n",
    "visitors['date'] =  pd.to_datetime(visitors['date'], format='%Y-%m-%d')"
   ]
  },
  {
   "cell_type": "code",
   "execution_count": 18,
   "metadata": {},
   "outputs": [
    {
     "data": {
      "text/plain": [
       "0"
      ]
     },
     "execution_count": 18,
     "metadata": {},
     "output_type": "execute_result"
    }
   ],
   "source": [
    "# количество дубликатов\n",
    "visitors.duplicated().sum()"
   ]
  },
  {
   "cell_type": "markdown",
   "metadata": {},
   "source": [
    "Отсутствуют полные дубликаты."
   ]
  },
  {
   "cell_type": "markdown",
   "metadata": {},
   "source": [
    "Рассмотрим подробнее данные в отдельных столбцах."
   ]
  },
  {
   "cell_type": "code",
   "execution_count": 19,
   "metadata": {},
   "outputs": [
    {
     "data": {
      "text/plain": [
       "count                      62\n",
       "unique                     31\n",
       "top       2019-08-02 00:00:00\n",
       "freq                        2\n",
       "first     2019-08-01 00:00:00\n",
       "last      2019-08-31 00:00:00\n",
       "Name: date, dtype: object"
      ]
     },
     "execution_count": 19,
     "metadata": {},
     "output_type": "execute_result"
    }
   ],
   "source": [
    "# распределение дат посещений\n",
    "visitors['date'].describe()"
   ]
  },
  {
   "cell_type": "markdown",
   "metadata": {},
   "source": [
    "В таблице содержится информация о посещениях, совершенных с 1 по 31 августа 2019 года. Такой же временной интервал, как и в таблице с заказами."
   ]
  },
  {
   "cell_type": "code",
   "execution_count": 20,
   "metadata": {},
   "outputs": [
    {
     "data": {
      "text/plain": [
       "count     62.0\n",
       "mean     607.3\n",
       "std      114.4\n",
       "min      361.0\n",
       "25%      534.0\n",
       "50%      624.5\n",
       "75%      710.5\n",
       "max      770.0\n",
       "Name: visitors, dtype: float64"
      ]
     },
     "execution_count": 20,
     "metadata": {},
     "output_type": "execute_result"
    }
   ],
   "source": [
    "# распределение количества посетителей\n",
    "visitors['visitors'].describe().round(1)"
   ]
  },
  {
   "cell_type": "markdown",
   "metadata": {},
   "source": [
    "Отсутствуют отрицательные значения."
   ]
  },
  {
   "cell_type": "code",
   "execution_count": 21,
   "metadata": {},
   "outputs": [
    {
     "data": {
      "text/plain": [
       "A    31\n",
       "B    31\n",
       "Name: group, dtype: int64"
      ]
     },
     "execution_count": 21,
     "metadata": {},
     "output_type": "execute_result"
    }
   ],
   "source": [
    "# уникальные значения групп \n",
    "visitors['group'].value_counts()"
   ]
  },
  {
   "cell_type": "markdown",
   "metadata": {},
   "source": [
    "Всего 2 группы, как и должно быть в A/B-тесте. Для обеих групп указано количество посетителей в каждый день."
   ]
  },
  {
   "cell_type": "markdown",
   "metadata": {},
   "source": [
    "<a id=\"2.3\"></a>\n",
    "### 2.3 Расчет выручки   [*(Оглавление)*](#contents)\n",
    "Для каждой группы рассчитаем кумулятивную выручку, кумулятивный средний чек и его относительное изменение. "
   ]
  },
  {
   "cell_type": "code",
   "execution_count": 22,
   "metadata": {},
   "outputs": [],
   "source": [
    "# создадим массив уникальных пар значений дат и групп теста\n",
    "dates_groups = orders[['date','group']].drop_duplicates()"
   ]
  },
  {
   "cell_type": "code",
   "execution_count": 23,
   "metadata": {},
   "outputs": [
    {
     "data": {
      "text/html": [
       "<div>\n",
       "<style scoped>\n",
       "    .dataframe tbody tr th:only-of-type {\n",
       "        vertical-align: middle;\n",
       "    }\n",
       "\n",
       "    .dataframe tbody tr th {\n",
       "        vertical-align: top;\n",
       "    }\n",
       "\n",
       "    .dataframe thead th {\n",
       "        text-align: right;\n",
       "    }\n",
       "</style>\n",
       "<table border=\"1\" class=\"dataframe\">\n",
       "  <thead>\n",
       "    <tr style=\"text-align: right;\">\n",
       "      <th></th>\n",
       "      <th>date</th>\n",
       "      <th>group</th>\n",
       "    </tr>\n",
       "  </thead>\n",
       "  <tbody>\n",
       "    <tr>\n",
       "      <td>0</td>\n",
       "      <td>2019-08-15</td>\n",
       "      <td>B</td>\n",
       "    </tr>\n",
       "    <tr>\n",
       "      <td>2</td>\n",
       "      <td>2019-08-15</td>\n",
       "      <td>A</td>\n",
       "    </tr>\n",
       "    <tr>\n",
       "      <td>45</td>\n",
       "      <td>2019-08-16</td>\n",
       "      <td>A</td>\n",
       "    </tr>\n",
       "  </tbody>\n",
       "</table>\n",
       "</div>"
      ],
      "text/plain": [
       "         date group\n",
       "0  2019-08-15     B\n",
       "2  2019-08-15     A\n",
       "45 2019-08-16     A"
      ]
     },
     "execution_count": 23,
     "metadata": {},
     "output_type": "execute_result"
    }
   ],
   "source": [
    "dates_groups.head(3)"
   ]
  },
  {
   "cell_type": "markdown",
   "metadata": {},
   "source": [
    "Рассчитаем кумулятивные характеристики: сумму выручки, число уникальных заказов, число уникальных пользователей так, чтобы для каждой даты были учтены заказы от начала теста до этой даты."
   ]
  },
  {
   "cell_type": "code",
   "execution_count": 24,
   "metadata": {},
   "outputs": [
    {
     "data": {
      "text/html": [
       "<div>\n",
       "<style scoped>\n",
       "    .dataframe tbody tr th:only-of-type {\n",
       "        vertical-align: middle;\n",
       "    }\n",
       "\n",
       "    .dataframe tbody tr th {\n",
       "        vertical-align: top;\n",
       "    }\n",
       "\n",
       "    .dataframe thead th {\n",
       "        text-align: right;\n",
       "    }\n",
       "</style>\n",
       "<table border=\"1\" class=\"dataframe\">\n",
       "  <thead>\n",
       "    <tr style=\"text-align: right;\">\n",
       "      <th></th>\n",
       "      <th>date</th>\n",
       "      <th>group</th>\n",
       "      <th>transaction_id</th>\n",
       "      <th>visitor_id</th>\n",
       "      <th>revenue</th>\n",
       "    </tr>\n",
       "  </thead>\n",
       "  <tbody>\n",
       "    <tr>\n",
       "      <td>55</td>\n",
       "      <td>2019-08-01</td>\n",
       "      <td>A</td>\n",
       "      <td>24</td>\n",
       "      <td>20</td>\n",
       "      <td>148579</td>\n",
       "    </tr>\n",
       "    <tr>\n",
       "      <td>66</td>\n",
       "      <td>2019-08-01</td>\n",
       "      <td>B</td>\n",
       "      <td>21</td>\n",
       "      <td>20</td>\n",
       "      <td>101217</td>\n",
       "    </tr>\n",
       "    <tr>\n",
       "      <td>175</td>\n",
       "      <td>2019-08-02</td>\n",
       "      <td>A</td>\n",
       "      <td>44</td>\n",
       "      <td>38</td>\n",
       "      <td>242401</td>\n",
       "    </tr>\n",
       "    <tr>\n",
       "      <td>173</td>\n",
       "      <td>2019-08-02</td>\n",
       "      <td>B</td>\n",
       "      <td>45</td>\n",
       "      <td>43</td>\n",
       "      <td>266748</td>\n",
       "    </tr>\n",
       "    <tr>\n",
       "      <td>291</td>\n",
       "      <td>2019-08-03</td>\n",
       "      <td>A</td>\n",
       "      <td>68</td>\n",
       "      <td>62</td>\n",
       "      <td>354874</td>\n",
       "    </tr>\n",
       "  </tbody>\n",
       "</table>\n",
       "</div>"
      ],
      "text/plain": [
       "          date group  transaction_id  visitor_id  revenue\n",
       "55  2019-08-01     A              24          20   148579\n",
       "66  2019-08-01     B              21          20   101217\n",
       "175 2019-08-02     A              44          38   242401\n",
       "173 2019-08-02     B              45          43   266748\n",
       "291 2019-08-03     A              68          62   354874"
      ]
     },
     "execution_count": 24,
     "metadata": {},
     "output_type": "execute_result"
    }
   ],
   "source": [
    "# применим lambda-функцию к каждой строке датасета dates_groups\n",
    "# из таблицы с заказами выберем те, дата которых меньше или равна дате элемента из dates_groups, \n",
    "# а группа теста равна группе из dates_groups\n",
    "orders_aggregated = (dates_groups\n",
    "    .apply(lambda x: orders[np.logical_and(orders['date'] <= x['date'], \n",
    "                                          orders['group'] == x['group'])]\n",
    "    .agg({'date' : 'max', # самая поздняя дата\n",
    "          'group' : 'max', # указание группы\n",
    "          'transaction_id' : pd.Series.nunique, # количество уникальных заказов\n",
    "          'visitor_id' : pd.Series.nunique, # количество уникальных посетителей\n",
    "          'revenue' : 'sum'}), axis=1) # сумма выручки\n",
    "    .sort_values(by=['date', 'group']))  # сортировка по дате и группе\n",
    "\n",
    "orders_aggregated.head()"
   ]
  },
  {
   "cell_type": "markdown",
   "metadata": {},
   "source": [
    "Аналогично получим аггрегированные кумулятивные данные по дням о посещениях."
   ]
  },
  {
   "cell_type": "code",
   "execution_count": 25,
   "metadata": {
    "scrolled": true
   },
   "outputs": [
    {
     "data": {
      "text/html": [
       "<div>\n",
       "<style scoped>\n",
       "    .dataframe tbody tr th:only-of-type {\n",
       "        vertical-align: middle;\n",
       "    }\n",
       "\n",
       "    .dataframe tbody tr th {\n",
       "        vertical-align: top;\n",
       "    }\n",
       "\n",
       "    .dataframe thead th {\n",
       "        text-align: right;\n",
       "    }\n",
       "</style>\n",
       "<table border=\"1\" class=\"dataframe\">\n",
       "  <thead>\n",
       "    <tr style=\"text-align: right;\">\n",
       "      <th></th>\n",
       "      <th>date</th>\n",
       "      <th>group</th>\n",
       "      <th>visitors</th>\n",
       "    </tr>\n",
       "  </thead>\n",
       "  <tbody>\n",
       "    <tr>\n",
       "      <td>55</td>\n",
       "      <td>2019-08-01</td>\n",
       "      <td>A</td>\n",
       "      <td>719</td>\n",
       "    </tr>\n",
       "    <tr>\n",
       "      <td>66</td>\n",
       "      <td>2019-08-01</td>\n",
       "      <td>B</td>\n",
       "      <td>713</td>\n",
       "    </tr>\n",
       "    <tr>\n",
       "      <td>175</td>\n",
       "      <td>2019-08-02</td>\n",
       "      <td>A</td>\n",
       "      <td>1338</td>\n",
       "    </tr>\n",
       "    <tr>\n",
       "      <td>173</td>\n",
       "      <td>2019-08-02</td>\n",
       "      <td>B</td>\n",
       "      <td>1294</td>\n",
       "    </tr>\n",
       "    <tr>\n",
       "      <td>291</td>\n",
       "      <td>2019-08-03</td>\n",
       "      <td>A</td>\n",
       "      <td>1845</td>\n",
       "    </tr>\n",
       "  </tbody>\n",
       "</table>\n",
       "</div>"
      ],
      "text/plain": [
       "          date group  visitors\n",
       "55  2019-08-01     A       719\n",
       "66  2019-08-01     B       713\n",
       "175 2019-08-02     A      1338\n",
       "173 2019-08-02     B      1294\n",
       "291 2019-08-03     A      1845"
      ]
     },
     "execution_count": 25,
     "metadata": {},
     "output_type": "execute_result"
    }
   ],
   "source": [
    "visitors_aggregated = (dates_groups\n",
    "    .apply(lambda x: visitors[np.logical_and(visitors['date'] <= x['date'], \n",
    "                                             visitors['group'] == x['group'])]\n",
    "    .agg({'date' : 'max', # самая поздняя дата\n",
    "          'group' : 'max', # указание группы\n",
    "          'visitors' : 'sum'}), axis=1) # сумма посетителей\n",
    "    .sort_values(by=['date', 'group']))  # сортировка по дате и группе\n",
    "\n",
    "visitors_aggregated.head()"
   ]
  },
  {
   "cell_type": "markdown",
   "metadata": {},
   "source": [
    "Объединим кумулятивные данные о заказах и посещениях по дате и группе."
   ]
  },
  {
   "cell_type": "code",
   "execution_count": 26,
   "metadata": {},
   "outputs": [
    {
     "data": {
      "text/html": [
       "<div>\n",
       "<style scoped>\n",
       "    .dataframe tbody tr th:only-of-type {\n",
       "        vertical-align: middle;\n",
       "    }\n",
       "\n",
       "    .dataframe tbody tr th {\n",
       "        vertical-align: top;\n",
       "    }\n",
       "\n",
       "    .dataframe thead th {\n",
       "        text-align: right;\n",
       "    }\n",
       "</style>\n",
       "<table border=\"1\" class=\"dataframe\">\n",
       "  <thead>\n",
       "    <tr style=\"text-align: right;\">\n",
       "      <th></th>\n",
       "      <th>date</th>\n",
       "      <th>group</th>\n",
       "      <th>orders</th>\n",
       "      <th>buyers</th>\n",
       "      <th>revenue</th>\n",
       "      <th>visitors</th>\n",
       "    </tr>\n",
       "  </thead>\n",
       "  <tbody>\n",
       "    <tr>\n",
       "      <td>0</td>\n",
       "      <td>2019-08-01</td>\n",
       "      <td>A</td>\n",
       "      <td>24</td>\n",
       "      <td>20</td>\n",
       "      <td>148579</td>\n",
       "      <td>719</td>\n",
       "    </tr>\n",
       "    <tr>\n",
       "      <td>1</td>\n",
       "      <td>2019-08-01</td>\n",
       "      <td>B</td>\n",
       "      <td>21</td>\n",
       "      <td>20</td>\n",
       "      <td>101217</td>\n",
       "      <td>713</td>\n",
       "    </tr>\n",
       "    <tr>\n",
       "      <td>2</td>\n",
       "      <td>2019-08-02</td>\n",
       "      <td>A</td>\n",
       "      <td>44</td>\n",
       "      <td>38</td>\n",
       "      <td>242401</td>\n",
       "      <td>1338</td>\n",
       "    </tr>\n",
       "    <tr>\n",
       "      <td>3</td>\n",
       "      <td>2019-08-02</td>\n",
       "      <td>B</td>\n",
       "      <td>45</td>\n",
       "      <td>43</td>\n",
       "      <td>266748</td>\n",
       "      <td>1294</td>\n",
       "    </tr>\n",
       "    <tr>\n",
       "      <td>4</td>\n",
       "      <td>2019-08-03</td>\n",
       "      <td>A</td>\n",
       "      <td>68</td>\n",
       "      <td>62</td>\n",
       "      <td>354874</td>\n",
       "      <td>1845</td>\n",
       "    </tr>\n",
       "  </tbody>\n",
       "</table>\n",
       "</div>"
      ],
      "text/plain": [
       "        date group  orders  buyers  revenue  visitors\n",
       "0 2019-08-01     A      24      20   148579       719\n",
       "1 2019-08-01     B      21      20   101217       713\n",
       "2 2019-08-02     A      44      38   242401      1338\n",
       "3 2019-08-02     B      45      43   266748      1294\n",
       "4 2019-08-03     A      68      62   354874      1845"
      ]
     },
     "execution_count": 26,
     "metadata": {},
     "output_type": "execute_result"
    }
   ],
   "source": [
    "cummulative_data = orders_aggregated.merge(visitors_aggregated, \n",
    "                                           left_on=['date', 'group'], \n",
    "                                           right_on=['date', 'group'])\n",
    "# переименуем столбцы\n",
    "cummulative_data.columns = ['date', 'group', 'orders', 'buyers', 'revenue', 'visitors']\n",
    "\n",
    "cummulative_data.head(5)"
   ]
  },
  {
   "cell_type": "markdown",
   "metadata": {},
   "source": [
    "---"
   ]
  },
  {
   "cell_type": "markdown",
   "metadata": {},
   "source": [
    "Выделим данные о выручке и количестве заказов по группам в разные датасеты."
   ]
  },
  {
   "cell_type": "code",
   "execution_count": 27,
   "metadata": {},
   "outputs": [],
   "source": [
    "# данные о дате, выручке, количестве заказов для группы А\n",
    "cummulative_revenue_A = \\\n",
    "cummulative_data[cummulative_data['group']=='A'][['date', 'revenue', 'orders']]\n",
    "\n",
    "# данные о дате, выручке, количестве заказов для группы B\n",
    "cummulative_revenue_B = \\\n",
    "cummulative_data[cummulative_data['group']=='B'][['date', 'revenue', 'orders']]"
   ]
  },
  {
   "cell_type": "markdown",
   "metadata": {},
   "source": [
    "Для анализа относительного различия в группах A и B, соединим данные в одном датасете."
   ]
  },
  {
   "cell_type": "code",
   "execution_count": 28,
   "metadata": {},
   "outputs": [
    {
     "data": {
      "text/html": [
       "<div>\n",
       "<style scoped>\n",
       "    .dataframe tbody tr th:only-of-type {\n",
       "        vertical-align: middle;\n",
       "    }\n",
       "\n",
       "    .dataframe tbody tr th {\n",
       "        vertical-align: top;\n",
       "    }\n",
       "\n",
       "    .dataframe thead th {\n",
       "        text-align: right;\n",
       "    }\n",
       "</style>\n",
       "<table border=\"1\" class=\"dataframe\">\n",
       "  <thead>\n",
       "    <tr style=\"text-align: right;\">\n",
       "      <th></th>\n",
       "      <th>date</th>\n",
       "      <th>revenue_A</th>\n",
       "      <th>orders_A</th>\n",
       "      <th>revenue_B</th>\n",
       "      <th>orders_B</th>\n",
       "    </tr>\n",
       "  </thead>\n",
       "  <tbody>\n",
       "    <tr>\n",
       "      <td>0</td>\n",
       "      <td>2019-08-01</td>\n",
       "      <td>148579</td>\n",
       "      <td>24</td>\n",
       "      <td>101217</td>\n",
       "      <td>21</td>\n",
       "    </tr>\n",
       "    <tr>\n",
       "      <td>1</td>\n",
       "      <td>2019-08-02</td>\n",
       "      <td>242401</td>\n",
       "      <td>44</td>\n",
       "      <td>266748</td>\n",
       "      <td>45</td>\n",
       "    </tr>\n",
       "    <tr>\n",
       "      <td>2</td>\n",
       "      <td>2019-08-03</td>\n",
       "      <td>354874</td>\n",
       "      <td>68</td>\n",
       "      <td>380996</td>\n",
       "      <td>61</td>\n",
       "    </tr>\n",
       "    <tr>\n",
       "      <td>3</td>\n",
       "      <td>2019-08-04</td>\n",
       "      <td>425699</td>\n",
       "      <td>84</td>\n",
       "      <td>489567</td>\n",
       "      <td>78</td>\n",
       "    </tr>\n",
       "    <tr>\n",
       "      <td>4</td>\n",
       "      <td>2019-08-05</td>\n",
       "      <td>549917</td>\n",
       "      <td>109</td>\n",
       "      <td>581995</td>\n",
       "      <td>101</td>\n",
       "    </tr>\n",
       "  </tbody>\n",
       "</table>\n",
       "</div>"
      ],
      "text/plain": [
       "        date  revenue_A  orders_A  revenue_B  orders_B\n",
       "0 2019-08-01     148579        24     101217        21\n",
       "1 2019-08-02     242401        44     266748        45\n",
       "2 2019-08-03     354874        68     380996        61\n",
       "3 2019-08-04     425699        84     489567        78\n",
       "4 2019-08-05     549917       109     581995       101"
      ]
     },
     "execution_count": 28,
     "metadata": {},
     "output_type": "execute_result"
    }
   ],
   "source": [
    "# объединим по дате и добавим суффиксы\n",
    "merged_cummulative_revenue = cummulative_revenue_A\\\n",
    "    .merge(cummulative_revenue_B, left_on='date', right_on='date', how='left', \n",
    "           suffixes=['_A', '_B'])\n",
    "\n",
    "merged_cummulative_revenue.head()"
   ]
  },
  {
   "cell_type": "markdown",
   "metadata": {},
   "source": [
    "Построим графики кумулятивной выручки и кумулятивного среднего чека по группам, а также график относительного изменения кумулятивного среднего чека группы В к группе А."
   ]
  },
  {
   "cell_type": "code",
   "execution_count": 29,
   "metadata": {},
   "outputs": [
    {
     "data": {
      "image/png": "[encoded data removed]",
      "text/plain": [
       "<Figure size 1080x288 with 1 Axes>"
      ]
     },
     "metadata": {},
     "output_type": "display_data"
    },
    {
     "data": {
      "image/png": "[encoded data removed]",
      "text/plain": [
       "<Figure size 1080x288 with 1 Axes>"
      ]
     },
     "metadata": {},
     "output_type": "display_data"
    },
    {
     "data": {
      "image/png": "[encoded data removed]",
      "text/plain": [
       "<Figure size 1080x288 with 1 Axes>"
      ]
     },
     "metadata": {},
     "output_type": "display_data"
    }
   ],
   "source": [
    "sns.set(style = 'whitegrid')\n",
    "cummulative_revenue_A['plot_date'] = cummulative_revenue_A['date'].dt.strftime('%d')\n",
    "cummulative_revenue_B['plot_date'] = cummulative_revenue_B['date'].dt.strftime('%d')\n",
    "\n",
    "f, ax = plt.subplots(figsize=(15, 4))\n",
    "sns.lineplot(x = \"plot_date\", y = \"revenue\", data = cummulative_revenue_A, label = 'группа A')\n",
    "sns.lineplot(x = \"plot_date\", y = \"revenue\", data = cummulative_revenue_B, label = 'группа B')\n",
    "ax.set(xlabel = 'День', ylabel = 'Кумулятивная выручка',xlim = ('01', '31'),\n",
    "       title = 'Кумулятивная выручка по группам (август 2019)')\n",
    "\n",
    "# кумулятивный средний чек рассчитаем как отношение кумулятивной выручки к суммарному числу заказов\n",
    "cummulative_revenue_A['average_revenue'] = cummulative_revenue_A['revenue']/ cummulative_revenue_A['orders']\n",
    "cummulative_revenue_B['average_revenue'] = cummulative_revenue_B['revenue']/ cummulative_revenue_B['orders']\n",
    "\n",
    "f, ax = plt.subplots(figsize=(15, 4))\n",
    "sns.lineplot(x = \"plot_date\", y = \"average_revenue\", data = cummulative_revenue_A, label = 'группа A')\n",
    "sns.lineplot(x = \"plot_date\", y = \"average_revenue\", data = cummulative_revenue_B, label = 'группа B')\n",
    "ax.set(xlabel = 'День', ylabel = 'Кумулятивный средний чек',xlim = ('01', '31'),\n",
    "       title = 'Кумулятивный средний чек по группам (август 2019)')\n",
    "\n",
    "# относительное изменение кумулятивного среднего чека рассчитаем как отношение кумулятивного среднего чека группы B\n",
    "# к кумулятивному среднему чеку группы А, без единицы\n",
    "merged_cummulative_revenue['plot_date'] = merged_cummulative_revenue['date'].dt.strftime('%d')\n",
    "merged_cummulative_revenue['average_revenue_rate'] = (\n",
    "(merged_cummulative_revenue['revenue_B']/merged_cummulative_revenue['orders_B'])/\n",
    "(merged_cummulative_revenue['revenue_A']/merged_cummulative_revenue['orders_A'])-1)\n",
    "\n",
    "\n",
    "f, ax = plt.subplots(figsize=(15, 4))\n",
    "sns.lineplot(x = \"plot_date\", y = \"average_revenue_rate\", data = merged_cummulative_revenue)\n",
    "plt.axhline(y=0, color='black', linestyle='--')\n",
    "plt.axhline(y=0.26, color='gray', linestyle='--', label = '26%')\n",
    "ax.set(xlabel = 'День', ylabel = '.',xlim = ('01', '31'),\n",
    "       title = 'Относительное изменение кумулятивного среднего чека группы B к A (август 2019)')\n",
    "\n",
    "plt.legend()\n",
    "plt.show()"
   ]
  },
  {
   "cell_type": "markdown",
   "metadata": {},
   "source": [
    "В течение всего рассматриваемого месяца кумулятивная выручка группы B превышает выручку группы А. Кумулятивный средний чек группы В больше в течение всего месяца за исключением первого дня теста и периода 11-14 августа. \n",
    "\n",
    "На графике кумулятивной выручки заметен скачок 18 августа, что может быть связано с резким увеличением количества или стоимости отдельных заказов. В то же время на графике кумулятивного среднего чека наблюдается такой же скачок, делаем вывод о наличии одного или нескольких крупных заказов в группе В.\n",
    "\n",
    "На графике относительного изменения кумулятивного среднего чека видим несколько резких скачков, скорее всего это связано с наличием аномально крупных заказов. К концу месяца, кумулятивный средний чек группы B больше среднего чека группы А на 26%."
   ]
  },
  {
   "cell_type": "markdown",
   "metadata": {},
   "source": [
    "<a id=\"2.4\"></a>\n",
    "### 2.4 Расчет конверсии   [*(Оглавление)*](#contents)"
   ]
  },
  {
   "cell_type": "markdown",
   "metadata": {},
   "source": [
    "Кумулятивную конверсию рассчитаем, как отношение количества заказов к количеству посетителей."
   ]
  },
  {
   "cell_type": "code",
   "execution_count": 30,
   "metadata": {},
   "outputs": [],
   "source": [
    "cummulative_data['conversion'] = (cummulative_data['orders']/ cummulative_data['visitors']).round(4)"
   ]
  },
  {
   "cell_type": "code",
   "execution_count": 31,
   "metadata": {},
   "outputs": [
    {
     "data": {
      "text/html": [
       "<div>\n",
       "<style scoped>\n",
       "    .dataframe tbody tr th:only-of-type {\n",
       "        vertical-align: middle;\n",
       "    }\n",
       "\n",
       "    .dataframe tbody tr th {\n",
       "        vertical-align: top;\n",
       "    }\n",
       "\n",
       "    .dataframe thead th {\n",
       "        text-align: right;\n",
       "    }\n",
       "</style>\n",
       "<table border=\"1\" class=\"dataframe\">\n",
       "  <thead>\n",
       "    <tr style=\"text-align: right;\">\n",
       "      <th></th>\n",
       "      <th>date</th>\n",
       "      <th>group</th>\n",
       "      <th>orders</th>\n",
       "      <th>buyers</th>\n",
       "      <th>revenue</th>\n",
       "      <th>visitors</th>\n",
       "      <th>conversion</th>\n",
       "    </tr>\n",
       "  </thead>\n",
       "  <tbody>\n",
       "    <tr>\n",
       "      <td>0</td>\n",
       "      <td>2019-08-01</td>\n",
       "      <td>A</td>\n",
       "      <td>24</td>\n",
       "      <td>20</td>\n",
       "      <td>148579</td>\n",
       "      <td>719</td>\n",
       "      <td>0.0334</td>\n",
       "    </tr>\n",
       "    <tr>\n",
       "      <td>1</td>\n",
       "      <td>2019-08-01</td>\n",
       "      <td>B</td>\n",
       "      <td>21</td>\n",
       "      <td>20</td>\n",
       "      <td>101217</td>\n",
       "      <td>713</td>\n",
       "      <td>0.0295</td>\n",
       "    </tr>\n",
       "    <tr>\n",
       "      <td>2</td>\n",
       "      <td>2019-08-02</td>\n",
       "      <td>A</td>\n",
       "      <td>44</td>\n",
       "      <td>38</td>\n",
       "      <td>242401</td>\n",
       "      <td>1338</td>\n",
       "      <td>0.0329</td>\n",
       "    </tr>\n",
       "    <tr>\n",
       "      <td>3</td>\n",
       "      <td>2019-08-02</td>\n",
       "      <td>B</td>\n",
       "      <td>45</td>\n",
       "      <td>43</td>\n",
       "      <td>266748</td>\n",
       "      <td>1294</td>\n",
       "      <td>0.0348</td>\n",
       "    </tr>\n",
       "    <tr>\n",
       "      <td>4</td>\n",
       "      <td>2019-08-03</td>\n",
       "      <td>A</td>\n",
       "      <td>68</td>\n",
       "      <td>62</td>\n",
       "      <td>354874</td>\n",
       "      <td>1845</td>\n",
       "      <td>0.0369</td>\n",
       "    </tr>\n",
       "  </tbody>\n",
       "</table>\n",
       "</div>"
      ],
      "text/plain": [
       "        date group  orders  buyers  revenue  visitors  conversion\n",
       "0 2019-08-01     A      24      20   148579       719      0.0334\n",
       "1 2019-08-01     B      21      20   101217       713      0.0295\n",
       "2 2019-08-02     A      44      38   242401      1338      0.0329\n",
       "3 2019-08-02     B      45      43   266748      1294      0.0348\n",
       "4 2019-08-03     A      68      62   354874      1845      0.0369"
      ]
     },
     "execution_count": 31,
     "metadata": {},
     "output_type": "execute_result"
    }
   ],
   "source": [
    "cummulative_data.head(5)"
   ]
  },
  {
   "cell_type": "markdown",
   "metadata": {},
   "source": [
    "Выделим данные о конверсии по группам в разные датасеты."
   ]
  },
  {
   "cell_type": "code",
   "execution_count": 32,
   "metadata": {},
   "outputs": [
    {
     "data": {
      "text/html": [
       "<div>\n",
       "<style scoped>\n",
       "    .dataframe tbody tr th:only-of-type {\n",
       "        vertical-align: middle;\n",
       "    }\n",
       "\n",
       "    .dataframe tbody tr th {\n",
       "        vertical-align: top;\n",
       "    }\n",
       "\n",
       "    .dataframe thead th {\n",
       "        text-align: right;\n",
       "    }\n",
       "</style>\n",
       "<table border=\"1\" class=\"dataframe\">\n",
       "  <thead>\n",
       "    <tr style=\"text-align: right;\">\n",
       "      <th></th>\n",
       "      <th>date</th>\n",
       "      <th>group</th>\n",
       "      <th>orders</th>\n",
       "      <th>buyers</th>\n",
       "      <th>revenue</th>\n",
       "      <th>visitors</th>\n",
       "      <th>conversion</th>\n",
       "    </tr>\n",
       "  </thead>\n",
       "  <tbody>\n",
       "    <tr>\n",
       "      <td>0</td>\n",
       "      <td>2019-08-01</td>\n",
       "      <td>A</td>\n",
       "      <td>24</td>\n",
       "      <td>20</td>\n",
       "      <td>148579</td>\n",
       "      <td>719</td>\n",
       "      <td>0.0334</td>\n",
       "    </tr>\n",
       "    <tr>\n",
       "      <td>2</td>\n",
       "      <td>2019-08-02</td>\n",
       "      <td>A</td>\n",
       "      <td>44</td>\n",
       "      <td>38</td>\n",
       "      <td>242401</td>\n",
       "      <td>1338</td>\n",
       "      <td>0.0329</td>\n",
       "    </tr>\n",
       "    <tr>\n",
       "      <td>4</td>\n",
       "      <td>2019-08-03</td>\n",
       "      <td>A</td>\n",
       "      <td>68</td>\n",
       "      <td>62</td>\n",
       "      <td>354874</td>\n",
       "      <td>1845</td>\n",
       "      <td>0.0369</td>\n",
       "    </tr>\n",
       "    <tr>\n",
       "      <td>6</td>\n",
       "      <td>2019-08-04</td>\n",
       "      <td>A</td>\n",
       "      <td>84</td>\n",
       "      <td>77</td>\n",
       "      <td>425699</td>\n",
       "      <td>2562</td>\n",
       "      <td>0.0328</td>\n",
       "    </tr>\n",
       "    <tr>\n",
       "      <td>8</td>\n",
       "      <td>2019-08-05</td>\n",
       "      <td>A</td>\n",
       "      <td>109</td>\n",
       "      <td>100</td>\n",
       "      <td>549917</td>\n",
       "      <td>3318</td>\n",
       "      <td>0.0329</td>\n",
       "    </tr>\n",
       "  </tbody>\n",
       "</table>\n",
       "</div>"
      ],
      "text/plain": [
       "        date group  orders  buyers  revenue  visitors  conversion\n",
       "0 2019-08-01     A      24      20   148579       719      0.0334\n",
       "2 2019-08-02     A      44      38   242401      1338      0.0329\n",
       "4 2019-08-03     A      68      62   354874      1845      0.0369\n",
       "6 2019-08-04     A      84      77   425699      2562      0.0328\n",
       "8 2019-08-05     A     109     100   549917      3318      0.0329"
      ]
     },
     "execution_count": 32,
     "metadata": {},
     "output_type": "execute_result"
    }
   ],
   "source": [
    "# данные для группы А\n",
    "cummulative_data_A = cummulative_data[cummulative_data['group']=='A']\n",
    "\n",
    "# данные для группы B\n",
    "cummulative_data_B = cummulative_data[cummulative_data['group']=='B']\n",
    "\n",
    "cummulative_data_A.head()"
   ]
  },
  {
   "cell_type": "markdown",
   "metadata": {},
   "source": [
    "Для анализа относительного различия в группах A и B, соединим данные в одном датасете."
   ]
  },
  {
   "cell_type": "code",
   "execution_count": 33,
   "metadata": {},
   "outputs": [
    {
     "data": {
      "text/html": [
       "<div>\n",
       "<style scoped>\n",
       "    .dataframe tbody tr th:only-of-type {\n",
       "        vertical-align: middle;\n",
       "    }\n",
       "\n",
       "    .dataframe tbody tr th {\n",
       "        vertical-align: top;\n",
       "    }\n",
       "\n",
       "    .dataframe thead th {\n",
       "        text-align: right;\n",
       "    }\n",
       "</style>\n",
       "<table border=\"1\" class=\"dataframe\">\n",
       "  <thead>\n",
       "    <tr style=\"text-align: right;\">\n",
       "      <th></th>\n",
       "      <th>date</th>\n",
       "      <th>conversion_A</th>\n",
       "      <th>conversion_B</th>\n",
       "    </tr>\n",
       "  </thead>\n",
       "  <tbody>\n",
       "    <tr>\n",
       "      <td>0</td>\n",
       "      <td>2019-08-01</td>\n",
       "      <td>0.0334</td>\n",
       "      <td>0.0295</td>\n",
       "    </tr>\n",
       "    <tr>\n",
       "      <td>1</td>\n",
       "      <td>2019-08-02</td>\n",
       "      <td>0.0329</td>\n",
       "      <td>0.0348</td>\n",
       "    </tr>\n",
       "    <tr>\n",
       "      <td>2</td>\n",
       "      <td>2019-08-03</td>\n",
       "      <td>0.0369</td>\n",
       "      <td>0.0338</td>\n",
       "    </tr>\n",
       "    <tr>\n",
       "      <td>3</td>\n",
       "      <td>2019-08-04</td>\n",
       "      <td>0.0328</td>\n",
       "      <td>0.0303</td>\n",
       "    </tr>\n",
       "    <tr>\n",
       "      <td>4</td>\n",
       "      <td>2019-08-05</td>\n",
       "      <td>0.0329</td>\n",
       "      <td>0.0308</td>\n",
       "    </tr>\n",
       "  </tbody>\n",
       "</table>\n",
       "</div>"
      ],
      "text/plain": [
       "        date  conversion_A  conversion_B\n",
       "0 2019-08-01        0.0334        0.0295\n",
       "1 2019-08-02        0.0329        0.0348\n",
       "2 2019-08-03        0.0369        0.0338\n",
       "3 2019-08-04        0.0328        0.0303\n",
       "4 2019-08-05        0.0329        0.0308"
      ]
     },
     "execution_count": 33,
     "metadata": {},
     "output_type": "execute_result"
    }
   ],
   "source": [
    "# объединим по дате и добавим суффиксы\n",
    "merged_cummulative_conversion = cummulative_data_A[['date', 'conversion']]\\\n",
    "    .merge(cummulative_data_B[['date', 'conversion']], left_on='date', \n",
    "           right_on='date', how='left', suffixes=['_A', '_B'])\n",
    "\n",
    "merged_cummulative_conversion.head()"
   ]
  },
  {
   "cell_type": "markdown",
   "metadata": {},
   "source": [
    "Построим графики кумулятивной конверсии по группам и график относительного изменения кумулятивной конверсии группы B к группе A."
   ]
  },
  {
   "cell_type": "code",
   "execution_count": 34,
   "metadata": {},
   "outputs": [
    {
     "name": "stderr",
     "output_type": "stream",
     "text": [
      "C:\\ProgramData\\Anaconda3\\lib\\site-packages\\ipykernel_launcher.py:1: SettingWithCopyWarning: \n",
      "A value is trying to be set on a copy of a slice from a DataFrame.\n",
      "Try using .loc[row_indexer,col_indexer] = value instead\n",
      "\n",
      "See the caveats in the documentation: http://pandas.pydata.org/pandas-docs/stable/user_guide/indexing.html#returning-a-view-versus-a-copy\n",
      "  \"\"\"Entry point for launching an IPython kernel.\n",
      "C:\\ProgramData\\Anaconda3\\lib\\site-packages\\ipykernel_launcher.py:2: SettingWithCopyWarning: \n",
      "A value is trying to be set on a copy of a slice from a DataFrame.\n",
      "Try using .loc[row_indexer,col_indexer] = value instead\n",
      "\n",
      "See the caveats in the documentation: http://pandas.pydata.org/pandas-docs/stable/user_guide/indexing.html#returning-a-view-versus-a-copy\n",
      "  \n"
     ]
    },
    {
     "data": {
      "image/png": "[encoded data removed]",
      "text/plain": [
       "<Figure size 1080x288 with 1 Axes>"
      ]
     },
     "metadata": {},
     "output_type": "display_data"
    },
    {
     "data": {
      "image/png": "[encoded data removed]",
      "text/plain": [
       "<Figure size 1080x288 with 1 Axes>"
      ]
     },
     "metadata": {},
     "output_type": "display_data"
    }
   ],
   "source": [
    "cummulative_data_A['plot_date'] = cummulative_data_A['date'].dt.strftime('%d')\n",
    "cummulative_data_B['plot_date'] = cummulative_data_B['date'].dt.strftime('%d')\n",
    "merged_cummulative_conversion['plot_date'] = merged_cummulative_conversion['date'].dt.strftime('%d')\n",
    "\n",
    "f, ax = plt.subplots(figsize=(15, 4))\n",
    "sns.lineplot(x = \"plot_date\", y = \"conversion\", data = cummulative_data_A, label = 'группа A')\n",
    "sns.lineplot(x = \"plot_date\", y = \"conversion\", data = cummulative_data_B, label = 'группа B')\n",
    "ax.set(xlabel = 'День', ylabel = 'Кумулятивная конверсия',xlim = ('01', '31'),\n",
    "       title = 'Кумулятивная конверсия по группам (август 2019)')\n",
    "\n",
    "# относительное изменение кумулятивной конверсии рассчитаем как отношение кумулятивной конверсии группы B\n",
    "# к кумулятивной конверсии группы А, без единицы\n",
    "merged_cummulative_conversion['conversion_rate'] = (merged_cummulative_conversion['conversion_B']/\n",
    "                                                    merged_cummulative_conversion['conversion_A']-1)\n",
    "\n",
    "\n",
    "f, ax = plt.subplots(figsize=(15, 4))\n",
    "sns.lineplot(x = \"plot_date\", y = \"conversion_rate\", data = merged_cummulative_conversion)\n",
    "plt.axhline(y=0, color='black', linestyle='--')\n",
    "plt.axhline(y=0.13, color='gray', linestyle='--', label = '13%')\n",
    "ax.set(xlabel = 'День', ylabel = '.',xlim = ('01', '31'),\n",
    "       title = 'Относительное изменение кумулятивной конверсии группы B к A (август 2019)')\n",
    "\n",
    "plt.legend()\n",
    "plt.show()"
   ]
  },
  {
   "cell_type": "markdown",
   "metadata": {},
   "source": [
    "Конверсии установились после 9 августа, далее конверсия группы B была больше конверсии группы A. К окончанию теста это различие достигает 13%."
   ]
  },
  {
   "cell_type": "markdown",
   "metadata": {},
   "source": [
    "<a id=\"2.5\"></a>\n",
    "### 2.5 Определение аномальных значений [*(Оглавление)*](#contents)\n",
    "Рассмотрим распределение количества заказов по пользователям, и стоимости заказов. Определим границу для аномальных значений. "
   ]
  },
  {
   "cell_type": "markdown",
   "metadata": {},
   "source": [
    "Построим точечный график количества заказов по пользователям, для этого сгруппируем таблицу с заказами по `visitor_id`."
   ]
  },
  {
   "cell_type": "code",
   "execution_count": 35,
   "metadata": {},
   "outputs": [
    {
     "data": {
      "text/html": [
       "<div>\n",
       "<style scoped>\n",
       "    .dataframe tbody tr th:only-of-type {\n",
       "        vertical-align: middle;\n",
       "    }\n",
       "\n",
       "    .dataframe tbody tr th {\n",
       "        vertical-align: top;\n",
       "    }\n",
       "\n",
       "    .dataframe thead th {\n",
       "        text-align: right;\n",
       "    }\n",
       "</style>\n",
       "<table border=\"1\" class=\"dataframe\">\n",
       "  <thead>\n",
       "    <tr style=\"text-align: right;\">\n",
       "      <th></th>\n",
       "      <th>visitor_id</th>\n",
       "      <th>transaction_id</th>\n",
       "    </tr>\n",
       "  </thead>\n",
       "  <tbody>\n",
       "    <tr>\n",
       "      <td>0</td>\n",
       "      <td>5114589</td>\n",
       "      <td>1</td>\n",
       "    </tr>\n",
       "    <tr>\n",
       "      <td>1</td>\n",
       "      <td>6958315</td>\n",
       "      <td>1</td>\n",
       "    </tr>\n",
       "    <tr>\n",
       "      <td>2</td>\n",
       "      <td>8300375</td>\n",
       "      <td>2</td>\n",
       "    </tr>\n",
       "    <tr>\n",
       "      <td>3</td>\n",
       "      <td>11685486</td>\n",
       "      <td>1</td>\n",
       "    </tr>\n",
       "    <tr>\n",
       "      <td>4</td>\n",
       "      <td>39475350</td>\n",
       "      <td>1</td>\n",
       "    </tr>\n",
       "  </tbody>\n",
       "</table>\n",
       "</div>"
      ],
      "text/plain": [
       "   visitor_id  transaction_id\n",
       "0     5114589               1\n",
       "1     6958315               1\n",
       "2     8300375               2\n",
       "3    11685486               1\n",
       "4    39475350               1"
      ]
     },
     "execution_count": 35,
     "metadata": {},
     "output_type": "execute_result"
    }
   ],
   "source": [
    "orders_by_users = orders.groupby('visitor_id', as_index = False)\\\n",
    "                        .agg({'transaction_id':pd.Series.nunique})\n",
    "orders_by_users.head()"
   ]
  },
  {
   "cell_type": "code",
   "execution_count": 36,
   "metadata": {},
   "outputs": [
    {
     "data": {
      "image/png": "[encoded data removed]",
      "text/plain": [
       "<Figure size 576x432 with 1 Axes>"
      ]
     },
     "metadata": {},
     "output_type": "display_data"
    },
    {
     "name": "stdout",
     "output_type": "stream",
     "text": [
      "95-й перцентиль количества заказов на пользователя: 2.0\n",
      "99-й перцентиль количества заказов на пользователя: 4.0\n"
     ]
    }
   ],
   "source": [
    "sns.set(style = 'white')\n",
    "\n",
    "# создадим набор чисел от 0 до количества пользователей\n",
    "x_values = pd.Series(range(0,len(orders_by_users['visitor_id'])))\n",
    "\n",
    "# диаграмма распределения количества заказов по пользователям\n",
    "f, ax = plt.subplots(figsize=(8, 6))\n",
    "sns.scatterplot(x = x_values, y = \"transaction_id\", data = orders_by_users)\n",
    "\n",
    "ax.set(xlabel = 'Порядковый номер пользователя', ylabel = 'Количество заказов',\n",
    "       title = 'Распределение количества заказов каждого пользователя (август 2019)')\n",
    "\n",
    "plt.axhline(y=np.percentile(orders_by_users['transaction_id'], [95, 99])[1], \n",
    "            color='black', linestyle='-', linewidth = 0.9, label = '99-й перцентиль')\n",
    "plt.axhline(y=np.percentile(orders_by_users['transaction_id'], [95, 99])[0], \n",
    "            color='black', linestyle='--', linewidth = 0.9, label = '95-й перцентиль')\n",
    "\n",
    "plt.legend()\n",
    "plt.show()\n",
    "\n",
    "print('95-й перцентиль количества заказов на пользователя:', np.percentile(orders_by_users['transaction_id'], [95, 99])[0])\n",
    "print('99-й перцентиль количества заказов на пользователя:', np.percentile(orders_by_users['transaction_id'], [95, 99])[1])"
   ]
  },
  {
   "cell_type": "code",
   "execution_count": 37,
   "metadata": {},
   "outputs": [
    {
     "data": {
      "text/plain": [
       "10"
      ]
     },
     "execution_count": 37,
     "metadata": {},
     "output_type": "execute_result"
    }
   ],
   "source": [
    "# количество пользователей, оформивших более 4 заказов\n",
    "len(orders_by_users[orders_by_users['transaction_id'] > 4])"
   ]
  },
  {
   "cell_type": "markdown",
   "metadata": {},
   "source": [
    "Всего 1% процент пользователей заказывают более 4 раз. Не будем учитывать таких пользователей из-за их малого количества."
   ]
  },
  {
   "cell_type": "markdown",
   "metadata": {},
   "source": [
    "---"
   ]
  },
  {
   "cell_type": "markdown",
   "metadata": {},
   "source": [
    "Построим точечный график стоимости заказов."
   ]
  },
  {
   "cell_type": "code",
   "execution_count": 38,
   "metadata": {},
   "outputs": [
    {
     "data": {
      "image/png": "[encoded data removed]",
      "text/plain": [
       "<Figure size 576x432 with 1 Axes>"
      ]
     },
     "metadata": {},
     "output_type": "display_data"
    },
    {
     "name": "stdout",
     "output_type": "stream",
     "text": [
      "95-й перцентиль стоимости заказа: 28000.0\n",
      "99-й перцентиль стоимости заказа: 58233.2\n"
     ]
    }
   ],
   "source": [
    "# создадим набор чисел от 0 до количества заказов\n",
    "x_values = pd.Series(range(0,len(orders['transaction_id'])))\n",
    "\n",
    "f, ax = plt.subplots(figsize=(8, 6))\n",
    "sns.scatterplot(x = x_values, y = \"revenue\", data = orders)\n",
    "\n",
    "ax.set(xlabel = 'Порядковый номер заказа', ylabel = 'Стоимость заказа',\n",
    "       title = 'Распределение стоимости заказов (август 2019)')\n",
    "\n",
    "plt.axhline(y=np.percentile(orders['revenue'], [95, 99])[1], \n",
    "            color='black', linestyle='-', linewidth = 0.9, label = '99-й перцентиль')\n",
    "plt.axhline(y=np.percentile(orders['revenue'], [95, 99])[0], \n",
    "            color='black', linestyle='--', linewidth = 0.9, label = '95-й перцентиль')\n",
    "\n",
    "plt.legend()\n",
    "plt.show()\n",
    "\n",
    "print('95-й перцентиль стоимости заказа:', np.percentile(orders['revenue'], [95, 99])[0].round(1))\n",
    "print('99-й перцентиль стоимости заказа:', np.percentile(orders['revenue'], [95, 99])[1].round(1))"
   ]
  },
  {
   "cell_type": "markdown",
   "metadata": {},
   "source": [
    "Будем считать аномальными заказы, стоимость которых больше 58233, т.к. количество таких заказов мало - всего 1% от общего числа."
   ]
  },
  {
   "cell_type": "code",
   "execution_count": 39,
   "metadata": {
    "scrolled": false
   },
   "outputs": [
    {
     "data": {
      "text/plain": [
       "12"
      ]
     },
     "execution_count": 39,
     "metadata": {},
     "output_type": "execute_result"
    }
   ],
   "source": [
    "# количество заказов стоимостью более 58.233\n",
    "len(orders[orders['revenue'] > 58233])"
   ]
  },
  {
   "cell_type": "markdown",
   "metadata": {},
   "source": [
    "<a id=\"2.6\"></a>\n",
    "### 2.6 Расчет статистической значимости различий по \"сырым\" данным  [*(Оглавление)*](#contents)"
   ]
  },
  {
   "cell_type": "markdown",
   "metadata": {},
   "source": [
    "Для расчета статистической значимости различий в конверсии будем использовать критерий Манна-Уитни. Для этого для каждой группы подготовим список, где для каждого покупателя будет указано количество заказов, и для каждого посетителя, не оформившего заказа будет указан 0."
   ]
  },
  {
   "cell_type": "code",
   "execution_count": 40,
   "metadata": {},
   "outputs": [],
   "source": [
    "# выделим 2 датасета с количеством заказов каждого пользователя\n",
    "orders_by_users_A = orders[orders['group'] == 'A'].groupby('visitor_id', as_index = False)\\\n",
    "                        .agg({'transaction_id': pd.Series.nunique})\n",
    "orders_by_users_A.columns = ['visitor_id', 'orders']\n",
    "\n",
    "orders_by_users_B = orders[orders['group'] == 'B'].groupby('visitor_id', as_index = False)\\\n",
    "                        .agg({'transaction_id': pd.Series.nunique})\n",
    "orders_by_users_B.columns = ['visitor_id', 'orders']"
   ]
  },
  {
   "cell_type": "code",
   "execution_count": 41,
   "metadata": {
    "scrolled": true
   },
   "outputs": [],
   "source": [
    "# для каждой группы создадим список из 2-х частей\n",
    "sample_A = pd.concat([orders_by_users_A['orders'], # количество заказов для посетителей с заказами\n",
    "                      pd.Series(0, index= np.arange # 0 для всех остальных посетителей в группе\n",
    "                               (visitors[visitors['group'] == 'A']['visitors'].sum() - len(orders_by_users_A['orders'])),\n",
    "                                name='orders')\n",
    "                     ],axis=0)\n",
    "\n",
    "sample_B = pd.concat([orders_by_users_B['orders'], # количество заказов для посетителей с заказами\n",
    "                      pd.Series(0, index= np.arange # 0 для всех остальных посетителей в группе\n",
    "                               (visitors[visitors['group'] == 'B']['visitors'].sum() - len(orders_by_users_B['orders'])), \n",
    "                                name='orders')\n",
    "                     ],axis=0)"
   ]
  },
  {
   "cell_type": "markdown",
   "metadata": {},
   "source": [
    "Сформулируем нулевую гипотезу: конверсия группы A равна конверсии группы B (статистических различий в конверсии двух групп теста нет). Критический уровень статистической значимости примем равным 5%."
   ]
  },
  {
   "cell_type": "code",
   "execution_count": 42,
   "metadata": {},
   "outputs": [
    {
     "name": "stdout",
     "output_type": "stream",
     "text": [
      "P-value: 0.0084\n"
     ]
    }
   ],
   "source": [
    "# для сравнения 2-х списков с количеством заказов для разных групп используем критерий Манна-Уитни\n",
    "print('P-value:', stats.mannwhitneyu(sample_A, sample_B)[1].round(4))"
   ]
  },
  {
   "cell_type": "markdown",
   "metadata": {},
   "source": [
    "P-value меньше критического значения, отвергаем нулевую гипотезу."
   ]
  },
  {
   "cell_type": "code",
   "execution_count": 43,
   "metadata": {},
   "outputs": [
    {
     "data": {
      "text/plain": [
       "'0.138'"
      ]
     },
     "execution_count": 43,
     "metadata": {},
     "output_type": "execute_result"
    }
   ],
   "source": [
    "# поскольку количество элементов в списке - количество посетителей, \n",
    "# а сумма элементов - количество заказов, найдём относительный прирост конверсии группы B к А\n",
    "'{:.3f}'.format(sample_B.mean()/sample_A.mean()-1)"
   ]
  },
  {
   "cell_type": "markdown",
   "metadata": {},
   "source": [
    "В \"сырых\" данных конверсия группы B на 14% выше чем в группе A."
   ]
  },
  {
   "cell_type": "markdown",
   "metadata": {},
   "source": [
    "---"
   ]
  },
  {
   "cell_type": "markdown",
   "metadata": {},
   "source": [
    "Сравним средние чеки заказов в разных группах. Сформулируем нулевую гипотезу: средний чек в группе А равен среднему чеку в группе В (статистических различий в среднем чеке для двух групп теста нет). Критический уровень статистической значимости примем равным 5%."
   ]
  },
  {
   "cell_type": "code",
   "execution_count": 44,
   "metadata": {},
   "outputs": [
    {
     "name": "stdout",
     "output_type": "stream",
     "text": [
      "P-value: 0.3646\n"
     ]
    }
   ],
   "source": [
    "print('P-value:', stats.mannwhitneyu(orders[orders['group']=='A']['revenue'], \n",
    "                                     orders[orders['group']=='B']['revenue'])[1].round(4))"
   ]
  },
  {
   "cell_type": "markdown",
   "metadata": {},
   "source": [
    "P-value больше критического значения: нет оснований отвергать нулевую гипотезу, т.е. нет оснований считать, что средние чеки двух групп отличаются."
   ]
  },
  {
   "cell_type": "code",
   "execution_count": 45,
   "metadata": {},
   "outputs": [
    {
     "data": {
      "text/plain": [
       "'0.259'"
      ]
     },
     "execution_count": 45,
     "metadata": {},
     "output_type": "execute_result"
    }
   ],
   "source": [
    "# относительные различия в среднем чеке группы B к А\n",
    "'{:.3f}'.format(orders[orders['group']=='B']['revenue'].mean()/ \n",
    "orders[orders['group']=='A']['revenue'].mean() - 1)"
   ]
  },
  {
   "cell_type": "markdown",
   "metadata": {},
   "source": [
    "Средний чек различается на 26%. Предположим, что статистической значимости различия нет из-за сильного рассеяния стоимости заказов внутри каждой группы."
   ]
  },
  {
   "cell_type": "markdown",
   "metadata": {},
   "source": [
    "<a id=\"2.7\"></a>\n",
    "### 2.7 Расчет статистической значимости различий по \"очищенным\" данным  [*(Оглавление)*](#contents)"
   ]
  },
  {
   "cell_type": "markdown",
   "metadata": {},
   "source": [
    "Выделим пользователей с аномально большим количеством заказов и/ или с аномально большой стоимостью заказов в отдельный список. Затем исключим их из рассмотрения и проведем повторный расчет статистической значимости различий в конверсии и среднем чеке."
   ]
  },
  {
   "cell_type": "code",
   "execution_count": 46,
   "metadata": {},
   "outputs": [
    {
     "data": {
      "text/plain": [
       "15"
      ]
     },
     "execution_count": 46,
     "metadata": {},
     "output_type": "execute_result"
    }
   ],
   "source": [
    "# аномальные пользователи: количество заказов > 4 и/или сумма заказа > 58.233\n",
    "abnormal_visitors = pd.concat([orders_by_users_A[orders_by_users_A['orders'] > 4]['visitor_id'],\n",
    "                               orders_by_users_B[orders_by_users_B['orders'] > 4]['visitor_id'],\n",
    "                               orders[orders['revenue'] > 58233]['visitor_id']\n",
    "                              ], axis = 0).drop_duplicates()\n",
    "\n",
    "# количество аномальных пользователей\n",
    "len(abnormal_visitors)"
   ]
  },
  {
   "cell_type": "code",
   "execution_count": 47,
   "metadata": {},
   "outputs": [],
   "source": [
    "# повторим вычисления без учета аномальных пользователей\n",
    "# для каждой группы создадим список из 2-х частей\n",
    "sample_A_filtered = pd.concat(\n",
    "# количество заказов для неаномальных посетителей с заказами    \n",
    "[orders_by_users_A[np.logical_not(orders_by_users_A['visitor_id'].isin(abnormal_visitors))]['orders'], \n",
    "# 0 для всех остальных посетителей в группе (их количество не зависит от количества аномальных пользователей)\n",
    "pd.Series(0, index= np.arange \n",
    "         (visitors[visitors['group'] == 'A']['visitors'].sum() - len(orders_by_users_A['orders'])), \n",
    "          name='orders')\n",
    "                     ],axis=0)\n",
    "\n",
    "sample_B_filtered = pd.concat(\n",
    "# количество заказов для неаномальных посетителей с заказами    \n",
    "[orders_by_users_B[np.logical_not(orders_by_users_B['visitor_id'].isin(abnormal_visitors))]['orders'], \n",
    "# 0 для всех остальных посетителей в группе (их количество не зависит от количества аномальных пользователей)\n",
    "pd.Series(0, index= np.arange \n",
    "         (visitors[visitors['group'] == 'B']['visitors'].sum() - len(orders_by_users_B['orders'])), \n",
    "                                name='orders')\n",
    "                     ],axis=0)"
   ]
  },
  {
   "cell_type": "markdown",
   "metadata": {},
   "source": [
    "Сформулируем нулевую гипотезу: статистических различий в конверсии двух групп теста без учета аномальных пользователей нет. Критический уровень статистической значимости примем равным 5%."
   ]
  },
  {
   "cell_type": "code",
   "execution_count": 48,
   "metadata": {},
   "outputs": [
    {
     "name": "stdout",
     "output_type": "stream",
     "text": [
      "P-value: 0.0072\n"
     ]
    }
   ],
   "source": [
    "# для сравнения 2-х списков с количеством заказов для разных групп используем критерий Манна-Уитни\n",
    "print('P-value:', stats.mannwhitneyu(sample_A_filtered, sample_B_filtered)[1].round(4))"
   ]
  },
  {
   "cell_type": "markdown",
   "metadata": {},
   "source": [
    "P-value меньше критического значения, отвергаем нулевую гипотезу. Конверсии в двух группах не равны."
   ]
  },
  {
   "cell_type": "code",
   "execution_count": 49,
   "metadata": {},
   "outputs": [
    {
     "data": {
      "text/plain": [
       "'0.153'"
      ]
     },
     "execution_count": 49,
     "metadata": {},
     "output_type": "execute_result"
    }
   ],
   "source": [
    "# поскольку количество элементов в списке - количество посетителей, \n",
    "# а сумма элементов - количество заказов, найдём относительный прирост конверсии группы B к А\n",
    "'{:.3f}'.format(sample_B_filtered.mean()/sample_A_filtered.mean()-1)"
   ]
  },
  {
   "cell_type": "markdown",
   "metadata": {},
   "source": [
    "В \"очищенных\" данных конверсия группы B на 15% выше чем в группе A."
   ]
  },
  {
   "cell_type": "markdown",
   "metadata": {},
   "source": [
    "---"
   ]
  },
  {
   "cell_type": "markdown",
   "metadata": {},
   "source": [
    "Сравним средние чеки заказов в разных группах. Сформулируем нулевую гипотезу: статистических различий в среднем чеке для двух групп теста без учета аномальных пользователей нет. Критический уровень статистической значимости примем равным 5%."
   ]
  },
  {
   "cell_type": "code",
   "execution_count": 50,
   "metadata": {},
   "outputs": [
    {
     "name": "stdout",
     "output_type": "stream",
     "text": [
      "P-value: 0.4255\n"
     ]
    }
   ],
   "source": [
    "print('P-value:', stats.mannwhitneyu(\n",
    "     orders[np.logical_and(orders['group']=='A',\n",
    "                           np.logical_not(orders['visitor_id'].isin(abnormal_visitors)))]['revenue'],\n",
    "     orders[np.logical_and(orders['group']=='B',\n",
    "                           np.logical_not(orders['visitor_id'].isin(abnormal_visitors)))]['revenue']\n",
    "                                    )[1].round(4))"
   ]
  },
  {
   "cell_type": "markdown",
   "metadata": {},
   "source": [
    "P-value больше критического значения, нет оснований отвергать нулевую гипотезу, т.е. нет оснований считать средний чек различным."
   ]
  },
  {
   "cell_type": "code",
   "execution_count": 51,
   "metadata": {},
   "outputs": [
    {
     "data": {
      "text/plain": [
       "'-0.006'"
      ]
     },
     "execution_count": 51,
     "metadata": {},
     "output_type": "execute_result"
    }
   ],
   "source": [
    "# относительные различия в среднем чеке группы B к А\n",
    "'{:.3f}'.format(orders[np.logical_and(orders['group']=='B',\n",
    "                       np.logical_not(orders['visitor_id'].isin(abnormal_visitors)))]['revenue'].mean() / \n",
    "orders[np.logical_and(orders['group']=='A',\n",
    "                      np.logical_not(orders['visitor_id'].isin(abnormal_visitors)))]['revenue'].mean() - 1)"
   ]
  },
  {
   "cell_type": "markdown",
   "metadata": {},
   "source": [
    "В \"очищенных\" данных средние чеки разных групп практически не различаются. Удаление аномальных пользователей не повлияло на статистическую значимость различий, но существенно повлияло на значение этих различий."
   ]
  },
  {
   "cell_type": "markdown",
   "metadata": {},
   "source": [
    "<a id=\"3\"></a>\n",
    "## 3. Выводы [*(Оглавление)*](#contents)"
   ]
  },
  {
   "cell_type": "markdown",
   "metadata": {},
   "source": [
    "1. И в \"сырых\" и в \"очищенных\" данных достигается статистическая значимость различий в конверсии между двумя группами - конверсия в группе B больше на 14-15%.\n",
    "2. И в \"сырых\" и в \"очищенных\" данных нет статистической значимости различий в среднем чеке между двумя группами. В первночальном расчете средний чек группы B был выше на 26%, а после удаления аномалий значения среднего чека для обеих групп сровнялись. \n",
    "\n",
    "Принимаем решение остановить тест, зафиксировав увеличение конверсии в группе B."
   ]
  }
 ],
 "metadata": {
  "kernelspec": {
   "display_name": "Python 3",
   "language": "python",
   "name": "python3"
  },
  "language_info": {
   "codemirror_mode": {
    "name": "ipython",
    "version": 3
   },
   "file_extension": ".py",
   "mimetype": "text/x-python",
   "name": "python",
   "nbconvert_exporter": "python",
   "pygments_lexer": "ipython3",
   "version": "3.7.4"
  },
  "toc": {
   "base_numbering": 1,
   "nav_menu": {},
   "number_sections": false,
   "sideBar": true,
   "skip_h1_title": false,
   "title_cell": "Table of Contents",
   "title_sidebar": "Contents",
   "toc_cell": false,
   "toc_position": {
    "height": "calc(100% - 180px)",
    "left": "10px",
    "top": "150px",
    "width": "294.594px"
   },
   "toc_section_display": true,
   "toc_window_display": true
  }
 },
 "nbformat": 4,
 "nbformat_minor": 2
}
