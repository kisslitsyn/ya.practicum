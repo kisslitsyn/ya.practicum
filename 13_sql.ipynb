{
 "cells": [
  {
   "cell_type": "markdown",
   "metadata": {},
   "source": [
    "<div style=\"border:solid orange 3px; padding: 16px\">  \n",
    "    <font size=\"4\">  \n",
    "        <p style=\"text-align: center;\">\n",
    "            <b> 13. Выпускной проект. Анализ эффективности рекламных кампаний с использованием SQL </b>\n",
    "        </p> \n",
    "    </font>\n",
    "</div>"
   ]
  },
  {
   "cell_type": "markdown",
   "metadata": {},
   "source": [
    "<a id=\"contents\"></a>\n",
    "### Оглавление:\n",
    "0. [Описание проекта](#0)\n",
    "1. [Подключение к БД и предобработка данных](#1)\n",
    "2. [Затраты на каждый рекламный источник](#2)\n",
    "3. [Выручка от самого дорогого источника рекламы](#3)\n",
    "4. [Дневные затраты на пользователя по источнику](#4)"
   ]
  },
  {
   "cell_type": "markdown",
   "metadata": {},
   "source": [
    " <a id=\"0\"></a>\n",
    "### 0. Описание проекта\n",
    "\n",
    "**Аналитика в онлайн-маркетплейсе «Заберу».**\n",
    "\n",
    "«Заберу» проводит рекламные акции длительностью 1 день. Руководитель отдела маркетинга хочет узнать, насколько эффективны такие кампании.\n",
    "\n",
    "Данные - информация о посещениях и заказах на сайте, а также затраты на рекламу."
   ]
  },
  {
   "cell_type": "markdown",
   "metadata": {},
   "source": [
    " <a id=\"1\"></a>\n",
    "### 1. Подключение к БД и предобработка данных"
   ]
  },
  {
   "cell_type": "code",
   "execution_count": null,
   "metadata": {},
   "outputs": [],
   "source": [
    "pip install psycopg2-binary"
   ]
  },
  {
   "cell_type": "code",
   "execution_count": 1,
   "metadata": {},
   "outputs": [],
   "source": [
    "import pandas as pd\n",
    "import psycopg2\n",
    "from sqlalchemy import create_engine\n",
    "import re"
   ]
  },
  {
   "cell_type": "code",
   "execution_count": 2,
   "metadata": {},
   "outputs": [],
   "source": [
    "db_config = {'user': 'praktikum_student', # имя пользователя\n",
    "             'pwd' : 'Sdf4$2;d-d30pp', # пароль\n",
    "             'host': 'rc1b-wcoijxj3yxfsf3fs.mdb.yandexcloud.net',\n",
    "             'port': 6432, # порт подключения\n",
    "             'db'  : 'data-analyst-final-project-db'} # название базы данных\n",
    "\n",
    "connection_string = 'postgresql://{}:{}@{}:{}/{}'.format(db_config['user'],\n",
    "                                                         db_config['pwd'],\n",
    "                                                         db_config['host'],\n",
    "                                                         db_config['port'],\n",
    "                                                         db_config['db'])\n",
    "                                                    \n",
    "engine = create_engine(connection_string, connect_args={'sslmode':'require'}, echo=False)"
   ]
  },
  {
   "cell_type": "markdown",
   "metadata": {},
   "source": [
    "---"
   ]
  },
  {
   "cell_type": "code",
   "execution_count": 3,
   "metadata": {},
   "outputs": [],
   "source": [
    "# выведем содержимое таблицы visits\n",
    "visits_query = ''' SELECT * from visits \n",
    "               '''"
   ]
  },
  {
   "cell_type": "code",
   "execution_count": 4,
   "metadata": {},
   "outputs": [],
   "source": [
    "visits = pd.io.sql.read_sql(visits_query, con = engine)"
   ]
  },
  {
   "cell_type": "code",
   "execution_count": 5,
   "metadata": {},
   "outputs": [
    {
     "data": {
      "text/html": [
       "<div>\n",
       "<style scoped>\n",
       "    .dataframe tbody tr th:only-of-type {\n",
       "        vertical-align: middle;\n",
       "    }\n",
       "\n",
       "    .dataframe tbody tr th {\n",
       "        vertical-align: top;\n",
       "    }\n",
       "\n",
       "    .dataframe thead th {\n",
       "        text-align: right;\n",
       "    }\n",
       "</style>\n",
       "<table border=\"1\" class=\"dataframe\">\n",
       "  <thead>\n",
       "    <tr style=\"text-align: right;\">\n",
       "      <th></th>\n",
       "      <th>id</th>\n",
       "      <th>uid</th>\n",
       "      <th>device</th>\n",
       "      <th>endts</th>\n",
       "      <th>sourceid</th>\n",
       "      <th>startts</th>\n",
       "    </tr>\n",
       "  </thead>\n",
       "  <tbody>\n",
       "    <tr>\n",
       "      <td>0</td>\n",
       "      <td>0</td>\n",
       "      <td>16879256277535980062</td>\n",
       "      <td>touch</td>\n",
       "      <td>2017-12-20 17:38:00</td>\n",
       "      <td>4</td>\n",
       "      <td>2017-12-20 17:20:00</td>\n",
       "    </tr>\n",
       "    <tr>\n",
       "      <td>1</td>\n",
       "      <td>1</td>\n",
       "      <td>104060357244891740</td>\n",
       "      <td>desktop</td>\n",
       "      <td>2018-02-19 17:21:00</td>\n",
       "      <td>2</td>\n",
       "      <td>2018-02-19 16:53:00</td>\n",
       "    </tr>\n",
       "    <tr>\n",
       "      <td>2</td>\n",
       "      <td>2</td>\n",
       "      <td>7459035603376831527</td>\n",
       "      <td>touch</td>\n",
       "      <td>2017-07-01 01:54:00</td>\n",
       "      <td>5</td>\n",
       "      <td>2017-07-01 01:54:00</td>\n",
       "    </tr>\n",
       "    <tr>\n",
       "      <td>3</td>\n",
       "      <td>3</td>\n",
       "      <td>16174680259334210214</td>\n",
       "      <td>desktop</td>\n",
       "      <td>2018-05-20 11:23:00</td>\n",
       "      <td>9</td>\n",
       "      <td>2018-05-20 10:59:00</td>\n",
       "    </tr>\n",
       "    <tr>\n",
       "      <td>4</td>\n",
       "      <td>4</td>\n",
       "      <td>9969694820036681168</td>\n",
       "      <td>desktop</td>\n",
       "      <td>2017-12-27 14:06:00</td>\n",
       "      <td>3</td>\n",
       "      <td>2017-12-27 14:06:00</td>\n",
       "    </tr>\n",
       "  </tbody>\n",
       "</table>\n",
       "</div>"
      ],
      "text/plain": [
       "   id                   uid   device               endts  sourceid  \\\n",
       "0   0  16879256277535980062    touch 2017-12-20 17:38:00         4   \n",
       "1   1    104060357244891740  desktop 2018-02-19 17:21:00         2   \n",
       "2   2   7459035603376831527    touch 2017-07-01 01:54:00         5   \n",
       "3   3  16174680259334210214  desktop 2018-05-20 11:23:00         9   \n",
       "4   4   9969694820036681168  desktop 2017-12-27 14:06:00         3   \n",
       "\n",
       "              startts  \n",
       "0 2017-12-20 17:20:00  \n",
       "1 2018-02-19 16:53:00  \n",
       "2 2017-07-01 01:54:00  \n",
       "3 2018-05-20 10:59:00  \n",
       "4 2017-12-27 14:06:00  "
      ]
     },
     "execution_count": 5,
     "metadata": {},
     "output_type": "execute_result"
    }
   ],
   "source": [
    "visits.head()"
   ]
  },
  {
   "cell_type": "markdown",
   "metadata": {},
   "source": [
    "Таблица `visits` (лог сервера с информацией о посещениях сайта):\n",
    "- `uid` — уникальный идентификатор пользователя\n",
    "- `device` — категория устройства пользователя\n",
    "- `startts` — дата и время начала сессии\n",
    "- `endts` — дата и время окончания сессии\n",
    "- `sourceid` — идентификатор рекламного источника, из которого пришёл пользователь"
   ]
  },
  {
   "cell_type": "code",
   "execution_count": 6,
   "metadata": {},
   "outputs": [
    {
     "name": "stdout",
     "output_type": "stream",
     "text": [
      "<class 'pandas.core.frame.DataFrame'>\n",
      "RangeIndex: 358532 entries, 0 to 358531\n",
      "Data columns (total 6 columns):\n",
      "id          358532 non-null int64\n",
      "uid         358532 non-null object\n",
      "device      358532 non-null object\n",
      "endts       358532 non-null datetime64[ns]\n",
      "sourceid    358532 non-null int64\n",
      "startts     358532 non-null datetime64[ns]\n",
      "dtypes: datetime64[ns](2), int64(2), object(2)\n",
      "memory usage: 16.4+ MB\n"
     ]
    }
   ],
   "source": [
    "visits.info()"
   ]
  },
  {
   "cell_type": "markdown",
   "metadata": {},
   "source": [
    "Пропусков в данных нет."
   ]
  },
  {
   "cell_type": "markdown",
   "metadata": {},
   "source": [
    "---"
   ]
  },
  {
   "cell_type": "code",
   "execution_count": 7,
   "metadata": {},
   "outputs": [],
   "source": [
    "# выведем содержимое таблицы orders\n",
    "orders_query = ''' SELECT * from orders \n",
    "               '''"
   ]
  },
  {
   "cell_type": "code",
   "execution_count": 8,
   "metadata": {},
   "outputs": [],
   "source": [
    "orders = pd.io.sql.read_sql(orders_query, con = engine)"
   ]
  },
  {
   "cell_type": "code",
   "execution_count": 9,
   "metadata": {},
   "outputs": [
    {
     "data": {
      "text/html": [
       "<div>\n",
       "<style scoped>\n",
       "    .dataframe tbody tr th:only-of-type {\n",
       "        vertical-align: middle;\n",
       "    }\n",
       "\n",
       "    .dataframe tbody tr th {\n",
       "        vertical-align: top;\n",
       "    }\n",
       "\n",
       "    .dataframe thead th {\n",
       "        text-align: right;\n",
       "    }\n",
       "</style>\n",
       "<table border=\"1\" class=\"dataframe\">\n",
       "  <thead>\n",
       "    <tr style=\"text-align: right;\">\n",
       "      <th></th>\n",
       "      <th>id</th>\n",
       "      <th>buyts</th>\n",
       "      <th>revenue</th>\n",
       "      <th>uid</th>\n",
       "    </tr>\n",
       "  </thead>\n",
       "  <tbody>\n",
       "    <tr>\n",
       "      <td>0</td>\n",
       "      <td>1</td>\n",
       "      <td>2017-06-01 00:10:00</td>\n",
       "      <td>$17.00</td>\n",
       "      <td>10329302124590727494</td>\n",
       "    </tr>\n",
       "    <tr>\n",
       "      <td>1</td>\n",
       "      <td>2</td>\n",
       "      <td>2017-06-01 00:25:00</td>\n",
       "      <td>$0.55</td>\n",
       "      <td>11627257723692907447</td>\n",
       "    </tr>\n",
       "    <tr>\n",
       "      <td>2</td>\n",
       "      <td>3</td>\n",
       "      <td>2017-06-01 00:27:00</td>\n",
       "      <td>$0.37</td>\n",
       "      <td>17903680561304213844</td>\n",
       "    </tr>\n",
       "    <tr>\n",
       "      <td>3</td>\n",
       "      <td>4</td>\n",
       "      <td>2017-06-01 00:29:00</td>\n",
       "      <td>$0.55</td>\n",
       "      <td>16109239769442553005</td>\n",
       "    </tr>\n",
       "    <tr>\n",
       "      <td>4</td>\n",
       "      <td>5</td>\n",
       "      <td>2017-06-01 07:58:00</td>\n",
       "      <td>$0.37</td>\n",
       "      <td>14200605875248379450</td>\n",
       "    </tr>\n",
       "  </tbody>\n",
       "</table>\n",
       "</div>"
      ],
      "text/plain": [
       "   id               buyts revenue                   uid\n",
       "0   1 2017-06-01 00:10:00  $17.00  10329302124590727494\n",
       "1   2 2017-06-01 00:25:00   $0.55  11627257723692907447\n",
       "2   3 2017-06-01 00:27:00   $0.37  17903680561304213844\n",
       "3   4 2017-06-01 00:29:00   $0.55  16109239769442553005\n",
       "4   5 2017-06-01 07:58:00   $0.37  14200605875248379450"
      ]
     },
     "execution_count": 9,
     "metadata": {},
     "output_type": "execute_result"
    }
   ],
   "source": [
    "orders.head()"
   ]
  },
  {
   "cell_type": "markdown",
   "metadata": {},
   "source": [
    "Таблица `orders` (информация о заказах):\n",
    "- `uid` — уникальный идентификатор пользователя, который сделал заказ\n",
    "- `buyts` — дата и время заказа\n",
    "- `revenue` — выручка с этого заказа"
   ]
  },
  {
   "cell_type": "code",
   "execution_count": 10,
   "metadata": {},
   "outputs": [
    {
     "name": "stdout",
     "output_type": "stream",
     "text": [
      "<class 'pandas.core.frame.DataFrame'>\n",
      "RangeIndex: 50415 entries, 0 to 50414\n",
      "Data columns (total 4 columns):\n",
      "id         50415 non-null int64\n",
      "buyts      50415 non-null datetime64[ns]\n",
      "revenue    50415 non-null object\n",
      "uid        50415 non-null object\n",
      "dtypes: datetime64[ns](1), int64(1), object(2)\n",
      "memory usage: 1.5+ MB\n"
     ]
    }
   ],
   "source": [
    "orders.info()"
   ]
  },
  {
   "cell_type": "markdown",
   "metadata": {},
   "source": [
    "Пропусков в данных нет."
   ]
  },
  {
   "cell_type": "markdown",
   "metadata": {},
   "source": [
    "---"
   ]
  },
  {
   "cell_type": "code",
   "execution_count": 11,
   "metadata": {},
   "outputs": [],
   "source": [
    "# выведем содержимое таблицы advertisment_costs\n",
    "adv_costs_query = ''' SELECT * from advertisment_costs \n",
    "                  '''"
   ]
  },
  {
   "cell_type": "code",
   "execution_count": 12,
   "metadata": {},
   "outputs": [],
   "source": [
    "adv_costs = pd.io.sql.read_sql(adv_costs_query, con = engine)"
   ]
  },
  {
   "cell_type": "code",
   "execution_count": 13,
   "metadata": {},
   "outputs": [
    {
     "data": {
      "text/html": [
       "<div>\n",
       "<style scoped>\n",
       "    .dataframe tbody tr th:only-of-type {\n",
       "        vertical-align: middle;\n",
       "    }\n",
       "\n",
       "    .dataframe tbody tr th {\n",
       "        vertical-align: top;\n",
       "    }\n",
       "\n",
       "    .dataframe thead th {\n",
       "        text-align: right;\n",
       "    }\n",
       "</style>\n",
       "<table border=\"1\" class=\"dataframe\">\n",
       "  <thead>\n",
       "    <tr style=\"text-align: right;\">\n",
       "      <th></th>\n",
       "      <th>id</th>\n",
       "      <th>sourceid</th>\n",
       "      <th>dt</th>\n",
       "      <th>costs</th>\n",
       "    </tr>\n",
       "  </thead>\n",
       "  <tbody>\n",
       "    <tr>\n",
       "      <td>0</td>\n",
       "      <td>1</td>\n",
       "      <td>1</td>\n",
       "      <td>2017-06-01</td>\n",
       "      <td>$75.20</td>\n",
       "    </tr>\n",
       "    <tr>\n",
       "      <td>1</td>\n",
       "      <td>2</td>\n",
       "      <td>1</td>\n",
       "      <td>2017-06-02</td>\n",
       "      <td>$62.25</td>\n",
       "    </tr>\n",
       "    <tr>\n",
       "      <td>2</td>\n",
       "      <td>3</td>\n",
       "      <td>1</td>\n",
       "      <td>2017-06-03</td>\n",
       "      <td>$36.53</td>\n",
       "    </tr>\n",
       "    <tr>\n",
       "      <td>3</td>\n",
       "      <td>4</td>\n",
       "      <td>1</td>\n",
       "      <td>2017-06-04</td>\n",
       "      <td>$55.00</td>\n",
       "    </tr>\n",
       "    <tr>\n",
       "      <td>4</td>\n",
       "      <td>5</td>\n",
       "      <td>1</td>\n",
       "      <td>2017-06-05</td>\n",
       "      <td>$57.08</td>\n",
       "    </tr>\n",
       "  </tbody>\n",
       "</table>\n",
       "</div>"
      ],
      "text/plain": [
       "   id  sourceid         dt   costs\n",
       "0   1         1 2017-06-01  $75.20\n",
       "1   2         1 2017-06-02  $62.25\n",
       "2   3         1 2017-06-03  $36.53\n",
       "3   4         1 2017-06-04  $55.00\n",
       "4   5         1 2017-06-05  $57.08"
      ]
     },
     "execution_count": 13,
     "metadata": {},
     "output_type": "execute_result"
    }
   ],
   "source": [
    "adv_costs.head()"
   ]
  },
  {
   "cell_type": "markdown",
   "metadata": {},
   "source": [
    "Таблица `advertisment_costs` (информация о затратах на маркетинг):\n",
    "- `sourceid` — идентификатор рекламного источника\n",
    "- `dt` — дата\n",
    "- `costs` — затраты на этот рекламный источник в этот день"
   ]
  },
  {
   "cell_type": "code",
   "execution_count": 14,
   "metadata": {},
   "outputs": [
    {
     "name": "stdout",
     "output_type": "stream",
     "text": [
      "<class 'pandas.core.frame.DataFrame'>\n",
      "RangeIndex: 2542 entries, 0 to 2541\n",
      "Data columns (total 4 columns):\n",
      "id          2542 non-null int64\n",
      "sourceid    2542 non-null int64\n",
      "dt          2542 non-null datetime64[ns]\n",
      "costs       2542 non-null object\n",
      "dtypes: datetime64[ns](1), int64(2), object(1)\n",
      "memory usage: 79.6+ KB\n"
     ]
    }
   ],
   "source": [
    "adv_costs.info()"
   ]
  },
  {
   "cell_type": "markdown",
   "metadata": {},
   "source": [
    "Пропусков в данных нет."
   ]
  },
  {
   "cell_type": "markdown",
   "metadata": {},
   "source": [
    "---"
   ]
  },
  {
   "cell_type": "markdown",
   "metadata": {},
   "source": [
    " <a id=\"2\"></a>\n",
    "### 2. Затраты на каждый рекламный источник  [*(Оглавление)*](#contents)"
   ]
  },
  {
   "cell_type": "code",
   "execution_count": 15,
   "metadata": {},
   "outputs": [],
   "source": [
    "# сгруппируем по рекламному источнику и найдем сумму расходов\n",
    "costs_per_source_query = ''' SELECT sum(costs::numeric) AS cost,   \n",
    "                                    sourceid AS source_id\n",
    "                             FROM advertisment_costs\n",
    "                             GROUP BY sourceid\n",
    "                             ORDER BY sourceid\n",
    "                         '''"
   ]
  },
  {
   "cell_type": "code",
   "execution_count": 16,
   "metadata": {},
   "outputs": [],
   "source": [
    "costs_per_source = pd.io.sql.read_sql(costs_per_source_query, con = engine)"
   ]
  },
  {
   "cell_type": "code",
   "execution_count": 17,
   "metadata": {},
   "outputs": [
    {
     "data": {
      "text/html": [
       "<div>\n",
       "<style scoped>\n",
       "    .dataframe tbody tr th:only-of-type {\n",
       "        vertical-align: middle;\n",
       "    }\n",
       "\n",
       "    .dataframe tbody tr th {\n",
       "        vertical-align: top;\n",
       "    }\n",
       "\n",
       "    .dataframe thead th {\n",
       "        text-align: right;\n",
       "    }\n",
       "</style>\n",
       "<table border=\"1\" class=\"dataframe\">\n",
       "  <thead>\n",
       "    <tr style=\"text-align: right;\">\n",
       "      <th></th>\n",
       "      <th>cost</th>\n",
       "      <th>source_id</th>\n",
       "    </tr>\n",
       "  </thead>\n",
       "  <tbody>\n",
       "    <tr>\n",
       "      <td>0</td>\n",
       "      <td>20833.27</td>\n",
       "      <td>1</td>\n",
       "    </tr>\n",
       "    <tr>\n",
       "      <td>1</td>\n",
       "      <td>42806.04</td>\n",
       "      <td>2</td>\n",
       "    </tr>\n",
       "    <tr>\n",
       "      <td>2</td>\n",
       "      <td>141321.63</td>\n",
       "      <td>3</td>\n",
       "    </tr>\n",
       "    <tr>\n",
       "      <td>3</td>\n",
       "      <td>61073.60</td>\n",
       "      <td>4</td>\n",
       "    </tr>\n",
       "    <tr>\n",
       "      <td>4</td>\n",
       "      <td>51757.10</td>\n",
       "      <td>5</td>\n",
       "    </tr>\n",
       "    <tr>\n",
       "      <td>5</td>\n",
       "      <td>5517.49</td>\n",
       "      <td>9</td>\n",
       "    </tr>\n",
       "    <tr>\n",
       "      <td>6</td>\n",
       "      <td>5822.49</td>\n",
       "      <td>10</td>\n",
       "    </tr>\n",
       "  </tbody>\n",
       "</table>\n",
       "</div>"
      ],
      "text/plain": [
       "        cost  source_id\n",
       "0   20833.27          1\n",
       "1   42806.04          2\n",
       "2  141321.63          3\n",
       "3   61073.60          4\n",
       "4   51757.10          5\n",
       "5    5517.49          9\n",
       "6    5822.49         10"
      ]
     },
     "execution_count": 17,
     "metadata": {},
     "output_type": "execute_result"
    }
   ],
   "source": [
    "costs_per_source"
   ]
  },
  {
   "cell_type": "markdown",
   "metadata": {},
   "source": [
    "---"
   ]
  },
  {
   "cell_type": "markdown",
   "metadata": {},
   "source": [
    "Проверим в pandas."
   ]
  },
  {
   "cell_type": "code",
   "execution_count": 18,
   "metadata": {},
   "outputs": [],
   "source": [
    "# для каждой записи в столбце 'costs' удалим символ \"$\", заменим разделитель и приведем к нужному типу\n",
    "adv_costs['costs'] = adv_costs.apply(lambda x: re.sub('[$]', '', x['costs']), axis = 1)\\\n",
    "                              .str.replace(',', '')\\\n",
    "                              .astype(float)"
   ]
  },
  {
   "cell_type": "code",
   "execution_count": 19,
   "metadata": {
    "scrolled": true
   },
   "outputs": [
    {
     "data": {
      "text/plain": [
       "sourceid\n",
       "1      20833.27\n",
       "2      42806.04\n",
       "3     141321.63\n",
       "4      61073.60\n",
       "5      51757.10\n",
       "9       5517.49\n",
       "10      5822.49\n",
       "Name: costs, dtype: float64"
      ]
     },
     "execution_count": 19,
     "metadata": {},
     "output_type": "execute_result"
    }
   ],
   "source": [
    "# сгруппируем по источнику рекламы и найдём сумму\n",
    "adv_costs.groupby('sourceid')['costs'].sum()"
   ]
  },
  {
   "cell_type": "markdown",
   "metadata": {},
   "source": [
    "Самый дорогой рекламный источник - id 3."
   ]
  },
  {
   "cell_type": "markdown",
   "metadata": {},
   "source": [
    " <a id=\"3\"></a>\n",
    "### 3. Выручка от самого дорогого источника рекламы  [*(Оглавление)*](#contents)\n",
    "Необходимо вычислить суммарную выручку, максимальную и минимальную выручку от заказов, сделанных пользователями, которые хотя бы раз перешли на сайт с настольных ПК (тип устройства `desktop`) из рекламного источника, на который было потрачено больше всего денег."
   ]
  },
  {
   "cell_type": "code",
   "execution_count": 20,
   "metadata": {},
   "outputs": [],
   "source": [
    "desktop_most_expensive_source_revenue_query = \\\n",
    "''' SELECT COUNT(DISTINCT o.uid) AS unique_id,                                        -- количество уникальных uid\n",
    "           COUNT(o.revenue) AS orders,                                                -- общее количество заказов\n",
    "           MIN(o.revenue::numeric) AS min_order,                                      -- наименьшая стоимость заказа\n",
    "           MAX(o.revenue::numeric) AS max_order,                                      -- наибольшая стоимость заказа\n",
    "           SUM(o.revenue::numeric) AS sum_order                                       -- общая стоимость заказов       \n",
    "                                           \n",
    "    FROM orders o                                                                     -- объединим таблицы заказов и посещений \n",
    "    LEFT JOIN visits v ON o.uid = v.uid                                               -- по условию равенства uid\n",
    "            \n",
    "    WHERE o.buyts::TIMESTAMP BETWEEN v.startts::TIMESTAMP AND v.endts::TIMESTAMP AND  -- отфильтруем по времени\n",
    "          v.uid IN (SELECT uid                                                        -- оставим только тех пользователей,\n",
    "                    FROM visits                                                       -- которые посещали сайт\n",
    "                    WHERE sourceid = 3 AND                                            -- с рекламного источника 3 и \n",
    "                          device = 'desktop')                                         -- с персонального компьютера \n",
    "'''"
   ]
  },
  {
   "cell_type": "code",
   "execution_count": 21,
   "metadata": {},
   "outputs": [],
   "source": [
    "desktop_most_expensive_source_revenue = pd.io.sql.read_sql(desktop_most_expensive_source_revenue_query, con = engine)"
   ]
  },
  {
   "cell_type": "code",
   "execution_count": 22,
   "metadata": {},
   "outputs": [
    {
     "data": {
      "text/html": [
       "<div>\n",
       "<style scoped>\n",
       "    .dataframe tbody tr th:only-of-type {\n",
       "        vertical-align: middle;\n",
       "    }\n",
       "\n",
       "    .dataframe tbody tr th {\n",
       "        vertical-align: top;\n",
       "    }\n",
       "\n",
       "    .dataframe thead th {\n",
       "        text-align: right;\n",
       "    }\n",
       "</style>\n",
       "<table border=\"1\" class=\"dataframe\">\n",
       "  <thead>\n",
       "    <tr style=\"text-align: right;\">\n",
       "      <th></th>\n",
       "      <th>unique_id</th>\n",
       "      <th>orders</th>\n",
       "      <th>min_order</th>\n",
       "      <th>max_order</th>\n",
       "      <th>sum_order</th>\n",
       "    </tr>\n",
       "  </thead>\n",
       "  <tbody>\n",
       "    <tr>\n",
       "      <td>0</td>\n",
       "      <td>9406</td>\n",
       "      <td>12631</td>\n",
       "      <td>0.0</td>\n",
       "      <td>1195.64</td>\n",
       "      <td>64652.22</td>\n",
       "    </tr>\n",
       "  </tbody>\n",
       "</table>\n",
       "</div>"
      ],
      "text/plain": [
       "   unique_id  orders  min_order  max_order  sum_order\n",
       "0       9406   12631        0.0    1195.64   64652.22"
      ]
     },
     "execution_count": 22,
     "metadata": {},
     "output_type": "execute_result"
    }
   ],
   "source": [
    "desktop_most_expensive_source_revenue"
   ]
  },
  {
   "cell_type": "markdown",
   "metadata": {},
   "source": [
    "---"
   ]
  },
  {
   "cell_type": "markdown",
   "metadata": {},
   "source": [
    "Проверим в pandas."
   ]
  },
  {
   "cell_type": "code",
   "execution_count": 23,
   "metadata": {},
   "outputs": [],
   "source": [
    "visits = visits[['startts', 'endts', 'device', 'sourceid', 'uid']]"
   ]
  },
  {
   "cell_type": "code",
   "execution_count": 24,
   "metadata": {},
   "outputs": [],
   "source": [
    "# соединим датасеты по условию равенства uid так, чтобы в результирующем\n",
    "# наборе данных были все строки из таблицы с заказами\n",
    "orders_visits = pd.merge(orders, visits, on = 'uid', how = 'left')"
   ]
  },
  {
   "cell_type": "code",
   "execution_count": 25,
   "metadata": {},
   "outputs": [],
   "source": [
    "# оставим только те заказы, пользователи которых хотя бы раз заходили на сайт с рекламного источника 3 и с компьютера\n",
    "orders_visits = orders_visits.loc[\n",
    "                orders_visits.loc[:,'uid'].isin(orders_visits.query(\"(sourceid == 3) and (device == 'desktop')\")['uid'])\n",
    "                ]"
   ]
  },
  {
   "cell_type": "code",
   "execution_count": 26,
   "metadata": {},
   "outputs": [],
   "source": [
    "# ограничим по времени (время совершения заказа должно быть между началом и окончанием посещения)\n",
    "orders_visits = orders_visits.query('startts <= buyts <= endts')"
   ]
  },
  {
   "cell_type": "code",
   "execution_count": 27,
   "metadata": {},
   "outputs": [
    {
     "data": {
      "text/plain": [
       "9406"
      ]
     },
     "execution_count": 27,
     "metadata": {},
     "output_type": "execute_result"
    }
   ],
   "source": [
    "# количество уникальных пользователей\n",
    "orders_visits['uid'].nunique()"
   ]
  },
  {
   "cell_type": "code",
   "execution_count": 28,
   "metadata": {},
   "outputs": [
    {
     "data": {
      "text/plain": [
       "12631"
      ]
     },
     "execution_count": 28,
     "metadata": {},
     "output_type": "execute_result"
    }
   ],
   "source": [
    "# количество заказов\n",
    "orders_visits['uid'].count()"
   ]
  },
  {
   "cell_type": "code",
   "execution_count": 29,
   "metadata": {},
   "outputs": [],
   "source": [
    "# для каждой записи в столбце 'revenue' удалим символ \"$\", заменим разделитель и приведем к нужному типу\n",
    "orders_visits['revenue'] = orders_visits.apply(lambda x: re.sub('[$]', '', x['revenue']), axis = 1)\\\n",
    "                              .str.replace(',', '')\\\n",
    "                              .astype(float)"
   ]
  },
  {
   "cell_type": "code",
   "execution_count": 30,
   "metadata": {},
   "outputs": [
    {
     "data": {
      "text/plain": [
       "0.0"
      ]
     },
     "execution_count": 30,
     "metadata": {},
     "output_type": "execute_result"
    }
   ],
   "source": [
    "# наименьшая выручка\n",
    "orders_visits['revenue'].min()"
   ]
  },
  {
   "cell_type": "code",
   "execution_count": 31,
   "metadata": {},
   "outputs": [
    {
     "data": {
      "text/plain": [
       "1195.64"
      ]
     },
     "execution_count": 31,
     "metadata": {},
     "output_type": "execute_result"
    }
   ],
   "source": [
    "# наибольшая выручка\n",
    "orders_visits['revenue'].max()"
   ]
  },
  {
   "cell_type": "code",
   "execution_count": 32,
   "metadata": {},
   "outputs": [
    {
     "data": {
      "text/plain": [
       "64652.22"
      ]
     },
     "execution_count": 32,
     "metadata": {},
     "output_type": "execute_result"
    }
   ],
   "source": [
    "# суммарная выручка\n",
    "orders_visits['revenue'].sum().round(2)"
   ]
  },
  {
   "cell_type": "markdown",
   "metadata": {},
   "source": [
    "- Количество пользователей, которые хотя бы раз переходили на сайт с компьютера от самого дорого рекламного источника - `9406`. \n",
    "- Эти пользователи совершили `12631` заказов.\n",
    "- Самая маленькая выручка за заказ - `0$`; самая большая `1195$`.\n",
    "- Суммарная выручка от этих пользователей - `64652$`."
   ]
  },
  {
   "cell_type": "markdown",
   "metadata": {},
   "source": [
    " <a id=\"4\"></a>\n",
    "### 4. Дневные затраты на пользователя по источнику  [*(Оглавление)*](#contents)\n",
    "Введём новую метрику эффективности рекламы - дневные затраты на рекламу на пользователя по источнику. Она рассчитывается для каждого отдельного дня и равна объёму денежных средств, которые были израсходованы на то, чтобы пользователь перешёл по рекламе на сайт из данного рекламного источника. Иными словами, метрика для каждого дня равна отношению рекламных затрат по данному источнику к количеству посетителей, перешедших на сайт с данного источника. \n",
    "\n",
    "Необходимо рассчитать введённую метрику для каждого дня. Будем считать, что целевое действие было произведено тогда, когда сесия началась. Например, если посетитель провёл на сайте несколько минут с 23:50 14 апреля по 0:20 15 апреля, то его нужно включать в рассчёт за 14 апреля"
   ]
  },
  {
   "cell_type": "markdown",
   "metadata": {},
   "source": [
    "В случае, если пользователь несколько раз в день заходил на сайт, будем считать каждое его посещение отдельно (т.е. количество сессий в день, а не количество уникальных `uid`).\n",
    "\n",
    "Назовем новую метрику `DACUS` - Daily Advertisment Cost per User per Source."
   ]
  },
  {
   "cell_type": "code",
   "execution_count": 33,
   "metadata": {},
   "outputs": [],
   "source": [
    "adv_source_per_user_costs = \\\n",
    "''' SELECT DATE(ac.dt::TIMESTAMP) AS date,                                           -- дата\n",
    "           v.sourceid AS source_id,                                                  -- источник рекламы\n",
    "           COUNT(v.uid) AS visits,                                                   -- количество посещений\n",
    "           SUM(ac.costs::numeric)/COUNT(v.uid) AS costs,                             -- расходы на рекламу\n",
    "           SUM(ac.costs::numeric)/(COUNT(v.uid)*COUNT(v.uid)) AS dacus               -- DACUS\n",
    "    \n",
    "    FROM advertisment_costs ac                                                       -- объединим таблицу расходов на рекламу\n",
    "    INNER JOIN visits v ON DATE(ac.dt::TIMESTAMP) = DATE(v.startts::TIMESTAMP) AND   -- с таблицей посещений по общей дате \n",
    "                          ac.sourceid = v.sourceid                                   -- и номеру источника рекламы\n",
    "    \n",
    "    GROUP BY date, source_id                                                         -- сгруппируем по дате и источнику рекламы\n",
    "    \n",
    "    ORDER BY date, source_id;                                     -- отсортируем по возрастанию даты и номера источника рекламы\n",
    "'''"
   ]
  },
  {
   "cell_type": "code",
   "execution_count": 34,
   "metadata": {},
   "outputs": [],
   "source": [
    "adv_source_per_user_costs = pd.io.sql.read_sql(adv_source_per_user_costs, con = engine)"
   ]
  },
  {
   "cell_type": "code",
   "execution_count": 35,
   "metadata": {},
   "outputs": [
    {
     "data": {
      "text/html": [
       "<div>\n",
       "<style scoped>\n",
       "    .dataframe tbody tr th:only-of-type {\n",
       "        vertical-align: middle;\n",
       "    }\n",
       "\n",
       "    .dataframe tbody tr th {\n",
       "        vertical-align: top;\n",
       "    }\n",
       "\n",
       "    .dataframe thead th {\n",
       "        text-align: right;\n",
       "    }\n",
       "</style>\n",
       "<table border=\"1\" class=\"dataframe\">\n",
       "  <thead>\n",
       "    <tr style=\"text-align: right;\">\n",
       "      <th></th>\n",
       "      <th>date</th>\n",
       "      <th>source_id</th>\n",
       "      <th>visits</th>\n",
       "      <th>costs</th>\n",
       "      <th>dacus</th>\n",
       "    </tr>\n",
       "  </thead>\n",
       "  <tbody>\n",
       "    <tr>\n",
       "      <td>0</td>\n",
       "      <td>2017-06-01</td>\n",
       "      <td>1</td>\n",
       "      <td>68</td>\n",
       "      <td>75.20</td>\n",
       "      <td>1.105882</td>\n",
       "    </tr>\n",
       "    <tr>\n",
       "      <td>1</td>\n",
       "      <td>2017-06-01</td>\n",
       "      <td>2</td>\n",
       "      <td>85</td>\n",
       "      <td>132.56</td>\n",
       "      <td>1.559529</td>\n",
       "    </tr>\n",
       "    <tr>\n",
       "      <td>2</td>\n",
       "      <td>2017-06-01</td>\n",
       "      <td>3</td>\n",
       "      <td>185</td>\n",
       "      <td>349.38</td>\n",
       "      <td>1.888541</td>\n",
       "    </tr>\n",
       "    <tr>\n",
       "      <td>3</td>\n",
       "      <td>2017-06-01</td>\n",
       "      <td>4</td>\n",
       "      <td>141</td>\n",
       "      <td>76.74</td>\n",
       "      <td>0.544255</td>\n",
       "    </tr>\n",
       "    <tr>\n",
       "      <td>4</td>\n",
       "      <td>2017-06-01</td>\n",
       "      <td>5</td>\n",
       "      <td>121</td>\n",
       "      <td>73.24</td>\n",
       "      <td>0.605289</td>\n",
       "    </tr>\n",
       "    <tr>\n",
       "      <td>...</td>\n",
       "      <td>...</td>\n",
       "      <td>...</td>\n",
       "      <td>...</td>\n",
       "      <td>...</td>\n",
       "      <td>...</td>\n",
       "    </tr>\n",
       "    <tr>\n",
       "      <td>2536</td>\n",
       "      <td>2018-05-31</td>\n",
       "      <td>3</td>\n",
       "      <td>404</td>\n",
       "      <td>822.30</td>\n",
       "      <td>2.035396</td>\n",
       "    </tr>\n",
       "    <tr>\n",
       "      <td>2537</td>\n",
       "      <td>2018-05-31</td>\n",
       "      <td>4</td>\n",
       "      <td>508</td>\n",
       "      <td>492.54</td>\n",
       "      <td>0.969567</td>\n",
       "    </tr>\n",
       "    <tr>\n",
       "      <td>2538</td>\n",
       "      <td>2018-05-31</td>\n",
       "      <td>5</td>\n",
       "      <td>253</td>\n",
       "      <td>398.04</td>\n",
       "      <td>1.573281</td>\n",
       "    </tr>\n",
       "    <tr>\n",
       "      <td>2539</td>\n",
       "      <td>2018-05-31</td>\n",
       "      <td>9</td>\n",
       "      <td>62</td>\n",
       "      <td>27.37</td>\n",
       "      <td>0.441452</td>\n",
       "    </tr>\n",
       "    <tr>\n",
       "      <td>2540</td>\n",
       "      <td>2018-05-31</td>\n",
       "      <td>10</td>\n",
       "      <td>127</td>\n",
       "      <td>17.60</td>\n",
       "      <td>0.138583</td>\n",
       "    </tr>\n",
       "  </tbody>\n",
       "</table>\n",
       "<p>2541 rows × 5 columns</p>\n",
       "</div>"
      ],
      "text/plain": [
       "            date  source_id  visits   costs     dacus\n",
       "0     2017-06-01          1      68   75.20  1.105882\n",
       "1     2017-06-01          2      85  132.56  1.559529\n",
       "2     2017-06-01          3     185  349.38  1.888541\n",
       "3     2017-06-01          4     141   76.74  0.544255\n",
       "4     2017-06-01          5     121   73.24  0.605289\n",
       "...          ...        ...     ...     ...       ...\n",
       "2536  2018-05-31          3     404  822.30  2.035396\n",
       "2537  2018-05-31          4     508  492.54  0.969567\n",
       "2538  2018-05-31          5     253  398.04  1.573281\n",
       "2539  2018-05-31          9      62   27.37  0.441452\n",
       "2540  2018-05-31         10     127   17.60  0.138583\n",
       "\n",
       "[2541 rows x 5 columns]"
      ]
     },
     "execution_count": 35,
     "metadata": {},
     "output_type": "execute_result"
    }
   ],
   "source": [
    "adv_source_per_user_costs"
   ]
  },
  {
   "cell_type": "markdown",
   "metadata": {},
   "source": [
    "---"
   ]
  },
  {
   "cell_type": "markdown",
   "metadata": {},
   "source": [
    "Проверим в pandas."
   ]
  },
  {
   "cell_type": "code",
   "execution_count": 36,
   "metadata": {},
   "outputs": [],
   "source": [
    "# оставим в столбце с датой и временем только дату\n",
    "visits['startts'] = visits['startts'].astype('datetime64[D]')\n",
    "visits = visits.rename(columns = {\"startts\" : \"date\"})"
   ]
  },
  {
   "cell_type": "code",
   "execution_count": 37,
   "metadata": {},
   "outputs": [],
   "source": [
    "# оставим в столбце с датой и временем только дату\n",
    "adv_costs['dt'] = adv_costs['dt'].astype('datetime64[D]')\n",
    "adv_costs = adv_costs.rename(columns = {\"dt\" : \"date\"})"
   ]
  },
  {
   "cell_type": "code",
   "execution_count": 38,
   "metadata": {},
   "outputs": [],
   "source": [
    "# сгруппируем по дате и источнику рекламы\n",
    "visits = visits.groupby(['date', 'sourceid'])['uid'].count().reset_index()\n",
    "visits = visits.rename(columns = {\"uid\" : \"visits\"})"
   ]
  },
  {
   "cell_type": "code",
   "execution_count": 39,
   "metadata": {},
   "outputs": [],
   "source": [
    "# соединим датасеты по условию равенства date и sourceid (inner merge)\n",
    "dacus = pd.merge(adv_costs, visits, on=['date', 'sourceid'], how = 'inner')"
   ]
  },
  {
   "cell_type": "code",
   "execution_count": 40,
   "metadata": {},
   "outputs": [],
   "source": [
    "# отбросим лишний столбец, отсортируем по возрастанию даты и номера рекламного источника\n",
    "dacus = dacus.drop('id', axis = 1).sort_values(by = ['date','sourceid'])"
   ]
  },
  {
   "cell_type": "code",
   "execution_count": 41,
   "metadata": {},
   "outputs": [],
   "source": [
    "# расчитаем метрику DACUS как отношение ежедневных затрат по каждому источнику \n",
    "# к количеству ежедневных посетителей от этого источника\n",
    "dacus['dacus'] = (dacus['costs']/ dacus['visits'])"
   ]
  },
  {
   "cell_type": "code",
   "execution_count": 42,
   "metadata": {},
   "outputs": [
    {
     "data": {
      "text/html": [
       "<div>\n",
       "<style scoped>\n",
       "    .dataframe tbody tr th:only-of-type {\n",
       "        vertical-align: middle;\n",
       "    }\n",
       "\n",
       "    .dataframe tbody tr th {\n",
       "        vertical-align: top;\n",
       "    }\n",
       "\n",
       "    .dataframe thead th {\n",
       "        text-align: right;\n",
       "    }\n",
       "</style>\n",
       "<table border=\"1\" class=\"dataframe\">\n",
       "  <thead>\n",
       "    <tr style=\"text-align: right;\">\n",
       "      <th></th>\n",
       "      <th>sourceid</th>\n",
       "      <th>date</th>\n",
       "      <th>costs</th>\n",
       "      <th>visits</th>\n",
       "      <th>dacus</th>\n",
       "    </tr>\n",
       "  </thead>\n",
       "  <tbody>\n",
       "    <tr>\n",
       "      <td>0</td>\n",
       "      <td>1</td>\n",
       "      <td>2017-06-01</td>\n",
       "      <td>75.20</td>\n",
       "      <td>68</td>\n",
       "      <td>1.105882</td>\n",
       "    </tr>\n",
       "    <tr>\n",
       "      <td>363</td>\n",
       "      <td>2</td>\n",
       "      <td>2017-06-01</td>\n",
       "      <td>132.56</td>\n",
       "      <td>85</td>\n",
       "      <td>1.559529</td>\n",
       "    </tr>\n",
       "    <tr>\n",
       "      <td>726</td>\n",
       "      <td>3</td>\n",
       "      <td>2017-06-01</td>\n",
       "      <td>349.38</td>\n",
       "      <td>185</td>\n",
       "      <td>1.888541</td>\n",
       "    </tr>\n",
       "    <tr>\n",
       "      <td>1089</td>\n",
       "      <td>4</td>\n",
       "      <td>2017-06-01</td>\n",
       "      <td>76.74</td>\n",
       "      <td>141</td>\n",
       "      <td>0.544255</td>\n",
       "    </tr>\n",
       "    <tr>\n",
       "      <td>1452</td>\n",
       "      <td>5</td>\n",
       "      <td>2017-06-01</td>\n",
       "      <td>73.24</td>\n",
       "      <td>121</td>\n",
       "      <td>0.605289</td>\n",
       "    </tr>\n",
       "  </tbody>\n",
       "</table>\n",
       "</div>"
      ],
      "text/plain": [
       "      sourceid       date   costs  visits     dacus\n",
       "0            1 2017-06-01   75.20      68  1.105882\n",
       "363          2 2017-06-01  132.56      85  1.559529\n",
       "726          3 2017-06-01  349.38     185  1.888541\n",
       "1089         4 2017-06-01   76.74     141  0.544255\n",
       "1452         5 2017-06-01   73.24     121  0.605289"
      ]
     },
     "execution_count": 42,
     "metadata": {},
     "output_type": "execute_result"
    }
   ],
   "source": [
    "dacus.head()"
   ]
  },
  {
   "cell_type": "code",
   "execution_count": 43,
   "metadata": {},
   "outputs": [
    {
     "data": {
      "text/plain": [
       "2541"
      ]
     },
     "execution_count": 43,
     "metadata": {},
     "output_type": "execute_result"
    }
   ],
   "source": [
    "len(dacus)"
   ]
  },
  {
   "cell_type": "code",
   "execution_count": 44,
   "metadata": {},
   "outputs": [
    {
     "data": {
      "text/plain": [
       "count    2541.00\n",
       "mean        0.93\n",
       "std         0.68\n",
       "min         0.00\n",
       "25%         0.52\n",
       "50%         0.78\n",
       "75%         1.16\n",
       "max        12.10\n",
       "Name: dacus, dtype: float64"
      ]
     },
     "execution_count": 44,
     "metadata": {},
     "output_type": "execute_result"
    }
   ],
   "source": [
    "dacus['dacus'].describe().round(2)"
   ]
  },
  {
   "cell_type": "markdown",
   "metadata": {},
   "source": [
    "Дневные затраты на рекламу на пользователя по источнику в среднем (медианное значение) составляют `0.78$`."
   ]
  }
 ],
 "metadata": {
  "kernelspec": {
   "display_name": "Python 3",
   "language": "python",
   "name": "python3"
  },
  "language_info": {
   "codemirror_mode": {
    "name": "ipython",
    "version": 3
   },
   "file_extension": ".py",
   "mimetype": "text/x-python",
   "name": "python",
   "nbconvert_exporter": "python",
   "pygments_lexer": "ipython3",
   "version": "3.7.4"
  },
  "toc": {
   "base_numbering": 1,
   "nav_menu": {},
   "number_sections": false,
   "sideBar": true,
   "skip_h1_title": false,
   "title_cell": "Table of Contents",
   "title_sidebar": "Contents",
   "toc_cell": false,
   "toc_position": {},
   "toc_section_display": true,
   "toc_window_display": true
  }
 },
 "nbformat": 4,
 "nbformat_minor": 2
}
