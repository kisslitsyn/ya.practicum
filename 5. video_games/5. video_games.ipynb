{
 "cells": [
  {
   "cell_type": "markdown",
   "metadata": {},
   "source": [
    "# Комментарий наставника\n",
    "Привет! Все отлично. \n",
    "Я написал один небольшой комментарий по ходу работы, но это скорее подсказка-пожелание. \n",
    "\n",
    "Я очень рад, что ты заменил tbd на nan и что не стал менять na-значения хоть на что-либо. А просто вовремя исключил их из рассмотрения"
   ]
  },
  {
   "cell_type": "markdown",
   "metadata": {},
   "source": [
    "## 0. Описание проекта\n",
    "Вы работаете в компании, которая осуществляет продажу компьютерных игр через интернет-магазин и в сети офлайн магазинов. Одно из ключевых преимуществ компаний — это анализ данных при планировании закупок и рекламных компаний. Ваша задача проанализировать накопленные данные о продажах в разные года, определить тренды и проверить гипотезы. Ваш основной результат — итоговая рекомендация руководству компании о том, на каких играх стоит сосредоточиться в будущем году.\n",
    "В наборе данных попадается аббревиатура ESRB (Entertainment Software Rating Board) — это ассоциация, определяющая возрастной рейтинг компьютерных игр. ESRB оценивает игровой контент и присваивает ему подходящую возрастную категорию, например, «Для взрослых», «Для детей младшего возраста» или «Для подростков»."
   ]
  },
  {
   "cell_type": "markdown",
   "metadata": {},
   "source": [
    "## 1. Общая информация"
   ]
  },
  {
   "cell_type": "code",
   "execution_count": 1,
   "metadata": {},
   "outputs": [],
   "source": [
    "import pandas as pd\n",
    "import numpy as np\n",
    "import math\n",
    "import matplotlib.pyplot as plt\n",
    "from scipy import stats as st\n",
    "\n",
    "pd.set_option('display.max_columns', None)\n",
    "pd.set_option('display.max_rows', None)\n",
    "\n",
    "# данные о продажах в разные года\n",
    "games_data = pd.read_csv ('/datasets/games_data.csv')\n",
    "\n",
    "# данные о возрастном рейтинге ESRB\n",
    "rating = pd.read_csv ('/datasets/rating.csv')"
   ]
  },
  {
   "cell_type": "markdown",
   "metadata": {},
   "source": [
    "Описание данных:\n",
    "\n",
    "- platform — платформа;\n",
    "- sales_year — год продажи;\n",
    "- genre — жанр игры;\n",
    "- online — количество продаж (в сотнях тысяч);\n",
    "- offline — количество продаж (в сотнях тысяч);\n",
    "- critic_score — оценка критиков (максимум 100);\n",
    "- user_score — оценка пользователей (максимум 10);\n",
    "- rating — возрастной рейтинг ESRB;\n",
    "- game_id — id игры."
   ]
  },
  {
   "cell_type": "code",
   "execution_count": 2,
   "metadata": {},
   "outputs": [
    {
     "name": "stdout",
     "output_type": "stream",
     "text": [
      "<class 'pandas.core.frame.DataFrame'>\n",
      "RangeIndex: 4026 entries, 0 to 4025\n",
      "Data columns (total 9 columns):\n",
      "platform        4026 non-null object\n",
      "sales_year      4026 non-null float64\n",
      "genre           4026 non-null object\n",
      "online          4026 non-null float64\n",
      "offline         4026 non-null float64\n",
      "critic_score    1812 non-null float64\n",
      "user_score      2382 non-null object\n",
      "rating          2315 non-null object\n",
      "game_id         4026 non-null int64\n",
      "dtypes: float64(4), int64(1), object(4)\n",
      "memory usage: 283.2+ KB\n"
     ]
    },
    {
     "data": {
      "text/html": [
       "<div>\n",
       "<style scoped>\n",
       "    .dataframe tbody tr th:only-of-type {\n",
       "        vertical-align: middle;\n",
       "    }\n",
       "\n",
       "    .dataframe tbody tr th {\n",
       "        vertical-align: top;\n",
       "    }\n",
       "\n",
       "    .dataframe thead th {\n",
       "        text-align: right;\n",
       "    }\n",
       "</style>\n",
       "<table border=\"1\" class=\"dataframe\">\n",
       "  <thead>\n",
       "    <tr style=\"text-align: right;\">\n",
       "      <th></th>\n",
       "      <th>platform</th>\n",
       "      <th>sales_year</th>\n",
       "      <th>genre</th>\n",
       "      <th>online</th>\n",
       "      <th>offline</th>\n",
       "      <th>critic_score</th>\n",
       "      <th>user_score</th>\n",
       "      <th>rating</th>\n",
       "      <th>game_id</th>\n",
       "    </tr>\n",
       "  </thead>\n",
       "  <tbody>\n",
       "    <tr>\n",
       "      <th>0</th>\n",
       "      <td>PS3</td>\n",
       "      <td>2017.0</td>\n",
       "      <td>Action</td>\n",
       "      <td>702.0</td>\n",
       "      <td>909.0</td>\n",
       "      <td>97.0</td>\n",
       "      <td>8.2</td>\n",
       "      <td>M</td>\n",
       "      <td>20838</td>\n",
       "    </tr>\n",
       "    <tr>\n",
       "      <th>1</th>\n",
       "      <td>X360</td>\n",
       "      <td>2017.0</td>\n",
       "      <td>Action</td>\n",
       "      <td>966.0</td>\n",
       "      <td>514.0</td>\n",
       "      <td>97.0</td>\n",
       "      <td>8.1</td>\n",
       "      <td>M</td>\n",
       "      <td>48673</td>\n",
       "    </tr>\n",
       "    <tr>\n",
       "      <th>2</th>\n",
       "      <td>X360</td>\n",
       "      <td>2017.0</td>\n",
       "      <td>Shooter</td>\n",
       "      <td>904.0</td>\n",
       "      <td>424.0</td>\n",
       "      <td>88.0</td>\n",
       "      <td>3.4</td>\n",
       "      <td>M</td>\n",
       "      <td>17801</td>\n",
       "    </tr>\n",
       "    <tr>\n",
       "      <th>3</th>\n",
       "      <td>PS4</td>\n",
       "      <td>2015.0</td>\n",
       "      <td>Shooter</td>\n",
       "      <td>603.0</td>\n",
       "      <td>586.0</td>\n",
       "      <td>NaN</td>\n",
       "      <td>NaN</td>\n",
       "      <td>NaN</td>\n",
       "      <td>12200</td>\n",
       "    </tr>\n",
       "    <tr>\n",
       "      <th>4</th>\n",
       "      <td>3DS</td>\n",
       "      <td>2017.0</td>\n",
       "      <td>Role-Playing</td>\n",
       "      <td>528.0</td>\n",
       "      <td>419.0</td>\n",
       "      <td>NaN</td>\n",
       "      <td>NaN</td>\n",
       "      <td>NaN</td>\n",
       "      <td>11432</td>\n",
       "    </tr>\n",
       "  </tbody>\n",
       "</table>\n",
       "</div>"
      ],
      "text/plain": [
       "  platform  sales_year         genre  online  offline  critic_score  \\\n",
       "0      PS3      2017.0        Action   702.0    909.0          97.0   \n",
       "1     X360      2017.0        Action   966.0    514.0          97.0   \n",
       "2     X360      2017.0       Shooter   904.0    424.0          88.0   \n",
       "3      PS4      2015.0       Shooter   603.0    586.0           NaN   \n",
       "4      3DS      2017.0  Role-Playing   528.0    419.0           NaN   \n",
       "\n",
       "  user_score rating  game_id  \n",
       "0        8.2      M    20838  \n",
       "1        8.1      M    48673  \n",
       "2        3.4      M    17801  \n",
       "3        NaN    NaN    12200  \n",
       "4        NaN    NaN    11432  "
      ]
     },
     "execution_count": 2,
     "metadata": {},
     "output_type": "execute_result"
    }
   ],
   "source": [
    "# выведем информацию о наборе данных\n",
    "games_data.info()\n",
    " \n",
    "# и первые строки датасета\n",
    "games_data.head()"
   ]
  },
  {
   "cell_type": "code",
   "execution_count": 3,
   "metadata": {},
   "outputs": [
    {
     "name": "stdout",
     "output_type": "stream",
     "text": [
      "<class 'pandas.core.frame.DataFrame'>\n",
      "RangeIndex: 8 entries, 0 to 7\n",
      "Data columns (total 2 columns):\n",
      "rating_type    8 non-null object\n",
      "decryption     8 non-null object\n",
      "dtypes: object(2)\n",
      "memory usage: 208.0+ bytes\n"
     ]
    },
    {
     "data": {
      "text/html": [
       "<div>\n",
       "<style scoped>\n",
       "    .dataframe tbody tr th:only-of-type {\n",
       "        vertical-align: middle;\n",
       "    }\n",
       "\n",
       "    .dataframe tbody tr th {\n",
       "        vertical-align: top;\n",
       "    }\n",
       "\n",
       "    .dataframe thead th {\n",
       "        text-align: right;\n",
       "    }\n",
       "</style>\n",
       "<table border=\"1\" class=\"dataframe\">\n",
       "  <thead>\n",
       "    <tr style=\"text-align: right;\">\n",
       "      <th></th>\n",
       "      <th>rating_type</th>\n",
       "      <th>decryption</th>\n",
       "    </tr>\n",
       "  </thead>\n",
       "  <tbody>\n",
       "    <tr>\n",
       "      <th>0</th>\n",
       "      <td>E</td>\n",
       "      <td>Для всех</td>\n",
       "    </tr>\n",
       "    <tr>\n",
       "      <th>1</th>\n",
       "      <td>M</td>\n",
       "      <td>От 17 лет</td>\n",
       "    </tr>\n",
       "    <tr>\n",
       "      <th>2</th>\n",
       "      <td>T</td>\n",
       "      <td>Подросткам 13—19 лет</td>\n",
       "    </tr>\n",
       "    <tr>\n",
       "      <th>3</th>\n",
       "      <td>E10+</td>\n",
       "      <td>Для всех старше 10 лет</td>\n",
       "    </tr>\n",
       "    <tr>\n",
       "      <th>4</th>\n",
       "      <td>K-A</td>\n",
       "      <td>Для всех(до 1998 года)</td>\n",
       "    </tr>\n",
       "    <tr>\n",
       "      <th>5</th>\n",
       "      <td>AO</td>\n",
       "      <td>Только для взрослых</td>\n",
       "    </tr>\n",
       "    <tr>\n",
       "      <th>6</th>\n",
       "      <td>EC</td>\n",
       "      <td>Для детей младшего возраста</td>\n",
       "    </tr>\n",
       "    <tr>\n",
       "      <th>7</th>\n",
       "      <td>RP</td>\n",
       "      <td>Рейтинг ожидается</td>\n",
       "    </tr>\n",
       "  </tbody>\n",
       "</table>\n",
       "</div>"
      ],
      "text/plain": [
       "  rating_type                   decryption\n",
       "0           E                     Для всех\n",
       "1           M                    От 17 лет\n",
       "2           T         Подросткам 13—19 лет\n",
       "3        E10+       Для всех старше 10 лет\n",
       "4         K-A       Для всех(до 1998 года)\n",
       "5          AO          Только для взрослых\n",
       "6          EC  Для детей младшего возраста\n",
       "7          RP            Рейтинг ожидается"
      ]
     },
     "execution_count": 3,
     "metadata": {},
     "output_type": "execute_result"
    }
   ],
   "source": [
    "rating.info()\n",
    "rating"
   ]
  },
  {
   "cell_type": "markdown",
   "metadata": {},
   "source": [
    "## 2. Подготовка данных\n",
    "- Посчитайте общее количество продаж и запишите в отдельный столбец.\n",
    "- Приведите данные к нужным типам:\n",
    "    - опишите, в каких столбцах пришлось заменить тип данных и почему\n",
    "- Обработайте пропуски при необходимости:\n",
    "    - если вы решили заполнить пропуски определённым образом или не заполнять совсем — объясните, почему;\n",
    "    - опишите возможные причины возникновения пропусков;\n",
    "    - обратите внимание на аббревиатуру 'tbd' в столбцах с рейтингом. Отдельно разберите это значение и опишите, как его обработать."
   ]
  },
  {
   "cell_type": "code",
   "execution_count": 4,
   "metadata": {},
   "outputs": [],
   "source": [
    "# изменим названия столбцов\n",
    "change_column_names_dict = {\"online\": \"sales_online\", \\\n",
    "                            \"offline\": \"sales_offline\"}\n",
    "games_data = games_data.rename(columns = change_column_names_dict)"
   ]
  },
  {
   "cell_type": "code",
   "execution_count": 5,
   "metadata": {},
   "outputs": [],
   "source": [
    "# добавим столбец с общим количеством продаж (в сотнях тысяч)\n",
    "games_data['sales_overall'] = games_data.sales_online + games_data.sales_offline"
   ]
  },
  {
   "cell_type": "markdown",
   "metadata": {},
   "source": [
    "Удалим (заменим на NaN) значения 'tbd' в столбце 'user_score', поскольку эти значения не дают никакой дополнительной информации и всё ещё являются неизвестными.\n",
    "\n",
    "Остальные пропуски ('critic_score', 'user_score', 'raiting') нельзя заполнить, используя значения других столбцов, поэтому оставим их без изменений."
   ]
  },
  {
   "cell_type": "code",
   "execution_count": 6,
   "metadata": {},
   "outputs": [
    {
     "data": {
      "text/html": [
       "<div>\n",
       "<style scoped>\n",
       "    .dataframe tbody tr th:only-of-type {\n",
       "        vertical-align: middle;\n",
       "    }\n",
       "\n",
       "    .dataframe tbody tr th {\n",
       "        vertical-align: top;\n",
       "    }\n",
       "\n",
       "    .dataframe thead th {\n",
       "        text-align: right;\n",
       "    }\n",
       "</style>\n",
       "<table border=\"1\" class=\"dataframe\">\n",
       "  <thead>\n",
       "    <tr style=\"text-align: right;\">\n",
       "      <th></th>\n",
       "      <th>platform</th>\n",
       "      <th>sales_year</th>\n",
       "      <th>genre</th>\n",
       "      <th>sales_online</th>\n",
       "      <th>sales_offline</th>\n",
       "      <th>critic_score</th>\n",
       "      <th>user_score</th>\n",
       "      <th>rating</th>\n",
       "      <th>game_id</th>\n",
       "      <th>sales_overall</th>\n",
       "    </tr>\n",
       "  </thead>\n",
       "  <tbody>\n",
       "    <tr>\n",
       "      <th>129</th>\n",
       "      <td>Wii</td>\n",
       "      <td>2017.0</td>\n",
       "      <td>Sports</td>\n",
       "      <td>151.0</td>\n",
       "      <td>103.0</td>\n",
       "      <td>NaN</td>\n",
       "      <td>tbd</td>\n",
       "      <td>T</td>\n",
       "      <td>32221</td>\n",
       "      <td>254.0</td>\n",
       "    </tr>\n",
       "    <tr>\n",
       "      <th>278</th>\n",
       "      <td>DS</td>\n",
       "      <td>2017.0</td>\n",
       "      <td>Misc</td>\n",
       "      <td>37.0</td>\n",
       "      <td>96.0</td>\n",
       "      <td>NaN</td>\n",
       "      <td>tbd</td>\n",
       "      <td>E</td>\n",
       "      <td>47337</td>\n",
       "      <td>133.0</td>\n",
       "    </tr>\n",
       "    <tr>\n",
       "      <th>414</th>\n",
       "      <td>DS</td>\n",
       "      <td>2017.0</td>\n",
       "      <td>Action</td>\n",
       "      <td>61.0</td>\n",
       "      <td>38.0</td>\n",
       "      <td>66.0</td>\n",
       "      <td>tbd</td>\n",
       "      <td>E</td>\n",
       "      <td>41813</td>\n",
       "      <td>99.0</td>\n",
       "    </tr>\n",
       "    <tr>\n",
       "      <th>475</th>\n",
       "      <td>Wii</td>\n",
       "      <td>2015.0</td>\n",
       "      <td>Misc</td>\n",
       "      <td>41.0</td>\n",
       "      <td>46.0</td>\n",
       "      <td>NaN</td>\n",
       "      <td>tbd</td>\n",
       "      <td>E10+</td>\n",
       "      <td>10710</td>\n",
       "      <td>87.0</td>\n",
       "    </tr>\n",
       "    <tr>\n",
       "      <th>476</th>\n",
       "      <td>Wii</td>\n",
       "      <td>2018.0</td>\n",
       "      <td>Action</td>\n",
       "      <td>41.0</td>\n",
       "      <td>46.0</td>\n",
       "      <td>NaN</td>\n",
       "      <td>tbd</td>\n",
       "      <td>E10+</td>\n",
       "      <td>34150</td>\n",
       "      <td>87.0</td>\n",
       "    </tr>\n",
       "  </tbody>\n",
       "</table>\n",
       "</div>"
      ],
      "text/plain": [
       "    platform  sales_year   genre  sales_online  sales_offline  critic_score  \\\n",
       "129      Wii      2017.0  Sports         151.0          103.0           NaN   \n",
       "278       DS      2017.0    Misc          37.0           96.0           NaN   \n",
       "414       DS      2017.0  Action          61.0           38.0          66.0   \n",
       "475      Wii      2015.0    Misc          41.0           46.0           NaN   \n",
       "476      Wii      2018.0  Action          41.0           46.0           NaN   \n",
       "\n",
       "    user_score rating  game_id  sales_overall  \n",
       "129        tbd      T    32221          254.0  \n",
       "278        tbd      E    47337          133.0  \n",
       "414        tbd      E    41813           99.0  \n",
       "475        tbd   E10+    10710           87.0  \n",
       "476        tbd   E10+    34150           87.0  "
      ]
     },
     "execution_count": 6,
     "metadata": {},
     "output_type": "execute_result"
    }
   ],
   "source": [
    "games_data[games_data['user_score'] == 'tbd'].head()"
   ]
  },
  {
   "cell_type": "code",
   "execution_count": 7,
   "metadata": {},
   "outputs": [],
   "source": [
    "games_data.loc[games_data.loc[:,'user_score'] == 'tbd', 'user_score'] = np.nan"
   ]
  },
  {
   "cell_type": "markdown",
   "metadata": {},
   "source": [
    "Приведем данные в столбце с годом продажи к целочисленному типу, а в столбце с оценкой пользователей к численному типу."
   ]
  },
  {
   "cell_type": "code",
   "execution_count": 8,
   "metadata": {},
   "outputs": [],
   "source": [
    "games_data.sales_year = games_data.sales_year.astype('int')\n",
    "games_data['user_score'] = pd.to_numeric(games_data['user_score'], errors='raise')"
   ]
  },
  {
   "cell_type": "code",
   "execution_count": 9,
   "metadata": {},
   "outputs": [
    {
     "data": {
      "text/html": [
       "<div>\n",
       "<style scoped>\n",
       "    .dataframe tbody tr th:only-of-type {\n",
       "        vertical-align: middle;\n",
       "    }\n",
       "\n",
       "    .dataframe tbody tr th {\n",
       "        vertical-align: top;\n",
       "    }\n",
       "\n",
       "    .dataframe thead th {\n",
       "        text-align: right;\n",
       "    }\n",
       "</style>\n",
       "<table border=\"1\" class=\"dataframe\">\n",
       "  <thead>\n",
       "    <tr style=\"text-align: right;\">\n",
       "      <th></th>\n",
       "      <th>platform</th>\n",
       "      <th>sales_year</th>\n",
       "      <th>genre</th>\n",
       "      <th>sales_online</th>\n",
       "      <th>sales_offline</th>\n",
       "      <th>critic_score</th>\n",
       "      <th>user_score</th>\n",
       "      <th>rating</th>\n",
       "      <th>game_id</th>\n",
       "      <th>sales_overall</th>\n",
       "    </tr>\n",
       "  </thead>\n",
       "  <tbody>\n",
       "    <tr>\n",
       "      <th>0</th>\n",
       "      <td>PS3</td>\n",
       "      <td>2017</td>\n",
       "      <td>Action</td>\n",
       "      <td>702.0</td>\n",
       "      <td>909.0</td>\n",
       "      <td>97.0</td>\n",
       "      <td>8.2</td>\n",
       "      <td>M</td>\n",
       "      <td>20838</td>\n",
       "      <td>1611.0</td>\n",
       "    </tr>\n",
       "    <tr>\n",
       "      <th>1</th>\n",
       "      <td>X360</td>\n",
       "      <td>2017</td>\n",
       "      <td>Action</td>\n",
       "      <td>966.0</td>\n",
       "      <td>514.0</td>\n",
       "      <td>97.0</td>\n",
       "      <td>8.1</td>\n",
       "      <td>M</td>\n",
       "      <td>48673</td>\n",
       "      <td>1480.0</td>\n",
       "    </tr>\n",
       "    <tr>\n",
       "      <th>2</th>\n",
       "      <td>X360</td>\n",
       "      <td>2017</td>\n",
       "      <td>Shooter</td>\n",
       "      <td>904.0</td>\n",
       "      <td>424.0</td>\n",
       "      <td>88.0</td>\n",
       "      <td>3.4</td>\n",
       "      <td>M</td>\n",
       "      <td>17801</td>\n",
       "      <td>1328.0</td>\n",
       "    </tr>\n",
       "    <tr>\n",
       "      <th>3</th>\n",
       "      <td>PS4</td>\n",
       "      <td>2015</td>\n",
       "      <td>Shooter</td>\n",
       "      <td>603.0</td>\n",
       "      <td>586.0</td>\n",
       "      <td>NaN</td>\n",
       "      <td>NaN</td>\n",
       "      <td>NaN</td>\n",
       "      <td>12200</td>\n",
       "      <td>1189.0</td>\n",
       "    </tr>\n",
       "    <tr>\n",
       "      <th>4</th>\n",
       "      <td>3DS</td>\n",
       "      <td>2017</td>\n",
       "      <td>Role-Playing</td>\n",
       "      <td>528.0</td>\n",
       "      <td>419.0</td>\n",
       "      <td>NaN</td>\n",
       "      <td>NaN</td>\n",
       "      <td>NaN</td>\n",
       "      <td>11432</td>\n",
       "      <td>947.0</td>\n",
       "    </tr>\n",
       "  </tbody>\n",
       "</table>\n",
       "</div>"
      ],
      "text/plain": [
       "  platform  sales_year         genre  sales_online  sales_offline  \\\n",
       "0      PS3        2017        Action         702.0          909.0   \n",
       "1     X360        2017        Action         966.0          514.0   \n",
       "2     X360        2017       Shooter         904.0          424.0   \n",
       "3      PS4        2015       Shooter         603.0          586.0   \n",
       "4      3DS        2017  Role-Playing         528.0          419.0   \n",
       "\n",
       "   critic_score  user_score rating  game_id  sales_overall  \n",
       "0          97.0         8.2      M    20838         1611.0  \n",
       "1          97.0         8.1      M    48673         1480.0  \n",
       "2          88.0         3.4      M    17801         1328.0  \n",
       "3           NaN         NaN    NaN    12200         1189.0  \n",
       "4           NaN         NaN    NaN    11432          947.0  "
      ]
     },
     "execution_count": 9,
     "metadata": {},
     "output_type": "execute_result"
    }
   ],
   "source": [
    "games_data.head()"
   ]
  },
  {
   "cell_type": "markdown",
   "metadata": {},
   "source": [
    "## 3. Исследовательский анализ данных\n",
    "- Постройте распределение количества игр по годам продажи и опишите полученный результат\n",
    "- Постройте распределение по годам продажи для игр с отзывом и без отзыва; cравните полученные распределения и сделайте вывод\n",
    "- Постройте график по суммам продаж каждого года; сделайте вывод\n",
    "- Постройте ящик с усами по общим продажам, опишите полученный результат\n",
    "- Узнайте, на какой платформе было продано больше всего игр\n",
    "- Определите, игр какого жанра больше всего\n",
    "- Найдите игры с наибольшей и наименьшей оценкой от пользователей\n",
    "- Найдите игры с наибольшей и наименьшей оценкой от критиков\n",
    "- Оцените корреляцию между оценками критиков и пользовательскими оценками."
   ]
  },
  {
   "cell_type": "markdown",
   "metadata": {},
   "source": [
    "Построим распределение количества игр по годам продажи."
   ]
  },
  {
   "cell_type": "code",
   "execution_count": 10,
   "metadata": {},
   "outputs": [
    {
     "data": {
      "image/png": "[encoded data removed]",
      "text/plain": [
       "<Figure size 432x288 with 1 Axes>"
      ]
     },
     "metadata": {
      "needs_background": "light"
     },
     "output_type": "display_data"
    },
    {
     "data": {
      "text/html": [
       "<div>\n",
       "<style scoped>\n",
       "    .dataframe tbody tr th:only-of-type {\n",
       "        vertical-align: middle;\n",
       "    }\n",
       "\n",
       "    .dataframe tbody tr th {\n",
       "        vertical-align: top;\n",
       "    }\n",
       "\n",
       "    .dataframe thead th {\n",
       "        text-align: right;\n",
       "    }\n",
       "</style>\n",
       "<table border=\"1\" class=\"dataframe\">\n",
       "  <thead>\n",
       "    <tr style=\"text-align: right;\">\n",
       "      <th></th>\n",
       "      <th>platform</th>\n",
       "    </tr>\n",
       "    <tr>\n",
       "      <th>sales_year</th>\n",
       "      <th></th>\n",
       "    </tr>\n",
       "  </thead>\n",
       "  <tbody>\n",
       "    <tr>\n",
       "      <th>2015</th>\n",
       "      <td>606</td>\n",
       "    </tr>\n",
       "    <tr>\n",
       "      <th>2016</th>\n",
       "      <td>502</td>\n",
       "    </tr>\n",
       "    <tr>\n",
       "      <th>2017</th>\n",
       "      <td>1683</td>\n",
       "    </tr>\n",
       "    <tr>\n",
       "      <th>2018</th>\n",
       "      <td>1235</td>\n",
       "    </tr>\n",
       "  </tbody>\n",
       "</table>\n",
       "</div>"
      ],
      "text/plain": [
       "            platform\n",
       "sales_year          \n",
       "2015             606\n",
       "2016             502\n",
       "2017            1683\n",
       "2018            1235"
      ]
     },
     "execution_count": 10,
     "metadata": {},
     "output_type": "execute_result"
    }
   ],
   "source": [
    "plt.xticks([2015, 2016, 2017, 2018])\n",
    "games_data.sales_year.hist()\n",
    "plt.show()\n",
    "games_data.pivot_table(index='sales_year', values='platform', aggfunc = 'count')"
   ]
  },
  {
   "cell_type": "markdown",
   "metadata": {},
   "source": [
    "В 2017 было продано наибольшее количество игр (1683)."
   ]
  },
  {
   "cell_type": "markdown",
   "metadata": {},
   "source": [
    "Построим распределение количества игр с отзывом и без по годам продажи."
   ]
  },
  {
   "cell_type": "code",
   "execution_count": 11,
   "metadata": {
    "scrolled": false
   },
   "outputs": [
    {
     "name": "stdout",
     "output_type": "stream",
     "text": [
      "Игры с отзывом:\n",
      "            platform\n",
      "sales_year          \n",
      "2015             225\n",
      "2016             232\n",
      "2017             773\n",
      "2018             582 \n",
      "\n",
      "Игры без отзыва:\n",
      "            platform\n",
      "sales_year          \n",
      "2015             381\n",
      "2016             270\n",
      "2017             910\n",
      "2018             653\n"
     ]
    },
    {
     "data": {
      "image/png": "[encoded data removed]",
      "text/plain": [
       "<Figure size 864x216 with 1 Axes>"
      ]
     },
     "metadata": {
      "needs_background": "light"
     },
     "output_type": "display_data"
    }
   ],
   "source": [
    "# игры с отзывом\n",
    "ax = games_data[games_data['critic_score'].isna() == False]\\\n",
    "    .pivot_table(index='sales_year', values='platform', aggfunc = 'count')\\\n",
    "    .plot(grid=True, figsize=(12, 3), style ='o-')\n",
    "\n",
    "print('Игры с отзывом:')\n",
    "print(games_data[games_data['critic_score'].isna() == False]\\\n",
    "    .pivot_table(index='sales_year', values='platform', aggfunc = 'count'),'\\n')\n",
    "\n",
    "# игры без отзыва\n",
    "games_data[games_data['critic_score'].isna() == True]\\\n",
    "    .pivot_table(index='sales_year', values='platform', aggfunc = 'count')\\\n",
    "    .plot(grid=True, figsize=(12, 3), style ='ro-', ax = ax, xticks = [2015,2016,2017,2018])\n",
    "\n",
    "print('Игры без отзыва:')\n",
    "print(games_data[games_data['critic_score'].isna() == True]\\\n",
    "    .pivot_table(index='sales_year', values='platform', aggfunc = 'count'))"
   ]
  },
  {
   "cell_type": "markdown",
   "metadata": {},
   "source": [
    "Независимо от года, количество проданных игр без отзыва (без оценки критиков) больше, чем кол-во проданных игр с отзывом. Также, можно сделать вывод о том, что количество игр с отзывом (с оценкой критиков) меньше половины всех проданных игр."
   ]
  },
  {
   "cell_type": "markdown",
   "metadata": {},
   "source": [
    "Построим график для суммы продаж каждого года."
   ]
  },
  {
   "cell_type": "code",
   "execution_count": 12,
   "metadata": {},
   "outputs": [
    {
     "name": "stdout",
     "output_type": "stream",
     "text": [
      "Суммарные продажи (в сотнях тысяч):\n",
      "            sales_overall\n",
      "sales_year               \n",
      "2015              20358.0\n",
      "2016               9615.0\n",
      "2017              67696.0\n",
      "2018              52313.0\n"
     ]
    },
    {
     "data": {
      "image/png": "[encoded data removed]",
      "text/plain": [
       "<Figure size 864x216 with 1 Axes>"
      ]
     },
     "metadata": {
      "needs_background": "light"
     },
     "output_type": "display_data"
    }
   ],
   "source": [
    "games_data.pivot_table(index='sales_year', values='sales_overall', aggfunc = 'sum')\\\n",
    "    .plot(grid=True, figsize=(12, 3), style ='ro-', xticks = [2015,2016,2017,2018])\n",
    "\n",
    "print('Суммарные продажи (в сотнях тысяч):')\n",
    "print(games_data.pivot_table(index='sales_year', values='sales_overall', aggfunc = 'sum'))"
   ]
  },
  {
   "cell_type": "markdown",
   "metadata": {},
   "source": [
    "В 2017 было продано наибольшее количество копий игр (6.769.600.000)."
   ]
  },
  {
   "cell_type": "markdown",
   "metadata": {},
   "source": [
    "Построим диаграмму размаха для значений общих продаж."
   ]
  },
  {
   "cell_type": "code",
   "execution_count": 13,
   "metadata": {},
   "outputs": [
    {
     "data": {
      "text/plain": [
       "<matplotlib.axes._subplots.AxesSubplot at 0x7fe5171f5fd0>"
      ]
     },
     "execution_count": 13,
     "metadata": {},
     "output_type": "execute_result"
    },
    {
     "data": {
      "image/png": "[encoded data removed]",
      "text/plain": [
       "<Figure size 432x288 with 1 Axes>"
      ]
     },
     "metadata": {
      "needs_background": "light"
     },
     "output_type": "display_data"
    }
   ],
   "source": [
    "games_data.plot(y = 'sales_overall', kind = 'box', grid = 'True', label = 'Общие продажи')"
   ]
  },
  {
   "cell_type": "code",
   "execution_count": 14,
   "metadata": {
    "scrolled": true
   },
   "outputs": [
    {
     "data": {
      "text/plain": [
       "<matplotlib.axes._subplots.AxesSubplot at 0x7fe51718f0b8>"
      ]
     },
     "execution_count": 14,
     "metadata": {},
     "output_type": "execute_result"
    },
    {
     "data": {
      "image/png": "[encoded data removed]",
      "text/plain": [
       "<Figure size 432x288 with 1 Axes>"
      ]
     },
     "metadata": {
      "needs_background": "light"
     },
     "output_type": "display_data"
    }
   ],
   "source": [
    "games_data.plot(y = 'sales_overall', kind = 'hist', grid = 'True', bins = 50, \\\n",
    "                          label = 'Общие продажи', histtype = 'step', linewidth = 2, alpha = 0.7, ylim = (0, 500))"
   ]
  },
  {
   "cell_type": "code",
   "execution_count": 15,
   "metadata": {
    "scrolled": false
   },
   "outputs": [
    {
     "data": {
      "text/plain": [
       "count    4026.000000\n",
       "mean       37.253353\n",
       "std        99.359061\n",
       "min         0.000000\n",
       "25%         0.000000\n",
       "50%         8.000000\n",
       "75%        31.000000\n",
       "max      1611.000000\n",
       "Name: sales_overall, dtype: float64"
      ]
     },
     "execution_count": 15,
     "metadata": {},
     "output_type": "execute_result"
    }
   ],
   "source": [
    "games_data.sales_overall.describe()"
   ]
  },
  {
   "cell_type": "markdown",
   "metadata": {},
   "source": [
    "По диаграмме размаха сложно сделать какой-либо вывод, но судя по характеристикам распределения, среднее кол-во проданных копий игры - 3.7 млн."
   ]
  },
  {
   "cell_type": "markdown",
   "metadata": {},
   "source": [
    "Определим платформу с наибольшим количеством проданных копий игр."
   ]
  },
  {
   "cell_type": "code",
   "execution_count": 16,
   "metadata": {},
   "outputs": [
    {
     "data": {
      "text/html": [
       "<div>\n",
       "<style scoped>\n",
       "    .dataframe tbody tr th:only-of-type {\n",
       "        vertical-align: middle;\n",
       "    }\n",
       "\n",
       "    .dataframe tbody tr th {\n",
       "        vertical-align: top;\n",
       "    }\n",
       "\n",
       "    .dataframe thead th {\n",
       "        text-align: right;\n",
       "    }\n",
       "</style>\n",
       "<table border=\"1\" class=\"dataframe\">\n",
       "  <thead>\n",
       "    <tr style=\"text-align: right;\">\n",
       "      <th></th>\n",
       "      <th>sales_overall</th>\n",
       "    </tr>\n",
       "    <tr>\n",
       "      <th>platform</th>\n",
       "      <th></th>\n",
       "    </tr>\n",
       "  </thead>\n",
       "  <tbody>\n",
       "    <tr>\n",
       "      <th>X360</th>\n",
       "      <td>34390.0</td>\n",
       "    </tr>\n",
       "    <tr>\n",
       "      <th>PS3</th>\n",
       "      <td>33136.0</td>\n",
       "    </tr>\n",
       "    <tr>\n",
       "      <th>PS4</th>\n",
       "      <td>24983.0</td>\n",
       "    </tr>\n",
       "    <tr>\n",
       "      <th>XOne</th>\n",
       "      <td>14471.0</td>\n",
       "    </tr>\n",
       "    <tr>\n",
       "      <th>3DS</th>\n",
       "      <td>14392.0</td>\n",
       "    </tr>\n",
       "  </tbody>\n",
       "</table>\n",
       "</div>"
      ],
      "text/plain": [
       "          sales_overall\n",
       "platform               \n",
       "X360            34390.0\n",
       "PS3             33136.0\n",
       "PS4             24983.0\n",
       "XOne            14471.0\n",
       "3DS             14392.0"
      ]
     },
     "execution_count": 16,
     "metadata": {},
     "output_type": "execute_result"
    }
   ],
   "source": [
    "games_data.pivot_table(index='platform', values='sales_overall', aggfunc = 'sum')\\\n",
    "          .sort_values(by = 'sales_overall', ascending = False).head()"
   ]
  },
  {
   "cell_type": "markdown",
   "metadata": {},
   "source": [
    "На платформе X360 было продано наибольшее количество копий игр ~3.4 млрд. "
   ]
  },
  {
   "cell_type": "markdown",
   "metadata": {},
   "source": [
    "Найдём, игр какого жанра больше всего."
   ]
  },
  {
   "cell_type": "code",
   "execution_count": 17,
   "metadata": {},
   "outputs": [
    {
     "data": {
      "text/html": [
       "<div>\n",
       "<style scoped>\n",
       "    .dataframe tbody tr th:only-of-type {\n",
       "        vertical-align: middle;\n",
       "    }\n",
       "\n",
       "    .dataframe tbody tr th {\n",
       "        vertical-align: top;\n",
       "    }\n",
       "\n",
       "    .dataframe thead th {\n",
       "        text-align: right;\n",
       "    }\n",
       "</style>\n",
       "<table border=\"1\" class=\"dataframe\">\n",
       "  <thead>\n",
       "    <tr style=\"text-align: right;\">\n",
       "      <th></th>\n",
       "      <th>sales_overall</th>\n",
       "    </tr>\n",
       "    <tr>\n",
       "      <th>genre</th>\n",
       "      <th></th>\n",
       "    </tr>\n",
       "  </thead>\n",
       "  <tbody>\n",
       "    <tr>\n",
       "      <th>Action</th>\n",
       "      <td>1270</td>\n",
       "    </tr>\n",
       "    <tr>\n",
       "      <th>Role-Playing</th>\n",
       "      <td>467</td>\n",
       "    </tr>\n",
       "    <tr>\n",
       "      <th>Adventure</th>\n",
       "      <td>410</td>\n",
       "    </tr>\n",
       "    <tr>\n",
       "      <th>Sports</th>\n",
       "      <td>389</td>\n",
       "    </tr>\n",
       "    <tr>\n",
       "      <th>Misc</th>\n",
       "      <td>375</td>\n",
       "    </tr>\n",
       "  </tbody>\n",
       "</table>\n",
       "</div>"
      ],
      "text/plain": [
       "              sales_overall\n",
       "genre                      \n",
       "Action                 1270\n",
       "Role-Playing            467\n",
       "Adventure               410\n",
       "Sports                  389\n",
       "Misc                    375"
      ]
     },
     "execution_count": 17,
     "metadata": {},
     "output_type": "execute_result"
    }
   ],
   "source": [
    "games_data.pivot_table(index='genre', values='sales_overall', aggfunc = 'count')\\\n",
    "          .sort_values(by = 'sales_overall', ascending = False).head()"
   ]
  },
  {
   "cell_type": "markdown",
   "metadata": {},
   "source": [
    "Больше всего игр в жанре Action - 1270 шт."
   ]
  },
  {
   "cell_type": "code",
   "execution_count": 18,
   "metadata": {},
   "outputs": [],
   "source": [
    "pd.set_option('display.max_rows', 10)"
   ]
  },
  {
   "cell_type": "markdown",
   "metadata": {},
   "source": [
    "Найдём игры с самой высокой и самой низкой оценкой от критиков. Несмотря на то, что в наборе данных встречаются игры с одинаковым ID, будем считать такие игры разными, потому что они вышли на разных платформах."
   ]
  },
  {
   "cell_type": "code",
   "execution_count": 19,
   "metadata": {},
   "outputs": [
    {
     "data": {
      "text/html": [
       "<div>\n",
       "<style scoped>\n",
       "    .dataframe tbody tr th:only-of-type {\n",
       "        vertical-align: middle;\n",
       "    }\n",
       "\n",
       "    .dataframe tbody tr th {\n",
       "        vertical-align: top;\n",
       "    }\n",
       "\n",
       "    .dataframe thead th {\n",
       "        text-align: right;\n",
       "    }\n",
       "</style>\n",
       "<table border=\"1\" class=\"dataframe\">\n",
       "  <thead>\n",
       "    <tr style=\"text-align: right;\">\n",
       "      <th></th>\n",
       "      <th>platform</th>\n",
       "      <th>sales_year</th>\n",
       "      <th>genre</th>\n",
       "      <th>sales_online</th>\n",
       "      <th>sales_offline</th>\n",
       "      <th>critic_score</th>\n",
       "      <th>user_score</th>\n",
       "      <th>rating</th>\n",
       "      <th>game_id</th>\n",
       "      <th>sales_overall</th>\n",
       "    </tr>\n",
       "  </thead>\n",
       "  <tbody>\n",
       "    <tr>\n",
       "      <th>0</th>\n",
       "      <td>PS3</td>\n",
       "      <td>2017</td>\n",
       "      <td>Action</td>\n",
       "      <td>702.0</td>\n",
       "      <td>909.0</td>\n",
       "      <td>97.0</td>\n",
       "      <td>8.2</td>\n",
       "      <td>M</td>\n",
       "      <td>20838</td>\n",
       "      <td>1611.0</td>\n",
       "    </tr>\n",
       "    <tr>\n",
       "      <th>9</th>\n",
       "      <td>PS4</td>\n",
       "      <td>2018</td>\n",
       "      <td>Action</td>\n",
       "      <td>396.0</td>\n",
       "      <td>631.0</td>\n",
       "      <td>97.0</td>\n",
       "      <td>8.3</td>\n",
       "      <td>M</td>\n",
       "      <td>28618</td>\n",
       "      <td>1027.0</td>\n",
       "    </tr>\n",
       "    <tr>\n",
       "      <th>44</th>\n",
       "      <td>XOne</td>\n",
       "      <td>2018</td>\n",
       "      <td>Action</td>\n",
       "      <td>281.0</td>\n",
       "      <td>219.0</td>\n",
       "      <td>97.0</td>\n",
       "      <td>7.9</td>\n",
       "      <td>M</td>\n",
       "      <td>39055</td>\n",
       "      <td>500.0</td>\n",
       "    </tr>\n",
       "    <tr>\n",
       "      <th>1</th>\n",
       "      <td>X360</td>\n",
       "      <td>2017</td>\n",
       "      <td>Action</td>\n",
       "      <td>966.0</td>\n",
       "      <td>514.0</td>\n",
       "      <td>97.0</td>\n",
       "      <td>8.1</td>\n",
       "      <td>M</td>\n",
       "      <td>48673</td>\n",
       "      <td>1480.0</td>\n",
       "    </tr>\n",
       "    <tr>\n",
       "      <th>19</th>\n",
       "      <td>X360</td>\n",
       "      <td>2017</td>\n",
       "      <td>Role-Playing</td>\n",
       "      <td>505.0</td>\n",
       "      <td>279.0</td>\n",
       "      <td>96.0</td>\n",
       "      <td>8.4</td>\n",
       "      <td>M</td>\n",
       "      <td>29673</td>\n",
       "      <td>784.0</td>\n",
       "    </tr>\n",
       "    <tr>\n",
       "      <th>...</th>\n",
       "      <td>...</td>\n",
       "      <td>...</td>\n",
       "      <td>...</td>\n",
       "      <td>...</td>\n",
       "      <td>...</td>\n",
       "      <td>...</td>\n",
       "      <td>...</td>\n",
       "      <td>...</td>\n",
       "      <td>...</td>\n",
       "      <td>...</td>\n",
       "    </tr>\n",
       "    <tr>\n",
       "      <th>2121</th>\n",
       "      <td>X360</td>\n",
       "      <td>2017</td>\n",
       "      <td>Sports</td>\n",
       "      <td>8.0</td>\n",
       "      <td>3.0</td>\n",
       "      <td>21.0</td>\n",
       "      <td>5.0</td>\n",
       "      <td>T</td>\n",
       "      <td>18203</td>\n",
       "      <td>11.0</td>\n",
       "    </tr>\n",
       "    <tr>\n",
       "      <th>2415</th>\n",
       "      <td>XOne</td>\n",
       "      <td>2015</td>\n",
       "      <td>Sports</td>\n",
       "      <td>3.0</td>\n",
       "      <td>5.0</td>\n",
       "      <td>20.0</td>\n",
       "      <td>3.1</td>\n",
       "      <td>E</td>\n",
       "      <td>42977</td>\n",
       "      <td>8.0</td>\n",
       "    </tr>\n",
       "    <tr>\n",
       "      <th>2127</th>\n",
       "      <td>PS4</td>\n",
       "      <td>2015</td>\n",
       "      <td>Sports</td>\n",
       "      <td>4.0</td>\n",
       "      <td>6.0</td>\n",
       "      <td>19.0</td>\n",
       "      <td>3.4</td>\n",
       "      <td>E</td>\n",
       "      <td>12797</td>\n",
       "      <td>10.0</td>\n",
       "    </tr>\n",
       "    <tr>\n",
       "      <th>2812</th>\n",
       "      <td>X360</td>\n",
       "      <td>2017</td>\n",
       "      <td>Racing</td>\n",
       "      <td>4.0</td>\n",
       "      <td>1.0</td>\n",
       "      <td>19.0</td>\n",
       "      <td>1.3</td>\n",
       "      <td>M</td>\n",
       "      <td>11902</td>\n",
       "      <td>5.0</td>\n",
       "    </tr>\n",
       "    <tr>\n",
       "      <th>3026</th>\n",
       "      <td>PS3</td>\n",
       "      <td>2017</td>\n",
       "      <td>Racing</td>\n",
       "      <td>2.0</td>\n",
       "      <td>1.0</td>\n",
       "      <td>13.0</td>\n",
       "      <td>1.0</td>\n",
       "      <td>M</td>\n",
       "      <td>28618</td>\n",
       "      <td>3.0</td>\n",
       "    </tr>\n",
       "  </tbody>\n",
       "</table>\n",
       "<p>1812 rows × 10 columns</p>\n",
       "</div>"
      ],
      "text/plain": [
       "     platform  sales_year         genre  sales_online  sales_offline  \\\n",
       "0         PS3        2017        Action         702.0          909.0   \n",
       "9         PS4        2018        Action         396.0          631.0   \n",
       "44       XOne        2018        Action         281.0          219.0   \n",
       "1        X360        2017        Action         966.0          514.0   \n",
       "19       X360        2017  Role-Playing         505.0          279.0   \n",
       "...       ...         ...           ...           ...            ...   \n",
       "2121     X360        2017        Sports           8.0            3.0   \n",
       "2415     XOne        2015        Sports           3.0            5.0   \n",
       "2127      PS4        2015        Sports           4.0            6.0   \n",
       "2812     X360        2017        Racing           4.0            1.0   \n",
       "3026      PS3        2017        Racing           2.0            1.0   \n",
       "\n",
       "      critic_score  user_score rating  game_id  sales_overall  \n",
       "0             97.0         8.2      M    20838         1611.0  \n",
       "9             97.0         8.3      M    28618         1027.0  \n",
       "44            97.0         7.9      M    39055          500.0  \n",
       "1             97.0         8.1      M    48673         1480.0  \n",
       "19            96.0         8.4      M    29673          784.0  \n",
       "...            ...         ...    ...      ...            ...  \n",
       "2121          21.0         5.0      T    18203           11.0  \n",
       "2415          20.0         3.1      E    42977            8.0  \n",
       "2127          19.0         3.4      E    12797           10.0  \n",
       "2812          19.0         1.3      M    11902            5.0  \n",
       "3026          13.0         1.0      M    28618            3.0  \n",
       "\n",
       "[1812 rows x 10 columns]"
      ]
     },
     "execution_count": 19,
     "metadata": {},
     "output_type": "execute_result"
    }
   ],
   "source": [
    "games_data[games_data['critic_score'].isna() == False]\\\n",
    "          .sort_values(by = 'critic_score', ascending = False)"
   ]
  },
  {
   "cell_type": "markdown",
   "metadata": {},
   "source": [
    "Самую высокую оценку от критиков (97/100) имеют игры с ID:\n",
    "- 20838;\n",
    "- 28618 (на платформе PS4);\n",
    "- 39055;\n",
    "- 48673.\n",
    "\n",
    "Самую низкую оценку от критиков (13/100) имеет игра с ID 28618 (на платформе PS3)."
   ]
  },
  {
   "cell_type": "markdown",
   "metadata": {},
   "source": [
    "Возможно в наборе данных имеется ошибка, поскольку игра с одинаковым ID с изменением года продажи и платформы изменила и жанр. Требуется уточнение."
   ]
  },
  {
   "cell_type": "markdown",
   "metadata": {},
   "source": [
    "Найдём игры с самой высокой и самой низкой оценкой от пользователей. "
   ]
  },
  {
   "cell_type": "code",
   "execution_count": 20,
   "metadata": {
    "scrolled": false
   },
   "outputs": [
    {
     "data": {
      "text/html": [
       "<div>\n",
       "<style scoped>\n",
       "    .dataframe tbody tr th:only-of-type {\n",
       "        vertical-align: middle;\n",
       "    }\n",
       "\n",
       "    .dataframe tbody tr th {\n",
       "        vertical-align: top;\n",
       "    }\n",
       "\n",
       "    .dataframe thead th {\n",
       "        text-align: right;\n",
       "    }\n",
       "</style>\n",
       "<table border=\"1\" class=\"dataframe\">\n",
       "  <thead>\n",
       "    <tr style=\"text-align: right;\">\n",
       "      <th></th>\n",
       "      <th>platform</th>\n",
       "      <th>sales_year</th>\n",
       "      <th>genre</th>\n",
       "      <th>sales_online</th>\n",
       "      <th>sales_offline</th>\n",
       "      <th>critic_score</th>\n",
       "      <th>user_score</th>\n",
       "      <th>rating</th>\n",
       "      <th>game_id</th>\n",
       "      <th>sales_overall</th>\n",
       "    </tr>\n",
       "  </thead>\n",
       "  <tbody>\n",
       "    <tr>\n",
       "      <th>2348</th>\n",
       "      <td>PSV</td>\n",
       "      <td>2015</td>\n",
       "      <td>Adventure</td>\n",
       "      <td>0.0</td>\n",
       "      <td>3.0</td>\n",
       "      <td>86.0</td>\n",
       "      <td>9.3</td>\n",
       "      <td>M</td>\n",
       "      <td>38270</td>\n",
       "      <td>3.0</td>\n",
       "    </tr>\n",
       "    <tr>\n",
       "      <th>639</th>\n",
       "      <td>PC</td>\n",
       "      <td>2015</td>\n",
       "      <td>Role-Playing</td>\n",
       "      <td>21.0</td>\n",
       "      <td>46.0</td>\n",
       "      <td>93.0</td>\n",
       "      <td>9.3</td>\n",
       "      <td>M</td>\n",
       "      <td>12365</td>\n",
       "      <td>67.0</td>\n",
       "    </tr>\n",
       "    <tr>\n",
       "      <th>77</th>\n",
       "      <td>PS4</td>\n",
       "      <td>2015</td>\n",
       "      <td>Role-Playing</td>\n",
       "      <td>102.0</td>\n",
       "      <td>213.0</td>\n",
       "      <td>92.0</td>\n",
       "      <td>9.2</td>\n",
       "      <td>M</td>\n",
       "      <td>43575</td>\n",
       "      <td>315.0</td>\n",
       "    </tr>\n",
       "    <tr>\n",
       "      <th>339</th>\n",
       "      <td>XOne</td>\n",
       "      <td>2015</td>\n",
       "      <td>Role-Playing</td>\n",
       "      <td>69.0</td>\n",
       "      <td>50.0</td>\n",
       "      <td>91.0</td>\n",
       "      <td>9.2</td>\n",
       "      <td>M</td>\n",
       "      <td>10495</td>\n",
       "      <td>119.0</td>\n",
       "    </tr>\n",
       "    <tr>\n",
       "      <th>2277</th>\n",
       "      <td>PSV</td>\n",
       "      <td>2017</td>\n",
       "      <td>Adventure</td>\n",
       "      <td>4.0</td>\n",
       "      <td>4.0</td>\n",
       "      <td>83.0</td>\n",
       "      <td>9.2</td>\n",
       "      <td>M</td>\n",
       "      <td>27691</td>\n",
       "      <td>8.0</td>\n",
       "    </tr>\n",
       "    <tr>\n",
       "      <th>...</th>\n",
       "      <td>...</td>\n",
       "      <td>...</td>\n",
       "      <td>...</td>\n",
       "      <td>...</td>\n",
       "      <td>...</td>\n",
       "      <td>...</td>\n",
       "      <td>...</td>\n",
       "      <td>...</td>\n",
       "      <td>...</td>\n",
       "      <td>...</td>\n",
       "    </tr>\n",
       "    <tr>\n",
       "      <th>2321</th>\n",
       "      <td>X360</td>\n",
       "      <td>2017</td>\n",
       "      <td>Shooter</td>\n",
       "      <td>7.0</td>\n",
       "      <td>2.0</td>\n",
       "      <td>43.0</td>\n",
       "      <td>1.2</td>\n",
       "      <td>M</td>\n",
       "      <td>24620</td>\n",
       "      <td>9.0</td>\n",
       "    </tr>\n",
       "    <tr>\n",
       "      <th>3026</th>\n",
       "      <td>PS3</td>\n",
       "      <td>2017</td>\n",
       "      <td>Racing</td>\n",
       "      <td>2.0</td>\n",
       "      <td>1.0</td>\n",
       "      <td>13.0</td>\n",
       "      <td>1.0</td>\n",
       "      <td>M</td>\n",
       "      <td>28618</td>\n",
       "      <td>3.0</td>\n",
       "    </tr>\n",
       "    <tr>\n",
       "      <th>2695</th>\n",
       "      <td>DS</td>\n",
       "      <td>2017</td>\n",
       "      <td>Platform</td>\n",
       "      <td>6.0</td>\n",
       "      <td>0.0</td>\n",
       "      <td>NaN</td>\n",
       "      <td>0.9</td>\n",
       "      <td>E</td>\n",
       "      <td>14384</td>\n",
       "      <td>6.0</td>\n",
       "    </tr>\n",
       "    <tr>\n",
       "      <th>1739</th>\n",
       "      <td>X360</td>\n",
       "      <td>2016</td>\n",
       "      <td>Sports</td>\n",
       "      <td>14.0</td>\n",
       "      <td>2.0</td>\n",
       "      <td>NaN</td>\n",
       "      <td>0.7</td>\n",
       "      <td>E</td>\n",
       "      <td>28773</td>\n",
       "      <td>16.0</td>\n",
       "    </tr>\n",
       "    <tr>\n",
       "      <th>2118</th>\n",
       "      <td>PS3</td>\n",
       "      <td>2016</td>\n",
       "      <td>Sports</td>\n",
       "      <td>7.0</td>\n",
       "      <td>2.0</td>\n",
       "      <td>NaN</td>\n",
       "      <td>0.2</td>\n",
       "      <td>E</td>\n",
       "      <td>23493</td>\n",
       "      <td>9.0</td>\n",
       "    </tr>\n",
       "  </tbody>\n",
       "</table>\n",
       "<p>2032 rows × 10 columns</p>\n",
       "</div>"
      ],
      "text/plain": [
       "     platform  sales_year         genre  sales_online  sales_offline  \\\n",
       "2348      PSV        2015     Adventure           0.0            3.0   \n",
       "639        PC        2015  Role-Playing          21.0           46.0   \n",
       "77        PS4        2015  Role-Playing         102.0          213.0   \n",
       "339      XOne        2015  Role-Playing          69.0           50.0   \n",
       "2277      PSV        2017     Adventure           4.0            4.0   \n",
       "...       ...         ...           ...           ...            ...   \n",
       "2321     X360        2017       Shooter           7.0            2.0   \n",
       "3026      PS3        2017        Racing           2.0            1.0   \n",
       "2695       DS        2017      Platform           6.0            0.0   \n",
       "1739     X360        2016        Sports          14.0            2.0   \n",
       "2118      PS3        2016        Sports           7.0            2.0   \n",
       "\n",
       "      critic_score  user_score rating  game_id  sales_overall  \n",
       "2348          86.0         9.3      M    38270            3.0  \n",
       "639           93.0         9.3      M    12365           67.0  \n",
       "77            92.0         9.2      M    43575          315.0  \n",
       "339           91.0         9.2      M    10495          119.0  \n",
       "2277          83.0         9.2      M    27691            8.0  \n",
       "...            ...         ...    ...      ...            ...  \n",
       "2321          43.0         1.2      M    24620            9.0  \n",
       "3026          13.0         1.0      M    28618            3.0  \n",
       "2695           NaN         0.9      E    14384            6.0  \n",
       "1739           NaN         0.7      E    28773           16.0  \n",
       "2118           NaN         0.2      E    23493            9.0  \n",
       "\n",
       "[2032 rows x 10 columns]"
      ]
     },
     "execution_count": 20,
     "metadata": {},
     "output_type": "execute_result"
    }
   ],
   "source": [
    "games_data[games_data['user_score'].isna() == False]\\\n",
    "          .sort_values(by = 'user_score', ascending = False)"
   ]
  },
  {
   "cell_type": "markdown",
   "metadata": {},
   "source": [
    "Самую высокую оценку от пользователей (9.3/10) имеют игры с ID:\n",
    "- 38270;\n",
    "- 12365.\n",
    "\n",
    "Самую низкую оценку от пользователей (0.2/10) имеет игра с ID 23493."
   ]
  },
  {
   "cell_type": "code",
   "execution_count": 21,
   "metadata": {},
   "outputs": [],
   "source": [
    "pd.set_option('display.max_rows', None)"
   ]
  },
  {
   "cell_type": "markdown",
   "metadata": {},
   "source": [
    "Рассмотрим 2 набора значений - оценка пользователей и оценка критиков. Найдём их дисперсии и коэффициент корреляции. Для возможности сравнения умножим оценки пользователей на 10."
   ]
  },
  {
   "cell_type": "markdown",
   "metadata": {},
   "source": [
    "# Комментарий наставника\n",
    "Не обязательно проверять на равенство логические переменные. Варианты:\n",
    "`games_data[(games_data['critic_score'].isna())] ` и `games_data[(games_data['critic_score'].isna() == True) ` - эквивалентны. \n",
    "Для False можно использовать отрицание:\n",
    "`games_data[~(games_data['critic_score'].isna())] `"
   ]
  },
  {
   "cell_type": "code",
   "execution_count": 22,
   "metadata": {},
   "outputs": [],
   "source": [
    "# для новой таблицы выберем те игры, у которых есть и оценка критиков и оценка пользователей\n",
    "games_with_scores = games_data[(games_data['critic_score'].isna() == False) & (games_data['user_score'].isna() == False)]\\\n",
    "[['game_id', 'critic_score', 'user_score']]"
   ]
  },
  {
   "cell_type": "code",
   "execution_count": 23,
   "metadata": {},
   "outputs": [],
   "source": [
    "# приведем столбец с оценками критиков к целочисленному типу\n",
    "games_with_scores['critic_score'] = games_with_scores['critic_score'].astype('int')"
   ]
  },
  {
   "cell_type": "code",
   "execution_count": 24,
   "metadata": {},
   "outputs": [],
   "source": [
    "# умножим оценки пользователей на 10 и приведем данные к целочисленному типу\n",
    "games_with_scores['user_score'] = games_with_scores.apply(lambda x: x['user_score']*10, axis = 1).astype('int')"
   ]
  },
  {
   "cell_type": "code",
   "execution_count": 25,
   "metadata": {},
   "outputs": [
    {
     "data": {
      "text/html": [
       "<div>\n",
       "<style scoped>\n",
       "    .dataframe tbody tr th:only-of-type {\n",
       "        vertical-align: middle;\n",
       "    }\n",
       "\n",
       "    .dataframe tbody tr th {\n",
       "        vertical-align: top;\n",
       "    }\n",
       "\n",
       "    .dataframe thead th {\n",
       "        text-align: right;\n",
       "    }\n",
       "</style>\n",
       "<table border=\"1\" class=\"dataframe\">\n",
       "  <thead>\n",
       "    <tr style=\"text-align: right;\">\n",
       "      <th></th>\n",
       "      <th>game_id</th>\n",
       "      <th>critic_score</th>\n",
       "      <th>user_score</th>\n",
       "    </tr>\n",
       "  </thead>\n",
       "  <tbody>\n",
       "    <tr>\n",
       "      <th>0</th>\n",
       "      <td>20838</td>\n",
       "      <td>97</td>\n",
       "      <td>82</td>\n",
       "    </tr>\n",
       "    <tr>\n",
       "      <th>1</th>\n",
       "      <td>48673</td>\n",
       "      <td>97</td>\n",
       "      <td>81</td>\n",
       "    </tr>\n",
       "    <tr>\n",
       "      <th>2</th>\n",
       "      <td>17801</td>\n",
       "      <td>88</td>\n",
       "      <td>34</td>\n",
       "    </tr>\n",
       "    <tr>\n",
       "      <th>5</th>\n",
       "      <td>28109</td>\n",
       "      <td>83</td>\n",
       "      <td>53</td>\n",
       "    </tr>\n",
       "    <tr>\n",
       "      <th>6</th>\n",
       "      <td>43830</td>\n",
       "      <td>83</td>\n",
       "      <td>48</td>\n",
       "    </tr>\n",
       "  </tbody>\n",
       "</table>\n",
       "</div>"
      ],
      "text/plain": [
       "   game_id  critic_score  user_score\n",
       "0    20838            97          82\n",
       "1    48673            97          81\n",
       "2    17801            88          34\n",
       "5    28109            83          53\n",
       "6    43830            83          48"
      ]
     },
     "execution_count": 25,
     "metadata": {},
     "output_type": "execute_result"
    }
   ],
   "source": [
    "games_with_scores.head()"
   ]
  },
  {
   "cell_type": "code",
   "execution_count": 26,
   "metadata": {
    "scrolled": false
   },
   "outputs": [
    {
     "name": "stdout",
     "output_type": "stream",
     "text": [
      "Дисперсия оценок пользователей 211.36359123329527 \n",
      "\n",
      "Дисперсия оценок критиков 169.6273799783731 \n",
      "\n",
      "Коэффициент корреляции между оценками критиков и пользователей 0.5348532967085243\n"
     ]
    }
   ],
   "source": [
    "print('Дисперсия оценок пользователей', np.var(games_with_scores['user_score']),'\\n')\n",
    "print('Дисперсия оценок критиков', np.var(games_with_scores['critic_score']),'\\n')\n",
    "print('Коэффициент корреляции между оценками критиков и пользователей',\\\n",
    "      games_with_scores['user_score'].corr(games_with_scores['critic_score']))"
   ]
  },
  {
   "cell_type": "code",
   "execution_count": 27,
   "metadata": {},
   "outputs": [
    {
     "data": {
      "text/plain": [
       "<matplotlib.axes._subplots.AxesSubplot at 0x7fe51725dc18>"
      ]
     },
     "execution_count": 27,
     "metadata": {},
     "output_type": "execute_result"
    },
    {
     "data": {
      "image/png": "[encoded data removed]",
      "text/plain": [
       "<Figure size 360x360 with 1 Axes>"
      ]
     },
     "metadata": {
      "needs_background": "light"
     },
     "output_type": "display_data"
    }
   ],
   "source": [
    "games_with_scores.plot(x='user_score', xlim=(0,100),\\\n",
    "                    y='critic_score', ylim=(0, 100),\\\n",
    "                    kind='scatter', figsize=(5, 5),\\\n",
    "                    grid=True, alpha = 0.3)"
   ]
  },
  {
   "cell_type": "markdown",
   "metadata": {},
   "source": [
    "Коэффициент корреляции равен 0.53, что говорит о средней линейной зависимости между оценками критиков и пользователей."
   ]
  },
  {
   "cell_type": "markdown",
   "metadata": {},
   "source": [
    "## 4. Портрет пользователя для онлайн и офлайн продаж\n",
    "Для покупателей интернет-магазина и сети розничных магазинов определите:\n",
    "\n",
    "- топ-5 предпочтительных жанров;\n",
    "- в какие года пользователи были наиболее активны (больше всего покупали игры);\n",
    "- топ-5 предпочтительных платформ;\n",
    "- какой рейтинг ESRB встречается чаще всего (наиболее частотная категория)."
   ]
  },
  {
   "cell_type": "code",
   "execution_count": 28,
   "metadata": {},
   "outputs": [
    {
     "data": {
      "text/html": [
       "<div>\n",
       "<style scoped>\n",
       "    .dataframe tbody tr th:only-of-type {\n",
       "        vertical-align: middle;\n",
       "    }\n",
       "\n",
       "    .dataframe tbody tr th {\n",
       "        vertical-align: top;\n",
       "    }\n",
       "\n",
       "    .dataframe thead th {\n",
       "        text-align: right;\n",
       "    }\n",
       "</style>\n",
       "<table border=\"1\" class=\"dataframe\">\n",
       "  <thead>\n",
       "    <tr style=\"text-align: right;\">\n",
       "      <th></th>\n",
       "      <th>platform</th>\n",
       "      <th>sales_year</th>\n",
       "      <th>genre</th>\n",
       "      <th>sales_online</th>\n",
       "      <th>sales_offline</th>\n",
       "      <th>critic_score</th>\n",
       "      <th>user_score</th>\n",
       "      <th>rating</th>\n",
       "      <th>game_id</th>\n",
       "      <th>sales_overall</th>\n",
       "    </tr>\n",
       "  </thead>\n",
       "  <tbody>\n",
       "    <tr>\n",
       "      <th>0</th>\n",
       "      <td>PS3</td>\n",
       "      <td>2017</td>\n",
       "      <td>Action</td>\n",
       "      <td>702.0</td>\n",
       "      <td>909.0</td>\n",
       "      <td>97.0</td>\n",
       "      <td>8.2</td>\n",
       "      <td>M</td>\n",
       "      <td>20838</td>\n",
       "      <td>1611.0</td>\n",
       "    </tr>\n",
       "    <tr>\n",
       "      <th>1</th>\n",
       "      <td>X360</td>\n",
       "      <td>2017</td>\n",
       "      <td>Action</td>\n",
       "      <td>966.0</td>\n",
       "      <td>514.0</td>\n",
       "      <td>97.0</td>\n",
       "      <td>8.1</td>\n",
       "      <td>M</td>\n",
       "      <td>48673</td>\n",
       "      <td>1480.0</td>\n",
       "    </tr>\n",
       "    <tr>\n",
       "      <th>2</th>\n",
       "      <td>X360</td>\n",
       "      <td>2017</td>\n",
       "      <td>Shooter</td>\n",
       "      <td>904.0</td>\n",
       "      <td>424.0</td>\n",
       "      <td>88.0</td>\n",
       "      <td>3.4</td>\n",
       "      <td>M</td>\n",
       "      <td>17801</td>\n",
       "      <td>1328.0</td>\n",
       "    </tr>\n",
       "    <tr>\n",
       "      <th>3</th>\n",
       "      <td>PS4</td>\n",
       "      <td>2015</td>\n",
       "      <td>Shooter</td>\n",
       "      <td>603.0</td>\n",
       "      <td>586.0</td>\n",
       "      <td>NaN</td>\n",
       "      <td>NaN</td>\n",
       "      <td>NaN</td>\n",
       "      <td>12200</td>\n",
       "      <td>1189.0</td>\n",
       "    </tr>\n",
       "    <tr>\n",
       "      <th>4</th>\n",
       "      <td>3DS</td>\n",
       "      <td>2017</td>\n",
       "      <td>Role-Playing</td>\n",
       "      <td>528.0</td>\n",
       "      <td>419.0</td>\n",
       "      <td>NaN</td>\n",
       "      <td>NaN</td>\n",
       "      <td>NaN</td>\n",
       "      <td>11432</td>\n",
       "      <td>947.0</td>\n",
       "    </tr>\n",
       "  </tbody>\n",
       "</table>\n",
       "</div>"
      ],
      "text/plain": [
       "  platform  sales_year         genre  sales_online  sales_offline  \\\n",
       "0      PS3        2017        Action         702.0          909.0   \n",
       "1     X360        2017        Action         966.0          514.0   \n",
       "2     X360        2017       Shooter         904.0          424.0   \n",
       "3      PS4        2015       Shooter         603.0          586.0   \n",
       "4      3DS        2017  Role-Playing         528.0          419.0   \n",
       "\n",
       "   critic_score  user_score rating  game_id  sales_overall  \n",
       "0          97.0         8.2      M    20838         1611.0  \n",
       "1          97.0         8.1      M    48673         1480.0  \n",
       "2          88.0         3.4      M    17801         1328.0  \n",
       "3           NaN         NaN    NaN    12200         1189.0  \n",
       "4           NaN         NaN    NaN    11432          947.0  "
      ]
     },
     "execution_count": 28,
     "metadata": {},
     "output_type": "execute_result"
    }
   ],
   "source": [
    "games_data.head()"
   ]
  },
  {
   "cell_type": "markdown",
   "metadata": {},
   "source": [
    "Определим топ-5 предпочтительных жанров с наибольшим суммарным количеством проданных копий онлайн и оффлайн. "
   ]
  },
  {
   "cell_type": "code",
   "execution_count": 29,
   "metadata": {},
   "outputs": [
    {
     "name": "stdout",
     "output_type": "stream",
     "text": [
      "Жанры (онлайн продажи):\n",
      "              sales_online\n",
      "genre                     \n",
      "Action             23092.0\n",
      "Shooter            19443.0\n",
      "Sports             10870.0\n",
      "Role-Playing        8378.0\n",
      "Misc                6969.0 \n",
      "\n",
      "Жанры (оффлайн продажи):\n",
      "              sales_offline\n",
      "genre                      \n",
      "Action              19912.0\n",
      "Shooter             14802.0\n",
      "Sports               8848.0\n",
      "Role-Playing         6230.0\n",
      "Racing               4058.0 \n",
      "\n"
     ]
    }
   ],
   "source": [
    "print('Жанры (онлайн продажи):')\n",
    "print(games_data.pivot_table(index='genre', values='sales_online', aggfunc = 'sum')\\\n",
    "          .sort_values(by = 'sales_online', ascending = False).head(),'\\n')\n",
    "\n",
    "print('Жанры (оффлайн продажи):')\n",
    "print(games_data.pivot_table(index='genre', values='sales_offline', aggfunc = 'sum')\\\n",
    "          .sort_values(by = 'sales_offline', ascending = False).head(),'\\n')"
   ]
  },
  {
   "cell_type": "code",
   "execution_count": 30,
   "metadata": {},
   "outputs": [
    {
     "name": "stdout",
     "output_type": "stream",
     "text": [
      "Года (онлайн продажи):\n",
      "            sales_online\n",
      "sales_year              \n",
      "2017             39244.0\n",
      "2018             28580.0\n",
      "2015             10686.0\n",
      "2016              4493.0 \n",
      "\n",
      "Года (оффлайн продажи):\n",
      "            sales_offline\n",
      "sales_year               \n",
      "2017              28452.0\n",
      "2018              23733.0\n",
      "2015               9672.0\n",
      "2016               5122.0 \n",
      "\n"
     ]
    }
   ],
   "source": [
    "print('Года (онлайн продажи):')\n",
    "print(games_data.pivot_table(index='sales_year', values='sales_online', aggfunc = 'sum')\\\n",
    "          .sort_values(by = 'sales_online', ascending = False).head(),'\\n')\n",
    "\n",
    "print('Года (оффлайн продажи):')\n",
    "print(games_data.pivot_table(index='sales_year', values='sales_offline', aggfunc = 'sum')\\\n",
    "          .sort_values(by = 'sales_offline', ascending = False).head(),'\\n')"
   ]
  },
  {
   "cell_type": "code",
   "execution_count": 31,
   "metadata": {},
   "outputs": [
    {
     "name": "stdout",
     "output_type": "stream",
     "text": [
      "Платформы (онлайн продажи):\n",
      "          sales_online\n",
      "platform              \n",
      "X360           22680.0\n",
      "PS3            16826.0\n",
      "PS4            10874.0\n",
      "XOne            9312.0\n",
      "3DS             8265.0 \n",
      "\n",
      "Платформы (оффлайн продажи):\n",
      "          sales_offline\n",
      "platform               \n",
      "PS3             16310.0\n",
      "PS4             14109.0\n",
      "X360            11710.0\n",
      "3DS              6127.0\n",
      "PC               5670.0 \n",
      "\n"
     ]
    }
   ],
   "source": [
    "print('Платформы (онлайн продажи):')\n",
    "print(games_data.pivot_table(index='platform', values='sales_online', aggfunc = 'sum')\\\n",
    "          .sort_values(by = 'sales_online', ascending = False).head(),'\\n')\n",
    "\n",
    "print('Платформы (оффлайн продажи):')\n",
    "print(games_data.pivot_table(index='platform', values='sales_offline', aggfunc = 'sum')\\\n",
    "          .sort_values(by = 'sales_offline', ascending = False).head(),'\\n')"
   ]
  },
  {
   "cell_type": "code",
   "execution_count": 32,
   "metadata": {
    "scrolled": false
   },
   "outputs": [
    {
     "name": "stdout",
     "output_type": "stream",
     "text": [
      "Наиболее частый рейтинг:\n",
      "        sales_online\n",
      "rating              \n",
      "M                622\n",
      "E                619\n",
      "T                616\n",
      "E10+             456\n",
      "EC                 1 \n",
      "\n"
     ]
    }
   ],
   "source": [
    "print('Наиболее частый рейтинг:')\n",
    "print(games_data.pivot_table(index='rating', values='sales_online', aggfunc = 'count')\\\n",
    "          .sort_values(by = 'sales_online', ascending = False).head(),'\\n')"
   ]
  },
  {
   "cell_type": "markdown",
   "metadata": {},
   "source": [
    "Для покупателей онлайн:\n",
    "\n",
    "топ-5 предпочтительных жанров:\n",
    "1. Action;      \n",
    "2. Shooter;     \n",
    "3. Sports;      \n",
    "4. Role-Playing;\n",
    "5. Misc;        \n",
    "\n",
    "топ-5 предпочтительных платформ:\n",
    "1. X360; \n",
    "2. PS3;  \n",
    "3. PS4;  \n",
    "4. XOne; \n",
    "5. 3DS.  \n",
    "\n",
    "Для покупателей оффлайн:\n",
    "\n",
    "топ-5 предпочтительных жанров:\n",
    "1. Action;      \n",
    "2. Shooter;     \n",
    "3. Sports;      \n",
    "4. Role-Playing;\n",
    "5. Racing;      \n",
    "\n",
    "топ-5 предпочтительных платформ:\n",
    "1. PS3;    \n",
    "2. PS4;    \n",
    "3. X360;   \n",
    "4. 3DS;\n",
    "5. PC.\n",
    "\n",
    "Пользователи обеих категорий были наиболее активны в 2017 и 2018 годах. \n",
    "\n",
    "Наиболее часто встречающийся рейтинг игр - М (от 17 лет), однако рейтинги Е (для всех) и Т (13—19 лет) встречаются почти так же часто."
   ]
  },
  {
   "cell_type": "markdown",
   "metadata": {},
   "source": [
    "## 5. Проверка гипотез:\n",
    "\n",
    "- средний пользовательский рейтинг платформ PS4 и PS3 одинаковый;\n",
    "- средний пользовательский рейтинг жанров Action и Sports различается.\n",
    "\n",
    "Пороговое значение alpha задайте самостоятельно.\n",
    "Поясните:\n",
    "\n",
    "- как вы формулировали нулевую и альтернативную гипотезы;\n",
    "- какой критерий использовали для проверки гипотез и почему."
   ]
  },
  {
   "cell_type": "code",
   "execution_count": 33,
   "metadata": {},
   "outputs": [
    {
     "data": {
      "text/html": [
       "<div>\n",
       "<style scoped>\n",
       "    .dataframe tbody tr th:only-of-type {\n",
       "        vertical-align: middle;\n",
       "    }\n",
       "\n",
       "    .dataframe tbody tr th {\n",
       "        vertical-align: top;\n",
       "    }\n",
       "\n",
       "    .dataframe thead th {\n",
       "        text-align: right;\n",
       "    }\n",
       "</style>\n",
       "<table border=\"1\" class=\"dataframe\">\n",
       "  <thead>\n",
       "    <tr style=\"text-align: right;\">\n",
       "      <th></th>\n",
       "      <th>game_id</th>\n",
       "      <th>user_score</th>\n",
       "      <th>platform</th>\n",
       "      <th>genre</th>\n",
       "    </tr>\n",
       "  </thead>\n",
       "  <tbody>\n",
       "    <tr>\n",
       "      <th>0</th>\n",
       "      <td>20838</td>\n",
       "      <td>8.2</td>\n",
       "      <td>PS3</td>\n",
       "      <td>Action</td>\n",
       "    </tr>\n",
       "    <tr>\n",
       "      <th>1</th>\n",
       "      <td>48673</td>\n",
       "      <td>8.1</td>\n",
       "      <td>X360</td>\n",
       "      <td>Action</td>\n",
       "    </tr>\n",
       "    <tr>\n",
       "      <th>2</th>\n",
       "      <td>17801</td>\n",
       "      <td>3.4</td>\n",
       "      <td>X360</td>\n",
       "      <td>Shooter</td>\n",
       "    </tr>\n",
       "    <tr>\n",
       "      <th>5</th>\n",
       "      <td>28109</td>\n",
       "      <td>5.3</td>\n",
       "      <td>PS3</td>\n",
       "      <td>Shooter</td>\n",
       "    </tr>\n",
       "    <tr>\n",
       "      <th>6</th>\n",
       "      <td>43830</td>\n",
       "      <td>4.8</td>\n",
       "      <td>X360</td>\n",
       "      <td>Shooter</td>\n",
       "    </tr>\n",
       "  </tbody>\n",
       "</table>\n",
       "</div>"
      ],
      "text/plain": [
       "   game_id  user_score platform    genre\n",
       "0    20838         8.2      PS3   Action\n",
       "1    48673         8.1     X360   Action\n",
       "2    17801         3.4     X360  Shooter\n",
       "5    28109         5.3      PS3  Shooter\n",
       "6    43830         4.8     X360  Shooter"
      ]
     },
     "execution_count": 33,
     "metadata": {},
     "output_type": "execute_result"
    }
   ],
   "source": [
    "# для новой таблицы выберем те игры, у которых есть оценка пользователей\n",
    "games_with_user_scores = games_data[games_data['user_score'].isna() == False]\\\n",
    "[['game_id', 'user_score', 'platform', 'genre']]\n",
    "games_with_user_scores.head()"
   ]
  },
  {
   "cell_type": "code",
   "execution_count": 34,
   "metadata": {},
   "outputs": [
    {
     "data": {
      "text/plain": [
       "6.612470023980816"
      ]
     },
     "execution_count": 34,
     "metadata": {},
     "output_type": "execute_result"
    }
   ],
   "source": [
    "# средний пользовательский рейтинг игр на платформе PS3\n",
    "games_with_user_scores.query('platform == \"PS3\"')['user_score'].mean()"
   ]
  },
  {
   "cell_type": "code",
   "execution_count": 35,
   "metadata": {},
   "outputs": [
    {
     "data": {
      "text/plain": [
       "6.748249027237354"
      ]
     },
     "execution_count": 35,
     "metadata": {},
     "output_type": "execute_result"
    }
   ],
   "source": [
    "# средний пользовательский рейтинг игр на платформе PS4\n",
    "games_with_user_scores.query('platform == \"PS4\"')['user_score'].mean()"
   ]
  },
  {
   "cell_type": "markdown",
   "metadata": {},
   "source": [
    "Сформулируем нулевую гипотезу: \"Средний пользовательский рейтинг платформ PS4 равен среднему пользовательскому рейтингу платформы PS3\"."
   ]
  },
  {
   "cell_type": "code",
   "execution_count": 36,
   "metadata": {},
   "outputs": [
    {
     "name": "stdout",
     "output_type": "stream",
     "text": [
      "p-значение: 0.26218390192537744\n"
     ]
    }
   ],
   "source": [
    "# зададим критический уровень статистической значимости в 5%\n",
    "alpha = .05 \n",
    "\n",
    "results = st.ttest_ind(\n",
    "    games_with_user_scores.query('platform == \"PS3\"')['user_score'], \n",
    "    games_with_user_scores.query('platform == \"PS4\"')['user_score'],\n",
    "    equal_var = True)\n",
    "\n",
    "print('p-значение:', results.pvalue)"
   ]
  },
  {
   "cell_type": "markdown",
   "metadata": {},
   "source": [
    "Уровень статистической значимости выше критического, делаем вывод о том, что средний пользовательский рейтинг на платформах PS3 и PS4 одинаков."
   ]
  },
  {
   "cell_type": "code",
   "execution_count": 37,
   "metadata": {},
   "outputs": [
    {
     "data": {
      "text/plain": [
       "6.775903614457831"
      ]
     },
     "execution_count": 37,
     "metadata": {},
     "output_type": "execute_result"
    }
   ],
   "source": [
    "# средний пользовательский рейтинг игр жанра Action\n",
    "games_with_user_scores.query('genre == \"Action\"')['user_score'].mean()"
   ]
  },
  {
   "cell_type": "code",
   "execution_count": 38,
   "metadata": {},
   "outputs": [
    {
     "data": {
      "text/plain": [
       "5.650813008130081"
      ]
     },
     "execution_count": 38,
     "metadata": {},
     "output_type": "execute_result"
    }
   ],
   "source": [
    "# средний пользовательский рейтинг игр жанра Sports\n",
    "games_with_user_scores.query('genre == \"Sports\"')['user_score'].mean()"
   ]
  },
  {
   "cell_type": "markdown",
   "metadata": {},
   "source": [
    "Сформулируем нулевую гипотезу: \"Средний пользовательский рейтинг для игр жанров Action и Sports одинаков\"."
   ]
  },
  {
   "cell_type": "code",
   "execution_count": 39,
   "metadata": {},
   "outputs": [
    {
     "name": "stdout",
     "output_type": "stream",
     "text": [
      "p-значение: 8.285648549432565e-19\n"
     ]
    }
   ],
   "source": [
    "# зададим критический уровень статистической значимости в 5%\n",
    "alpha = .05 \n",
    "\n",
    "results = st.ttest_ind(\n",
    "    games_with_user_scores.query('genre == \"Action\"')['user_score'], \n",
    "    games_with_user_scores.query('genre == \"Sports\"')['user_score'],\n",
    "    equal_var = False)\n",
    "\n",
    "print('p-значение:', results.pvalue)"
   ]
  },
  {
   "cell_type": "markdown",
   "metadata": {},
   "source": [
    "Уровень статистической значимости значительно ниже критического. Вероятность того, что средние рейтинги для жанров Action и Sports одинаковы практически равна 0%. \n",
    "\n",
    "Отверграем нулевую гипотезу, делаем вывод об отличии среднего значения пользовательского рейтинга для игр жанров Action и Sports."
   ]
  },
  {
   "cell_type": "markdown",
   "metadata": {},
   "source": [
    "## 6. Общий вывод\n",
    "Оформление: Задание выполните в Jupyter Notebook. Программный код заполните в ячейках типа code, текстовые пояснения — в ячейках типа markdown. Примените форматирование и заголовки.\n"
   ]
  },
  {
   "cell_type": "markdown",
   "metadata": {},
   "source": [
    "Исходя из анализа приведенных данных, в будущих онлайн продажах стоит сосредоточиться на играх в жанрах:\n",
    "1. Action;      \n",
    "2. Shooter;     \n",
    "3. Sports;      \n",
    "4. Role-Playing;\n",
    "5. Misc;\n",
    "\n",
    "на платформах:\n",
    "1. X360; \n",
    "2. PS3;  \n",
    "3. PS4;  \n",
    "4. XOne; \n",
    "5. 3DS.  \n",
    "\n",
    "В будущих розничных продажах стоит сосредоточиться на играх в жанрах:\n",
    "1. Action;      \n",
    "2. Shooter;     \n",
    "3. Sports;      \n",
    "4. Role-Playing;\n",
    "5. Racing; \n",
    "\n",
    "на платформах:\n",
    "1. PS3;    \n",
    "2. PS4;    \n",
    "3. X360;   \n",
    "4. 3DS;\n",
    "5. PC."
   ]
  }
 ],
 "metadata": {
  "kernelspec": {
   "display_name": "Python 3",
   "language": "python",
   "name": "python3"
  },
  "language_info": {
   "codemirror_mode": {
    "name": "ipython",
    "version": 3
   },
   "file_extension": ".py",
   "mimetype": "text/x-python",
   "name": "python",
   "nbconvert_exporter": "python",
   "pygments_lexer": "ipython3",
   "version": "3.7.4"
  },
  "toc": {
   "base_numbering": 1,
   "nav_menu": {},
   "number_sections": true,
   "sideBar": true,
   "skip_h1_title": false,
   "title_cell": "Table of Contents",
   "title_sidebar": "Contents",
   "toc_cell": false,
   "toc_position": {},
   "toc_section_display": true,
   "toc_window_display": false
  }
 },
 "nbformat": 4,
 "nbformat_minor": 2
}
