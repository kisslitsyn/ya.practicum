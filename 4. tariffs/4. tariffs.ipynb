{
 "cells": [
  {
   "cell_type": "markdown",
   "metadata": {},
   "source": [
    "# Комментарий наставника\n",
    "\n",
    "Привет! \n",
    "\n",
    "Все отлично! приступай к четвертому проекту!\n",
    "\n",
    "Я добавил там комментарий около apply revenue_calc, обрати, пожалуйста, внимание."
   ]
  },
  {
   "cell_type": "markdown",
   "metadata": {},
   "source": [
    "## 0. Описание проекта\n",
    "\n",
    "Клиентам предлагают два тарифных плана: «Смарт» и «Ультра». Чтобы скорректировать рекламный бюджет, коммерческий департамент хочет понять, какой тариф приносит больше денег.\n",
    "Предстоит сделать предварительный анализ тарифов на небольшой выборке клиентов. В вашем распоряжении данные 500 пользователей «Мегалайна»: кто они, откуда, каким тарифом пользуются, сколько звонков и сообщений каждый отправил за 2018 год. Нужно проанализировать поведение клиентов и сделать вывод — какой тариф лучше.\n",
    "\n",
    "Описание тарифов:\n",
    "\n",
    "Тариф «Смарт»:\n",
    "- Ежемесячная плата: 550 рублей;\n",
    "- Включено 500 минут разговора, 50 сообщений и 15 Гб интернет-трафика;\n",
    "- Стоимость услуг сверх тарифного пакета:\n",
    "    - минута разговора: 3 рубля («Мегалайн» всегда округляет вверх значения минут и мегабайтов. Если пользователь проговорил всего 1 секунду, в тарифе засчитывается целая минута.);\n",
    "    - сообщение: 3 рубля;\n",
    "    - 1 Гб интернет-трафика: 200 рублей.\n",
    "\n",
    "Тариф «Ультра»:\n",
    "- Ежемесячная плата: 1950 рублей;\n",
    "- Включено 3000 минут разговора, 1000 сообщений и 30 Гб интернет-трафика;\n",
    "- Стоимость услуг сверх тарифного пакета:\n",
    "    - минута разговора: 1 рубль;\n",
    "    - сообщение: 1 рубль;\n",
    "    -  Гб интернет-трафика: 150 рублей."
   ]
  },
  {
   "cell_type": "markdown",
   "metadata": {},
   "source": [
    "## 1. Исходные данные и общая информация"
   ]
  },
  {
   "cell_type": "code",
   "execution_count": 1,
   "metadata": {},
   "outputs": [],
   "source": [
    "import pandas as pd\n",
    "import math\n",
    "import matplotlib.pyplot as plt\n",
    "import numpy as np\n",
    "from scipy import stats as st\n",
    "\n",
    "pd.set_option('display.max_columns', None)\n",
    "\n",
    "calls = pd.read_csv ('/datasets/calls.csv')\n",
    "internet = pd.read_csv ('/datasets/internet.csv')\n",
    "messages = pd.read_csv ('/datasets/messages.csv')\n",
    "tariffs = pd.read_csv ('/datasets/tariffs.csv')\n",
    "users = pd.read_csv ('/datasets/users.csv')"
   ]
  },
  {
   "cell_type": "code",
   "execution_count": 2,
   "metadata": {
    "scrolled": false
   },
   "outputs": [
    {
     "name": "stdout",
     "output_type": "stream",
     "text": [
      "<class 'pandas.core.frame.DataFrame'>\n",
      "RangeIndex: 202607 entries, 0 to 202606\n",
      "Data columns (total 4 columns):\n",
      "id           202607 non-null object\n",
      "call_date    202607 non-null object\n",
      "duration     202607 non-null float64\n",
      "user_id      202607 non-null int64\n",
      "dtypes: float64(1), int64(1), object(2)\n",
      "memory usage: 6.2+ MB\n"
     ]
    },
    {
     "data": {
      "text/html": [
       "<div>\n",
       "<style scoped>\n",
       "    .dataframe tbody tr th:only-of-type {\n",
       "        vertical-align: middle;\n",
       "    }\n",
       "\n",
       "    .dataframe tbody tr th {\n",
       "        vertical-align: top;\n",
       "    }\n",
       "\n",
       "    .dataframe thead th {\n",
       "        text-align: right;\n",
       "    }\n",
       "</style>\n",
       "<table border=\"1\" class=\"dataframe\">\n",
       "  <thead>\n",
       "    <tr style=\"text-align: right;\">\n",
       "      <th></th>\n",
       "      <th>id</th>\n",
       "      <th>call_date</th>\n",
       "      <th>duration</th>\n",
       "      <th>user_id</th>\n",
       "    </tr>\n",
       "  </thead>\n",
       "  <tbody>\n",
       "    <tr>\n",
       "      <th>0</th>\n",
       "      <td>1000_0</td>\n",
       "      <td>2018-07-25</td>\n",
       "      <td>0.00</td>\n",
       "      <td>1000</td>\n",
       "    </tr>\n",
       "    <tr>\n",
       "      <th>1</th>\n",
       "      <td>1000_1</td>\n",
       "      <td>2018-08-17</td>\n",
       "      <td>0.00</td>\n",
       "      <td>1000</td>\n",
       "    </tr>\n",
       "    <tr>\n",
       "      <th>2</th>\n",
       "      <td>1000_2</td>\n",
       "      <td>2018-06-11</td>\n",
       "      <td>2.85</td>\n",
       "      <td>1000</td>\n",
       "    </tr>\n",
       "    <tr>\n",
       "      <th>3</th>\n",
       "      <td>1000_3</td>\n",
       "      <td>2018-09-21</td>\n",
       "      <td>13.80</td>\n",
       "      <td>1000</td>\n",
       "    </tr>\n",
       "    <tr>\n",
       "      <th>4</th>\n",
       "      <td>1000_4</td>\n",
       "      <td>2018-12-15</td>\n",
       "      <td>5.18</td>\n",
       "      <td>1000</td>\n",
       "    </tr>\n",
       "  </tbody>\n",
       "</table>\n",
       "</div>"
      ],
      "text/plain": [
       "       id   call_date  duration  user_id\n",
       "0  1000_0  2018-07-25      0.00     1000\n",
       "1  1000_1  2018-08-17      0.00     1000\n",
       "2  1000_2  2018-06-11      2.85     1000\n",
       "3  1000_3  2018-09-21     13.80     1000\n",
       "4  1000_4  2018-12-15      5.18     1000"
      ]
     },
     "execution_count": 2,
     "metadata": {},
     "output_type": "execute_result"
    }
   ],
   "source": [
    "# выведем информацию о наборе данных\n",
    "calls.info()\n",
    " \n",
    "# и первые строки датасета\n",
    "calls.head()"
   ]
  },
  {
   "cell_type": "code",
   "execution_count": 3,
   "metadata": {},
   "outputs": [
    {
     "name": "stdout",
     "output_type": "stream",
     "text": [
      "<class 'pandas.core.frame.DataFrame'>\n",
      "RangeIndex: 149396 entries, 0 to 149395\n",
      "Data columns (total 4 columns):\n",
      "id              149396 non-null object\n",
      "mb_used         149396 non-null float64\n",
      "session_date    149396 non-null object\n",
      "user_id         149396 non-null int64\n",
      "dtypes: float64(1), int64(1), object(2)\n",
      "memory usage: 4.6+ MB\n"
     ]
    },
    {
     "data": {
      "text/html": [
       "<div>\n",
       "<style scoped>\n",
       "    .dataframe tbody tr th:only-of-type {\n",
       "        vertical-align: middle;\n",
       "    }\n",
       "\n",
       "    .dataframe tbody tr th {\n",
       "        vertical-align: top;\n",
       "    }\n",
       "\n",
       "    .dataframe thead th {\n",
       "        text-align: right;\n",
       "    }\n",
       "</style>\n",
       "<table border=\"1\" class=\"dataframe\">\n",
       "  <thead>\n",
       "    <tr style=\"text-align: right;\">\n",
       "      <th></th>\n",
       "      <th>id</th>\n",
       "      <th>mb_used</th>\n",
       "      <th>session_date</th>\n",
       "      <th>user_id</th>\n",
       "    </tr>\n",
       "  </thead>\n",
       "  <tbody>\n",
       "    <tr>\n",
       "      <th>0</th>\n",
       "      <td>1000_0</td>\n",
       "      <td>112.95</td>\n",
       "      <td>2018-11-25</td>\n",
       "      <td>1000</td>\n",
       "    </tr>\n",
       "    <tr>\n",
       "      <th>1</th>\n",
       "      <td>1000_1</td>\n",
       "      <td>1052.81</td>\n",
       "      <td>2018-09-07</td>\n",
       "      <td>1000</td>\n",
       "    </tr>\n",
       "    <tr>\n",
       "      <th>2</th>\n",
       "      <td>1000_2</td>\n",
       "      <td>1197.26</td>\n",
       "      <td>2018-06-25</td>\n",
       "      <td>1000</td>\n",
       "    </tr>\n",
       "    <tr>\n",
       "      <th>3</th>\n",
       "      <td>1000_3</td>\n",
       "      <td>550.27</td>\n",
       "      <td>2018-08-22</td>\n",
       "      <td>1000</td>\n",
       "    </tr>\n",
       "    <tr>\n",
       "      <th>4</th>\n",
       "      <td>1000_4</td>\n",
       "      <td>302.56</td>\n",
       "      <td>2018-09-24</td>\n",
       "      <td>1000</td>\n",
       "    </tr>\n",
       "  </tbody>\n",
       "</table>\n",
       "</div>"
      ],
      "text/plain": [
       "       id  mb_used session_date  user_id\n",
       "0  1000_0   112.95   2018-11-25     1000\n",
       "1  1000_1  1052.81   2018-09-07     1000\n",
       "2  1000_2  1197.26   2018-06-25     1000\n",
       "3  1000_3   550.27   2018-08-22     1000\n",
       "4  1000_4   302.56   2018-09-24     1000"
      ]
     },
     "execution_count": 3,
     "metadata": {},
     "output_type": "execute_result"
    }
   ],
   "source": [
    "internet.info()\n",
    "internet.head()"
   ]
  },
  {
   "cell_type": "code",
   "execution_count": 4,
   "metadata": {},
   "outputs": [
    {
     "name": "stdout",
     "output_type": "stream",
     "text": [
      "<class 'pandas.core.frame.DataFrame'>\n",
      "RangeIndex: 123036 entries, 0 to 123035\n",
      "Data columns (total 3 columns):\n",
      "id              123036 non-null object\n",
      "message_date    123036 non-null object\n",
      "user_id         123036 non-null int64\n",
      "dtypes: int64(1), object(2)\n",
      "memory usage: 2.8+ MB\n"
     ]
    },
    {
     "data": {
      "text/html": [
       "<div>\n",
       "<style scoped>\n",
       "    .dataframe tbody tr th:only-of-type {\n",
       "        vertical-align: middle;\n",
       "    }\n",
       "\n",
       "    .dataframe tbody tr th {\n",
       "        vertical-align: top;\n",
       "    }\n",
       "\n",
       "    .dataframe thead th {\n",
       "        text-align: right;\n",
       "    }\n",
       "</style>\n",
       "<table border=\"1\" class=\"dataframe\">\n",
       "  <thead>\n",
       "    <tr style=\"text-align: right;\">\n",
       "      <th></th>\n",
       "      <th>id</th>\n",
       "      <th>message_date</th>\n",
       "      <th>user_id</th>\n",
       "    </tr>\n",
       "  </thead>\n",
       "  <tbody>\n",
       "    <tr>\n",
       "      <th>0</th>\n",
       "      <td>1000_0</td>\n",
       "      <td>2018-06-27</td>\n",
       "      <td>1000</td>\n",
       "    </tr>\n",
       "    <tr>\n",
       "      <th>1</th>\n",
       "      <td>1000_1</td>\n",
       "      <td>2018-10-08</td>\n",
       "      <td>1000</td>\n",
       "    </tr>\n",
       "    <tr>\n",
       "      <th>2</th>\n",
       "      <td>1000_2</td>\n",
       "      <td>2018-08-04</td>\n",
       "      <td>1000</td>\n",
       "    </tr>\n",
       "    <tr>\n",
       "      <th>3</th>\n",
       "      <td>1000_3</td>\n",
       "      <td>2018-06-16</td>\n",
       "      <td>1000</td>\n",
       "    </tr>\n",
       "    <tr>\n",
       "      <th>4</th>\n",
       "      <td>1000_4</td>\n",
       "      <td>2018-12-05</td>\n",
       "      <td>1000</td>\n",
       "    </tr>\n",
       "  </tbody>\n",
       "</table>\n",
       "</div>"
      ],
      "text/plain": [
       "       id message_date  user_id\n",
       "0  1000_0   2018-06-27     1000\n",
       "1  1000_1   2018-10-08     1000\n",
       "2  1000_2   2018-08-04     1000\n",
       "3  1000_3   2018-06-16     1000\n",
       "4  1000_4   2018-12-05     1000"
      ]
     },
     "execution_count": 4,
     "metadata": {},
     "output_type": "execute_result"
    }
   ],
   "source": [
    "messages.info()\n",
    "messages.head()"
   ]
  },
  {
   "cell_type": "code",
   "execution_count": 5,
   "metadata": {},
   "outputs": [
    {
     "data": {
      "text/html": [
       "<div>\n",
       "<style scoped>\n",
       "    .dataframe tbody tr th:only-of-type {\n",
       "        vertical-align: middle;\n",
       "    }\n",
       "\n",
       "    .dataframe tbody tr th {\n",
       "        vertical-align: top;\n",
       "    }\n",
       "\n",
       "    .dataframe thead th {\n",
       "        text-align: right;\n",
       "    }\n",
       "</style>\n",
       "<table border=\"1\" class=\"dataframe\">\n",
       "  <thead>\n",
       "    <tr style=\"text-align: right;\">\n",
       "      <th></th>\n",
       "      <th>messages_included</th>\n",
       "      <th>mg_per_month_included</th>\n",
       "      <th>minutes_included</th>\n",
       "      <th>rub_monthly_fee</th>\n",
       "      <th>rub_per_gb</th>\n",
       "      <th>rub_per_message</th>\n",
       "      <th>rub_per_minute</th>\n",
       "      <th>tariff_name</th>\n",
       "    </tr>\n",
       "  </thead>\n",
       "  <tbody>\n",
       "    <tr>\n",
       "      <th>0</th>\n",
       "      <td>50</td>\n",
       "      <td>15360</td>\n",
       "      <td>500</td>\n",
       "      <td>550</td>\n",
       "      <td>200</td>\n",
       "      <td>3</td>\n",
       "      <td>3</td>\n",
       "      <td>smart</td>\n",
       "    </tr>\n",
       "    <tr>\n",
       "      <th>1</th>\n",
       "      <td>1000</td>\n",
       "      <td>30720</td>\n",
       "      <td>3000</td>\n",
       "      <td>1950</td>\n",
       "      <td>150</td>\n",
       "      <td>1</td>\n",
       "      <td>1</td>\n",
       "      <td>ultra</td>\n",
       "    </tr>\n",
       "  </tbody>\n",
       "</table>\n",
       "</div>"
      ],
      "text/plain": [
       "   messages_included  mg_per_month_included  minutes_included  \\\n",
       "0                 50                  15360               500   \n",
       "1               1000                  30720              3000   \n",
       "\n",
       "   rub_monthly_fee  rub_per_gb  rub_per_message  rub_per_minute tariff_name  \n",
       "0              550         200                3               3       smart  \n",
       "1             1950         150                1               1       ultra  "
      ]
     },
     "execution_count": 5,
     "metadata": {},
     "output_type": "execute_result"
    }
   ],
   "source": [
    "tariffs.head()"
   ]
  },
  {
   "cell_type": "code",
   "execution_count": 6,
   "metadata": {},
   "outputs": [
    {
     "name": "stdout",
     "output_type": "stream",
     "text": [
      "<class 'pandas.core.frame.DataFrame'>\n",
      "RangeIndex: 500 entries, 0 to 499\n",
      "Data columns (total 8 columns):\n",
      "user_id       500 non-null int64\n",
      "age           500 non-null int64\n",
      "churn_date    38 non-null object\n",
      "city          500 non-null object\n",
      "first_name    500 non-null object\n",
      "last_name     500 non-null object\n",
      "reg_date      500 non-null object\n",
      "tariff        500 non-null object\n",
      "dtypes: int64(2), object(6)\n",
      "memory usage: 31.3+ KB\n"
     ]
    },
    {
     "data": {
      "text/html": [
       "<div>\n",
       "<style scoped>\n",
       "    .dataframe tbody tr th:only-of-type {\n",
       "        vertical-align: middle;\n",
       "    }\n",
       "\n",
       "    .dataframe tbody tr th {\n",
       "        vertical-align: top;\n",
       "    }\n",
       "\n",
       "    .dataframe thead th {\n",
       "        text-align: right;\n",
       "    }\n",
       "</style>\n",
       "<table border=\"1\" class=\"dataframe\">\n",
       "  <thead>\n",
       "    <tr style=\"text-align: right;\">\n",
       "      <th></th>\n",
       "      <th>user_id</th>\n",
       "      <th>age</th>\n",
       "      <th>churn_date</th>\n",
       "      <th>city</th>\n",
       "      <th>first_name</th>\n",
       "      <th>last_name</th>\n",
       "      <th>reg_date</th>\n",
       "      <th>tariff</th>\n",
       "    </tr>\n",
       "  </thead>\n",
       "  <tbody>\n",
       "    <tr>\n",
       "      <th>0</th>\n",
       "      <td>1000</td>\n",
       "      <td>52</td>\n",
       "      <td>NaN</td>\n",
       "      <td>Краснодар</td>\n",
       "      <td>Рафаил</td>\n",
       "      <td>Верещагин</td>\n",
       "      <td>2018-05-25</td>\n",
       "      <td>ultra</td>\n",
       "    </tr>\n",
       "    <tr>\n",
       "      <th>1</th>\n",
       "      <td>1001</td>\n",
       "      <td>41</td>\n",
       "      <td>NaN</td>\n",
       "      <td>Москва</td>\n",
       "      <td>Иван</td>\n",
       "      <td>Ежов</td>\n",
       "      <td>2018-11-01</td>\n",
       "      <td>smart</td>\n",
       "    </tr>\n",
       "    <tr>\n",
       "      <th>2</th>\n",
       "      <td>1002</td>\n",
       "      <td>59</td>\n",
       "      <td>NaN</td>\n",
       "      <td>Стерлитамак</td>\n",
       "      <td>Евгений</td>\n",
       "      <td>Абрамович</td>\n",
       "      <td>2018-06-17</td>\n",
       "      <td>smart</td>\n",
       "    </tr>\n",
       "    <tr>\n",
       "      <th>3</th>\n",
       "      <td>1003</td>\n",
       "      <td>23</td>\n",
       "      <td>NaN</td>\n",
       "      <td>Москва</td>\n",
       "      <td>Белла</td>\n",
       "      <td>Белякова</td>\n",
       "      <td>2018-08-17</td>\n",
       "      <td>ultra</td>\n",
       "    </tr>\n",
       "    <tr>\n",
       "      <th>4</th>\n",
       "      <td>1004</td>\n",
       "      <td>68</td>\n",
       "      <td>NaN</td>\n",
       "      <td>Новокузнецк</td>\n",
       "      <td>Татьяна</td>\n",
       "      <td>Авдеенко</td>\n",
       "      <td>2018-05-14</td>\n",
       "      <td>ultra</td>\n",
       "    </tr>\n",
       "  </tbody>\n",
       "</table>\n",
       "</div>"
      ],
      "text/plain": [
       "   user_id  age churn_date         city first_name  last_name    reg_date  \\\n",
       "0     1000   52        NaN    Краснодар     Рафаил  Верещагин  2018-05-25   \n",
       "1     1001   41        NaN       Москва       Иван       Ежов  2018-11-01   \n",
       "2     1002   59        NaN  Стерлитамак    Евгений  Абрамович  2018-06-17   \n",
       "3     1003   23        NaN       Москва      Белла   Белякова  2018-08-17   \n",
       "4     1004   68        NaN  Новокузнецк    Татьяна   Авдеенко  2018-05-14   \n",
       "\n",
       "  tariff  \n",
       "0  ultra  \n",
       "1  smart  \n",
       "2  smart  \n",
       "3  ultra  \n",
       "4  ultra  "
      ]
     },
     "execution_count": 6,
     "metadata": {},
     "output_type": "execute_result"
    }
   ],
   "source": [
    "users.info()\n",
    "users.head()"
   ]
  },
  {
   "cell_type": "markdown",
   "metadata": {},
   "source": [
    "## 2. Подготовка данных\n",
    "\n",
    "- Приведите данные к нужным типам;\n",
    "- Найдите и исправьте ошибки в данных.\n",
    "\n",
    "Поясните, какие ошибки вы нашли и как их исправили. Обратите внимание, что у большого количества звонков длительность — 0.0 минут. Это проблема в данных, нужна предобработка.\n",
    "Посчитайте для каждого пользователя:\n",
    "\n",
    "- количество сделанных звонков и израсходованных минут разговора по месяцам;\n",
    "- количество отправленных сообщений по месяцам;\n",
    "- объем израсходованного интернет-трафика по месяцам;\n",
    "- помесячную выручку с каждого пользователя (вычтите бесплатный лимит из суммарного количества звонков, сообщений и интернет-трафика; остаток умножьте на значение из тарифного плана)."
   ]
  },
  {
   "cell_type": "markdown",
   "metadata": {},
   "source": [
    "Преобразуем даты в наборах данных в соответствующий тип и добавим столбец с месяцем."
   ]
  },
  {
   "cell_type": "code",
   "execution_count": 7,
   "metadata": {},
   "outputs": [],
   "source": [
    "calls['month'] =  pd.to_datetime(calls['call_date'], format='%Y-%m-%d').dt.month\n",
    "internet['month']=  pd.to_datetime(internet['session_date'], format='%Y-%m-%d').dt.month\n",
    "messages['month'] =  pd.to_datetime(messages['message_date'], format='%Y-%m-%d').dt.month"
   ]
  },
  {
   "cell_type": "markdown",
   "metadata": {},
   "source": [
    "Дальнешие операции с данными будем проводить в предположении, что длительность 0.0 минут не засчитывается за совершённый разговор (возможно, так по какой-то причине записались вызовы без ответа), значит в тарифе \"Смарт\" за такие звонки не будет вычитаться минута из ежемесячного пакета. Также будем считать, что объём трафика за сессию 0.0 Мб тоже не будет округляться до целого мегабайта. Удалим эти записи."
   ]
  },
  {
   "cell_type": "code",
   "execution_count": 8,
   "metadata": {},
   "outputs": [],
   "source": [
    "calls = calls.query('duration > 0').reset_index(drop = True)\n",
    "internet = internet.query('mb_used > 0').reset_index(drop = True)"
   ]
  },
  {
   "cell_type": "code",
   "execution_count": 9,
   "metadata": {
    "scrolled": true
   },
   "outputs": [
    {
     "data": {
      "text/html": [
       "<div>\n",
       "<style scoped>\n",
       "    .dataframe tbody tr th:only-of-type {\n",
       "        vertical-align: middle;\n",
       "    }\n",
       "\n",
       "    .dataframe tbody tr th {\n",
       "        vertical-align: top;\n",
       "    }\n",
       "\n",
       "    .dataframe thead th {\n",
       "        text-align: right;\n",
       "    }\n",
       "</style>\n",
       "<table border=\"1\" class=\"dataframe\">\n",
       "  <thead>\n",
       "    <tr style=\"text-align: right;\">\n",
       "      <th></th>\n",
       "      <th>user_id</th>\n",
       "      <th>tariff</th>\n",
       "      <th>city</th>\n",
       "    </tr>\n",
       "  </thead>\n",
       "  <tbody>\n",
       "    <tr>\n",
       "      <th>0</th>\n",
       "      <td>1000</td>\n",
       "      <td>ultra</td>\n",
       "      <td>Краснодар</td>\n",
       "    </tr>\n",
       "    <tr>\n",
       "      <th>1</th>\n",
       "      <td>1001</td>\n",
       "      <td>smart</td>\n",
       "      <td>Москва</td>\n",
       "    </tr>\n",
       "    <tr>\n",
       "      <th>2</th>\n",
       "      <td>1002</td>\n",
       "      <td>smart</td>\n",
       "      <td>Стерлитамак</td>\n",
       "    </tr>\n",
       "    <tr>\n",
       "      <th>3</th>\n",
       "      <td>1003</td>\n",
       "      <td>ultra</td>\n",
       "      <td>Москва</td>\n",
       "    </tr>\n",
       "    <tr>\n",
       "      <th>4</th>\n",
       "      <td>1004</td>\n",
       "      <td>ultra</td>\n",
       "      <td>Новокузнецк</td>\n",
       "    </tr>\n",
       "  </tbody>\n",
       "</table>\n",
       "</div>"
      ],
      "text/plain": [
       "   user_id tariff         city\n",
       "0     1000  ultra    Краснодар\n",
       "1     1001  smart       Москва\n",
       "2     1002  smart  Стерлитамак\n",
       "3     1003  ultra       Москва\n",
       "4     1004  ultra  Новокузнецк"
      ]
     },
     "execution_count": 9,
     "metadata": {},
     "output_type": "execute_result"
    }
   ],
   "source": [
    "# создадим таблицу с 'user_id', соответствующим тарифом и городом\n",
    "users_info = users[['user_id','tariff','city']]\n",
    "users_info.head()"
   ]
  },
  {
   "cell_type": "markdown",
   "metadata": {},
   "source": [
    "# Комментарий наставника\n",
    "Я бы тоже так сделал. Самый просто способ добавить тариф к основной табличке"
   ]
  },
  {
   "cell_type": "code",
   "execution_count": 10,
   "metadata": {
    "scrolled": true
   },
   "outputs": [],
   "source": [
    "# добавим указание о тарифе в таблицы со звонками и интернет-сессиями\n",
    "calls = calls.merge(users_info, on = 'user_id')\n",
    "internet = internet.merge(users_info, on = 'user_id')"
   ]
  },
  {
   "cell_type": "markdown",
   "metadata": {},
   "source": [
    "# Комментарий наставника\n",
    "По этим функциям чуть ниже будет комментарий, а тут просто такой совет-придирка:\n",
    "\n",
    "`\n",
    "    if tariff == 'smart':\n",
    "        mb_used = math.ceil(mb_used)\n",
    "        return mb_used\n",
    "    else:\n",
    "        return mb_used     \n",
    "`\n",
    "\n",
    "можно превратить в \n",
    "\n",
    "`\n",
    "    if tariff == 'smart':\n",
    "        return math.ceil(mb_used)\n",
    "    else:\n",
    "        return mb_used     \n",
    "`\n",
    "\n",
    "Не то чтобы строчку жалко (их никогда не надо экономить и если выражения большие, то лучше как раз поступать так, как ты), но здесь не очень длинное выражение и, кажется, так просто читать легче"
   ]
  },
  {
   "cell_type": "code",
   "execution_count": 11,
   "metadata": {},
   "outputs": [],
   "source": [
    "# создадим функцию для округления длительности звонка и объёма трафика до ближайшего целого вверх\n",
    "# def duration_ceiling(row):\n",
    "#     user_id = row['user_id']\n",
    "#     duration = row['duration']\n",
    "#     tariff = row['tariff']\n",
    "#     if tariff == 'smart':\n",
    "#         duration = math.ceil(duration)\n",
    "#         return duration\n",
    "#     else:\n",
    "#         return duration        \n",
    "#     \n",
    "# def mb_ceiling(row):\n",
    "#     user_id = row['user_id']\n",
    "#     mb_used = row['mb_used']\n",
    "#     tariff = row['tariff']\n",
    "#     if tariff == 'smart':\n",
    "#         mb_used = math.ceil(mb_used)\n",
    "#         return mb_used\n",
    "#     else:\n",
    "#         return mb_used     "
   ]
  },
  {
   "cell_type": "markdown",
   "metadata": {},
   "source": [
    "# Комментарий наставника\n",
    "Слишком хитро... кажется, что все, что ты здесь делаешь, это округляешь вверх. Т.е как минимум `    user_id = row['user_id']` - лишнее.\n",
    "\n",
    "Но мне кажется, что можно вообще сделать `calls.duration.apply(math.ceil)` но только для тех строк, где тариф соответствующий. Это можно через `loc` сделать."
   ]
  },
  {
   "cell_type": "code",
   "execution_count": 12,
   "metadata": {},
   "outputs": [],
   "source": [
    "# применим функцию к каждой строке \n",
    "# calls['duration'] = calls.apply(duration_ceiling, axis = 1)\n",
    "# internet['mb_used'] = internet.apply(mb_ceiling, axis = 1)"
   ]
  },
  {
   "cell_type": "code",
   "execution_count": 13,
   "metadata": {},
   "outputs": [],
   "source": [
    "# Пробовал так раньше, но запись \n",
    "\n",
    "#calls.loc[calls.loc[:,'tariff'] == 'smart']['duration'] = \\\n",
    "#calls.loc[calls.loc[:,'tariff'] == 'smart']['duration'].apply(math.ceil)\n",
    "\n",
    "# даёт ошибку\n",
    "# \"A value is trying to be set on a copy of a slice from a DataFrame.\n",
    "# Try using .loc[row_indexer,col_indexer] = value instead\"\n",
    "\n",
    "# поэтому написал функцию"
   ]
  },
  {
   "cell_type": "code",
   "execution_count": 14,
   "metadata": {},
   "outputs": [],
   "source": [
    "# с такой записью всё работает\n",
    "calls.loc[calls.loc[:,'tariff'] == 'smart', 'duration'] = \\\n",
    "calls.loc[calls.loc[:,'tariff'] == 'smart']['duration'].apply(math.ceil)"
   ]
  },
  {
   "cell_type": "code",
   "execution_count": 15,
   "metadata": {},
   "outputs": [],
   "source": [
    "internet.loc[internet.loc[:,'tariff'] == 'smart','mb_used'] = \\\n",
    "internet.loc[internet.loc[:,'tariff'] == 'smart']['mb_used'].apply(math.ceil)"
   ]
  },
  {
   "cell_type": "code",
   "execution_count": 16,
   "metadata": {},
   "outputs": [],
   "source": [
    "# сгруппируем звонки по месяцам для каждого пользователя, посчитаем количество и суммарную длительность\n",
    "user_monthly_calls = calls.pivot_table(index=['user_id','month'], values=['duration', 'tariff', 'city'], \\\n",
    "                                       aggfunc = {'duration': ['count', 'sum'], 'tariff': 'first', 'city': 'first'})\n",
    "\n",
    "user_monthly_calls.columns = ['city', 'number_of_calls','calls_duration', 'tariff']"
   ]
  },
  {
   "cell_type": "code",
   "execution_count": 17,
   "metadata": {},
   "outputs": [],
   "source": [
    "# сгруппируем сообщения по месяцам для каждого пользователя\n",
    "user_monthly_messages = messages.pivot_table(index=['user_id','month'], values='id', aggfunc = 'count')\n",
    "user_monthly_messages.columns = ['number_of_messages']"
   ]
  },
  {
   "cell_type": "code",
   "execution_count": 18,
   "metadata": {
    "scrolled": true
   },
   "outputs": [],
   "source": [
    "# сгруппируем объём интернет-трафика (Мб) по месяцам для каждого пользователя\n",
    "user_monthly_internet = internet.pivot_table(index=['user_id','month'], values='mb_used', aggfunc = 'sum')\n",
    "user_monthly_internet.columns = ['traffic']"
   ]
  },
  {
   "cell_type": "code",
   "execution_count": 19,
   "metadata": {
    "scrolled": false
   },
   "outputs": [
    {
     "data": {
      "text/html": [
       "<div>\n",
       "<style scoped>\n",
       "    .dataframe tbody tr th:only-of-type {\n",
       "        vertical-align: middle;\n",
       "    }\n",
       "\n",
       "    .dataframe tbody tr th {\n",
       "        vertical-align: top;\n",
       "    }\n",
       "\n",
       "    .dataframe thead th {\n",
       "        text-align: right;\n",
       "    }\n",
       "</style>\n",
       "<table border=\"1\" class=\"dataframe\">\n",
       "  <thead>\n",
       "    <tr style=\"text-align: right;\">\n",
       "      <th></th>\n",
       "      <th></th>\n",
       "      <th>city</th>\n",
       "      <th>number_of_calls</th>\n",
       "      <th>calls_duration</th>\n",
       "      <th>tariff</th>\n",
       "      <th>number_of_messages</th>\n",
       "      <th>traffic</th>\n",
       "    </tr>\n",
       "    <tr>\n",
       "      <th>user_id</th>\n",
       "      <th>month</th>\n",
       "      <th></th>\n",
       "      <th></th>\n",
       "      <th></th>\n",
       "      <th></th>\n",
       "      <th></th>\n",
       "      <th></th>\n",
       "    </tr>\n",
       "  </thead>\n",
       "  <tbody>\n",
       "    <tr>\n",
       "      <th rowspan=\"8\" valign=\"top\">1000</th>\n",
       "      <th>5</th>\n",
       "      <td>Краснодар</td>\n",
       "      <td>17</td>\n",
       "      <td>150.06</td>\n",
       "      <td>ultra</td>\n",
       "      <td>22.0</td>\n",
       "      <td>2253.49</td>\n",
       "    </tr>\n",
       "    <tr>\n",
       "      <th>6</th>\n",
       "      <td>Краснодар</td>\n",
       "      <td>28</td>\n",
       "      <td>158.90</td>\n",
       "      <td>ultra</td>\n",
       "      <td>60.0</td>\n",
       "      <td>23233.77</td>\n",
       "    </tr>\n",
       "    <tr>\n",
       "      <th>7</th>\n",
       "      <td>Краснодар</td>\n",
       "      <td>41</td>\n",
       "      <td>318.80</td>\n",
       "      <td>ultra</td>\n",
       "      <td>75.0</td>\n",
       "      <td>14003.64</td>\n",
       "    </tr>\n",
       "    <tr>\n",
       "      <th>8</th>\n",
       "      <td>Краснодар</td>\n",
       "      <td>42</td>\n",
       "      <td>389.87</td>\n",
       "      <td>ultra</td>\n",
       "      <td>81.0</td>\n",
       "      <td>14055.93</td>\n",
       "    </tr>\n",
       "    <tr>\n",
       "      <th>9</th>\n",
       "      <td>Краснодар</td>\n",
       "      <td>46</td>\n",
       "      <td>440.14</td>\n",
       "      <td>ultra</td>\n",
       "      <td>57.0</td>\n",
       "      <td>14568.91</td>\n",
       "    </tr>\n",
       "    <tr>\n",
       "      <th>10</th>\n",
       "      <td>Краснодар</td>\n",
       "      <td>44</td>\n",
       "      <td>328.45</td>\n",
       "      <td>ultra</td>\n",
       "      <td>73.0</td>\n",
       "      <td>14702.49</td>\n",
       "    </tr>\n",
       "    <tr>\n",
       "      <th>11</th>\n",
       "      <td>Краснодар</td>\n",
       "      <td>37</td>\n",
       "      <td>319.04</td>\n",
       "      <td>ultra</td>\n",
       "      <td>58.0</td>\n",
       "      <td>14756.47</td>\n",
       "    </tr>\n",
       "    <tr>\n",
       "      <th>12</th>\n",
       "      <td>Краснодар</td>\n",
       "      <td>38</td>\n",
       "      <td>312.98</td>\n",
       "      <td>ultra</td>\n",
       "      <td>70.0</td>\n",
       "      <td>9817.61</td>\n",
       "    </tr>\n",
       "    <tr>\n",
       "      <th rowspan=\"2\" valign=\"top\">1001</th>\n",
       "      <th>11</th>\n",
       "      <td>Москва</td>\n",
       "      <td>45</td>\n",
       "      <td>430.00</td>\n",
       "      <td>smart</td>\n",
       "      <td>0.0</td>\n",
       "      <td>18452.00</td>\n",
       "    </tr>\n",
       "    <tr>\n",
       "      <th>12</th>\n",
       "      <td>Москва</td>\n",
       "      <td>47</td>\n",
       "      <td>414.00</td>\n",
       "      <td>smart</td>\n",
       "      <td>0.0</td>\n",
       "      <td>14053.00</td>\n",
       "    </tr>\n",
       "    <tr>\n",
       "      <th rowspan=\"5\" valign=\"top\">1002</th>\n",
       "      <th>6</th>\n",
       "      <td>Стерлитамак</td>\n",
       "      <td>14</td>\n",
       "      <td>117.00</td>\n",
       "      <td>smart</td>\n",
       "      <td>4.0</td>\n",
       "      <td>10871.00</td>\n",
       "    </tr>\n",
       "    <tr>\n",
       "      <th>7</th>\n",
       "      <td>Стерлитамак</td>\n",
       "      <td>21</td>\n",
       "      <td>214.00</td>\n",
       "      <td>smart</td>\n",
       "      <td>11.0</td>\n",
       "      <td>17601.00</td>\n",
       "    </tr>\n",
       "    <tr>\n",
       "      <th>8</th>\n",
       "      <td>Стерлитамак</td>\n",
       "      <td>37</td>\n",
       "      <td>289.00</td>\n",
       "      <td>smart</td>\n",
       "      <td>13.0</td>\n",
       "      <td>20347.00</td>\n",
       "    </tr>\n",
       "    <tr>\n",
       "      <th>9</th>\n",
       "      <td>Стерлитамак</td>\n",
       "      <td>25</td>\n",
       "      <td>206.00</td>\n",
       "      <td>smart</td>\n",
       "      <td>4.0</td>\n",
       "      <td>16712.00</td>\n",
       "    </tr>\n",
       "    <tr>\n",
       "      <th>10</th>\n",
       "      <td>Стерлитамак</td>\n",
       "      <td>24</td>\n",
       "      <td>212.00</td>\n",
       "      <td>smart</td>\n",
       "      <td>10.0</td>\n",
       "      <td>13905.00</td>\n",
       "    </tr>\n",
       "  </tbody>\n",
       "</table>\n",
       "</div>"
      ],
      "text/plain": [
       "                      city  number_of_calls  calls_duration tariff  \\\n",
       "user_id month                                                        \n",
       "1000    5        Краснодар               17          150.06  ultra   \n",
       "        6        Краснодар               28          158.90  ultra   \n",
       "        7        Краснодар               41          318.80  ultra   \n",
       "        8        Краснодар               42          389.87  ultra   \n",
       "        9        Краснодар               46          440.14  ultra   \n",
       "        10       Краснодар               44          328.45  ultra   \n",
       "        11       Краснодар               37          319.04  ultra   \n",
       "        12       Краснодар               38          312.98  ultra   \n",
       "1001    11          Москва               45          430.00  smart   \n",
       "        12          Москва               47          414.00  smart   \n",
       "1002    6      Стерлитамак               14          117.00  smart   \n",
       "        7      Стерлитамак               21          214.00  smart   \n",
       "        8      Стерлитамак               37          289.00  smart   \n",
       "        9      Стерлитамак               25          206.00  smart   \n",
       "        10     Стерлитамак               24          212.00  smart   \n",
       "\n",
       "               number_of_messages   traffic  \n",
       "user_id month                                \n",
       "1000    5                    22.0   2253.49  \n",
       "        6                    60.0  23233.77  \n",
       "        7                    75.0  14003.64  \n",
       "        8                    81.0  14055.93  \n",
       "        9                    57.0  14568.91  \n",
       "        10                   73.0  14702.49  \n",
       "        11                   58.0  14756.47  \n",
       "        12                   70.0   9817.61  \n",
       "1001    11                    0.0  18452.00  \n",
       "        12                    0.0  14053.00  \n",
       "1002    6                     4.0  10871.00  \n",
       "        7                    11.0  17601.00  \n",
       "        8                    13.0  20347.00  \n",
       "        9                     4.0  16712.00  \n",
       "        10                   10.0  13905.00  "
      ]
     },
     "execution_count": 19,
     "metadata": {},
     "output_type": "execute_result"
    }
   ],
   "source": [
    "# объединим наборы данных\n",
    "user_monthly_overall = user_monthly_calls.join([user_monthly_messages,user_monthly_internet])\n",
    "\n",
    "# пропуски заполним 0\n",
    "user_monthly_overall = user_monthly_overall.fillna(0)\n",
    "\n",
    "user_monthly_overall.head(15)"
   ]
  },
  {
   "cell_type": "code",
   "execution_count": 20,
   "metadata": {},
   "outputs": [],
   "source": [
    "# добавим функцию \"превышение\"\n",
    "def excess (a, b):\n",
    "    if a > b:\n",
    "        return a-b\n",
    "    return 0"
   ]
  },
  {
   "cell_type": "markdown",
   "metadata": {},
   "source": [
    "# Комментарий наставника\n",
    "Сама идея написать revenue_calc и сделать apply - очень правильная! Я рад, что ты до неё дошел. Многие пытались просто колонки датафреймов всячески складывать и вычитать. Получалось очень много нечитаемого кода. \n",
    "\n",
    "Что мне не нравится, так это постоянное и очень \"шумное\" обращение к tariffs типа вот такого `tariffs.loc[0,'minutes_included'])`\n",
    "\n",
    "Существует три, как мне кажется, варианта решить проблему:\n",
    "1. Сделать просто отдельные переменные со стоимость мегабайта, звонка и прочее, с понятным названием и использовать их в функции. Не самый лучший вариант, но хотя бы не будем таскать длиннющие конструкции в которых ещё и номера строк руками зашиты (т.е. поменяются строки и все сломается)\n",
    "2. Это изучить такую штуку как partial. Это довольно хитрая вещь, которая позволяет создать функцию, которая принимает несколько параметров, а потом передать туда *часть* параметров и получить функцию, которая принимает все оставшиеся кроме переданных (не знаю, насколько это понятная мысль). Если хочешь, потом приведу пример. Ну или просто поищи partial python example. На любой вкус и цвет будут примеры\n",
    "3. Оказывается, apply уже умеет делать пункт два. Можешь попытаться использовать это (https://pandas.pydata.org/pandas-docs/stable/reference/api/pandas.Series.apply.html). Смотри там пример про subtract_custom_value. \n",
    "\n",
    "Я считаю, что 2 и 3 - это преждевременно. И без таких тонкостей можно жить. Но если очень хочется, то почему бы и не изучить. Вариант 1 - железобетонный, хотя, наверное, и не самый красивый и идиологически правильный."
   ]
  },
  {
   "cell_type": "markdown",
   "metadata": {},
   "source": [
    "Делал обращение к датасету tariffs, чтобы не пришлось обновлять числа вручную при изменении параметров тарифа, но да, если поменяются сами строки, всё сломается."
   ]
  },
  {
   "cell_type": "markdown",
   "metadata": {},
   "source": [
    "Сходу разобраться не получилось, нужно потратить какое-то время и рассмотреть несколько примеров. Пока выполнил по варианту 1."
   ]
  },
  {
   "cell_type": "code",
   "execution_count": 21,
   "metadata": {
    "scrolled": true
   },
   "outputs": [
    {
     "data": {
      "text/html": [
       "<div>\n",
       "<style scoped>\n",
       "    .dataframe tbody tr th:only-of-type {\n",
       "        vertical-align: middle;\n",
       "    }\n",
       "\n",
       "    .dataframe tbody tr th {\n",
       "        vertical-align: top;\n",
       "    }\n",
       "\n",
       "    .dataframe thead th {\n",
       "        text-align: right;\n",
       "    }\n",
       "</style>\n",
       "<table border=\"1\" class=\"dataframe\">\n",
       "  <thead>\n",
       "    <tr style=\"text-align: right;\">\n",
       "      <th></th>\n",
       "      <th>messages_included</th>\n",
       "      <th>mg_per_month_included</th>\n",
       "      <th>minutes_included</th>\n",
       "      <th>rub_monthly_fee</th>\n",
       "      <th>rub_per_gb</th>\n",
       "      <th>rub_per_message</th>\n",
       "      <th>rub_per_minute</th>\n",
       "      <th>tariff_name</th>\n",
       "    </tr>\n",
       "  </thead>\n",
       "  <tbody>\n",
       "    <tr>\n",
       "      <th>0</th>\n",
       "      <td>50</td>\n",
       "      <td>15360</td>\n",
       "      <td>500</td>\n",
       "      <td>550</td>\n",
       "      <td>200</td>\n",
       "      <td>3</td>\n",
       "      <td>3</td>\n",
       "      <td>smart</td>\n",
       "    </tr>\n",
       "    <tr>\n",
       "      <th>1</th>\n",
       "      <td>1000</td>\n",
       "      <td>30720</td>\n",
       "      <td>3000</td>\n",
       "      <td>1950</td>\n",
       "      <td>150</td>\n",
       "      <td>1</td>\n",
       "      <td>1</td>\n",
       "      <td>ultra</td>\n",
       "    </tr>\n",
       "  </tbody>\n",
       "</table>\n",
       "</div>"
      ],
      "text/plain": [
       "   messages_included  mg_per_month_included  minutes_included  \\\n",
       "0                 50                  15360               500   \n",
       "1               1000                  30720              3000   \n",
       "\n",
       "   rub_monthly_fee  rub_per_gb  rub_per_message  rub_per_minute tariff_name  \n",
       "0              550         200                3               3       smart  \n",
       "1             1950         150                1               1       ultra  "
      ]
     },
     "execution_count": 21,
     "metadata": {},
     "output_type": "execute_result"
    }
   ],
   "source": [
    "tariffs"
   ]
  },
  {
   "cell_type": "markdown",
   "metadata": {},
   "source": [
    "# Комментарий наставника. \n",
    "Я тут имел в виду не совсем такое. А что-то похожее на:\n",
    "smart_mb_per_month_included = tariffs[tariffs.tariff_name=='smart'].mg_per_month_included\n",
    "\n",
    "Отправлять на доработку ради этого как-то глупо. Просто имей в виду, что так было бы существенно лучше, чем руками перебивать. И нет привязки к конкретной строке, как в случае с loc[1,...]"
   ]
  },
  {
   "cell_type": "code",
   "execution_count": 41,
   "metadata": {},
   "outputs": [],
   "source": [
    "# запишем параметры тарифов\n",
    "smart_rub_monthly_fee = 550\n",
    "smart_messages_included = 50\n",
    "smart_mb_per_month_included = 15360\n",
    "smart_minutes_included = 500\n",
    "smart_rub_per_gb = 200\n",
    "smart_rub_per_message = 3\n",
    "smart_rub_per_minute = 3\n",
    "\n",
    "ultra_rub_monthly_fee = 1950\n",
    "ultra_messages_included = 1000\n",
    "ultra_mb_per_month_included = 30720\n",
    "ultra_minutes_included = 3000\n",
    "ultra_rub_per_gb = 150\n",
    "ultra_rub_per_message = 1\n",
    "ultra_rub_per_minute = 1"
   ]
  },
  {
   "cell_type": "code",
   "execution_count": 23,
   "metadata": {},
   "outputs": [],
   "source": [
    "# вычислим выручку с каждого пользователя\n",
    "def revenue_calc(row):\n",
    "    calls_duration = row['calls_duration']\n",
    "    number_of_messages = row['number_of_messages']\n",
    "    traffic = row['traffic']\n",
    "    tariff = row['tariff']\n",
    "    revenue = 0\n",
    "    if tariff == 'smart':\n",
    "        revenue = smart_rub_monthly_fee + \\\n",
    "                  excess(calls_duration, smart_minutes_included)*smart_rub_per_minute + \\\n",
    "                  excess(number_of_messages, smart_messages_included)*smart_rub_per_message + \\\n",
    "                  excess(traffic, smart_mb_per_month_included)*smart_rub_per_gb/1024\n",
    "    else:\n",
    "        revenue = ultra_rub_monthly_fee + \\\n",
    "                  excess(calls_duration, ultra_minutes_included)*ultra_rub_per_minute + \\\n",
    "                  excess(number_of_messages, ultra_messages_included)*ultra_rub_per_message + \\\n",
    "                  excess(traffic, ultra_mb_per_month_included)*ultra_rub_per_gb/1024\n",
    "    return revenue    "
   ]
  },
  {
   "cell_type": "code",
   "execution_count": 24,
   "metadata": {},
   "outputs": [],
   "source": [
    "# вычислим выручку с каждого пользователя\n",
    "#def revenue_calc(row):\n",
    "#    calls_duration = row['calls_duration']\n",
    "#    number_of_messages = row['number_of_messages']\n",
    "#    traffic = row['traffic']\n",
    "#    tariff = row['tariff']\n",
    "#    revenue = 0\n",
    "#    if tariff == 'smart':\n",
    "#        revenue = tariffs.loc[0,'rub_monthly_fee'] + \\\n",
    "#                  excess(calls_duration, tariffs.loc[0,'minutes_included'])*tariffs.loc[0,'rub_per_minute'] + \\\n",
    "#                  excess(number_of_messages, tariffs.loc[0,'messages_included'])*tariffs.loc[0,'rub_per_message'] + \\\n",
    "#                  excess(traffic, tariffs.loc[0,'mg_per_month_included'])*tariffs.loc[0,'rub_per_gb']/1024\n",
    "#    else:\n",
    "#        revenue = tariffs.loc[1,'rub_monthly_fee'] + \\\n",
    "#                  excess(calls_duration, tariffs.loc[1,'minutes_included'])*tariffs.loc[1,'rub_per_minute'] + \\\n",
    "#                  excess(number_of_messages, tariffs.loc[1,'messages_included'])*tariffs.loc[1,'rub_per_message'] + \\\n",
    "#                  excess(traffic, tariffs.loc[1,'mg_per_month_included'])*tariffs.loc[1,'rub_per_gb']/1024\n",
    "#    return revenue     "
   ]
  },
  {
   "cell_type": "code",
   "execution_count": 25,
   "metadata": {},
   "outputs": [],
   "source": [
    "user_monthly_overall['revenue'] = user_monthly_overall.apply(revenue_calc, axis = 1)"
   ]
  },
  {
   "cell_type": "code",
   "execution_count": 26,
   "metadata": {},
   "outputs": [
    {
     "data": {
      "text/html": [
       "<div>\n",
       "<style scoped>\n",
       "    .dataframe tbody tr th:only-of-type {\n",
       "        vertical-align: middle;\n",
       "    }\n",
       "\n",
       "    .dataframe tbody tr th {\n",
       "        vertical-align: top;\n",
       "    }\n",
       "\n",
       "    .dataframe thead th {\n",
       "        text-align: right;\n",
       "    }\n",
       "</style>\n",
       "<table border=\"1\" class=\"dataframe\">\n",
       "  <thead>\n",
       "    <tr style=\"text-align: right;\">\n",
       "      <th></th>\n",
       "      <th></th>\n",
       "      <th>city</th>\n",
       "      <th>number_of_calls</th>\n",
       "      <th>calls_duration</th>\n",
       "      <th>tariff</th>\n",
       "      <th>number_of_messages</th>\n",
       "      <th>traffic</th>\n",
       "      <th>revenue</th>\n",
       "    </tr>\n",
       "    <tr>\n",
       "      <th>user_id</th>\n",
       "      <th>month</th>\n",
       "      <th></th>\n",
       "      <th></th>\n",
       "      <th></th>\n",
       "      <th></th>\n",
       "      <th></th>\n",
       "      <th></th>\n",
       "      <th></th>\n",
       "    </tr>\n",
       "  </thead>\n",
       "  <tbody>\n",
       "    <tr>\n",
       "      <th rowspan=\"8\" valign=\"top\">1000</th>\n",
       "      <th>5</th>\n",
       "      <td>Краснодар</td>\n",
       "      <td>17</td>\n",
       "      <td>150.06</td>\n",
       "      <td>ultra</td>\n",
       "      <td>22.0</td>\n",
       "      <td>2253.49</td>\n",
       "      <td>1950.000000</td>\n",
       "    </tr>\n",
       "    <tr>\n",
       "      <th>6</th>\n",
       "      <td>Краснодар</td>\n",
       "      <td>28</td>\n",
       "      <td>158.90</td>\n",
       "      <td>ultra</td>\n",
       "      <td>60.0</td>\n",
       "      <td>23233.77</td>\n",
       "      <td>1950.000000</td>\n",
       "    </tr>\n",
       "    <tr>\n",
       "      <th>7</th>\n",
       "      <td>Краснодар</td>\n",
       "      <td>41</td>\n",
       "      <td>318.80</td>\n",
       "      <td>ultra</td>\n",
       "      <td>75.0</td>\n",
       "      <td>14003.64</td>\n",
       "      <td>1950.000000</td>\n",
       "    </tr>\n",
       "    <tr>\n",
       "      <th>8</th>\n",
       "      <td>Краснодар</td>\n",
       "      <td>42</td>\n",
       "      <td>389.87</td>\n",
       "      <td>ultra</td>\n",
       "      <td>81.0</td>\n",
       "      <td>14055.93</td>\n",
       "      <td>1950.000000</td>\n",
       "    </tr>\n",
       "    <tr>\n",
       "      <th>9</th>\n",
       "      <td>Краснодар</td>\n",
       "      <td>46</td>\n",
       "      <td>440.14</td>\n",
       "      <td>ultra</td>\n",
       "      <td>57.0</td>\n",
       "      <td>14568.91</td>\n",
       "      <td>1950.000000</td>\n",
       "    </tr>\n",
       "    <tr>\n",
       "      <th>10</th>\n",
       "      <td>Краснодар</td>\n",
       "      <td>44</td>\n",
       "      <td>328.45</td>\n",
       "      <td>ultra</td>\n",
       "      <td>73.0</td>\n",
       "      <td>14702.49</td>\n",
       "      <td>1950.000000</td>\n",
       "    </tr>\n",
       "    <tr>\n",
       "      <th>11</th>\n",
       "      <td>Краснодар</td>\n",
       "      <td>37</td>\n",
       "      <td>319.04</td>\n",
       "      <td>ultra</td>\n",
       "      <td>58.0</td>\n",
       "      <td>14756.47</td>\n",
       "      <td>1950.000000</td>\n",
       "    </tr>\n",
       "    <tr>\n",
       "      <th>12</th>\n",
       "      <td>Краснодар</td>\n",
       "      <td>38</td>\n",
       "      <td>312.98</td>\n",
       "      <td>ultra</td>\n",
       "      <td>70.0</td>\n",
       "      <td>9817.61</td>\n",
       "      <td>1950.000000</td>\n",
       "    </tr>\n",
       "    <tr>\n",
       "      <th rowspan=\"2\" valign=\"top\">1001</th>\n",
       "      <th>11</th>\n",
       "      <td>Москва</td>\n",
       "      <td>45</td>\n",
       "      <td>430.00</td>\n",
       "      <td>smart</td>\n",
       "      <td>0.0</td>\n",
       "      <td>18452.00</td>\n",
       "      <td>1153.906250</td>\n",
       "    </tr>\n",
       "    <tr>\n",
       "      <th>12</th>\n",
       "      <td>Москва</td>\n",
       "      <td>47</td>\n",
       "      <td>414.00</td>\n",
       "      <td>smart</td>\n",
       "      <td>0.0</td>\n",
       "      <td>14053.00</td>\n",
       "      <td>550.000000</td>\n",
       "    </tr>\n",
       "    <tr>\n",
       "      <th rowspan=\"5\" valign=\"top\">1002</th>\n",
       "      <th>6</th>\n",
       "      <td>Стерлитамак</td>\n",
       "      <td>14</td>\n",
       "      <td>117.00</td>\n",
       "      <td>smart</td>\n",
       "      <td>4.0</td>\n",
       "      <td>10871.00</td>\n",
       "      <td>550.000000</td>\n",
       "    </tr>\n",
       "    <tr>\n",
       "      <th>7</th>\n",
       "      <td>Стерлитамак</td>\n",
       "      <td>21</td>\n",
       "      <td>214.00</td>\n",
       "      <td>smart</td>\n",
       "      <td>11.0</td>\n",
       "      <td>17601.00</td>\n",
       "      <td>987.695312</td>\n",
       "    </tr>\n",
       "    <tr>\n",
       "      <th>8</th>\n",
       "      <td>Стерлитамак</td>\n",
       "      <td>37</td>\n",
       "      <td>289.00</td>\n",
       "      <td>smart</td>\n",
       "      <td>13.0</td>\n",
       "      <td>20347.00</td>\n",
       "      <td>1524.023438</td>\n",
       "    </tr>\n",
       "    <tr>\n",
       "      <th>9</th>\n",
       "      <td>Стерлитамак</td>\n",
       "      <td>25</td>\n",
       "      <td>206.00</td>\n",
       "      <td>smart</td>\n",
       "      <td>4.0</td>\n",
       "      <td>16712.00</td>\n",
       "      <td>814.062500</td>\n",
       "    </tr>\n",
       "    <tr>\n",
       "      <th>10</th>\n",
       "      <td>Стерлитамак</td>\n",
       "      <td>24</td>\n",
       "      <td>212.00</td>\n",
       "      <td>smart</td>\n",
       "      <td>10.0</td>\n",
       "      <td>13905.00</td>\n",
       "      <td>550.000000</td>\n",
       "    </tr>\n",
       "  </tbody>\n",
       "</table>\n",
       "</div>"
      ],
      "text/plain": [
       "                      city  number_of_calls  calls_duration tariff  \\\n",
       "user_id month                                                        \n",
       "1000    5        Краснодар               17          150.06  ultra   \n",
       "        6        Краснодар               28          158.90  ultra   \n",
       "        7        Краснодар               41          318.80  ultra   \n",
       "        8        Краснодар               42          389.87  ultra   \n",
       "        9        Краснодар               46          440.14  ultra   \n",
       "        10       Краснодар               44          328.45  ultra   \n",
       "        11       Краснодар               37          319.04  ultra   \n",
       "        12       Краснодар               38          312.98  ultra   \n",
       "1001    11          Москва               45          430.00  smart   \n",
       "        12          Москва               47          414.00  smart   \n",
       "1002    6      Стерлитамак               14          117.00  smart   \n",
       "        7      Стерлитамак               21          214.00  smart   \n",
       "        8      Стерлитамак               37          289.00  smart   \n",
       "        9      Стерлитамак               25          206.00  smart   \n",
       "        10     Стерлитамак               24          212.00  smart   \n",
       "\n",
       "               number_of_messages   traffic      revenue  \n",
       "user_id month                                             \n",
       "1000    5                    22.0   2253.49  1950.000000  \n",
       "        6                    60.0  23233.77  1950.000000  \n",
       "        7                    75.0  14003.64  1950.000000  \n",
       "        8                    81.0  14055.93  1950.000000  \n",
       "        9                    57.0  14568.91  1950.000000  \n",
       "        10                   73.0  14702.49  1950.000000  \n",
       "        11                   58.0  14756.47  1950.000000  \n",
       "        12                   70.0   9817.61  1950.000000  \n",
       "1001    11                    0.0  18452.00  1153.906250  \n",
       "        12                    0.0  14053.00   550.000000  \n",
       "1002    6                     4.0  10871.00   550.000000  \n",
       "        7                    11.0  17601.00   987.695312  \n",
       "        8                    13.0  20347.00  1524.023438  \n",
       "        9                     4.0  16712.00   814.062500  \n",
       "        10                   10.0  13905.00   550.000000  "
      ]
     },
     "execution_count": 26,
     "metadata": {},
     "output_type": "execute_result"
    }
   ],
   "source": [
    "user_monthly_overall.head(15)"
   ]
  },
  {
   "cell_type": "markdown",
   "metadata": {},
   "source": [
    "## 3. Анализ данных\n",
    "Опишите поведение клиентов оператора, исходя из выборки. Сколько минут разговора, сколько сообщений и какой объём интернет-трафика требуется пользователям каждого тарифа в месяц? Посчитайте среднее количество, дисперсию и стандартное отклонение. Постройте гистограммы. Опишите распределения.\n"
   ]
  },
  {
   "cell_type": "code",
   "execution_count": 27,
   "metadata": {},
   "outputs": [
    {
     "data": {
      "text/plain": [
       "<matplotlib.axes._subplots.AxesSubplot at 0x7f6b5f7646a0>"
      ]
     },
     "execution_count": 27,
     "metadata": {},
     "output_type": "execute_result"
    },
    {
     "data": {
      "image/png": "[encoded data removed]",
      "text/plain": [
       "<Figure size 432x288 with 1 Axes>"
      ]
     },
     "metadata": {
      "needs_background": "light"
     },
     "output_type": "display_data"
    },
    {
     "data": {
      "image/png": "[encoded data removed]",
      "text/plain": [
       "<Figure size 432x288 with 1 Axes>"
      ]
     },
     "metadata": {
      "needs_background": "light"
     },
     "output_type": "display_data"
    }
   ],
   "source": [
    "# выведем диаграммы размаха для двух наборов данных\n",
    "# суммарная продолжительность звонков каждый месяц для клиентов тарифа Смарт\n",
    "user_monthly_overall.query('tariff == \"smart\"')\\\n",
    "                    .plot(y = 'calls_duration', kind = 'box', grid = 'True',  \\\n",
    "                          label = 'звонки Смарт') \\\n",
    "                          #xlim = (0,600), ylim = (0,250))\n",
    "\n",
    "# и для клиентов тарифа Ультра\n",
    "user_monthly_overall.query('tariff == \"ultra\"')\\\n",
    "                    .plot(y = 'calls_duration', kind = 'box', grid = 'True',  \\\n",
    "                          label = 'звонки Ультра') \\\n",
    "                          #xlim = (0,600), ylim = (0,250))"
   ]
  },
  {
   "cell_type": "code",
   "execution_count": 28,
   "metadata": {},
   "outputs": [
    {
     "name": "stdout",
     "output_type": "stream",
     "text": [
      "звонки Smart:\n",
      "Дисперсия: 35702.04653099502\n",
      "count    2221.000000\n",
      "mean      419.440342\n",
      "std       188.992403\n",
      "min         2.000000\n",
      "25%       285.000000\n",
      "50%       423.000000\n",
      "75%       546.000000\n",
      "max      1435.000000\n",
      "Name: calls_duration, dtype: float64 \n",
      "\n",
      "звонки Ultra:\n",
      "Дисперсия: 83144.408409935\n",
      "count     947.000000\n",
      "mean      517.013939\n",
      "std       288.500085\n",
      "min         0.100000\n",
      "25%       294.400000\n",
      "50%       498.950000\n",
      "75%       715.605000\n",
      "max      1578.060000\n",
      "Name: calls_duration, dtype: float64\n"
     ]
    },
    {
     "data": {
      "image/png": "[encoded data removed]",
      "text/plain": [
       "<Figure size 432x288 with 1 Axes>"
      ]
     },
     "metadata": {
      "needs_background": "light"
     },
     "output_type": "display_data"
    }
   ],
   "source": [
    "# выведем гистограммы и числовые характеристики распределения\n",
    "ax = user_monthly_overall.query('tariff == \"smart\"')\\\n",
    "                    .plot(y = 'calls_duration', kind = 'hist', grid = 'True', bins = 50, \\\n",
    "                          label = 'звонки Смарт',histtype = 'step', linewidth = 2, alpha = 0.7) \\\n",
    "                          #xlim = (0,600), ylim = (0,250))\n",
    "\n",
    "user_monthly_overall.query('tariff == \"ultra\"')\\\n",
    "                    .plot(y = 'calls_duration', kind = 'hist', grid = 'True', bins = 50, \\\n",
    "                          label = 'звонки Ультра',histtype = 'step', linewidth = 2, alpha = 0.7, ax = ax) \\\n",
    "                          #xlim = (0,600), ylim = (0,250))\n",
    "\n",
    "print('звонки Smart:')\n",
    "print('Дисперсия:',np.var(user_monthly_overall.query('tariff == \"smart\"')['calls_duration']))\n",
    "print(user_monthly_overall.query('tariff == \"smart\"')['calls_duration'].describe(),'\\n')\n",
    "\n",
    "print('звонки Ultra:')\n",
    "print('Дисперсия:',np.var(user_monthly_overall.query('tariff == \"ultra\"')['calls_duration']))\n",
    "print(user_monthly_overall.query('tariff == \"ultra\"')['calls_duration'].describe())"
   ]
  },
  {
   "cell_type": "markdown",
   "metadata": {},
   "source": [
    "Характеристики распределения для длительности звонков каждый месяц:\n",
    "\n",
    "клиенты с тарифом Смарт:\n",
    "- средняя продолжительность: 419 мин.;\n",
    "- дисперсия: 35702 мин^2;\n",
    "- стандартное отклонение: 189 мин.\n",
    "\n",
    "клиенты с тарифом Ультра:\n",
    "- средняя продолжительность: 517 мин.;\n",
    "- дисперсия: 83144 мин^2;\n",
    "- стандартное отклонение: 288 мин."
   ]
  },
  {
   "cell_type": "code",
   "execution_count": 29,
   "metadata": {},
   "outputs": [
    {
     "data": {
      "text/plain": [
       "<matplotlib.axes._subplots.AxesSubplot at 0x7f6b5f0c8ba8>"
      ]
     },
     "execution_count": 29,
     "metadata": {},
     "output_type": "execute_result"
    },
    {
     "data": {
      "image/png": "[encoded data removed]",
      "text/plain": [
       "<Figure size 432x288 with 1 Axes>"
      ]
     },
     "metadata": {
      "needs_background": "light"
     },
     "output_type": "display_data"
    },
    {
     "data": {
      "image/png": "[encoded data removed]",
      "text/plain": [
       "<Figure size 432x288 with 1 Axes>"
      ]
     },
     "metadata": {
      "needs_background": "light"
     },
     "output_type": "display_data"
    }
   ],
   "source": [
    "# выведем диаграммы размаха для двух наборов данных\n",
    "# суммарное кол-во сообщений каждый месяц для клиентов тарифа Смарт\n",
    "user_monthly_overall.query('tariff == \"smart\"')\\\n",
    "                    .plot(y = 'number_of_messages', kind = 'box', grid = 'True',  \\\n",
    "                          label = 'сообщения Смарт') \\\n",
    "                          #xlim = (0,600), ylim = (0,250))\n",
    "\n",
    "# и для клиентов тарифа Ультра\n",
    "user_monthly_overall.query('tariff == \"ultra\"')\\\n",
    "                    .plot(y = 'number_of_messages', kind = 'box', grid = 'True',  \\\n",
    "                          label = 'сообщения Ультра') \\\n",
    "                          #xlim = (0,600), ylim = (0,250))"
   ]
  },
  {
   "cell_type": "code",
   "execution_count": 30,
   "metadata": {
    "scrolled": false
   },
   "outputs": [
    {
     "name": "stdout",
     "output_type": "stream",
     "text": [
      "сообщения Smart:\n",
      "Дисперсия: 798.8462060707005\n",
      "count    2221.000000\n",
      "mean       33.392166\n",
      "std        28.270233\n",
      "min         0.000000\n",
      "25%        10.000000\n",
      "50%        28.000000\n",
      "75%        51.000000\n",
      "max       143.000000\n",
      "Name: number_of_messages, dtype: float64 \n",
      "\n",
      "сообщения Ultra:\n",
      "Дисперсия: 2169.4330587672516\n",
      "count    947.000000\n",
      "mean      48.759240\n",
      "std       46.601785\n",
      "min        0.000000\n",
      "25%        5.000000\n",
      "50%       39.000000\n",
      "75%       78.500000\n",
      "max      224.000000\n",
      "Name: number_of_messages, dtype: float64\n"
     ]
    },
    {
     "data": {
      "image/png": "[encoded data removed]",
      "text/plain": [
       "<Figure size 432x288 with 1 Axes>"
      ]
     },
     "metadata": {
      "needs_background": "light"
     },
     "output_type": "display_data"
    }
   ],
   "source": [
    "# выведем гистограммы и числовые характеристики распределения\n",
    "ax = user_monthly_overall.query('tariff == \"smart\"')\\\n",
    "                    .plot(y = 'number_of_messages', kind = 'hist', grid = 'True', bins = 50, \\\n",
    "                          label = 'сообщения Смарт',histtype = 'step', linewidth = 2, alpha = 0.7) \\\n",
    "                          #xlim = (0,600), ylim = (0,250))\n",
    "\n",
    "user_monthly_overall.query('tariff == \"ultra\"')\\\n",
    "                    .plot(y = 'number_of_messages', kind = 'hist', grid = 'True', bins = 50, \\\n",
    "                          label = 'сообщения Ультра',histtype = 'step', linewidth = 2, alpha = 0.7, ax = ax) \\\n",
    "                          #xlim = (0,600), ylim = (0,250))\n",
    "\n",
    "print('сообщения Smart:')\n",
    "print('Дисперсия:',np.var(user_monthly_overall.query('tariff == \"smart\"')['number_of_messages']))\n",
    "print(user_monthly_overall.query('tariff == \"smart\"')['number_of_messages'].describe(),'\\n')\n",
    "\n",
    "print('сообщения Ultra:')\n",
    "print('Дисперсия:',np.var(user_monthly_overall.query('tariff == \"ultra\"')['number_of_messages']))\n",
    "print(user_monthly_overall.query('tariff == \"ultra\"')['number_of_messages'].describe())"
   ]
  },
  {
   "cell_type": "markdown",
   "metadata": {},
   "source": [
    "Характеристики распределения для количества сообщений каждый месяц:\n",
    "\n",
    "клиенты с тарифом Смарт:\n",
    "- среднее количество: 33;\n",
    "- дисперсия: 799;\n",
    "- стандартное отклонение: 28.\n",
    "\n",
    "клиенты с тарифом Ультра:\n",
    "- среднее количество: 49;\n",
    "- дисперсия: 2169;\n",
    "- стандартное отклонение: 47."
   ]
  },
  {
   "cell_type": "code",
   "execution_count": 31,
   "metadata": {},
   "outputs": [
    {
     "data": {
      "text/plain": [
       "<matplotlib.axes._subplots.AxesSubplot at 0x7f6b5bd7bb70>"
      ]
     },
     "execution_count": 31,
     "metadata": {},
     "output_type": "execute_result"
    },
    {
     "data": {
      "image/png": "[encoded data removed]",
      "text/plain": [
       "<Figure size 432x288 with 1 Axes>"
      ]
     },
     "metadata": {
      "needs_background": "light"
     },
     "output_type": "display_data"
    },
    {
     "data": {
      "image/png": "[encoded data removed]",
      "text/plain": [
       "<Figure size 432x288 with 1 Axes>"
      ]
     },
     "metadata": {
      "needs_background": "light"
     },
     "output_type": "display_data"
    }
   ],
   "source": [
    "# выведем диаграммы размаха для двух наборов данных\n",
    "# суммарный объём интернет-траффика каждый месяц для клиентов тарифа Смарт\n",
    "user_monthly_overall.query('tariff == \"smart\"')\\\n",
    "                    .plot(y = 'traffic', kind = 'box', grid = 'True',  \\\n",
    "                          label = 'интернет Смарт') \\\n",
    "                          #xlim = (0,600), ylim = (0,250))\n",
    "\n",
    "# и для клиентов тарифа Ультра\n",
    "user_monthly_overall.query('tariff == \"ultra\"')\\\n",
    "                    .plot(y = 'traffic', kind = 'box', grid = 'True',  \\\n",
    "                          label = 'интернет Ультра') \\\n",
    "                          #xlim = (0,600), ylim = (0,250))"
   ]
  },
  {
   "cell_type": "code",
   "execution_count": 32,
   "metadata": {},
   "outputs": [
    {
     "name": "stdout",
     "output_type": "stream",
     "text": [
      "интернет Smart:\n",
      "Дисперсия: 34599364.84561494\n",
      "count     2221.000000\n",
      "mean     16231.462404\n",
      "std       5883.447131\n",
      "min          0.000000\n",
      "25%      12672.000000\n",
      "50%      16527.000000\n",
      "75%      20068.000000\n",
      "max      38610.000000\n",
      "Name: traffic, dtype: float64 \n",
      "\n",
      "интернет Ultra:\n",
      "Дисперсия: 102465744.0285935\n",
      "count      947.000000\n",
      "mean     19471.580634\n",
      "std      10127.885207\n",
      "min          0.000000\n",
      "25%      11623.240000\n",
      "50%      19315.850000\n",
      "75%      26838.070000\n",
      "max      49745.690000\n",
      "Name: traffic, dtype: float64\n"
     ]
    },
    {
     "data": {
      "image/png": "[encoded data removed]",
      "text/plain": [
       "<Figure size 432x288 with 1 Axes>"
      ]
     },
     "metadata": {
      "needs_background": "light"
     },
     "output_type": "display_data"
    }
   ],
   "source": [
    "# выведем гистограммы и числовые характеристики распределения\n",
    "ax = user_monthly_overall.query('tariff == \"smart\"')\\\n",
    "                    .plot(y = 'traffic', kind = 'hist', grid = 'True', bins = 50, \\\n",
    "                          label = 'интернет Смарт',histtype = 'step', linewidth = 2, alpha = 0.7) \\\n",
    "                          #xlim = (0,600), ylim = (0,250))\n",
    "\n",
    "user_monthly_overall.query('tariff == \"ultra\"')\\\n",
    "                    .plot(y = 'traffic', kind = 'hist', grid = 'True', bins = 50, \\\n",
    "                          label = 'интернет Ультра',histtype = 'step', linewidth = 2, alpha = 0.7, ax = ax) \\\n",
    "                          #xlim = (0,600), ylim = (0,250))\n",
    "print('интернет Smart:')\n",
    "print('Дисперсия:',np.var(user_monthly_overall.query('tariff == \"smart\"')['traffic']))\n",
    "print(user_monthly_overall.query('tariff == \"smart\"')['traffic'].describe(),'\\n')\n",
    "\n",
    "print('интернет Ultra:')\n",
    "print('Дисперсия:',np.var(user_monthly_overall.query('tariff == \"ultra\"')['traffic']))\n",
    "print(user_monthly_overall.query('tariff == \"ultra\"')['traffic'].describe())"
   ]
  },
  {
   "cell_type": "markdown",
   "metadata": {},
   "source": [
    "Характеристики распределения для объёма интернет-трафика каждый месяц:\n",
    "\n",
    "клиенты с тарифом Смарт:\n",
    "- средний объём: 16230 Мб;\n",
    "- дисперсия: 34599364 Мб^2;\n",
    "- стандартное отклонение: 5.880 Мб.\n",
    "\n",
    "клиенты с тарифом Ультра:\n",
    "- средний объём: 19470 Мб;\n",
    "- дисперсия: 102465744 Мб^2;\n",
    "- стандартное отклонение: 10.130 Мб."
   ]
  },
  {
   "cell_type": "markdown",
   "metadata": {},
   "source": [
    "## 4. Проверка гипотез\n",
    "\n",
    "- средняя выручка пользователей тарифов «Ультра» и «Смарт» различается;\n",
    "- средняя выручка пользователей из Москвы отличается от выручки пользователей из других регионов;\n",
    "\n",
    "Пороговое значение alpha задайте самостоятельно.\n",
    "\n",
    "Поясните:\n",
    "\n",
    "- как вы формулировали нулевую и альтернативную гипотезы;\n",
    "- какой критерий использовали для проверки гипотез и почему."
   ]
  },
  {
   "cell_type": "markdown",
   "metadata": {},
   "source": [
    "Рассмотрим распределение выручки каждый месяц для клиентов разных тарифов."
   ]
  },
  {
   "cell_type": "code",
   "execution_count": 33,
   "metadata": {},
   "outputs": [
    {
     "name": "stdout",
     "output_type": "stream",
     "text": [
      "выручка Smart:\n",
      "Дисперсия: 621610.241902527\n",
      "count    2221.000000\n",
      "mean     1234.467522\n",
      "std       788.600182\n",
      "min       550.000000\n",
      "25%       550.000000\n",
      "50%       961.093750\n",
      "75%      1670.507812\n",
      "max      6711.015625\n",
      "Name: revenue, dtype: float64 \n",
      "\n",
      "выручка Ultra:\n",
      "Дисперсия: 128545.91555576792\n",
      "count     947.000000\n",
      "mean     2061.285818\n",
      "std       358.722454\n",
      "min      1950.000000\n",
      "25%      1950.000000\n",
      "50%      1950.000000\n",
      "75%      1950.000000\n",
      "max      4736.966309\n",
      "Name: revenue, dtype: float64\n"
     ]
    },
    {
     "data": {
      "image/png": "[encoded data removed]",
      "text/plain": [
       "<Figure size 432x288 with 1 Axes>"
      ]
     },
     "metadata": {
      "needs_background": "light"
     },
     "output_type": "display_data"
    }
   ],
   "source": [
    "ax = user_monthly_overall.query('tariff == \"smart\"')\\\n",
    "                    .plot(y = 'revenue', kind = 'hist', grid = 'True', bins = 50, \\\n",
    "                          label = 'выручка Смарт',histtype = 'step', linewidth = 2, alpha = 0.7) \\\n",
    "                          #xlim = (0,600), ylim = (0,250))\n",
    "\n",
    "user_monthly_overall.query('tariff == \"ultra\"')\\\n",
    "                    .plot(y = 'revenue', kind = 'hist', grid = 'True', bins = 50, \\\n",
    "                          label = 'выручка Ультра',histtype = 'step', linewidth = 2, alpha = 0.7, ax = ax) \\\n",
    "                          #xlim = (0,600), ylim = (0,250))\n",
    "print('выручка Smart:')\n",
    "print('Дисперсия:',np.var(user_monthly_overall.query('tariff == \"smart\"')['revenue']))\n",
    "print(user_monthly_overall.query('tariff == \"smart\"')['revenue'].describe(),'\\n')\n",
    "\n",
    "print('выручка Ultra:')\n",
    "print('Дисперсия:',np.var(user_monthly_overall.query('tariff == \"ultra\"')['revenue']))\n",
    "print(user_monthly_overall.query('tariff == \"ultra\"')['revenue'].describe())"
   ]
  },
  {
   "cell_type": "markdown",
   "metadata": {},
   "source": [
    "Видим 2 выраженных пика на гистограмме в области ежемесячной абонентской платы (550р для тарифа Смарт и 1950р для тарифа Ультра). Средния значения ежемесячной выручки при этом существенно различаются (1230р и 2060р).\n",
    "\n",
    "Сформулируем нулевую гипотезу:\n",
    "\"Средняя выручка пользователей тарифом Смарт и Ультра одинакова\"."
   ]
  },
  {
   "cell_type": "code",
   "execution_count": 34,
   "metadata": {
    "scrolled": false
   },
   "outputs": [
    {
     "name": "stdout",
     "output_type": "stream",
     "text": [
      "p-значение: 1.215995009965387e-289\n"
     ]
    }
   ],
   "source": [
    "# зададим уровень статистической значимости в 5%\n",
    "alpha = .05 \n",
    "\n",
    "results = st.ttest_ind(\n",
    "    user_monthly_overall.query('tariff == \"smart\"')['revenue'], \n",
    "    user_monthly_overall.query('tariff == \"ultra\"')['revenue'],\n",
    "    equal_var = False)\n",
    "\n",
    "print('p-значение:', results.pvalue)"
   ]
  },
  {
   "cell_type": "markdown",
   "metadata": {},
   "source": [
    "Получили значение уровня значимости значительно меньше 5% (вероятность равенства средней выручки разных тарифов примерно 0%). Отвергаем нулевую гипотезу. Делаем вывод о том, что средняя выручка отличается."
   ]
  },
  {
   "cell_type": "markdown",
   "metadata": {},
   "source": [
    "Рассмотрим объём выручки, который клиенты разных тарифов платят сверх абонентской платы каждый месяц."
   ]
  },
  {
   "cell_type": "markdown",
   "metadata": {},
   "source": [
    "Не знаю, насколько правильно так делать (если в расчете общей выручки допущена какая-то ошибка, то она дублируется и в расчет сверх выручки), но в этот раз упростил запись вот так:"
   ]
  },
  {
   "cell_type": "code",
   "execution_count": 35,
   "metadata": {},
   "outputs": [],
   "source": [
    "# вычислим выручку с каждого пользователя сверх абонентской платы\n",
    "def excess_revenue_calc(row):\n",
    "    tariff = row['tariff']\n",
    "    revenue = row['revenue']\n",
    "    excess_revenue = 0\n",
    "    if tariff == 'smart':\n",
    "        return(revenue - smart_rub_monthly_fee)\n",
    "    else:\n",
    "        return(revenue - ultra_rub_monthly_fee)     "
   ]
  },
  {
   "cell_type": "code",
   "execution_count": 36,
   "metadata": {
    "scrolled": true
   },
   "outputs": [
    {
     "data": {
      "text/html": [
       "<div>\n",
       "<style scoped>\n",
       "    .dataframe tbody tr th:only-of-type {\n",
       "        vertical-align: middle;\n",
       "    }\n",
       "\n",
       "    .dataframe tbody tr th {\n",
       "        vertical-align: top;\n",
       "    }\n",
       "\n",
       "    .dataframe thead th {\n",
       "        text-align: right;\n",
       "    }\n",
       "</style>\n",
       "<table border=\"1\" class=\"dataframe\">\n",
       "  <thead>\n",
       "    <tr style=\"text-align: right;\">\n",
       "      <th></th>\n",
       "      <th></th>\n",
       "      <th>city</th>\n",
       "      <th>number_of_calls</th>\n",
       "      <th>calls_duration</th>\n",
       "      <th>tariff</th>\n",
       "      <th>number_of_messages</th>\n",
       "      <th>traffic</th>\n",
       "      <th>revenue</th>\n",
       "      <th>excess_revenue</th>\n",
       "    </tr>\n",
       "    <tr>\n",
       "      <th>user_id</th>\n",
       "      <th>month</th>\n",
       "      <th></th>\n",
       "      <th></th>\n",
       "      <th></th>\n",
       "      <th></th>\n",
       "      <th></th>\n",
       "      <th></th>\n",
       "      <th></th>\n",
       "      <th></th>\n",
       "    </tr>\n",
       "  </thead>\n",
       "  <tbody>\n",
       "    <tr>\n",
       "      <th rowspan=\"8\" valign=\"top\">1000</th>\n",
       "      <th>5</th>\n",
       "      <td>Краснодар</td>\n",
       "      <td>17</td>\n",
       "      <td>150.06</td>\n",
       "      <td>ultra</td>\n",
       "      <td>22.0</td>\n",
       "      <td>2253.49</td>\n",
       "      <td>1950.00000</td>\n",
       "      <td>0.00000</td>\n",
       "    </tr>\n",
       "    <tr>\n",
       "      <th>6</th>\n",
       "      <td>Краснодар</td>\n",
       "      <td>28</td>\n",
       "      <td>158.90</td>\n",
       "      <td>ultra</td>\n",
       "      <td>60.0</td>\n",
       "      <td>23233.77</td>\n",
       "      <td>1950.00000</td>\n",
       "      <td>0.00000</td>\n",
       "    </tr>\n",
       "    <tr>\n",
       "      <th>7</th>\n",
       "      <td>Краснодар</td>\n",
       "      <td>41</td>\n",
       "      <td>318.80</td>\n",
       "      <td>ultra</td>\n",
       "      <td>75.0</td>\n",
       "      <td>14003.64</td>\n",
       "      <td>1950.00000</td>\n",
       "      <td>0.00000</td>\n",
       "    </tr>\n",
       "    <tr>\n",
       "      <th>8</th>\n",
       "      <td>Краснодар</td>\n",
       "      <td>42</td>\n",
       "      <td>389.87</td>\n",
       "      <td>ultra</td>\n",
       "      <td>81.0</td>\n",
       "      <td>14055.93</td>\n",
       "      <td>1950.00000</td>\n",
       "      <td>0.00000</td>\n",
       "    </tr>\n",
       "    <tr>\n",
       "      <th>9</th>\n",
       "      <td>Краснодар</td>\n",
       "      <td>46</td>\n",
       "      <td>440.14</td>\n",
       "      <td>ultra</td>\n",
       "      <td>57.0</td>\n",
       "      <td>14568.91</td>\n",
       "      <td>1950.00000</td>\n",
       "      <td>0.00000</td>\n",
       "    </tr>\n",
       "    <tr>\n",
       "      <th>10</th>\n",
       "      <td>Краснодар</td>\n",
       "      <td>44</td>\n",
       "      <td>328.45</td>\n",
       "      <td>ultra</td>\n",
       "      <td>73.0</td>\n",
       "      <td>14702.49</td>\n",
       "      <td>1950.00000</td>\n",
       "      <td>0.00000</td>\n",
       "    </tr>\n",
       "    <tr>\n",
       "      <th>11</th>\n",
       "      <td>Краснодар</td>\n",
       "      <td>37</td>\n",
       "      <td>319.04</td>\n",
       "      <td>ultra</td>\n",
       "      <td>58.0</td>\n",
       "      <td>14756.47</td>\n",
       "      <td>1950.00000</td>\n",
       "      <td>0.00000</td>\n",
       "    </tr>\n",
       "    <tr>\n",
       "      <th>12</th>\n",
       "      <td>Краснодар</td>\n",
       "      <td>38</td>\n",
       "      <td>312.98</td>\n",
       "      <td>ultra</td>\n",
       "      <td>70.0</td>\n",
       "      <td>9817.61</td>\n",
       "      <td>1950.00000</td>\n",
       "      <td>0.00000</td>\n",
       "    </tr>\n",
       "    <tr>\n",
       "      <th rowspan=\"2\" valign=\"top\">1001</th>\n",
       "      <th>11</th>\n",
       "      <td>Москва</td>\n",
       "      <td>45</td>\n",
       "      <td>430.00</td>\n",
       "      <td>smart</td>\n",
       "      <td>0.0</td>\n",
       "      <td>18452.00</td>\n",
       "      <td>1153.90625</td>\n",
       "      <td>603.90625</td>\n",
       "    </tr>\n",
       "    <tr>\n",
       "      <th>12</th>\n",
       "      <td>Москва</td>\n",
       "      <td>47</td>\n",
       "      <td>414.00</td>\n",
       "      <td>smart</td>\n",
       "      <td>0.0</td>\n",
       "      <td>14053.00</td>\n",
       "      <td>550.00000</td>\n",
       "      <td>0.00000</td>\n",
       "    </tr>\n",
       "  </tbody>\n",
       "</table>\n",
       "</div>"
      ],
      "text/plain": [
       "                    city  number_of_calls  calls_duration tariff  \\\n",
       "user_id month                                                      \n",
       "1000    5      Краснодар               17          150.06  ultra   \n",
       "        6      Краснодар               28          158.90  ultra   \n",
       "        7      Краснодар               41          318.80  ultra   \n",
       "        8      Краснодар               42          389.87  ultra   \n",
       "        9      Краснодар               46          440.14  ultra   \n",
       "        10     Краснодар               44          328.45  ultra   \n",
       "        11     Краснодар               37          319.04  ultra   \n",
       "        12     Краснодар               38          312.98  ultra   \n",
       "1001    11        Москва               45          430.00  smart   \n",
       "        12        Москва               47          414.00  smart   \n",
       "\n",
       "               number_of_messages   traffic     revenue  excess_revenue  \n",
       "user_id month                                                            \n",
       "1000    5                    22.0   2253.49  1950.00000         0.00000  \n",
       "        6                    60.0  23233.77  1950.00000         0.00000  \n",
       "        7                    75.0  14003.64  1950.00000         0.00000  \n",
       "        8                    81.0  14055.93  1950.00000         0.00000  \n",
       "        9                    57.0  14568.91  1950.00000         0.00000  \n",
       "        10                   73.0  14702.49  1950.00000         0.00000  \n",
       "        11                   58.0  14756.47  1950.00000         0.00000  \n",
       "        12                   70.0   9817.61  1950.00000         0.00000  \n",
       "1001    11                    0.0  18452.00  1153.90625       603.90625  \n",
       "        12                    0.0  14053.00   550.00000         0.00000  "
      ]
     },
     "execution_count": 36,
     "metadata": {},
     "output_type": "execute_result"
    }
   ],
   "source": [
    "user_monthly_overall['excess_revenue'] = user_monthly_overall.apply(excess_revenue_calc, axis = 1)\n",
    "user_monthly_overall.head(10)"
   ]
  },
  {
   "cell_type": "code",
   "execution_count": 37,
   "metadata": {
    "scrolled": false
   },
   "outputs": [
    {
     "name": "stdout",
     "output_type": "stream",
     "text": [
      "сверх выручка Smart:\n",
      "Дисперсия: 621610.241902527\n",
      "count    2221.000000\n",
      "mean      684.467522\n",
      "std       788.600182\n",
      "min         0.000000\n",
      "25%         0.000000\n",
      "50%       411.093750\n",
      "75%      1120.507812\n",
      "max      6161.015625\n",
      "Name: excess_revenue, dtype: float64 \n",
      "\n",
      "сверх выручка Ultra:\n",
      "Дисперсия: 128545.91555576795\n",
      "count     947.000000\n",
      "mean      111.285818\n",
      "std       358.722454\n",
      "min         0.000000\n",
      "25%         0.000000\n",
      "50%         0.000000\n",
      "75%         0.000000\n",
      "max      2786.966309\n",
      "Name: excess_revenue, dtype: float64\n"
     ]
    },
    {
     "data": {
      "image/png": "[encoded data removed]",
      "text/plain": [
       "<Figure size 432x288 with 1 Axes>"
      ]
     },
     "metadata": {
      "needs_background": "light"
     },
     "output_type": "display_data"
    }
   ],
   "source": [
    "# рассмотрим распределение выручки каждый месяц (сверх абонентской платы) для клиентов разных тарифов\n",
    "ax = user_monthly_overall.query('tariff == \"smart\"')\\\n",
    "                    .plot(y = 'excess_revenue', kind = 'hist', grid = 'True', bins = 50, \\\n",
    "                          label = 'сверх выручка Смарт',histtype = 'step', linewidth = 2, alpha = 0.7) \\\n",
    "                          #xlim = (0,600), ylim = (0,250))\n",
    "\n",
    "user_monthly_overall.query('tariff == \"ultra\"')\\\n",
    "                    .plot(y = 'excess_revenue', kind = 'hist', grid = 'True', bins = 50, \\\n",
    "                          label = 'сверх выручка Ультра',histtype = 'step', linewidth = 2, alpha = 0.7, ax = ax) \\\n",
    "                          #xlim = (0,600), ylim = (0,250))\n",
    "print('сверх выручка Smart:')\n",
    "print('Дисперсия:',np.var(user_monthly_overall.query('tariff == \"smart\"')['excess_revenue']))\n",
    "print(user_monthly_overall.query('tariff == \"smart\"')['excess_revenue'].describe(),'\\n')\n",
    "\n",
    "print('сверх выручка Ultra:')\n",
    "print('Дисперсия:',np.var(user_monthly_overall.query('tariff == \"ultra\"')['excess_revenue']))\n",
    "print(user_monthly_overall.query('tariff == \"ultra\"')['excess_revenue'].describe())"
   ]
  },
  {
   "cell_type": "markdown",
   "metadata": {},
   "source": [
    "Проверим гипотезу о равенстве средней выручки сверх размера абонентской платы для клиентов разных тарифов."
   ]
  },
  {
   "cell_type": "code",
   "execution_count": 38,
   "metadata": {},
   "outputs": [
    {
     "name": "stdout",
     "output_type": "stream",
     "text": [
      "p-значение: 2.6194862399306354e-155\n"
     ]
    }
   ],
   "source": [
    "# зададим уровень статистической значимости в 5%\n",
    "alpha = .05 \n",
    "\n",
    "results = st.ttest_ind(\n",
    "    user_monthly_overall.query('tariff == \"smart\"')['excess_revenue'], \n",
    "    user_monthly_overall.query('tariff == \"ultra\"')['excess_revenue'],\n",
    "    equal_var = False)\n",
    "\n",
    "print('p-значение:', results.pvalue)"
   ]
  },
  {
   "cell_type": "markdown",
   "metadata": {},
   "source": [
    "Получили значение уровня значимости значительно меньше 5% (вероятность равенства средней выручки разных тарифов примерно 0%). Отвергаем нулевую гипотезу. Делаем вывод о том, что средняя выручка отличается."
   ]
  },
  {
   "cell_type": "markdown",
   "metadata": {},
   "source": [
    "Рассмотрим распределение средней выручки пользователей из Москвы и из других регионов. "
   ]
  },
  {
   "cell_type": "code",
   "execution_count": 39,
   "metadata": {
    "scrolled": false
   },
   "outputs": [
    {
     "name": "stdout",
     "output_type": "stream",
     "text": [
      "выручка Москва:\n",
      "Дисперсия: 546239.5477627168\n",
      "count     610.000000\n",
      "mean     1506.262210\n",
      "std       739.686753\n",
      "min       550.000000\n",
      "25%       733.197266\n",
      "50%      1689.816406\n",
      "75%      1950.000000\n",
      "max      5186.429688\n",
      "Name: revenue, dtype: float64 \n",
      "\n",
      "выручка регионы:\n",
      "Дисперсия: 634298.9845917724\n",
      "count    2558.000000\n",
      "mean     1475.750621\n",
      "std       796.584615\n",
      "min       550.000000\n",
      "25%       679.025391\n",
      "50%      1490.332031\n",
      "75%      1950.000000\n",
      "max      6711.015625\n",
      "Name: revenue, dtype: float64\n"
     ]
    },
    {
     "data": {
      "image/png": "[encoded data removed]",
      "text/plain": [
       "<Figure size 432x288 with 1 Axes>"
      ]
     },
     "metadata": {
      "needs_background": "light"
     },
     "output_type": "display_data"
    }
   ],
   "source": [
    "ax = user_monthly_overall.query('city == \"Москва\"')\\\n",
    "                    .plot(y = 'revenue', kind = 'hist', grid = 'True', bins = 50, \\\n",
    "                          label = 'выручка Москва',histtype = 'step', linewidth = 2, alpha = 0.7) \\\n",
    "                          #xlim = (0,600), ylim = (0,250))\n",
    "\n",
    "user_monthly_overall.query('city != \"Москва\"')\\\n",
    "                    .plot(y = 'revenue', kind = 'hist', grid = 'True', bins = 50, \\\n",
    "                          label = 'выручка регионы',histtype = 'step', linewidth = 2, alpha = 0.7, ax = ax) \\\n",
    "                          #xlim = (0,600), ylim = (0,250))\n",
    "print('выручка Москва:')\n",
    "print('Дисперсия:',np.var(user_monthly_overall.query('city == \"Москва\"')['revenue']))\n",
    "print(user_monthly_overall.query('city == \"Москва\"')['revenue'].describe(),'\\n')\n",
    "\n",
    "print('выручка регионы:')\n",
    "print('Дисперсия:',np.var(user_monthly_overall.query('city != \"Москва\"')['revenue']))\n",
    "print(user_monthly_overall.query('city != \"Москва\"')['revenue'].describe())"
   ]
  },
  {
   "cell_type": "markdown",
   "metadata": {},
   "source": [
    "Сформулируем нулевую гипотезу: \"Средняя выручка пользователей из Москвы и из других регионов одинакова\"."
   ]
  },
  {
   "cell_type": "code",
   "execution_count": 40,
   "metadata": {},
   "outputs": [
    {
     "name": "stdout",
     "output_type": "stream",
     "text": [
      "p-значение: 0.38899332717001367\n"
     ]
    }
   ],
   "source": [
    "# зададим уровень статистической значимости в 5%\n",
    "alpha = .05 \n",
    "\n",
    "results = st.ttest_ind(\n",
    "    user_monthly_overall.query('city == \"Москва\"')['revenue'], \n",
    "    user_monthly_overall.query('city != \"Москва\"')['revenue'])\n",
    "\n",
    "print('p-значение:', results.pvalue)"
   ]
  },
  {
   "cell_type": "markdown",
   "metadata": {},
   "source": [
    "Уровень статистической значимости (38.9%) выше критического (5%), не можем отвергнуть гипотезу, делаем вывод о том, что средняя выручка клиентов из Москвы и из регионов не отличается."
   ]
  },
  {
   "cell_type": "markdown",
   "metadata": {},
   "source": [
    "## 5. Общий вывод"
   ]
  },
  {
   "cell_type": "markdown",
   "metadata": {},
   "source": [
    "В результате анализа набора данных об активности клиентов оператора сотовой связи, получены средние значения выручки с пользователя за месяц. Для пользователей тарифа Смарт среднее значение выручки: 1234р, а для клиентов тарифа Ультра: 2061р. Проведя статистический анализ двух выборок, делаем вывод о том, что эти значения статистически различны, то есть не случайны.\n",
    "\n",
    "Для пользователей из Москвы среднее значение выручки в месяц составляет 1506р, а для пользователей из регионов 1475р, в результате статистического анализа, обнаружено, что с вероятностью в 38.9% это отличие случайно, и среднее значение выручки одинаково для клиентов из Москвы и из регионов."
   ]
  },
  {
   "cell_type": "code",
   "execution_count": null,
   "metadata": {},
   "outputs": [],
   "source": []
  }
 ],
 "metadata": {
  "kernelspec": {
   "display_name": "Python 3",
   "language": "python",
   "name": "python3"
  },
  "language_info": {
   "codemirror_mode": {
    "name": "ipython",
    "version": 3
   },
   "file_extension": ".py",
   "mimetype": "text/x-python",
   "name": "python",
   "nbconvert_exporter": "python",
   "pygments_lexer": "ipython3",
   "version": "3.7.3"
  }
 },
 "nbformat": 4,
 "nbformat_minor": 2
}
