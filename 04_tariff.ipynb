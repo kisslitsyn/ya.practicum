{
 "cells": [
  {
   "cell_type": "markdown",
   "metadata": {},
   "source": [
    "<div style=\"border:solid orange 3px; padding: 16px\">  \n",
    "    <font size=\"4\">  \n",
    "        <p style=\"text-align: center;\">\n",
    "            <b> 4. Статистический анализ данных. Определение перспективного тарифа для телеком компании </b>\n",
    "        </p> \n",
    "    </font>\n",
    "</div>"
   ]
  },
  {
   "cell_type": "markdown",
   "metadata": {},
   "source": [
    "## 0. Описание проекта\n",
    "\n",
    "Клиентам предлагают два тарифных плана: «Смарт» и «Ультра». Чтобы скорректировать рекламный бюджет, коммерческий департамент хочет понять, какой тариф приносит больше денег.\n",
    "Предстоит сделать предварительный анализ тарифов на небольшой выборке клиентов. \n",
    "\n",
    "Данные 500 пользователей «Мегалайна»: кто они, откуда, каким тарифом пользуются, сколько звонков и сообщений каждый отправил за 2018 год. Нужно проанализировать поведение клиентов и сделать вывод — какой тариф лучше.\n",
    "\n",
    "Описание тарифов:\n",
    "\n",
    "Тариф «Смарт»:\n",
    "- Ежемесячная плата: 550 рублей;\n",
    "- Включено 500 минут разговора, 50 сообщений и 15 Гб интернет-трафика;\n",
    "- Стоимость услуг сверх тарифного пакета:\n",
    "    - минута разговора: 3 рубля («Мегалайн» всегда округляет вверх значения минут и мегабайтов. Если пользователь проговорил всего 1 секунду, в тарифе засчитывается целая минута);\n",
    "    - сообщение: 3 рубля;\n",
    "    - 1 Гб интернет-трафика: 200 рублей.\n",
    "\n",
    "Тариф «Ультра»:\n",
    "- Ежемесячная плата: 1950 рублей;\n",
    "- Включено 3000 минут разговора, 1000 сообщений и 30 Гб интернет-трафика;\n",
    "- Стоимость услуг сверх тарифного пакета:\n",
    "    - минута разговора: 1 рубль;\n",
    "    - сообщение: 1 рубль;\n",
    "    - 1 Гб интернет-трафика: 150 рублей."
   ]
  },
  {
   "cell_type": "markdown",
   "metadata": {},
   "source": [
    "## 1. Исходные данные и общая информация"
   ]
  },
  {
   "cell_type": "code",
   "execution_count": 1,
   "metadata": {},
   "outputs": [],
   "source": [
    "import pandas as pd\n",
    "import math\n",
    "import matplotlib.pyplot as plt\n",
    "import numpy as np\n",
    "from scipy import stats as st\n",
    "\n",
    "pd.set_option('display.max_columns', None)\n",
    "\n",
    "path = 'C:/Users/pavel/Desktop/da/projects/datasets/'"
   ]
  },
  {
   "cell_type": "code",
   "execution_count": 2,
   "metadata": {},
   "outputs": [],
   "source": [
    "calls = pd.read_csv(path + '04_tariff_calls.csv')\n",
    "internet = pd.read_csv(path + '04_tariff_internet.csv', index_col=0)\n",
    "messages = pd.read_csv(path + '04_tariff_messages.csv')\n",
    "tariffs = pd.read_csv(path + '04_tariff_tariffs.csv')\n",
    "users = pd.read_csv(path + '04_tariff_users.csv')"
   ]
  },
  {
   "cell_type": "code",
   "execution_count": 3,
   "metadata": {
    "scrolled": false
   },
   "outputs": [
    {
     "name": "stdout",
     "output_type": "stream",
     "text": [
      "<class 'pandas.core.frame.DataFrame'>\n",
      "RangeIndex: 202607 entries, 0 to 202606\n",
      "Data columns (total 4 columns):\n",
      "id           202607 non-null object\n",
      "call_date    202607 non-null object\n",
      "duration     202607 non-null float64\n",
      "user_id      202607 non-null int64\n",
      "dtypes: float64(1), int64(1), object(2)\n",
      "memory usage: 6.2+ MB\n"
     ]
    },
    {
     "data": {
      "text/html": [
       "<div>\n",
       "<style scoped>\n",
       "    .dataframe tbody tr th:only-of-type {\n",
       "        vertical-align: middle;\n",
       "    }\n",
       "\n",
       "    .dataframe tbody tr th {\n",
       "        vertical-align: top;\n",
       "    }\n",
       "\n",
       "    .dataframe thead th {\n",
       "        text-align: right;\n",
       "    }\n",
       "</style>\n",
       "<table border=\"1\" class=\"dataframe\">\n",
       "  <thead>\n",
       "    <tr style=\"text-align: right;\">\n",
       "      <th></th>\n",
       "      <th>id</th>\n",
       "      <th>call_date</th>\n",
       "      <th>duration</th>\n",
       "      <th>user_id</th>\n",
       "    </tr>\n",
       "  </thead>\n",
       "  <tbody>\n",
       "    <tr>\n",
       "      <td>0</td>\n",
       "      <td>1000_0</td>\n",
       "      <td>2018-07-25</td>\n",
       "      <td>0.00</td>\n",
       "      <td>1000</td>\n",
       "    </tr>\n",
       "    <tr>\n",
       "      <td>1</td>\n",
       "      <td>1000_1</td>\n",
       "      <td>2018-08-17</td>\n",
       "      <td>0.00</td>\n",
       "      <td>1000</td>\n",
       "    </tr>\n",
       "    <tr>\n",
       "      <td>2</td>\n",
       "      <td>1000_2</td>\n",
       "      <td>2018-06-11</td>\n",
       "      <td>2.85</td>\n",
       "      <td>1000</td>\n",
       "    </tr>\n",
       "    <tr>\n",
       "      <td>3</td>\n",
       "      <td>1000_3</td>\n",
       "      <td>2018-09-21</td>\n",
       "      <td>13.80</td>\n",
       "      <td>1000</td>\n",
       "    </tr>\n",
       "    <tr>\n",
       "      <td>4</td>\n",
       "      <td>1000_4</td>\n",
       "      <td>2018-12-15</td>\n",
       "      <td>5.18</td>\n",
       "      <td>1000</td>\n",
       "    </tr>\n",
       "  </tbody>\n",
       "</table>\n",
       "</div>"
      ],
      "text/plain": [
       "       id   call_date  duration  user_id\n",
       "0  1000_0  2018-07-25      0.00     1000\n",
       "1  1000_1  2018-08-17      0.00     1000\n",
       "2  1000_2  2018-06-11      2.85     1000\n",
       "3  1000_3  2018-09-21     13.80     1000\n",
       "4  1000_4  2018-12-15      5.18     1000"
      ]
     },
     "execution_count": 3,
     "metadata": {},
     "output_type": "execute_result"
    }
   ],
   "source": [
    "# выведем информацию о наборе данных\n",
    "calls.info()\n",
    " \n",
    "# и первые строки датасета\n",
    "calls.head()"
   ]
  },
  {
   "cell_type": "markdown",
   "metadata": {},
   "source": [
    "Описание данных в таблице `calls` (информация о звонках):\n",
    "- `id` - уникальный номер звонка;\n",
    "- `call_date` - дата звонка;\n",
    "- `duration` - длительность звонка (мин.);\n",
    "- `user_id` - идентификатор пользователя, сделавшего звонок."
   ]
  },
  {
   "cell_type": "markdown",
   "metadata": {},
   "source": [
    "---"
   ]
  },
  {
   "cell_type": "code",
   "execution_count": 4,
   "metadata": {
    "scrolled": false
   },
   "outputs": [
    {
     "name": "stdout",
     "output_type": "stream",
     "text": [
      "<class 'pandas.core.frame.DataFrame'>\n",
      "Int64Index: 149396 entries, 0 to 149395\n",
      "Data columns (total 4 columns):\n",
      "id              149396 non-null object\n",
      "mb_used         149396 non-null float64\n",
      "session_date    149396 non-null object\n",
      "user_id         149396 non-null int64\n",
      "dtypes: float64(1), int64(1), object(2)\n",
      "memory usage: 5.7+ MB\n"
     ]
    },
    {
     "data": {
      "text/html": [
       "<div>\n",
       "<style scoped>\n",
       "    .dataframe tbody tr th:only-of-type {\n",
       "        vertical-align: middle;\n",
       "    }\n",
       "\n",
       "    .dataframe tbody tr th {\n",
       "        vertical-align: top;\n",
       "    }\n",
       "\n",
       "    .dataframe thead th {\n",
       "        text-align: right;\n",
       "    }\n",
       "</style>\n",
       "<table border=\"1\" class=\"dataframe\">\n",
       "  <thead>\n",
       "    <tr style=\"text-align: right;\">\n",
       "      <th></th>\n",
       "      <th>id</th>\n",
       "      <th>mb_used</th>\n",
       "      <th>session_date</th>\n",
       "      <th>user_id</th>\n",
       "    </tr>\n",
       "  </thead>\n",
       "  <tbody>\n",
       "    <tr>\n",
       "      <td>0</td>\n",
       "      <td>1000_0</td>\n",
       "      <td>112.95</td>\n",
       "      <td>2018-11-25</td>\n",
       "      <td>1000</td>\n",
       "    </tr>\n",
       "    <tr>\n",
       "      <td>1</td>\n",
       "      <td>1000_1</td>\n",
       "      <td>1052.81</td>\n",
       "      <td>2018-09-07</td>\n",
       "      <td>1000</td>\n",
       "    </tr>\n",
       "    <tr>\n",
       "      <td>2</td>\n",
       "      <td>1000_2</td>\n",
       "      <td>1197.26</td>\n",
       "      <td>2018-06-25</td>\n",
       "      <td>1000</td>\n",
       "    </tr>\n",
       "    <tr>\n",
       "      <td>3</td>\n",
       "      <td>1000_3</td>\n",
       "      <td>550.27</td>\n",
       "      <td>2018-08-22</td>\n",
       "      <td>1000</td>\n",
       "    </tr>\n",
       "    <tr>\n",
       "      <td>4</td>\n",
       "      <td>1000_4</td>\n",
       "      <td>302.56</td>\n",
       "      <td>2018-09-24</td>\n",
       "      <td>1000</td>\n",
       "    </tr>\n",
       "  </tbody>\n",
       "</table>\n",
       "</div>"
      ],
      "text/plain": [
       "       id  mb_used session_date  user_id\n",
       "0  1000_0   112.95   2018-11-25     1000\n",
       "1  1000_1  1052.81   2018-09-07     1000\n",
       "2  1000_2  1197.26   2018-06-25     1000\n",
       "3  1000_3   550.27   2018-08-22     1000\n",
       "4  1000_4   302.56   2018-09-24     1000"
      ]
     },
     "execution_count": 4,
     "metadata": {},
     "output_type": "execute_result"
    }
   ],
   "source": [
    "internet.info()\n",
    "internet.head()"
   ]
  },
  {
   "cell_type": "markdown",
   "metadata": {},
   "source": [
    "Описание данных в таблице `internet` (информация об интернет-сессиях):\n",
    "- `id` - уникальный номер сессии;\n",
    "- `mb_used` - объём использованного за сессию интернет-трафика (МБ);\n",
    "- `session_date` - дата интернет-сессии;\n",
    "- `user_id` - идентификатор пользователя."
   ]
  },
  {
   "cell_type": "markdown",
   "metadata": {},
   "source": [
    "---"
   ]
  },
  {
   "cell_type": "code",
   "execution_count": 5,
   "metadata": {},
   "outputs": [
    {
     "name": "stdout",
     "output_type": "stream",
     "text": [
      "<class 'pandas.core.frame.DataFrame'>\n",
      "RangeIndex: 123036 entries, 0 to 123035\n",
      "Data columns (total 3 columns):\n",
      "id              123036 non-null object\n",
      "message_date    123036 non-null object\n",
      "user_id         123036 non-null int64\n",
      "dtypes: int64(1), object(2)\n",
      "memory usage: 2.8+ MB\n"
     ]
    },
    {
     "data": {
      "text/html": [
       "<div>\n",
       "<style scoped>\n",
       "    .dataframe tbody tr th:only-of-type {\n",
       "        vertical-align: middle;\n",
       "    }\n",
       "\n",
       "    .dataframe tbody tr th {\n",
       "        vertical-align: top;\n",
       "    }\n",
       "\n",
       "    .dataframe thead th {\n",
       "        text-align: right;\n",
       "    }\n",
       "</style>\n",
       "<table border=\"1\" class=\"dataframe\">\n",
       "  <thead>\n",
       "    <tr style=\"text-align: right;\">\n",
       "      <th></th>\n",
       "      <th>id</th>\n",
       "      <th>message_date</th>\n",
       "      <th>user_id</th>\n",
       "    </tr>\n",
       "  </thead>\n",
       "  <tbody>\n",
       "    <tr>\n",
       "      <td>0</td>\n",
       "      <td>1000_0</td>\n",
       "      <td>2018-06-27</td>\n",
       "      <td>1000</td>\n",
       "    </tr>\n",
       "    <tr>\n",
       "      <td>1</td>\n",
       "      <td>1000_1</td>\n",
       "      <td>2018-10-08</td>\n",
       "      <td>1000</td>\n",
       "    </tr>\n",
       "    <tr>\n",
       "      <td>2</td>\n",
       "      <td>1000_2</td>\n",
       "      <td>2018-08-04</td>\n",
       "      <td>1000</td>\n",
       "    </tr>\n",
       "    <tr>\n",
       "      <td>3</td>\n",
       "      <td>1000_3</td>\n",
       "      <td>2018-06-16</td>\n",
       "      <td>1000</td>\n",
       "    </tr>\n",
       "    <tr>\n",
       "      <td>4</td>\n",
       "      <td>1000_4</td>\n",
       "      <td>2018-12-05</td>\n",
       "      <td>1000</td>\n",
       "    </tr>\n",
       "  </tbody>\n",
       "</table>\n",
       "</div>"
      ],
      "text/plain": [
       "       id message_date  user_id\n",
       "0  1000_0   2018-06-27     1000\n",
       "1  1000_1   2018-10-08     1000\n",
       "2  1000_2   2018-08-04     1000\n",
       "3  1000_3   2018-06-16     1000\n",
       "4  1000_4   2018-12-05     1000"
      ]
     },
     "execution_count": 5,
     "metadata": {},
     "output_type": "execute_result"
    }
   ],
   "source": [
    "messages.info()\n",
    "messages.head()"
   ]
  },
  {
   "cell_type": "markdown",
   "metadata": {},
   "source": [
    "Описание данных в таблице `messages` (информация о сообщениях):\n",
    "- `id` - уникальный номер сообщения;\n",
    "- `message_date` - дата сообщения;\n",
    "- `user_id` - идентификатор пользователя, отправившего сообщение."
   ]
  },
  {
   "cell_type": "markdown",
   "metadata": {},
   "source": [
    "---"
   ]
  },
  {
   "cell_type": "code",
   "execution_count": 6,
   "metadata": {},
   "outputs": [
    {
     "name": "stdout",
     "output_type": "stream",
     "text": [
      "<class 'pandas.core.frame.DataFrame'>\n",
      "RangeIndex: 2 entries, 0 to 1\n",
      "Data columns (total 8 columns):\n",
      "messages_included        2 non-null int64\n",
      "mb_per_month_included    2 non-null int64\n",
      "minutes_included         2 non-null int64\n",
      "rub_monthly_fee          2 non-null int64\n",
      "rub_per_gb               2 non-null int64\n",
      "rub_per_message          2 non-null int64\n",
      "rub_per_minute           2 non-null int64\n",
      "tariff_name              2 non-null object\n",
      "dtypes: int64(7), object(1)\n",
      "memory usage: 256.0+ bytes\n"
     ]
    },
    {
     "data": {
      "text/html": [
       "<div>\n",
       "<style scoped>\n",
       "    .dataframe tbody tr th:only-of-type {\n",
       "        vertical-align: middle;\n",
       "    }\n",
       "\n",
       "    .dataframe tbody tr th {\n",
       "        vertical-align: top;\n",
       "    }\n",
       "\n",
       "    .dataframe thead th {\n",
       "        text-align: right;\n",
       "    }\n",
       "</style>\n",
       "<table border=\"1\" class=\"dataframe\">\n",
       "  <thead>\n",
       "    <tr style=\"text-align: right;\">\n",
       "      <th></th>\n",
       "      <th>messages_included</th>\n",
       "      <th>mb_per_month_included</th>\n",
       "      <th>minutes_included</th>\n",
       "      <th>rub_monthly_fee</th>\n",
       "      <th>rub_per_gb</th>\n",
       "      <th>rub_per_message</th>\n",
       "      <th>rub_per_minute</th>\n",
       "      <th>tariff_name</th>\n",
       "    </tr>\n",
       "  </thead>\n",
       "  <tbody>\n",
       "    <tr>\n",
       "      <td>0</td>\n",
       "      <td>50</td>\n",
       "      <td>15360</td>\n",
       "      <td>500</td>\n",
       "      <td>550</td>\n",
       "      <td>200</td>\n",
       "      <td>3</td>\n",
       "      <td>3</td>\n",
       "      <td>smart</td>\n",
       "    </tr>\n",
       "    <tr>\n",
       "      <td>1</td>\n",
       "      <td>1000</td>\n",
       "      <td>30720</td>\n",
       "      <td>3000</td>\n",
       "      <td>1950</td>\n",
       "      <td>150</td>\n",
       "      <td>1</td>\n",
       "      <td>1</td>\n",
       "      <td>ultra</td>\n",
       "    </tr>\n",
       "  </tbody>\n",
       "</table>\n",
       "</div>"
      ],
      "text/plain": [
       "   messages_included  mb_per_month_included  minutes_included  \\\n",
       "0                 50                  15360               500   \n",
       "1               1000                  30720              3000   \n",
       "\n",
       "   rub_monthly_fee  rub_per_gb  rub_per_message  rub_per_minute tariff_name  \n",
       "0              550         200                3               3       smart  \n",
       "1             1950         150                1               1       ultra  "
      ]
     },
     "execution_count": 6,
     "metadata": {},
     "output_type": "execute_result"
    }
   ],
   "source": [
    "tariffs.info()\n",
    "tariffs.head()"
   ]
  },
  {
   "cell_type": "markdown",
   "metadata": {},
   "source": [
    "Описание данных в таблице `tariffs` (информация о тарифах):\n",
    "- `tariff_name` - название тарифа;\n",
    "- `rub_monthly_fee` - ежемесячная абонентская плата в рублях;\n",
    "- `minutes_included` - количество минут разговора в месяц, включённых в абонентскую плату;\n",
    "- `messages_included` - количество сообщений в месяц, включённых в абонентскую плату;\n",
    "- `mb_per_month_included` - объём интернет-трафика, включённого в абонентскую плату (МБ);\n",
    "- `rub_per_minute` - стоимость минуты разговора сверх тарифного пакета;\n",
    "- `rub_per_message` - стоимость отправки сообщения сверх тарифного пакета;\n",
    "- `rub_per_gb` - стоимость дополнительного гигабайта интернет-трафика сверх тарифного пакета;"
   ]
  },
  {
   "cell_type": "markdown",
   "metadata": {},
   "source": [
    "---"
   ]
  },
  {
   "cell_type": "code",
   "execution_count": 7,
   "metadata": {},
   "outputs": [
    {
     "name": "stdout",
     "output_type": "stream",
     "text": [
      "<class 'pandas.core.frame.DataFrame'>\n",
      "RangeIndex: 500 entries, 0 to 499\n",
      "Data columns (total 8 columns):\n",
      "user_id       500 non-null int64\n",
      "age           500 non-null int64\n",
      "churn_date    38 non-null object\n",
      "city          500 non-null object\n",
      "first_name    500 non-null object\n",
      "last_name     500 non-null object\n",
      "reg_date      500 non-null object\n",
      "tariff        500 non-null object\n",
      "dtypes: int64(2), object(6)\n",
      "memory usage: 31.4+ KB\n"
     ]
    },
    {
     "data": {
      "text/html": [
       "<div>\n",
       "<style scoped>\n",
       "    .dataframe tbody tr th:only-of-type {\n",
       "        vertical-align: middle;\n",
       "    }\n",
       "\n",
       "    .dataframe tbody tr th {\n",
       "        vertical-align: top;\n",
       "    }\n",
       "\n",
       "    .dataframe thead th {\n",
       "        text-align: right;\n",
       "    }\n",
       "</style>\n",
       "<table border=\"1\" class=\"dataframe\">\n",
       "  <thead>\n",
       "    <tr style=\"text-align: right;\">\n",
       "      <th></th>\n",
       "      <th>user_id</th>\n",
       "      <th>age</th>\n",
       "      <th>churn_date</th>\n",
       "      <th>city</th>\n",
       "      <th>first_name</th>\n",
       "      <th>last_name</th>\n",
       "      <th>reg_date</th>\n",
       "      <th>tariff</th>\n",
       "    </tr>\n",
       "  </thead>\n",
       "  <tbody>\n",
       "    <tr>\n",
       "      <td>0</td>\n",
       "      <td>1000</td>\n",
       "      <td>52</td>\n",
       "      <td>NaN</td>\n",
       "      <td>Краснодар</td>\n",
       "      <td>Рафаил</td>\n",
       "      <td>Верещагин</td>\n",
       "      <td>2018-05-25</td>\n",
       "      <td>ultra</td>\n",
       "    </tr>\n",
       "    <tr>\n",
       "      <td>1</td>\n",
       "      <td>1001</td>\n",
       "      <td>41</td>\n",
       "      <td>NaN</td>\n",
       "      <td>Москва</td>\n",
       "      <td>Иван</td>\n",
       "      <td>Ежов</td>\n",
       "      <td>2018-11-01</td>\n",
       "      <td>smart</td>\n",
       "    </tr>\n",
       "    <tr>\n",
       "      <td>2</td>\n",
       "      <td>1002</td>\n",
       "      <td>59</td>\n",
       "      <td>NaN</td>\n",
       "      <td>Стерлитамак</td>\n",
       "      <td>Евгений</td>\n",
       "      <td>Абрамович</td>\n",
       "      <td>2018-06-17</td>\n",
       "      <td>smart</td>\n",
       "    </tr>\n",
       "    <tr>\n",
       "      <td>3</td>\n",
       "      <td>1003</td>\n",
       "      <td>23</td>\n",
       "      <td>NaN</td>\n",
       "      <td>Москва</td>\n",
       "      <td>Белла</td>\n",
       "      <td>Белякова</td>\n",
       "      <td>2018-08-17</td>\n",
       "      <td>ultra</td>\n",
       "    </tr>\n",
       "    <tr>\n",
       "      <td>4</td>\n",
       "      <td>1004</td>\n",
       "      <td>68</td>\n",
       "      <td>NaN</td>\n",
       "      <td>Новокузнецк</td>\n",
       "      <td>Татьяна</td>\n",
       "      <td>Авдеенко</td>\n",
       "      <td>2018-05-14</td>\n",
       "      <td>ultra</td>\n",
       "    </tr>\n",
       "  </tbody>\n",
       "</table>\n",
       "</div>"
      ],
      "text/plain": [
       "   user_id  age churn_date         city first_name  last_name    reg_date  \\\n",
       "0     1000   52        NaN    Краснодар     Рафаил  Верещагин  2018-05-25   \n",
       "1     1001   41        NaN       Москва       Иван       Ежов  2018-11-01   \n",
       "2     1002   59        NaN  Стерлитамак    Евгений  Абрамович  2018-06-17   \n",
       "3     1003   23        NaN       Москва      Белла   Белякова  2018-08-17   \n",
       "4     1004   68        NaN  Новокузнецк    Татьяна   Авдеенко  2018-05-14   \n",
       "\n",
       "  tariff  \n",
       "0  ultra  \n",
       "1  smart  \n",
       "2  smart  \n",
       "3  ultra  \n",
       "4  ultra  "
      ]
     },
     "execution_count": 7,
     "metadata": {},
     "output_type": "execute_result"
    }
   ],
   "source": [
    "users.info()\n",
    "users.head()"
   ]
  },
  {
   "cell_type": "markdown",
   "metadata": {},
   "source": [
    "Описание данных в таблице `users` (информация о пользователях):\n",
    "- `user_id` - уникальный идентификатор пользователя;\n",
    "- `first_name` - имя пользователя;\n",
    "- `last_name` - фамилия пользователя;\n",
    "- `age` - возраст пользователя (годы);\n",
    "- `reg_date` - дата подключения тарифа (день, месяц, год);\n",
    "- `churn_date` - дата прекращения пользования тарифом (если значение пропущено, то тариф ещё действовал на момент выгрузки данных);\n",
    "- `city` - город проживания пользователя;\n",
    "- `tariff` - название тарифного плана."
   ]
  },
  {
   "cell_type": "markdown",
   "metadata": {},
   "source": [
    "## 2. Подготовка данных"
   ]
  },
  {
   "cell_type": "markdown",
   "metadata": {},
   "source": [
    "Преобразуем даты в наборах данных в соответствующий тип и добавим столбец с месяцем."
   ]
  },
  {
   "cell_type": "code",
   "execution_count": 8,
   "metadata": {},
   "outputs": [],
   "source": [
    "calls['month'] =  pd.to_datetime(calls['call_date'], format='%Y-%m-%d').dt.month\n",
    "internet['month']=  pd.to_datetime(internet['session_date'], format='%Y-%m-%d').dt.month\n",
    "messages['month'] =  pd.to_datetime(messages['message_date'], format='%Y-%m-%d').dt.month"
   ]
  },
  {
   "cell_type": "markdown",
   "metadata": {},
   "source": [
    "Дальнейшие операции с данными будем проводить в предположении, что длительность 0.0 минут не засчитывается за совершённый разговор (возможно, так по какой-то причине записались вызовы без ответа), значит за такие звонки не будет вычитаться минута из ежемесячного пакета. Также будем считать, что объём трафика за сессию 0.0 МБ тоже не будет округляться до целого мегабайта. Удалим эти записи."
   ]
  },
  {
   "cell_type": "code",
   "execution_count": 9,
   "metadata": {},
   "outputs": [],
   "source": [
    "calls = calls.query('duration > 0').reset_index(drop = True)\n",
    "internet = internet.query('mb_used > 0').reset_index(drop = True)"
   ]
  },
  {
   "cell_type": "markdown",
   "metadata": {},
   "source": [
    "---"
   ]
  },
  {
   "cell_type": "markdown",
   "metadata": {},
   "source": [
    "Создадим сводную таблицу для каждого пользователя, где для каждого месяца будет указан объём использованных услуг (длительность звонков, количество звонков, сообщений и мегабайт)."
   ]
  },
  {
   "cell_type": "code",
   "execution_count": 10,
   "metadata": {
    "scrolled": true
   },
   "outputs": [
    {
     "data": {
      "text/html": [
       "<div>\n",
       "<style scoped>\n",
       "    .dataframe tbody tr th:only-of-type {\n",
       "        vertical-align: middle;\n",
       "    }\n",
       "\n",
       "    .dataframe tbody tr th {\n",
       "        vertical-align: top;\n",
       "    }\n",
       "\n",
       "    .dataframe thead th {\n",
       "        text-align: right;\n",
       "    }\n",
       "</style>\n",
       "<table border=\"1\" class=\"dataframe\">\n",
       "  <thead>\n",
       "    <tr style=\"text-align: right;\">\n",
       "      <th></th>\n",
       "      <th>user_id</th>\n",
       "      <th>tariff</th>\n",
       "      <th>city</th>\n",
       "    </tr>\n",
       "  </thead>\n",
       "  <tbody>\n",
       "    <tr>\n",
       "      <td>0</td>\n",
       "      <td>1000</td>\n",
       "      <td>ultra</td>\n",
       "      <td>Краснодар</td>\n",
       "    </tr>\n",
       "    <tr>\n",
       "      <td>1</td>\n",
       "      <td>1001</td>\n",
       "      <td>smart</td>\n",
       "      <td>Москва</td>\n",
       "    </tr>\n",
       "    <tr>\n",
       "      <td>2</td>\n",
       "      <td>1002</td>\n",
       "      <td>smart</td>\n",
       "      <td>Стерлитамак</td>\n",
       "    </tr>\n",
       "    <tr>\n",
       "      <td>3</td>\n",
       "      <td>1003</td>\n",
       "      <td>ultra</td>\n",
       "      <td>Москва</td>\n",
       "    </tr>\n",
       "    <tr>\n",
       "      <td>4</td>\n",
       "      <td>1004</td>\n",
       "      <td>ultra</td>\n",
       "      <td>Новокузнецк</td>\n",
       "    </tr>\n",
       "  </tbody>\n",
       "</table>\n",
       "</div>"
      ],
      "text/plain": [
       "   user_id tariff         city\n",
       "0     1000  ultra    Краснодар\n",
       "1     1001  smart       Москва\n",
       "2     1002  smart  Стерлитамак\n",
       "3     1003  ultra       Москва\n",
       "4     1004  ultra  Новокузнецк"
      ]
     },
     "execution_count": 10,
     "metadata": {},
     "output_type": "execute_result"
    }
   ],
   "source": [
    "# создадим таблицу с 'user_id', соответствующим тарифом и городом\n",
    "users_info = users[['user_id','tariff','city']]\n",
    "users_info.head()"
   ]
  },
  {
   "cell_type": "code",
   "execution_count": 11,
   "metadata": {
    "scrolled": true
   },
   "outputs": [],
   "source": [
    "# добавим указание о тарифе в таблицы со звонками и интернет-сессиями\n",
    "calls = calls.merge(users_info, on = 'user_id')\n",
    "internet = internet.merge(users_info, on = 'user_id')"
   ]
  },
  {
   "cell_type": "code",
   "execution_count": 12,
   "metadata": {},
   "outputs": [],
   "source": [
    "# округлим длительность звонка и объём трафика до ближайшего целого вверх\n",
    "calls.loc[calls.loc[:,'tariff'] == 'smart', 'duration'] = \\\n",
    "calls.loc[calls.loc[:,'tariff'] == 'smart']['duration'].apply(math.ceil)"
   ]
  },
  {
   "cell_type": "code",
   "execution_count": 13,
   "metadata": {},
   "outputs": [],
   "source": [
    "internet.loc[internet.loc[:,'tariff'] == 'smart','mb_used'] = \\\n",
    "internet.loc[internet.loc[:,'tariff'] == 'smart']['mb_used'].apply(math.ceil)"
   ]
  },
  {
   "cell_type": "code",
   "execution_count": 14,
   "metadata": {},
   "outputs": [],
   "source": [
    "# сгруппируем звонки по месяцам для каждого пользователя, посчитаем количество и суммарную длительность\n",
    "user_monthly_calls = calls.pivot_table(index=['user_id','month'], values=['duration', 'tariff', 'city'], \\\n",
    "                                       aggfunc = {'duration': ['count', 'sum'], \n",
    "                                                  'tariff': 'first', \n",
    "                                                  'city': 'first'})\n",
    "\n",
    "# переименуем столбцы в сводной таблице\n",
    "user_monthly_calls.columns = ['city', 'number_of_calls','calls_duration', 'tariff']"
   ]
  },
  {
   "cell_type": "code",
   "execution_count": 15,
   "metadata": {},
   "outputs": [],
   "source": [
    "# сгруппируем сообщения по месяцам для каждого пользователя\n",
    "user_monthly_messages = messages.pivot_table(index=['user_id','month'], values='id', aggfunc = 'count')\n",
    "user_monthly_messages.columns = ['number_of_messages']"
   ]
  },
  {
   "cell_type": "code",
   "execution_count": 16,
   "metadata": {
    "scrolled": true
   },
   "outputs": [],
   "source": [
    "# сгруппируем объём интернет-трафика (МБ) по месяцам для каждого пользователя\n",
    "user_monthly_internet = internet.pivot_table(index=['user_id','month'], values='mb_used', aggfunc = 'sum')\n",
    "user_monthly_internet.columns = ['traffic']"
   ]
  },
  {
   "cell_type": "code",
   "execution_count": 17,
   "metadata": {
    "scrolled": false
   },
   "outputs": [
    {
     "data": {
      "text/html": [
       "<div>\n",
       "<style scoped>\n",
       "    .dataframe tbody tr th:only-of-type {\n",
       "        vertical-align: middle;\n",
       "    }\n",
       "\n",
       "    .dataframe tbody tr th {\n",
       "        vertical-align: top;\n",
       "    }\n",
       "\n",
       "    .dataframe thead th {\n",
       "        text-align: right;\n",
       "    }\n",
       "</style>\n",
       "<table border=\"1\" class=\"dataframe\">\n",
       "  <thead>\n",
       "    <tr style=\"text-align: right;\">\n",
       "      <th></th>\n",
       "      <th></th>\n",
       "      <th>city</th>\n",
       "      <th>number_of_calls</th>\n",
       "      <th>calls_duration</th>\n",
       "      <th>tariff</th>\n",
       "      <th>number_of_messages</th>\n",
       "      <th>traffic</th>\n",
       "    </tr>\n",
       "    <tr>\n",
       "      <th>user_id</th>\n",
       "      <th>month</th>\n",
       "      <th></th>\n",
       "      <th></th>\n",
       "      <th></th>\n",
       "      <th></th>\n",
       "      <th></th>\n",
       "      <th></th>\n",
       "    </tr>\n",
       "  </thead>\n",
       "  <tbody>\n",
       "    <tr>\n",
       "      <td rowspan=\"8\" valign=\"top\">1000</td>\n",
       "      <td>5</td>\n",
       "      <td>Краснодар</td>\n",
       "      <td>17.0</td>\n",
       "      <td>150.06</td>\n",
       "      <td>ultra</td>\n",
       "      <td>22.0</td>\n",
       "      <td>2253.49</td>\n",
       "    </tr>\n",
       "    <tr>\n",
       "      <td>6</td>\n",
       "      <td>Краснодар</td>\n",
       "      <td>28.0</td>\n",
       "      <td>158.90</td>\n",
       "      <td>ultra</td>\n",
       "      <td>60.0</td>\n",
       "      <td>23233.77</td>\n",
       "    </tr>\n",
       "    <tr>\n",
       "      <td>7</td>\n",
       "      <td>Краснодар</td>\n",
       "      <td>41.0</td>\n",
       "      <td>318.80</td>\n",
       "      <td>ultra</td>\n",
       "      <td>75.0</td>\n",
       "      <td>14003.64</td>\n",
       "    </tr>\n",
       "    <tr>\n",
       "      <td>8</td>\n",
       "      <td>Краснодар</td>\n",
       "      <td>42.0</td>\n",
       "      <td>389.87</td>\n",
       "      <td>ultra</td>\n",
       "      <td>81.0</td>\n",
       "      <td>14055.93</td>\n",
       "    </tr>\n",
       "    <tr>\n",
       "      <td>9</td>\n",
       "      <td>Краснодар</td>\n",
       "      <td>46.0</td>\n",
       "      <td>440.14</td>\n",
       "      <td>ultra</td>\n",
       "      <td>57.0</td>\n",
       "      <td>14568.91</td>\n",
       "    </tr>\n",
       "    <tr>\n",
       "      <td>10</td>\n",
       "      <td>Краснодар</td>\n",
       "      <td>44.0</td>\n",
       "      <td>328.45</td>\n",
       "      <td>ultra</td>\n",
       "      <td>73.0</td>\n",
       "      <td>14702.49</td>\n",
       "    </tr>\n",
       "    <tr>\n",
       "      <td>11</td>\n",
       "      <td>Краснодар</td>\n",
       "      <td>37.0</td>\n",
       "      <td>319.04</td>\n",
       "      <td>ultra</td>\n",
       "      <td>58.0</td>\n",
       "      <td>14756.47</td>\n",
       "    </tr>\n",
       "    <tr>\n",
       "      <td>12</td>\n",
       "      <td>Краснодар</td>\n",
       "      <td>38.0</td>\n",
       "      <td>312.98</td>\n",
       "      <td>ultra</td>\n",
       "      <td>70.0</td>\n",
       "      <td>9817.61</td>\n",
       "    </tr>\n",
       "    <tr>\n",
       "      <td rowspan=\"2\" valign=\"top\">1001</td>\n",
       "      <td>11</td>\n",
       "      <td>Москва</td>\n",
       "      <td>45.0</td>\n",
       "      <td>430.00</td>\n",
       "      <td>smart</td>\n",
       "      <td>0.0</td>\n",
       "      <td>18452.00</td>\n",
       "    </tr>\n",
       "    <tr>\n",
       "      <td>12</td>\n",
       "      <td>Москва</td>\n",
       "      <td>47.0</td>\n",
       "      <td>414.00</td>\n",
       "      <td>smart</td>\n",
       "      <td>0.0</td>\n",
       "      <td>14053.00</td>\n",
       "    </tr>\n",
       "    <tr>\n",
       "      <td rowspan=\"5\" valign=\"top\">1002</td>\n",
       "      <td>6</td>\n",
       "      <td>Стерлитамак</td>\n",
       "      <td>14.0</td>\n",
       "      <td>117.00</td>\n",
       "      <td>smart</td>\n",
       "      <td>4.0</td>\n",
       "      <td>10871.00</td>\n",
       "    </tr>\n",
       "    <tr>\n",
       "      <td>7</td>\n",
       "      <td>Стерлитамак</td>\n",
       "      <td>21.0</td>\n",
       "      <td>214.00</td>\n",
       "      <td>smart</td>\n",
       "      <td>11.0</td>\n",
       "      <td>17601.00</td>\n",
       "    </tr>\n",
       "    <tr>\n",
       "      <td>8</td>\n",
       "      <td>Стерлитамак</td>\n",
       "      <td>37.0</td>\n",
       "      <td>289.00</td>\n",
       "      <td>smart</td>\n",
       "      <td>13.0</td>\n",
       "      <td>20347.00</td>\n",
       "    </tr>\n",
       "    <tr>\n",
       "      <td>9</td>\n",
       "      <td>Стерлитамак</td>\n",
       "      <td>25.0</td>\n",
       "      <td>206.00</td>\n",
       "      <td>smart</td>\n",
       "      <td>4.0</td>\n",
       "      <td>16712.00</td>\n",
       "    </tr>\n",
       "    <tr>\n",
       "      <td>10</td>\n",
       "      <td>Стерлитамак</td>\n",
       "      <td>24.0</td>\n",
       "      <td>212.00</td>\n",
       "      <td>smart</td>\n",
       "      <td>10.0</td>\n",
       "      <td>13905.00</td>\n",
       "    </tr>\n",
       "  </tbody>\n",
       "</table>\n",
       "</div>"
      ],
      "text/plain": [
       "                      city  number_of_calls  calls_duration tariff  \\\n",
       "user_id month                                                        \n",
       "1000    5        Краснодар             17.0          150.06  ultra   \n",
       "        6        Краснодар             28.0          158.90  ultra   \n",
       "        7        Краснодар             41.0          318.80  ultra   \n",
       "        8        Краснодар             42.0          389.87  ultra   \n",
       "        9        Краснодар             46.0          440.14  ultra   \n",
       "        10       Краснодар             44.0          328.45  ultra   \n",
       "        11       Краснодар             37.0          319.04  ultra   \n",
       "        12       Краснодар             38.0          312.98  ultra   \n",
       "1001    11          Москва             45.0          430.00  smart   \n",
       "        12          Москва             47.0          414.00  smart   \n",
       "1002    6      Стерлитамак             14.0          117.00  smart   \n",
       "        7      Стерлитамак             21.0          214.00  smart   \n",
       "        8      Стерлитамак             37.0          289.00  smart   \n",
       "        9      Стерлитамак             25.0          206.00  smart   \n",
       "        10     Стерлитамак             24.0          212.00  smart   \n",
       "\n",
       "               number_of_messages   traffic  \n",
       "user_id month                                \n",
       "1000    5                    22.0   2253.49  \n",
       "        6                    60.0  23233.77  \n",
       "        7                    75.0  14003.64  \n",
       "        8                    81.0  14055.93  \n",
       "        9                    57.0  14568.91  \n",
       "        10                   73.0  14702.49  \n",
       "        11                   58.0  14756.47  \n",
       "        12                   70.0   9817.61  \n",
       "1001    11                    0.0  18452.00  \n",
       "        12                    0.0  14053.00  \n",
       "1002    6                     4.0  10871.00  \n",
       "        7                    11.0  17601.00  \n",
       "        8                    13.0  20347.00  \n",
       "        9                     4.0  16712.00  \n",
       "        10                   10.0  13905.00  "
      ]
     },
     "execution_count": 17,
     "metadata": {},
     "output_type": "execute_result"
    }
   ],
   "source": [
    "# объединим наборы данных\n",
    "user_monthly_overall = user_monthly_calls.join([user_monthly_messages, user_monthly_internet])\n",
    "\n",
    "# пропуски заполним 0\n",
    "user_monthly_overall = user_monthly_overall.fillna(0)\n",
    "\n",
    "# выведем первые 15 строк получившейся таблицы\n",
    "user_monthly_overall.head(15)"
   ]
  },
  {
   "cell_type": "markdown",
   "metadata": {},
   "source": [
    "---"
   ]
  },
  {
   "cell_type": "markdown",
   "metadata": {},
   "source": [
    "Вычислим выручку, получаемую с каждого пользователя и запишем эти значения в новый столбец."
   ]
  },
  {
   "cell_type": "code",
   "execution_count": 18,
   "metadata": {},
   "outputs": [],
   "source": [
    "# добавим функцию \"превышение\"\n",
    "def excess (a, b):\n",
    "    if a > b:\n",
    "        return a-b\n",
    "    return 0"
   ]
  },
  {
   "cell_type": "code",
   "execution_count": 19,
   "metadata": {},
   "outputs": [],
   "source": [
    "# запишем параметры тарифов в отдельные переменные\n",
    "smart_rub_monthly_fee = tariffs[tariffs.tariff_name == 'smart']['rub_monthly_fee'].sum()\n",
    "smart_messages_included = tariffs[tariffs.tariff_name == 'smart']['messages_included'].sum()\n",
    "smart_mb_per_month_included = tariffs[tariffs.tariff_name == 'smart']['mb_per_month_included'].sum()\n",
    "smart_minutes_included = tariffs[tariffs.tariff_name == 'smart']['minutes_included'].sum()\n",
    "smart_rub_per_gb = tariffs[tariffs.tariff_name == 'smart']['rub_per_gb'].sum()\n",
    "smart_rub_per_message = tariffs[tariffs.tariff_name == 'smart']['rub_per_message'].sum()\n",
    "smart_rub_per_minute = tariffs[tariffs.tariff_name == 'smart']['rub_per_minute'].sum()\n",
    "\n",
    "ultra_rub_monthly_fee = tariffs[tariffs.tariff_name == 'ultra']['rub_monthly_fee'].sum()\n",
    "ultra_messages_included = tariffs[tariffs.tariff_name == 'ultra']['messages_included'].sum()\n",
    "ultra_mb_per_month_included = tariffs[tariffs.tariff_name == 'ultra']['mb_per_month_included'].sum()\n",
    "ultra_minutes_included = tariffs[tariffs.tariff_name == 'ultra']['minutes_included'].sum()\n",
    "ultra_rub_per_gb = tariffs[tariffs.tariff_name == 'ultra']['rub_per_gb'].sum()\n",
    "ultra_rub_per_message = tariffs[tariffs.tariff_name == 'ultra']['rub_per_message'].sum()\n",
    "ultra_rub_per_minute = tariffs[tariffs.tariff_name == 'ultra']['rub_per_minute'].sum()"
   ]
  },
  {
   "cell_type": "code",
   "execution_count": 20,
   "metadata": {},
   "outputs": [],
   "source": [
    "# вычислим выручку от каждого пользователя как сумму абонентской платы в месяц\n",
    "# и стоимости услуг использованных сверх тарифа\n",
    "def revenue_calc(row):\n",
    "    calls_duration = row['calls_duration']\n",
    "    number_of_messages = row['number_of_messages']\n",
    "    traffic = row['traffic']\n",
    "    tariff = row['tariff']\n",
    "    revenue = 0\n",
    "    if tariff == 'smart':\n",
    "        revenue = smart_rub_monthly_fee + \\\n",
    "                  excess(calls_duration, smart_minutes_included)*smart_rub_per_minute + \\\n",
    "                  excess(number_of_messages, smart_messages_included)*smart_rub_per_message + \\\n",
    "                  excess(traffic, smart_mb_per_month_included)*smart_rub_per_gb/1024\n",
    "    else:\n",
    "        revenue = ultra_rub_monthly_fee + \\\n",
    "                  excess(calls_duration, ultra_minutes_included)*ultra_rub_per_minute + \\\n",
    "                  excess(number_of_messages, ultra_messages_included)*ultra_rub_per_message + \\\n",
    "                  excess(traffic, ultra_mb_per_month_included)*ultra_rub_per_gb/1024\n",
    "    return revenue     "
   ]
  },
  {
   "cell_type": "code",
   "execution_count": 21,
   "metadata": {},
   "outputs": [],
   "source": [
    "# добавим новый столбец с выручкой в месяц\n",
    "user_monthly_overall['revenue'] = user_monthly_overall.apply(revenue_calc, axis = 1)"
   ]
  },
  {
   "cell_type": "code",
   "execution_count": 22,
   "metadata": {},
   "outputs": [
    {
     "data": {
      "text/html": [
       "<div>\n",
       "<style scoped>\n",
       "    .dataframe tbody tr th:only-of-type {\n",
       "        vertical-align: middle;\n",
       "    }\n",
       "\n",
       "    .dataframe tbody tr th {\n",
       "        vertical-align: top;\n",
       "    }\n",
       "\n",
       "    .dataframe thead th {\n",
       "        text-align: right;\n",
       "    }\n",
       "</style>\n",
       "<table border=\"1\" class=\"dataframe\">\n",
       "  <thead>\n",
       "    <tr style=\"text-align: right;\">\n",
       "      <th></th>\n",
       "      <th></th>\n",
       "      <th>city</th>\n",
       "      <th>number_of_calls</th>\n",
       "      <th>calls_duration</th>\n",
       "      <th>tariff</th>\n",
       "      <th>number_of_messages</th>\n",
       "      <th>traffic</th>\n",
       "      <th>revenue</th>\n",
       "    </tr>\n",
       "    <tr>\n",
       "      <th>user_id</th>\n",
       "      <th>month</th>\n",
       "      <th></th>\n",
       "      <th></th>\n",
       "      <th></th>\n",
       "      <th></th>\n",
       "      <th></th>\n",
       "      <th></th>\n",
       "      <th></th>\n",
       "    </tr>\n",
       "  </thead>\n",
       "  <tbody>\n",
       "    <tr>\n",
       "      <td rowspan=\"8\" valign=\"top\">1000</td>\n",
       "      <td>5</td>\n",
       "      <td>Краснодар</td>\n",
       "      <td>17.0</td>\n",
       "      <td>150.06</td>\n",
       "      <td>ultra</td>\n",
       "      <td>22.0</td>\n",
       "      <td>2253.49</td>\n",
       "      <td>1950.000000</td>\n",
       "    </tr>\n",
       "    <tr>\n",
       "      <td>6</td>\n",
       "      <td>Краснодар</td>\n",
       "      <td>28.0</td>\n",
       "      <td>158.90</td>\n",
       "      <td>ultra</td>\n",
       "      <td>60.0</td>\n",
       "      <td>23233.77</td>\n",
       "      <td>1950.000000</td>\n",
       "    </tr>\n",
       "    <tr>\n",
       "      <td>7</td>\n",
       "      <td>Краснодар</td>\n",
       "      <td>41.0</td>\n",
       "      <td>318.80</td>\n",
       "      <td>ultra</td>\n",
       "      <td>75.0</td>\n",
       "      <td>14003.64</td>\n",
       "      <td>1950.000000</td>\n",
       "    </tr>\n",
       "    <tr>\n",
       "      <td>8</td>\n",
       "      <td>Краснодар</td>\n",
       "      <td>42.0</td>\n",
       "      <td>389.87</td>\n",
       "      <td>ultra</td>\n",
       "      <td>81.0</td>\n",
       "      <td>14055.93</td>\n",
       "      <td>1950.000000</td>\n",
       "    </tr>\n",
       "    <tr>\n",
       "      <td>9</td>\n",
       "      <td>Краснодар</td>\n",
       "      <td>46.0</td>\n",
       "      <td>440.14</td>\n",
       "      <td>ultra</td>\n",
       "      <td>57.0</td>\n",
       "      <td>14568.91</td>\n",
       "      <td>1950.000000</td>\n",
       "    </tr>\n",
       "    <tr>\n",
       "      <td>10</td>\n",
       "      <td>Краснодар</td>\n",
       "      <td>44.0</td>\n",
       "      <td>328.45</td>\n",
       "      <td>ultra</td>\n",
       "      <td>73.0</td>\n",
       "      <td>14702.49</td>\n",
       "      <td>1950.000000</td>\n",
       "    </tr>\n",
       "    <tr>\n",
       "      <td>11</td>\n",
       "      <td>Краснодар</td>\n",
       "      <td>37.0</td>\n",
       "      <td>319.04</td>\n",
       "      <td>ultra</td>\n",
       "      <td>58.0</td>\n",
       "      <td>14756.47</td>\n",
       "      <td>1950.000000</td>\n",
       "    </tr>\n",
       "    <tr>\n",
       "      <td>12</td>\n",
       "      <td>Краснодар</td>\n",
       "      <td>38.0</td>\n",
       "      <td>312.98</td>\n",
       "      <td>ultra</td>\n",
       "      <td>70.0</td>\n",
       "      <td>9817.61</td>\n",
       "      <td>1950.000000</td>\n",
       "    </tr>\n",
       "    <tr>\n",
       "      <td rowspan=\"2\" valign=\"top\">1001</td>\n",
       "      <td>11</td>\n",
       "      <td>Москва</td>\n",
       "      <td>45.0</td>\n",
       "      <td>430.00</td>\n",
       "      <td>smart</td>\n",
       "      <td>0.0</td>\n",
       "      <td>18452.00</td>\n",
       "      <td>1153.906250</td>\n",
       "    </tr>\n",
       "    <tr>\n",
       "      <td>12</td>\n",
       "      <td>Москва</td>\n",
       "      <td>47.0</td>\n",
       "      <td>414.00</td>\n",
       "      <td>smart</td>\n",
       "      <td>0.0</td>\n",
       "      <td>14053.00</td>\n",
       "      <td>550.000000</td>\n",
       "    </tr>\n",
       "    <tr>\n",
       "      <td rowspan=\"5\" valign=\"top\">1002</td>\n",
       "      <td>6</td>\n",
       "      <td>Стерлитамак</td>\n",
       "      <td>14.0</td>\n",
       "      <td>117.00</td>\n",
       "      <td>smart</td>\n",
       "      <td>4.0</td>\n",
       "      <td>10871.00</td>\n",
       "      <td>550.000000</td>\n",
       "    </tr>\n",
       "    <tr>\n",
       "      <td>7</td>\n",
       "      <td>Стерлитамак</td>\n",
       "      <td>21.0</td>\n",
       "      <td>214.00</td>\n",
       "      <td>smart</td>\n",
       "      <td>11.0</td>\n",
       "      <td>17601.00</td>\n",
       "      <td>987.695312</td>\n",
       "    </tr>\n",
       "    <tr>\n",
       "      <td>8</td>\n",
       "      <td>Стерлитамак</td>\n",
       "      <td>37.0</td>\n",
       "      <td>289.00</td>\n",
       "      <td>smart</td>\n",
       "      <td>13.0</td>\n",
       "      <td>20347.00</td>\n",
       "      <td>1524.023438</td>\n",
       "    </tr>\n",
       "    <tr>\n",
       "      <td>9</td>\n",
       "      <td>Стерлитамак</td>\n",
       "      <td>25.0</td>\n",
       "      <td>206.00</td>\n",
       "      <td>smart</td>\n",
       "      <td>4.0</td>\n",
       "      <td>16712.00</td>\n",
       "      <td>814.062500</td>\n",
       "    </tr>\n",
       "    <tr>\n",
       "      <td>10</td>\n",
       "      <td>Стерлитамак</td>\n",
       "      <td>24.0</td>\n",
       "      <td>212.00</td>\n",
       "      <td>smart</td>\n",
       "      <td>10.0</td>\n",
       "      <td>13905.00</td>\n",
       "      <td>550.000000</td>\n",
       "    </tr>\n",
       "  </tbody>\n",
       "</table>\n",
       "</div>"
      ],
      "text/plain": [
       "                      city  number_of_calls  calls_duration tariff  \\\n",
       "user_id month                                                        \n",
       "1000    5        Краснодар             17.0          150.06  ultra   \n",
       "        6        Краснодар             28.0          158.90  ultra   \n",
       "        7        Краснодар             41.0          318.80  ultra   \n",
       "        8        Краснодар             42.0          389.87  ultra   \n",
       "        9        Краснодар             46.0          440.14  ultra   \n",
       "        10       Краснодар             44.0          328.45  ultra   \n",
       "        11       Краснодар             37.0          319.04  ultra   \n",
       "        12       Краснодар             38.0          312.98  ultra   \n",
       "1001    11          Москва             45.0          430.00  smart   \n",
       "        12          Москва             47.0          414.00  smart   \n",
       "1002    6      Стерлитамак             14.0          117.00  smart   \n",
       "        7      Стерлитамак             21.0          214.00  smart   \n",
       "        8      Стерлитамак             37.0          289.00  smart   \n",
       "        9      Стерлитамак             25.0          206.00  smart   \n",
       "        10     Стерлитамак             24.0          212.00  smart   \n",
       "\n",
       "               number_of_messages   traffic      revenue  \n",
       "user_id month                                             \n",
       "1000    5                    22.0   2253.49  1950.000000  \n",
       "        6                    60.0  23233.77  1950.000000  \n",
       "        7                    75.0  14003.64  1950.000000  \n",
       "        8                    81.0  14055.93  1950.000000  \n",
       "        9                    57.0  14568.91  1950.000000  \n",
       "        10                   73.0  14702.49  1950.000000  \n",
       "        11                   58.0  14756.47  1950.000000  \n",
       "        12                   70.0   9817.61  1950.000000  \n",
       "1001    11                    0.0  18452.00  1153.906250  \n",
       "        12                    0.0  14053.00   550.000000  \n",
       "1002    6                     4.0  10871.00   550.000000  \n",
       "        7                    11.0  17601.00   987.695312  \n",
       "        8                    13.0  20347.00  1524.023438  \n",
       "        9                     4.0  16712.00   814.062500  \n",
       "        10                   10.0  13905.00   550.000000  "
      ]
     },
     "execution_count": 22,
     "metadata": {},
     "output_type": "execute_result"
    }
   ],
   "source": [
    "user_monthly_overall.head(15)"
   ]
  },
  {
   "cell_type": "markdown",
   "metadata": {},
   "source": [
    "## 3. Исследовательский анализ данных\n"
   ]
  },
  {
   "cell_type": "markdown",
   "metadata": {},
   "source": [
    "### 3.1 Продолжительность звонков"
   ]
  },
  {
   "cell_type": "markdown",
   "metadata": {},
   "source": [
    "Рассмотрим, как распределены длительности звонков."
   ]
  },
  {
   "cell_type": "code",
   "execution_count": 23,
   "metadata": {},
   "outputs": [
    {
     "data": {
      "image/png": "[encoded data removed]",
      "text/plain": [
       "<Figure size 432x288 with 1 Axes>"
      ]
     },
     "metadata": {
      "needs_background": "light"
     },
     "output_type": "display_data"
    },
    {
     "data": {
      "image/png": "[encoded data removed]",
      "text/plain": [
       "<Figure size 432x288 with 1 Axes>"
      ]
     },
     "metadata": {
      "needs_background": "light"
     },
     "output_type": "display_data"
    }
   ],
   "source": [
    "# выведем диаграммы размаха для двух наборов данных\n",
    "# суммарная продолжительность звонков в месяц для клиентов тарифа Смарт\n",
    "user_monthly_overall.query('tariff == \"smart\"')\\\n",
    "                    .plot(y = 'calls_duration', kind = 'box', grid = 'True',\\\n",
    "                          label = 'звонки Смарт')\n",
    "\n",
    "# и для клиентов тарифа Ультра\n",
    "user_monthly_overall.query('tariff == \"ultra\"')\\\n",
    "                    .plot(y = 'calls_duration', kind = 'box', grid = 'True',\\\n",
    "                          label = 'звонки Ультра') \n",
    "\n",
    "plt.show() "
   ]
  },
  {
   "cell_type": "code",
   "execution_count": 24,
   "metadata": {},
   "outputs": [
    {
     "name": "stdout",
     "output_type": "stream",
     "text": [
      "Длительность звонков Smart:\n",
      "Дисперсия: 35702.05\n",
      "count    2221.00\n",
      "mean      419.44\n",
      "std       188.99\n",
      "min         2.00\n",
      "25%       285.00\n",
      "50%       423.00\n",
      "75%       546.00\n",
      "max      1435.00\n",
      "Name: calls_duration, dtype: float64 \n",
      "\n",
      "Длительность звонков Ultra:\n",
      "Дисперсия: 83144.41\n",
      "count     947.00\n",
      "mean      517.01\n",
      "std       288.50\n",
      "min         0.10\n",
      "25%       294.40\n",
      "50%       498.95\n",
      "75%       715.60\n",
      "max      1578.06\n",
      "Name: calls_duration, dtype: float64\n"
     ]
    },
    {
     "data": {
      "image/png": "[encoded data removed]",
      "text/plain": [
       "<Figure size 432x288 with 1 Axes>"
      ]
     },
     "metadata": {
      "needs_background": "light"
     },
     "output_type": "display_data"
    }
   ],
   "source": [
    "# выведем гистограммы и числовые характеристики распределения\n",
    "ax = user_monthly_overall.query('tariff == \"smart\"')\\\n",
    "                    .plot(y = 'calls_duration', kind = 'hist', grid = 'True', bins = 50,\\\n",
    "                          label = 'звонки Смарт',histtype = 'step', linewidth = 2, alpha = 0.7)\n",
    "\n",
    "user_monthly_overall.query('tariff == \"ultra\"')\\\n",
    "                    .plot(y = 'calls_duration', kind = 'hist', grid = 'True', bins = 50,\\\n",
    "                          label = 'звонки Ультра',histtype = 'step', linewidth = 2, alpha = 0.7, ax = ax) \n",
    "\n",
    "print('Длительность звонков Smart:')\n",
    "print('Дисперсия:', '{:.2f}'.format(np.var(user_monthly_overall.query('tariff == \"smart\"')['calls_duration'])))\n",
    "print(user_monthly_overall.query('tariff == \"smart\"')['calls_duration'].describe().round(2),'\\n')\n",
    "\n",
    "print('Длительность звонков Ultra:')\n",
    "print('Дисперсия:', '{:.2f}'.format(np.var(user_monthly_overall.query('tariff == \"ultra\"')['calls_duration'])))\n",
    "print(user_monthly_overall.query('tariff == \"ultra\"')['calls_duration'].describe().round(2))"
   ]
  },
  {
   "cell_type": "markdown",
   "metadata": {},
   "source": [
    "Характеристики распределения для длительности звонков каждый месяц:\n",
    "\n",
    "клиенты с тарифом Смарт:\n",
    "- средняя продолжительность: 419 мин.;\n",
    "- дисперсия: 35702 мин^2;\n",
    "- стандартное отклонение: 189 мин.\n",
    "\n",
    "клиенты с тарифом Ультра:\n",
    "- средняя продолжительность: 517 мин.;\n",
    "- дисперсия: 83144 мин^2;\n",
    "- стандартное отклонение: 288 мин."
   ]
  },
  {
   "cell_type": "markdown",
   "metadata": {},
   "source": [
    "### 3.2 Количество сообщений"
   ]
  },
  {
   "cell_type": "markdown",
   "metadata": {},
   "source": [
    "Рассмотрим, как распределены количества сообщений."
   ]
  },
  {
   "cell_type": "code",
   "execution_count": 25,
   "metadata": {},
   "outputs": [
    {
     "data": {
      "image/png": "[encoded data removed]",
      "text/plain": [
       "<Figure size 432x288 with 1 Axes>"
      ]
     },
     "metadata": {
      "needs_background": "light"
     },
     "output_type": "display_data"
    },
    {
     "data": {
      "image/png": "[encoded data removed]",
      "text/plain": [
       "<Figure size 432x288 with 1 Axes>"
      ]
     },
     "metadata": {
      "needs_background": "light"
     },
     "output_type": "display_data"
    }
   ],
   "source": [
    "# выведем диаграммы размаха для двух наборов данных\n",
    "# суммарное кол-во сообщений в месяц для клиентов тарифа Смарт\n",
    "user_monthly_overall.query('tariff == \"smart\"')\\\n",
    "                    .plot(y = 'number_of_messages', kind = 'box', grid = 'True',\\\n",
    "                          label = 'сообщения Смарт') \n",
    "\n",
    "# и для клиентов тарифа Ультра\n",
    "user_monthly_overall.query('tariff == \"ultra\"')\\\n",
    "                    .plot(y = 'number_of_messages', kind = 'box', grid = 'True',\\\n",
    "                          label = 'сообщения Ультра')\n",
    "\n",
    "plt.show() "
   ]
  },
  {
   "cell_type": "code",
   "execution_count": 26,
   "metadata": {
    "scrolled": false
   },
   "outputs": [
    {
     "name": "stdout",
     "output_type": "stream",
     "text": [
      "сообщения Smart:\n",
      "Дисперсия: 798.85\n",
      "count    2221.00\n",
      "mean       33.39\n",
      "std        28.27\n",
      "min         0.00\n",
      "25%        10.00\n",
      "50%        28.00\n",
      "75%        51.00\n",
      "max       143.00\n",
      "Name: number_of_messages, dtype: float64 \n",
      "\n",
      "сообщения Ultra:\n",
      "Дисперсия: 2169.43\n",
      "count    947.00\n",
      "mean      48.76\n",
      "std       46.60\n",
      "min        0.00\n",
      "25%        5.00\n",
      "50%       39.00\n",
      "75%       78.50\n",
      "max      224.00\n",
      "Name: number_of_messages, dtype: float64\n"
     ]
    },
    {
     "data": {
      "image/png": "[encoded data removed]",
      "text/plain": [
       "<Figure size 432x288 with 1 Axes>"
      ]
     },
     "metadata": {
      "needs_background": "light"
     },
     "output_type": "display_data"
    }
   ],
   "source": [
    "# выведем гистограммы и числовые характеристики распределения\n",
    "ax = user_monthly_overall.query('tariff == \"smart\"')\\\n",
    "                    .plot(y = 'number_of_messages', kind = 'hist', grid = 'True', bins = 50,\\\n",
    "                          label = 'сообщения Смарт',histtype = 'step', linewidth = 2, alpha = 0.7)\n",
    "\n",
    "user_monthly_overall.query('tariff == \"ultra\"')\\\n",
    "                    .plot(y = 'number_of_messages', kind = 'hist', grid = 'True', bins = 50,\\\n",
    "                          label = 'сообщения Ультра',histtype = 'step', linewidth = 2, alpha = 0.7, ax = ax)\n",
    "\n",
    "print('сообщения Smart:')\n",
    "print('Дисперсия:', '{:.2f}'.format(np.var(user_monthly_overall.query('tariff == \"smart\"')['number_of_messages'])))\n",
    "print(user_monthly_overall.query('tariff == \"smart\"')['number_of_messages'].describe().round(2),'\\n')\n",
    "\n",
    "print('сообщения Ultra:')\n",
    "print('Дисперсия:', '{:.2f}'.format(np.var(user_monthly_overall.query('tariff == \"ultra\"')['number_of_messages'])))\n",
    "print(user_monthly_overall.query('tariff == \"ultra\"')['number_of_messages'].describe().round(2))"
   ]
  },
  {
   "cell_type": "markdown",
   "metadata": {},
   "source": [
    "Характеристики распределения для количества сообщений каждый месяц:\n",
    "\n",
    "клиенты с тарифом Смарт:\n",
    "- среднее количество: 33;\n",
    "- дисперсия: 799;\n",
    "- стандартное отклонение: 28.\n",
    "\n",
    "клиенты с тарифом Ультра:\n",
    "- среднее количество: 49;\n",
    "- дисперсия: 2169;\n",
    "- стандартное отклонение: 47."
   ]
  },
  {
   "cell_type": "markdown",
   "metadata": {},
   "source": [
    "### 3.3 Объём интернет-трафика"
   ]
  },
  {
   "cell_type": "markdown",
   "metadata": {},
   "source": [
    "Рассмотрим, как распределен объём используемого интернет-трафика."
   ]
  },
  {
   "cell_type": "code",
   "execution_count": 27,
   "metadata": {},
   "outputs": [
    {
     "data": {
      "image/png": "[encoded data removed]",
      "text/plain": [
       "<Figure size 432x288 with 1 Axes>"
      ]
     },
     "metadata": {
      "needs_background": "light"
     },
     "output_type": "display_data"
    },
    {
     "data": {
      "image/png": "[encoded data removed]",
      "text/plain": [
       "<Figure size 432x288 with 1 Axes>"
      ]
     },
     "metadata": {
      "needs_background": "light"
     },
     "output_type": "display_data"
    }
   ],
   "source": [
    "# выведем диаграммы размаха для двух наборов данных\n",
    "# суммарный объём интернет-трафика в месяц для клиентов тарифа Смарт\n",
    "user_monthly_overall.query('tariff == \"smart\"')\\\n",
    "                    .plot(y = 'traffic', kind = 'box', grid = 'True',\\\n",
    "                          label = 'интернет Смарт')\n",
    "\n",
    "# и для клиентов тарифа Ультра\n",
    "user_monthly_overall.query('tariff == \"ultra\"')\\\n",
    "                    .plot(y = 'traffic', kind = 'box', grid = 'True',\\\n",
    "                          label = 'интернет Ультра') \n",
    "\n",
    "plt.show() "
   ]
  },
  {
   "cell_type": "code",
   "execution_count": 28,
   "metadata": {},
   "outputs": [
    {
     "name": "stdout",
     "output_type": "stream",
     "text": [
      "интернет Smart:\n",
      "Дисперсия: 34599364.85\n",
      "count     2221.00\n",
      "mean     16231.46\n",
      "std       5883.45\n",
      "min          0.00\n",
      "25%      12672.00\n",
      "50%      16527.00\n",
      "75%      20068.00\n",
      "max      38610.00\n",
      "Name: traffic, dtype: float64 \n",
      "\n",
      "интернет Ultra:\n",
      "Дисперсия: 102465744.03\n",
      "count      947.00\n",
      "mean     19471.58\n",
      "std      10127.89\n",
      "min          0.00\n",
      "25%      11623.24\n",
      "50%      19315.85\n",
      "75%      26838.07\n",
      "max      49745.69\n",
      "Name: traffic, dtype: float64\n"
     ]
    },
    {
     "data": {
      "image/png": "[encoded data removed]",
      "text/plain": [
       "<Figure size 432x288 with 1 Axes>"
      ]
     },
     "metadata": {
      "needs_background": "light"
     },
     "output_type": "display_data"
    }
   ],
   "source": [
    "# выведем гистограммы и числовые характеристики распределения\n",
    "ax = user_monthly_overall.query('tariff == \"smart\"')\\\n",
    "                    .plot(y = 'traffic', kind = 'hist', grid = 'True', bins = 50,\\\n",
    "                          label = 'интернет Смарт',histtype = 'step', linewidth = 2, alpha = 0.7) \n",
    "\n",
    "user_monthly_overall.query('tariff == \"ultra\"')\\\n",
    "                    .plot(y = 'traffic', kind = 'hist', grid = 'True', bins = 50,\\\n",
    "                          label = 'интернет Ультра',histtype = 'step', linewidth = 2, alpha = 0.7, ax = ax) \n",
    "\n",
    "print('интернет Smart:')\n",
    "print('Дисперсия:', '{:.2f}'.format(np.var(user_monthly_overall.query('tariff == \"smart\"')['traffic'])))\n",
    "print(user_monthly_overall.query('tariff == \"smart\"')['traffic'].describe().round(2),'\\n')\n",
    "\n",
    "print('интернет Ultra:')\n",
    "print('Дисперсия:', '{:.2f}'.format(np.var(user_monthly_overall.query('tariff == \"ultra\"')['traffic'])))\n",
    "print(user_monthly_overall.query('tariff == \"ultra\"')['traffic'].describe().round(2))"
   ]
  },
  {
   "cell_type": "markdown",
   "metadata": {},
   "source": [
    "Характеристики распределения для объёма интернет-трафика каждый месяц:\n",
    "\n",
    "клиенты с тарифом Смарт:\n",
    "- средний объём: 16230 МБ;\n",
    "- дисперсия: 34599364 МБ^2;\n",
    "- стандартное отклонение: 5.880 МБ.\n",
    "\n",
    "клиенты с тарифом Ультра:\n",
    "- средний объём: 19470 МБ;\n",
    "- дисперсия: 102465744 МБ^2;\n",
    "- стандартное отклонение: 10.130 МБ."
   ]
  },
  {
   "cell_type": "markdown",
   "metadata": {},
   "source": [
    "## 4. Проверка гипотез"
   ]
  },
  {
   "cell_type": "markdown",
   "metadata": {},
   "source": [
    "### 4.1 Равенство средних значений выручки в месяц на разных тарифах"
   ]
  },
  {
   "cell_type": "markdown",
   "metadata": {},
   "source": [
    "Рассмотрим распределение выручки в каждый месяц для клиентов разных тарифов."
   ]
  },
  {
   "cell_type": "code",
   "execution_count": 29,
   "metadata": {},
   "outputs": [
    {
     "name": "stdout",
     "output_type": "stream",
     "text": [
      "выручка Smart:\n",
      "Дисперсия: 621610.24\n",
      "count    2221.00\n",
      "mean     1234.47\n",
      "std       788.60\n",
      "min       550.00\n",
      "25%       550.00\n",
      "50%       961.09\n",
      "75%      1670.51\n",
      "max      6711.02\n",
      "Name: revenue, dtype: float64 \n",
      "\n",
      "выручка Ultra:\n",
      "Дисперсия: 128545.92\n",
      "count     947.00\n",
      "mean     2061.29\n",
      "std       358.72\n",
      "min      1950.00\n",
      "25%      1950.00\n",
      "50%      1950.00\n",
      "75%      1950.00\n",
      "max      4736.97\n",
      "Name: revenue, dtype: float64\n"
     ]
    },
    {
     "data": {
      "image/png": "[encoded data removed]",
      "text/plain": [
       "<Figure size 432x288 with 1 Axes>"
      ]
     },
     "metadata": {
      "needs_background": "light"
     },
     "output_type": "display_data"
    }
   ],
   "source": [
    "ax = user_monthly_overall.query('tariff == \"smart\"')\\\n",
    "                    .plot(y = 'revenue', kind = 'hist', grid = 'True', bins = 50, \\\n",
    "                          label = 'выручка Смарт',histtype = 'step', linewidth = 2, alpha = 0.7) \n",
    "\n",
    "user_monthly_overall.query('tariff == \"ultra\"')\\\n",
    "                    .plot(y = 'revenue', kind = 'hist', grid = 'True', bins = 50, \\\n",
    "                          label = 'выручка Ультра',histtype = 'step', linewidth = 2, alpha = 0.7, ax = ax) \n",
    "\n",
    "print('выручка Smart:')\n",
    "print('Дисперсия:', '{:.2f}'.format(np.var(user_monthly_overall.query('tariff == \"smart\"')['revenue'])))\n",
    "print(user_monthly_overall.query('tariff == \"smart\"')['revenue'].describe().round(2),'\\n')\n",
    "\n",
    "print('выручка Ultra:')\n",
    "print('Дисперсия:', '{:.2f}'.format(np.var(user_monthly_overall.query('tariff == \"ultra\"')['revenue'])))\n",
    "print(user_monthly_overall.query('tariff == \"ultra\"')['revenue'].describe().round(2))"
   ]
  },
  {
   "cell_type": "markdown",
   "metadata": {},
   "source": [
    "Видим 2 выраженных пика на гистограмме в области ежемесячной абонентской платы (550р для тарифа Смарт и 1950р для тарифа Ультра). Выборочные средние значения ежемесячной выручки при этом существенно различаются (1230р и 2060р)."
   ]
  },
  {
   "cell_type": "markdown",
   "metadata": {},
   "source": [
    "---"
   ]
  },
  {
   "cell_type": "markdown",
   "metadata": {},
   "source": [
    "Сформулируем нулевую гипотезу:\n",
    "\"Средняя выручка от пользователей тарифом Смарт и Ультра одинакова\"."
   ]
  },
  {
   "cell_type": "code",
   "execution_count": 30,
   "metadata": {
    "scrolled": false
   },
   "outputs": [
    {
     "name": "stdout",
     "output_type": "stream",
     "text": [
      "p-значение: 1.2159950099653873e-289\n"
     ]
    }
   ],
   "source": [
    "# зададим критический уровень статистической значимости в 5%\n",
    "alpha = .05 \n",
    "\n",
    "# по Т-критерию Стьюдента сравним средние значения двух наборов данных:\n",
    "# значений выручки в месяц от пользователей двух тарифов\n",
    "results = st.ttest_ind(\n",
    "    user_monthly_overall.query('tariff == \"smart\"')['revenue'], \n",
    "    user_monthly_overall.query('tariff == \"ultra\"')['revenue'],\n",
    "    equal_var = False)\n",
    "\n",
    "# уровень значимости\n",
    "print('p-значение:', results.pvalue)"
   ]
  },
  {
   "cell_type": "markdown",
   "metadata": {},
   "source": [
    "Получили значение уровня значимости значительно меньше 5% (вероятность равенства средней выручки разных тарифов близка к 0%). Отвергаем нулевую гипотезу. Делаем вывод о том, что средняя выручка отличается."
   ]
  },
  {
   "cell_type": "markdown",
   "metadata": {},
   "source": [
    "### 4.2 Равенство средних значений выручки в месяц сверх абонентской платы на разных тарифах"
   ]
  },
  {
   "cell_type": "markdown",
   "metadata": {},
   "source": [
    "Рассмотрим объём выручки, который клиенты разных тарифов платят сверх абонентской платы каждый месяц."
   ]
  },
  {
   "cell_type": "code",
   "execution_count": 31,
   "metadata": {},
   "outputs": [],
   "source": [
    "# вычислим выручку с каждого пользователя сверх абонентской платы\n",
    "def excess_revenue_calc(row):\n",
    "    tariff = row['tariff']\n",
    "    revenue = row['revenue']\n",
    "    excess_revenue = 0\n",
    "    if tariff == 'smart':\n",
    "        return(revenue - smart_rub_monthly_fee)\n",
    "    else:\n",
    "        return(revenue - ultra_rub_monthly_fee)     "
   ]
  },
  {
   "cell_type": "code",
   "execution_count": 32,
   "metadata": {
    "scrolled": false
   },
   "outputs": [
    {
     "data": {
      "text/html": [
       "<div>\n",
       "<style scoped>\n",
       "    .dataframe tbody tr th:only-of-type {\n",
       "        vertical-align: middle;\n",
       "    }\n",
       "\n",
       "    .dataframe tbody tr th {\n",
       "        vertical-align: top;\n",
       "    }\n",
       "\n",
       "    .dataframe thead th {\n",
       "        text-align: right;\n",
       "    }\n",
       "</style>\n",
       "<table border=\"1\" class=\"dataframe\">\n",
       "  <thead>\n",
       "    <tr style=\"text-align: right;\">\n",
       "      <th></th>\n",
       "      <th></th>\n",
       "      <th>city</th>\n",
       "      <th>number_of_calls</th>\n",
       "      <th>calls_duration</th>\n",
       "      <th>tariff</th>\n",
       "      <th>number_of_messages</th>\n",
       "      <th>traffic</th>\n",
       "      <th>revenue</th>\n",
       "      <th>excess_revenue</th>\n",
       "    </tr>\n",
       "    <tr>\n",
       "      <th>user_id</th>\n",
       "      <th>month</th>\n",
       "      <th></th>\n",
       "      <th></th>\n",
       "      <th></th>\n",
       "      <th></th>\n",
       "      <th></th>\n",
       "      <th></th>\n",
       "      <th></th>\n",
       "      <th></th>\n",
       "    </tr>\n",
       "  </thead>\n",
       "  <tbody>\n",
       "    <tr>\n",
       "      <td rowspan=\"8\" valign=\"top\">1000</td>\n",
       "      <td>5</td>\n",
       "      <td>Краснодар</td>\n",
       "      <td>17.0</td>\n",
       "      <td>150.06</td>\n",
       "      <td>ultra</td>\n",
       "      <td>22.0</td>\n",
       "      <td>2253.49</td>\n",
       "      <td>1950.00000</td>\n",
       "      <td>0.00000</td>\n",
       "    </tr>\n",
       "    <tr>\n",
       "      <td>6</td>\n",
       "      <td>Краснодар</td>\n",
       "      <td>28.0</td>\n",
       "      <td>158.90</td>\n",
       "      <td>ultra</td>\n",
       "      <td>60.0</td>\n",
       "      <td>23233.77</td>\n",
       "      <td>1950.00000</td>\n",
       "      <td>0.00000</td>\n",
       "    </tr>\n",
       "    <tr>\n",
       "      <td>7</td>\n",
       "      <td>Краснодар</td>\n",
       "      <td>41.0</td>\n",
       "      <td>318.80</td>\n",
       "      <td>ultra</td>\n",
       "      <td>75.0</td>\n",
       "      <td>14003.64</td>\n",
       "      <td>1950.00000</td>\n",
       "      <td>0.00000</td>\n",
       "    </tr>\n",
       "    <tr>\n",
       "      <td>8</td>\n",
       "      <td>Краснодар</td>\n",
       "      <td>42.0</td>\n",
       "      <td>389.87</td>\n",
       "      <td>ultra</td>\n",
       "      <td>81.0</td>\n",
       "      <td>14055.93</td>\n",
       "      <td>1950.00000</td>\n",
       "      <td>0.00000</td>\n",
       "    </tr>\n",
       "    <tr>\n",
       "      <td>9</td>\n",
       "      <td>Краснодар</td>\n",
       "      <td>46.0</td>\n",
       "      <td>440.14</td>\n",
       "      <td>ultra</td>\n",
       "      <td>57.0</td>\n",
       "      <td>14568.91</td>\n",
       "      <td>1950.00000</td>\n",
       "      <td>0.00000</td>\n",
       "    </tr>\n",
       "    <tr>\n",
       "      <td>10</td>\n",
       "      <td>Краснодар</td>\n",
       "      <td>44.0</td>\n",
       "      <td>328.45</td>\n",
       "      <td>ultra</td>\n",
       "      <td>73.0</td>\n",
       "      <td>14702.49</td>\n",
       "      <td>1950.00000</td>\n",
       "      <td>0.00000</td>\n",
       "    </tr>\n",
       "    <tr>\n",
       "      <td>11</td>\n",
       "      <td>Краснодар</td>\n",
       "      <td>37.0</td>\n",
       "      <td>319.04</td>\n",
       "      <td>ultra</td>\n",
       "      <td>58.0</td>\n",
       "      <td>14756.47</td>\n",
       "      <td>1950.00000</td>\n",
       "      <td>0.00000</td>\n",
       "    </tr>\n",
       "    <tr>\n",
       "      <td>12</td>\n",
       "      <td>Краснодар</td>\n",
       "      <td>38.0</td>\n",
       "      <td>312.98</td>\n",
       "      <td>ultra</td>\n",
       "      <td>70.0</td>\n",
       "      <td>9817.61</td>\n",
       "      <td>1950.00000</td>\n",
       "      <td>0.00000</td>\n",
       "    </tr>\n",
       "    <tr>\n",
       "      <td rowspan=\"2\" valign=\"top\">1001</td>\n",
       "      <td>11</td>\n",
       "      <td>Москва</td>\n",
       "      <td>45.0</td>\n",
       "      <td>430.00</td>\n",
       "      <td>smart</td>\n",
       "      <td>0.0</td>\n",
       "      <td>18452.00</td>\n",
       "      <td>1153.90625</td>\n",
       "      <td>603.90625</td>\n",
       "    </tr>\n",
       "    <tr>\n",
       "      <td>12</td>\n",
       "      <td>Москва</td>\n",
       "      <td>47.0</td>\n",
       "      <td>414.00</td>\n",
       "      <td>smart</td>\n",
       "      <td>0.0</td>\n",
       "      <td>14053.00</td>\n",
       "      <td>550.00000</td>\n",
       "      <td>0.00000</td>\n",
       "    </tr>\n",
       "  </tbody>\n",
       "</table>\n",
       "</div>"
      ],
      "text/plain": [
       "                    city  number_of_calls  calls_duration tariff  \\\n",
       "user_id month                                                      \n",
       "1000    5      Краснодар             17.0          150.06  ultra   \n",
       "        6      Краснодар             28.0          158.90  ultra   \n",
       "        7      Краснодар             41.0          318.80  ultra   \n",
       "        8      Краснодар             42.0          389.87  ultra   \n",
       "        9      Краснодар             46.0          440.14  ultra   \n",
       "        10     Краснодар             44.0          328.45  ultra   \n",
       "        11     Краснодар             37.0          319.04  ultra   \n",
       "        12     Краснодар             38.0          312.98  ultra   \n",
       "1001    11        Москва             45.0          430.00  smart   \n",
       "        12        Москва             47.0          414.00  smart   \n",
       "\n",
       "               number_of_messages   traffic     revenue  excess_revenue  \n",
       "user_id month                                                            \n",
       "1000    5                    22.0   2253.49  1950.00000         0.00000  \n",
       "        6                    60.0  23233.77  1950.00000         0.00000  \n",
       "        7                    75.0  14003.64  1950.00000         0.00000  \n",
       "        8                    81.0  14055.93  1950.00000         0.00000  \n",
       "        9                    57.0  14568.91  1950.00000         0.00000  \n",
       "        10                   73.0  14702.49  1950.00000         0.00000  \n",
       "        11                   58.0  14756.47  1950.00000         0.00000  \n",
       "        12                   70.0   9817.61  1950.00000         0.00000  \n",
       "1001    11                    0.0  18452.00  1153.90625       603.90625  \n",
       "        12                    0.0  14053.00   550.00000         0.00000  "
      ]
     },
     "execution_count": 32,
     "metadata": {},
     "output_type": "execute_result"
    }
   ],
   "source": [
    "# добавим выручку сверх абонентской платы в новый столбец\n",
    "user_monthly_overall['excess_revenue'] = user_monthly_overall.apply(excess_revenue_calc, axis = 1)\n",
    "user_monthly_overall.head(10)"
   ]
  },
  {
   "cell_type": "code",
   "execution_count": 33,
   "metadata": {
    "scrolled": false
   },
   "outputs": [
    {
     "name": "stdout",
     "output_type": "stream",
     "text": [
      "сверх выручка Smart:\n",
      "Дисперсия: 621610.24\n",
      "count    2221.00\n",
      "mean      684.47\n",
      "std       788.60\n",
      "min         0.00\n",
      "25%         0.00\n",
      "50%       411.09\n",
      "75%      1120.51\n",
      "max      6161.02\n",
      "Name: excess_revenue, dtype: float64 \n",
      "\n",
      "сверх выручка Ultra:\n",
      "Дисперсия: 128545.92\n",
      "count     947.00\n",
      "mean      111.29\n",
      "std       358.72\n",
      "min         0.00\n",
      "25%         0.00\n",
      "50%         0.00\n",
      "75%         0.00\n",
      "max      2786.97\n",
      "Name: excess_revenue, dtype: float64\n"
     ]
    },
    {
     "data": {
      "image/png": "[encoded data removed]",
      "text/plain": [
       "<Figure size 432x288 with 1 Axes>"
      ]
     },
     "metadata": {
      "needs_background": "light"
     },
     "output_type": "display_data"
    }
   ],
   "source": [
    "# рассмотрим распределение выручки в месяц (сверх абонентской платы) для клиентов разных тарифов\n",
    "ax = user_monthly_overall.query('tariff == \"smart\"')\\\n",
    "                    .plot(y = 'excess_revenue', kind = 'hist', grid = 'True', bins = 50, \\\n",
    "                          label = 'сверх выручка Смарт',histtype = 'step', linewidth = 2, alpha = 0.7) \n",
    "\n",
    "user_monthly_overall.query('tariff == \"ultra\"')\\\n",
    "                    .plot(y = 'excess_revenue', kind = 'hist', grid = 'True', bins = 50, \\\n",
    "                          label = 'сверх выручка Ультра',histtype = 'step', linewidth = 2, alpha = 0.7, ax = ax) \n",
    "\n",
    "print('сверх выручка Smart:')\n",
    "print('Дисперсия:', '{:.2f}'.format(np.var(user_monthly_overall.query('tariff == \"smart\"')['excess_revenue'])))\n",
    "print(user_monthly_overall.query('tariff == \"smart\"')['excess_revenue'].describe().round(2),'\\n')\n",
    "\n",
    "print('сверх выручка Ultra:')\n",
    "print('Дисперсия:', '{:.2f}'.format(np.var(user_monthly_overall.query('tariff == \"ultra\"')['excess_revenue'])))\n",
    "print(user_monthly_overall.query('tariff == \"ultra\"')['excess_revenue'].describe().round(2))"
   ]
  },
  {
   "cell_type": "markdown",
   "metadata": {},
   "source": [
    "Судя по гистограмме и числовым характеристикам, большое количество пользователей обоих тарифов не приносят выручки сверх абонентской платы. Выборочные средние значения ежемесячной выручки при этом различаются (684р и 111р)."
   ]
  },
  {
   "cell_type": "markdown",
   "metadata": {},
   "source": [
    "---"
   ]
  },
  {
   "cell_type": "markdown",
   "metadata": {},
   "source": [
    "Сформулируем нулевую гипотезу: \"Средняя выручка в месяц сверх абонентской платы от пользователей тарифом Смарт и Ультра одинакова\"."
   ]
  },
  {
   "cell_type": "code",
   "execution_count": 34,
   "metadata": {},
   "outputs": [
    {
     "name": "stdout",
     "output_type": "stream",
     "text": [
      "p-значение: 2.619486239930635e-155\n"
     ]
    }
   ],
   "source": [
    "# зададим критический уровень статистической значимости в 5%\n",
    "alpha = .05 \n",
    "\n",
    "# по Т-критерию Стьюдента сравним средние значения двух наборов данных:\n",
    "# значений выручки в месяц сверх абонентской платы от пользователей двух тарифов\n",
    "results = st.ttest_ind(\n",
    "    user_monthly_overall.query('tariff == \"smart\"')['excess_revenue'], \n",
    "    user_monthly_overall.query('tariff == \"ultra\"')['excess_revenue'],\n",
    "    equal_var = False)\n",
    "\n",
    "print('p-значение:', results.pvalue)"
   ]
  },
  {
   "cell_type": "markdown",
   "metadata": {},
   "source": [
    "Получили значение уровня значимости значительно меньше 5% (вероятность равенства средней выручки разных тарифов близка к 0%). Отвергаем нулевую гипотезу. Делаем вывод о том, что средняя выручка отличается."
   ]
  },
  {
   "cell_type": "markdown",
   "metadata": {},
   "source": [
    "### 4.3 Равенство средних значений выручки в Москве и регионах"
   ]
  },
  {
   "cell_type": "markdown",
   "metadata": {},
   "source": [
    "Рассмотрим объём выручки, который клиенты из Москвы и регионов приносят каждый месяц."
   ]
  },
  {
   "cell_type": "code",
   "execution_count": 35,
   "metadata": {
    "scrolled": false
   },
   "outputs": [
    {
     "name": "stdout",
     "output_type": "stream",
     "text": [
      "выручка Москва:\n",
      "Дисперсия: 546239.55\n",
      "count     610.00\n",
      "mean     1506.26\n",
      "std       739.69\n",
      "min       550.00\n",
      "25%       733.20\n",
      "50%      1689.82\n",
      "75%      1950.00\n",
      "max      5186.43\n",
      "Name: revenue, dtype: float64 \n",
      "\n",
      "выручка регионы:\n",
      "Дисперсия: 634298.98\n",
      "count    2558.00\n",
      "mean     1475.75\n",
      "std       796.58\n",
      "min       550.00\n",
      "25%       679.03\n",
      "50%      1490.33\n",
      "75%      1950.00\n",
      "max      6711.02\n",
      "Name: revenue, dtype: float64\n"
     ]
    },
    {
     "data": {
      "image/png": "[encoded data removed]",
      "text/plain": [
       "<Figure size 432x288 with 1 Axes>"
      ]
     },
     "metadata": {
      "needs_background": "light"
     },
     "output_type": "display_data"
    }
   ],
   "source": [
    "ax = user_monthly_overall.query('city == \"Москва\"')\\\n",
    "                    .plot(y = 'revenue', kind = 'hist', grid = 'True', bins = 50, \\\n",
    "                          label = 'выручка Москва',histtype = 'step', linewidth = 2, alpha = 0.7) \\\n",
    "                          #xlim = (0,600), ylim = (0,250))\n",
    "\n",
    "user_monthly_overall.query('city != \"Москва\"')\\\n",
    "                    .plot(y = 'revenue', kind = 'hist', grid = 'True', bins = 50, \\\n",
    "                          label = 'выручка регионы',histtype = 'step', linewidth = 2, alpha = 0.7, ax = ax) \\\n",
    "                          #xlim = (0,600), ylim = (0,250))\n",
    "print('выручка Москва:')\n",
    "print('Дисперсия:',  '{:.2f}'.format(np.var(user_monthly_overall.query('city == \"Москва\"')['revenue'])))\n",
    "print(user_monthly_overall.query('city == \"Москва\"')['revenue'].describe().round(2),'\\n')\n",
    "\n",
    "print('выручка регионы:')\n",
    "print('Дисперсия:',  '{:.2f}'.format(np.var(user_monthly_overall.query('city != \"Москва\"')['revenue'])))\n",
    "print(user_monthly_overall.query('city != \"Москва\"')['revenue'].describe().round(2))"
   ]
  },
  {
   "cell_type": "markdown",
   "metadata": {},
   "source": [
    "И для Москвы и для регионов видим 2 выраженных пика на гистограмме в области ежемесячной абонентской платы (550р для тарифа Смарт и 1950р для тарифа Ультра). Выборочные средние значения ежемесячной выручки близки (1506р и 1475р)."
   ]
  },
  {
   "cell_type": "markdown",
   "metadata": {},
   "source": [
    "---"
   ]
  },
  {
   "cell_type": "markdown",
   "metadata": {},
   "source": [
    "Сформулируем нулевую гипотезу: \"Средняя выручка от пользователей из Москвы и из других регионов одинакова\"."
   ]
  },
  {
   "cell_type": "code",
   "execution_count": 36,
   "metadata": {},
   "outputs": [
    {
     "name": "stdout",
     "output_type": "stream",
     "text": [
      "p-значение: 0.38899332717001367\n"
     ]
    }
   ],
   "source": [
    "# зададим критический уровень статистической значимости в 5%\n",
    "alpha = .05 \n",
    "\n",
    "# по Т-критерию Стьюдента сравним средние значения двух наборов данных:\n",
    "# значений выручки в месяц от пользователей Москвы и других городов\n",
    "results = st.ttest_ind(\n",
    "    user_monthly_overall.query('city == \"Москва\"')['revenue'], \n",
    "    user_monthly_overall.query('city != \"Москва\"')['revenue'])\n",
    "\n",
    "print('p-значение:', results.pvalue)"
   ]
  },
  {
   "cell_type": "markdown",
   "metadata": {},
   "source": [
    "Уровень статистической значимости (38.9%) выше критического (5%), не можем отвергнуть нулевую гипотезу, делаем вывод о том, что средняя выручка клиентов из Москвы и из регионов не отличается."
   ]
  },
  {
   "cell_type": "markdown",
   "metadata": {},
   "source": [
    "## 5. Выводы"
   ]
  },
  {
   "cell_type": "markdown",
   "metadata": {},
   "source": [
    "1. В результате анализа набора данных об активности клиентов оператора сотовой связи, получены средние значения выручки с пользователя за месяц. Для пользователей тарифа Смарт среднее значение выручки: 1234р, а для клиентов тарифа Ультра: 2061р. Проведя статистический анализ двух выборок, делаем вывод о том, что эти значения статистически различны, то есть не случайны.\n",
    "\n",
    "2. Средние значение выручки в месяц сверх абонентской платы отличается для пользователей разных тарифов. В имеющемся наборе данных средняя сверх выручка в месяц для абонентов тарифа Смарт: 685р., а для абонентов тарифа Ультра: 111р.\n",
    "\n",
    "3. Для пользователей из Москвы среднее значение выручки в месяц составляет 1506р, а для пользователей из регионов 1475р, в результате статистического анализа, обнаружено, что с вероятностью в 38.9% это отличие случайно, и среднее значение выручки одинаково для клиентов из Москвы и из регионов."
   ]
  }
 ],
 "metadata": {
  "kernelspec": {
   "display_name": "Python 3",
   "language": "python",
   "name": "python3"
  },
  "language_info": {
   "codemirror_mode": {
    "name": "ipython",
    "version": 3
   },
   "file_extension": ".py",
   "mimetype": "text/x-python",
   "name": "python",
   "nbconvert_exporter": "python",
   "pygments_lexer": "ipython3",
   "version": "3.7.4"
  },
  "toc": {
   "base_numbering": 1,
   "nav_menu": {},
   "number_sections": false,
   "sideBar": true,
   "skip_h1_title": false,
   "title_cell": "Table of Contents",
   "title_sidebar": "Contents",
   "toc_cell": false,
   "toc_position": {},
   "toc_section_display": true,
   "toc_window_display": true
  },
  "varInspector": {
   "cols": {
    "lenName": 16,
    "lenType": 16,
    "lenVar": 40
   },
   "kernels_config": {
    "python": {
     "delete_cmd_postfix": "",
     "delete_cmd_prefix": "del ",
     "library": "var_list.py",
     "varRefreshCmd": "print(var_dic_list())"
    },
    "r": {
     "delete_cmd_postfix": ") ",
     "delete_cmd_prefix": "rm(",
     "library": "var_list.r",
     "varRefreshCmd": "cat(var_dic_list()) "
    }
   },
   "types_to_exclude": [
    "module",
    "function",
    "builtin_function_or_method",
    "instance",
    "_Feature"
   ],
   "window_display": false
  }
 },
 "nbformat": 4,
 "nbformat_minor": 2
}
